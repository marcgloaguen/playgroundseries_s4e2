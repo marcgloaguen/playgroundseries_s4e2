{
 "cells": [
  {
   "cell_type": "markdown",
   "metadata": {},
   "source": [
    "# Infos"
   ]
  },
  {
   "cell_type": "markdown",
   "metadata": {},
   "source": [
    "**id** : A unique identifier for each individual in the dataset.\n",
    "\n",
    "**Gender** : The individual's gender, indicating whether they are male or female.\n",
    "\n",
    "**Age** : The age of the individual, representing their age in years.\n",
    "\n",
    "**Height** : The height of the individual, typically measured in meters.\n",
    "\n",
    "**Weight** : The weight of the individual, typically measured in kilograms.\n",
    "\n",
    "**family_history_with_overweight** : Indicates whether there is a family history of overweight for the individual (yes/no).\n",
    "\n",
    "**FAVC** : Stands for \"Frequency of consuming high caloric food,\" representing how often the individual consumes high-calorie foods (yes/no).\n",
    "\n",
    "**FCVC** : Stands for \"Frequency of consuming vegetables,\" representing how often the individual consumes vegetables.\n",
    "\n",
    "**NCP** : Stands for \"Number of main meals,\" indicating the number of main meals the individual consumes daily.\n",
    "\n",
    "**CAEC** : Stands for \"Consumption of food between meals,\" representing the frequency of consuming food between meals.\n",
    "\n",
    "**SMOKE** : Indicates whether the individual smokes or not (yes/no).\n",
    "\n",
    "**CH2O** : Represents the amount of water consumption for the individual.\n",
    "\n",
    "**SCC** : Stands for \"Calories consumption monitoring,\" indicating whether the individual monitors their calorie consumption (yes/no).\n",
    "\n",
    "**FAF** : Stands for \"Physical activity frequency,\" representing the frequency of the individual's physical activities.\n",
    "\n",
    "**TUE** : Stands for \"Time using technology devices,\" indicating the amount of time the individual spends using technology devices.\n",
    "\n",
    "**CALC** : Stands for \"Consumption of alcohol,\" representing the frequency of alcohol consumption.\n",
    "\n",
    "**MTRANS** : Stands for \"Mode of transportation,\" indicating the mode of transportation the individual uses.\n",
    "\n",
    "**NObeyesdad** : The target variable, representing the obesity risk category of the individual. It has multiple classes such as 'Overweight_Level_II', 'Normal_Weight', 'Insufficient_Weight', 'Obesity_Type_III', 'Obesity_Type_II', 'Overweight_Level_I', and 'Obesity_Type_I'."
   ]
  },
  {
   "cell_type": "markdown",
   "metadata": {},
   "source": [
    "# Import"
   ]
  },
  {
   "cell_type": "code",
   "execution_count": 1,
   "metadata": {},
   "outputs": [],
   "source": [
    "from datetime import datetime as dt\n",
    "import pandas as pd\n",
    "import numpy as np\n",
    "import json\n",
    "\n",
    "from sklearn.model_selection import StratifiedKFold\n",
    "\n",
    "from sklearn.preprocessing import StandardScaler, FunctionTransformer, LabelEncoder\n",
    "from sklearn.model_selection import cross_val_score, cross_val_predict\n",
    "from sklearn.ensemble import VotingClassifier\n",
    "from sklearn.linear_model import RidgeClassifier\n",
    "from sklearn.pipeline import make_pipeline\n",
    "from sklearn.compose import ColumnTransformer\n",
    "\n",
    "import optuna\n",
    "from xgboost import XGBClassifier\n",
    "from lightgbm import LGBMClassifier\n",
    "from catboost import CatBoostClassifier\n",
    "\n",
    "import warnings\n",
    "warnings.filterwarnings('ignore')\n"
   ]
  },
  {
   "cell_type": "code",
   "execution_count": 2,
   "metadata": {},
   "outputs": [],
   "source": [
    "train = pd.read_csv('data/train.csv', index_col = 'id')"
   ]
  },
  {
   "cell_type": "markdown",
   "metadata": {},
   "source": [
    "# Exploration"
   ]
  },
  {
   "cell_type": "code",
   "execution_count": 3,
   "metadata": {},
   "outputs": [
    {
     "data": {
      "text/html": [
       "<div>\n",
       "<style scoped>\n",
       "    .dataframe tbody tr th:only-of-type {\n",
       "        vertical-align: middle;\n",
       "    }\n",
       "\n",
       "    .dataframe tbody tr th {\n",
       "        vertical-align: top;\n",
       "    }\n",
       "\n",
       "    .dataframe thead th {\n",
       "        text-align: right;\n",
       "    }\n",
       "</style>\n",
       "<table border=\"1\" class=\"dataframe\">\n",
       "  <thead>\n",
       "    <tr style=\"text-align: right;\">\n",
       "      <th></th>\n",
       "      <th>Gender</th>\n",
       "      <th>Age</th>\n",
       "      <th>Height</th>\n",
       "      <th>Weight</th>\n",
       "      <th>family_history_with_overweight</th>\n",
       "      <th>FAVC</th>\n",
       "      <th>FCVC</th>\n",
       "      <th>NCP</th>\n",
       "      <th>CAEC</th>\n",
       "      <th>SMOKE</th>\n",
       "      <th>CH2O</th>\n",
       "      <th>SCC</th>\n",
       "      <th>FAF</th>\n",
       "      <th>TUE</th>\n",
       "      <th>CALC</th>\n",
       "      <th>MTRANS</th>\n",
       "      <th>NObeyesdad</th>\n",
       "    </tr>\n",
       "    <tr>\n",
       "      <th>id</th>\n",
       "      <th></th>\n",
       "      <th></th>\n",
       "      <th></th>\n",
       "      <th></th>\n",
       "      <th></th>\n",
       "      <th></th>\n",
       "      <th></th>\n",
       "      <th></th>\n",
       "      <th></th>\n",
       "      <th></th>\n",
       "      <th></th>\n",
       "      <th></th>\n",
       "      <th></th>\n",
       "      <th></th>\n",
       "      <th></th>\n",
       "      <th></th>\n",
       "      <th></th>\n",
       "    </tr>\n",
       "  </thead>\n",
       "  <tbody>\n",
       "    <tr>\n",
       "      <th>0</th>\n",
       "      <td>Male</td>\n",
       "      <td>24.443011</td>\n",
       "      <td>1.699998</td>\n",
       "      <td>81.669950</td>\n",
       "      <td>yes</td>\n",
       "      <td>yes</td>\n",
       "      <td>2.000000</td>\n",
       "      <td>2.983297</td>\n",
       "      <td>Sometimes</td>\n",
       "      <td>no</td>\n",
       "      <td>2.763573</td>\n",
       "      <td>no</td>\n",
       "      <td>0.000000</td>\n",
       "      <td>0.976473</td>\n",
       "      <td>Sometimes</td>\n",
       "      <td>Public_Transportation</td>\n",
       "      <td>Overweight_Level_II</td>\n",
       "    </tr>\n",
       "    <tr>\n",
       "      <th>1</th>\n",
       "      <td>Female</td>\n",
       "      <td>18.000000</td>\n",
       "      <td>1.560000</td>\n",
       "      <td>57.000000</td>\n",
       "      <td>yes</td>\n",
       "      <td>yes</td>\n",
       "      <td>2.000000</td>\n",
       "      <td>3.000000</td>\n",
       "      <td>Frequently</td>\n",
       "      <td>no</td>\n",
       "      <td>2.000000</td>\n",
       "      <td>no</td>\n",
       "      <td>1.000000</td>\n",
       "      <td>1.000000</td>\n",
       "      <td>no</td>\n",
       "      <td>Automobile</td>\n",
       "      <td>Normal_Weight</td>\n",
       "    </tr>\n",
       "    <tr>\n",
       "      <th>2</th>\n",
       "      <td>Female</td>\n",
       "      <td>18.000000</td>\n",
       "      <td>1.711460</td>\n",
       "      <td>50.165754</td>\n",
       "      <td>yes</td>\n",
       "      <td>yes</td>\n",
       "      <td>1.880534</td>\n",
       "      <td>1.411685</td>\n",
       "      <td>Sometimes</td>\n",
       "      <td>no</td>\n",
       "      <td>1.910378</td>\n",
       "      <td>no</td>\n",
       "      <td>0.866045</td>\n",
       "      <td>1.673584</td>\n",
       "      <td>no</td>\n",
       "      <td>Public_Transportation</td>\n",
       "      <td>Insufficient_Weight</td>\n",
       "    </tr>\n",
       "    <tr>\n",
       "      <th>3</th>\n",
       "      <td>Female</td>\n",
       "      <td>20.952737</td>\n",
       "      <td>1.710730</td>\n",
       "      <td>131.274851</td>\n",
       "      <td>yes</td>\n",
       "      <td>yes</td>\n",
       "      <td>3.000000</td>\n",
       "      <td>3.000000</td>\n",
       "      <td>Sometimes</td>\n",
       "      <td>no</td>\n",
       "      <td>1.674061</td>\n",
       "      <td>no</td>\n",
       "      <td>1.467863</td>\n",
       "      <td>0.780199</td>\n",
       "      <td>Sometimes</td>\n",
       "      <td>Public_Transportation</td>\n",
       "      <td>Obesity_Type_III</td>\n",
       "    </tr>\n",
       "    <tr>\n",
       "      <th>4</th>\n",
       "      <td>Male</td>\n",
       "      <td>31.641081</td>\n",
       "      <td>1.914186</td>\n",
       "      <td>93.798055</td>\n",
       "      <td>yes</td>\n",
       "      <td>yes</td>\n",
       "      <td>2.679664</td>\n",
       "      <td>1.971472</td>\n",
       "      <td>Sometimes</td>\n",
       "      <td>no</td>\n",
       "      <td>1.979848</td>\n",
       "      <td>no</td>\n",
       "      <td>1.967973</td>\n",
       "      <td>0.931721</td>\n",
       "      <td>Sometimes</td>\n",
       "      <td>Public_Transportation</td>\n",
       "      <td>Overweight_Level_II</td>\n",
       "    </tr>\n",
       "  </tbody>\n",
       "</table>\n",
       "</div>"
      ],
      "text/plain": [
       "    Gender        Age    Height      Weight family_history_with_overweight  \\\n",
       "id                                                                           \n",
       "0     Male  24.443011  1.699998   81.669950                            yes   \n",
       "1   Female  18.000000  1.560000   57.000000                            yes   \n",
       "2   Female  18.000000  1.711460   50.165754                            yes   \n",
       "3   Female  20.952737  1.710730  131.274851                            yes   \n",
       "4     Male  31.641081  1.914186   93.798055                            yes   \n",
       "\n",
       "   FAVC      FCVC       NCP        CAEC SMOKE      CH2O SCC       FAF  \\\n",
       "id                                                                      \n",
       "0   yes  2.000000  2.983297   Sometimes    no  2.763573  no  0.000000   \n",
       "1   yes  2.000000  3.000000  Frequently    no  2.000000  no  1.000000   \n",
       "2   yes  1.880534  1.411685   Sometimes    no  1.910378  no  0.866045   \n",
       "3   yes  3.000000  3.000000   Sometimes    no  1.674061  no  1.467863   \n",
       "4   yes  2.679664  1.971472   Sometimes    no  1.979848  no  1.967973   \n",
       "\n",
       "         TUE       CALC                 MTRANS           NObeyesdad  \n",
       "id                                                                   \n",
       "0   0.976473  Sometimes  Public_Transportation  Overweight_Level_II  \n",
       "1   1.000000         no             Automobile        Normal_Weight  \n",
       "2   1.673584         no  Public_Transportation  Insufficient_Weight  \n",
       "3   0.780199  Sometimes  Public_Transportation     Obesity_Type_III  \n",
       "4   0.931721  Sometimes  Public_Transportation  Overweight_Level_II  "
      ]
     },
     "execution_count": 3,
     "metadata": {},
     "output_type": "execute_result"
    }
   ],
   "source": [
    "train.head()"
   ]
  },
  {
   "cell_type": "code",
   "execution_count": 4,
   "metadata": {},
   "outputs": [
    {
     "name": "stdout",
     "output_type": "stream",
     "text": [
      "<class 'pandas.core.frame.DataFrame'>\n",
      "Index: 20758 entries, 0 to 20757\n",
      "Data columns (total 17 columns):\n",
      " #   Column                          Non-Null Count  Dtype  \n",
      "---  ------                          --------------  -----  \n",
      " 0   Gender                          20758 non-null  object \n",
      " 1   Age                             20758 non-null  float64\n",
      " 2   Height                          20758 non-null  float64\n",
      " 3   Weight                          20758 non-null  float64\n",
      " 4   family_history_with_overweight  20758 non-null  object \n",
      " 5   FAVC                            20758 non-null  object \n",
      " 6   FCVC                            20758 non-null  float64\n",
      " 7   NCP                             20758 non-null  float64\n",
      " 8   CAEC                            20758 non-null  object \n",
      " 9   SMOKE                           20758 non-null  object \n",
      " 10  CH2O                            20758 non-null  float64\n",
      " 11  SCC                             20758 non-null  object \n",
      " 12  FAF                             20758 non-null  float64\n",
      " 13  TUE                             20758 non-null  float64\n",
      " 14  CALC                            20758 non-null  object \n",
      " 15  MTRANS                          20758 non-null  object \n",
      " 16  NObeyesdad                      20758 non-null  object \n",
      "dtypes: float64(8), object(9)\n",
      "memory usage: 2.9+ MB\n"
     ]
    }
   ],
   "source": [
    "train.info()"
   ]
  },
  {
   "cell_type": "code",
   "execution_count": 5,
   "metadata": {},
   "outputs": [
    {
     "data": {
      "text/html": [
       "<div>\n",
       "<style scoped>\n",
       "    .dataframe tbody tr th:only-of-type {\n",
       "        vertical-align: middle;\n",
       "    }\n",
       "\n",
       "    .dataframe tbody tr th {\n",
       "        vertical-align: top;\n",
       "    }\n",
       "\n",
       "    .dataframe thead th {\n",
       "        text-align: right;\n",
       "    }\n",
       "</style>\n",
       "<table border=\"1\" class=\"dataframe\">\n",
       "  <thead>\n",
       "    <tr style=\"text-align: right;\">\n",
       "      <th></th>\n",
       "      <th>type</th>\n",
       "      <th>count</th>\n",
       "      <th>nunique</th>\n",
       "      <th>%unique</th>\n",
       "      <th>null</th>\n",
       "      <th>%null</th>\n",
       "      <th>min</th>\n",
       "      <th>max</th>\n",
       "    </tr>\n",
       "  </thead>\n",
       "  <tbody>\n",
       "    <tr>\n",
       "      <th>Gender</th>\n",
       "      <td>object</td>\n",
       "      <td>20758</td>\n",
       "      <td>2</td>\n",
       "      <td>0.009635</td>\n",
       "      <td>0</td>\n",
       "      <td>0.0</td>\n",
       "      <td>Female</td>\n",
       "      <td>Male</td>\n",
       "    </tr>\n",
       "    <tr>\n",
       "      <th>Age</th>\n",
       "      <td>float64</td>\n",
       "      <td>20758</td>\n",
       "      <td>1703</td>\n",
       "      <td>8.204066</td>\n",
       "      <td>0</td>\n",
       "      <td>0.0</td>\n",
       "      <td>14.0</td>\n",
       "      <td>61.0</td>\n",
       "    </tr>\n",
       "    <tr>\n",
       "      <th>Height</th>\n",
       "      <td>float64</td>\n",
       "      <td>20758</td>\n",
       "      <td>1833</td>\n",
       "      <td>8.830330</td>\n",
       "      <td>0</td>\n",
       "      <td>0.0</td>\n",
       "      <td>1.45</td>\n",
       "      <td>1.975663</td>\n",
       "    </tr>\n",
       "    <tr>\n",
       "      <th>Weight</th>\n",
       "      <td>float64</td>\n",
       "      <td>20758</td>\n",
       "      <td>1979</td>\n",
       "      <td>9.533674</td>\n",
       "      <td>0</td>\n",
       "      <td>0.0</td>\n",
       "      <td>39.0</td>\n",
       "      <td>165.057269</td>\n",
       "    </tr>\n",
       "    <tr>\n",
       "      <th>family_history_with_overweight</th>\n",
       "      <td>object</td>\n",
       "      <td>20758</td>\n",
       "      <td>2</td>\n",
       "      <td>0.009635</td>\n",
       "      <td>0</td>\n",
       "      <td>0.0</td>\n",
       "      <td>no</td>\n",
       "      <td>yes</td>\n",
       "    </tr>\n",
       "    <tr>\n",
       "      <th>FAVC</th>\n",
       "      <td>object</td>\n",
       "      <td>20758</td>\n",
       "      <td>2</td>\n",
       "      <td>0.009635</td>\n",
       "      <td>0</td>\n",
       "      <td>0.0</td>\n",
       "      <td>no</td>\n",
       "      <td>yes</td>\n",
       "    </tr>\n",
       "    <tr>\n",
       "      <th>FCVC</th>\n",
       "      <td>float64</td>\n",
       "      <td>20758</td>\n",
       "      <td>934</td>\n",
       "      <td>4.499470</td>\n",
       "      <td>0</td>\n",
       "      <td>0.0</td>\n",
       "      <td>1.0</td>\n",
       "      <td>3.0</td>\n",
       "    </tr>\n",
       "    <tr>\n",
       "      <th>NCP</th>\n",
       "      <td>float64</td>\n",
       "      <td>20758</td>\n",
       "      <td>689</td>\n",
       "      <td>3.319202</td>\n",
       "      <td>0</td>\n",
       "      <td>0.0</td>\n",
       "      <td>1.0</td>\n",
       "      <td>4.0</td>\n",
       "    </tr>\n",
       "    <tr>\n",
       "      <th>CAEC</th>\n",
       "      <td>object</td>\n",
       "      <td>20758</td>\n",
       "      <td>4</td>\n",
       "      <td>0.019270</td>\n",
       "      <td>0</td>\n",
       "      <td>0.0</td>\n",
       "      <td>Always</td>\n",
       "      <td>no</td>\n",
       "    </tr>\n",
       "    <tr>\n",
       "      <th>SMOKE</th>\n",
       "      <td>object</td>\n",
       "      <td>20758</td>\n",
       "      <td>2</td>\n",
       "      <td>0.009635</td>\n",
       "      <td>0</td>\n",
       "      <td>0.0</td>\n",
       "      <td>no</td>\n",
       "      <td>yes</td>\n",
       "    </tr>\n",
       "    <tr>\n",
       "      <th>CH2O</th>\n",
       "      <td>float64</td>\n",
       "      <td>20758</td>\n",
       "      <td>1506</td>\n",
       "      <td>7.255034</td>\n",
       "      <td>0</td>\n",
       "      <td>0.0</td>\n",
       "      <td>1.0</td>\n",
       "      <td>3.0</td>\n",
       "    </tr>\n",
       "    <tr>\n",
       "      <th>SCC</th>\n",
       "      <td>object</td>\n",
       "      <td>20758</td>\n",
       "      <td>2</td>\n",
       "      <td>0.009635</td>\n",
       "      <td>0</td>\n",
       "      <td>0.0</td>\n",
       "      <td>no</td>\n",
       "      <td>yes</td>\n",
       "    </tr>\n",
       "    <tr>\n",
       "      <th>FAF</th>\n",
       "      <td>float64</td>\n",
       "      <td>20758</td>\n",
       "      <td>1360</td>\n",
       "      <td>6.551691</td>\n",
       "      <td>0</td>\n",
       "      <td>0.0</td>\n",
       "      <td>0.0</td>\n",
       "      <td>3.0</td>\n",
       "    </tr>\n",
       "    <tr>\n",
       "      <th>TUE</th>\n",
       "      <td>float64</td>\n",
       "      <td>20758</td>\n",
       "      <td>1297</td>\n",
       "      <td>6.248193</td>\n",
       "      <td>0</td>\n",
       "      <td>0.0</td>\n",
       "      <td>0.0</td>\n",
       "      <td>2.0</td>\n",
       "    </tr>\n",
       "    <tr>\n",
       "      <th>CALC</th>\n",
       "      <td>object</td>\n",
       "      <td>20758</td>\n",
       "      <td>3</td>\n",
       "      <td>0.014452</td>\n",
       "      <td>0</td>\n",
       "      <td>0.0</td>\n",
       "      <td>Frequently</td>\n",
       "      <td>no</td>\n",
       "    </tr>\n",
       "    <tr>\n",
       "      <th>MTRANS</th>\n",
       "      <td>object</td>\n",
       "      <td>20758</td>\n",
       "      <td>5</td>\n",
       "      <td>0.024087</td>\n",
       "      <td>0</td>\n",
       "      <td>0.0</td>\n",
       "      <td>Automobile</td>\n",
       "      <td>Walking</td>\n",
       "    </tr>\n",
       "    <tr>\n",
       "      <th>NObeyesdad</th>\n",
       "      <td>object</td>\n",
       "      <td>20758</td>\n",
       "      <td>7</td>\n",
       "      <td>0.033722</td>\n",
       "      <td>0</td>\n",
       "      <td>0.0</td>\n",
       "      <td>Insufficient_Weight</td>\n",
       "      <td>Overweight_Level_II</td>\n",
       "    </tr>\n",
       "  </tbody>\n",
       "</table>\n",
       "</div>"
      ],
      "text/plain": [
       "                                   type  count  nunique   %unique  null  \\\n",
       "Gender                           object  20758        2  0.009635     0   \n",
       "Age                             float64  20758     1703  8.204066     0   \n",
       "Height                          float64  20758     1833  8.830330     0   \n",
       "Weight                          float64  20758     1979  9.533674     0   \n",
       "family_history_with_overweight   object  20758        2  0.009635     0   \n",
       "FAVC                             object  20758        2  0.009635     0   \n",
       "FCVC                            float64  20758      934  4.499470     0   \n",
       "NCP                             float64  20758      689  3.319202     0   \n",
       "CAEC                             object  20758        4  0.019270     0   \n",
       "SMOKE                            object  20758        2  0.009635     0   \n",
       "CH2O                            float64  20758     1506  7.255034     0   \n",
       "SCC                              object  20758        2  0.009635     0   \n",
       "FAF                             float64  20758     1360  6.551691     0   \n",
       "TUE                             float64  20758     1297  6.248193     0   \n",
       "CALC                             object  20758        3  0.014452     0   \n",
       "MTRANS                           object  20758        5  0.024087     0   \n",
       "NObeyesdad                       object  20758        7  0.033722     0   \n",
       "\n",
       "                                %null                  min  \\\n",
       "Gender                            0.0               Female   \n",
       "Age                               0.0                 14.0   \n",
       "Height                            0.0                 1.45   \n",
       "Weight                            0.0                 39.0   \n",
       "family_history_with_overweight    0.0                   no   \n",
       "FAVC                              0.0                   no   \n",
       "FCVC                              0.0                  1.0   \n",
       "NCP                               0.0                  1.0   \n",
       "CAEC                              0.0               Always   \n",
       "SMOKE                             0.0                   no   \n",
       "CH2O                              0.0                  1.0   \n",
       "SCC                               0.0                   no   \n",
       "FAF                               0.0                  0.0   \n",
       "TUE                               0.0                  0.0   \n",
       "CALC                              0.0           Frequently   \n",
       "MTRANS                            0.0           Automobile   \n",
       "NObeyesdad                        0.0  Insufficient_Weight   \n",
       "\n",
       "                                                max  \n",
       "Gender                                         Male  \n",
       "Age                                            61.0  \n",
       "Height                                     1.975663  \n",
       "Weight                                   165.057269  \n",
       "family_history_with_overweight                  yes  \n",
       "FAVC                                            yes  \n",
       "FCVC                                            3.0  \n",
       "NCP                                             4.0  \n",
       "CAEC                                             no  \n",
       "SMOKE                                           yes  \n",
       "CH2O                                            3.0  \n",
       "SCC                                             yes  \n",
       "FAF                                             3.0  \n",
       "TUE                                             2.0  \n",
       "CALC                                             no  \n",
       "MTRANS                                      Walking  \n",
       "NObeyesdad                      Overweight_Level_II  "
      ]
     },
     "execution_count": 5,
     "metadata": {},
     "output_type": "execute_result"
    }
   ],
   "source": [
    "def report(data) : \n",
    "    report = pd.DataFrame(index = data.columns)\n",
    "    report['type'] = data.dtypes\n",
    "    report['count'] = data.count()\n",
    "    report['nunique'] = data.nunique()\n",
    "    report['%unique'] = report['nunique'] / len(data) * 100\n",
    "    report['null'] = data.isnull().sum()\n",
    "    report['%null'] = report['null'] / len(data) * 100\n",
    "    report['min'] = data.min()\n",
    "    report['max'] = data.max()\n",
    "    return report\n",
    "report(train)"
   ]
  },
  {
   "cell_type": "code",
   "execution_count": 6,
   "metadata": {},
   "outputs": [
    {
     "data": {
      "text/html": [
       "<div>\n",
       "<style scoped>\n",
       "    .dataframe tbody tr th:only-of-type {\n",
       "        vertical-align: middle;\n",
       "    }\n",
       "\n",
       "    .dataframe tbody tr th {\n",
       "        vertical-align: top;\n",
       "    }\n",
       "\n",
       "    .dataframe thead th {\n",
       "        text-align: right;\n",
       "    }\n",
       "</style>\n",
       "<table border=\"1\" class=\"dataframe\">\n",
       "  <thead>\n",
       "    <tr style=\"text-align: right;\">\n",
       "      <th></th>\n",
       "      <th>count</th>\n",
       "      <th>mean</th>\n",
       "      <th>std</th>\n",
       "      <th>min</th>\n",
       "      <th>25%</th>\n",
       "      <th>50%</th>\n",
       "      <th>75%</th>\n",
       "      <th>max</th>\n",
       "    </tr>\n",
       "  </thead>\n",
       "  <tbody>\n",
       "    <tr>\n",
       "      <th>Age</th>\n",
       "      <td>20758.0</td>\n",
       "      <td>23.841804</td>\n",
       "      <td>5.688072</td>\n",
       "      <td>14.00</td>\n",
       "      <td>20.000000</td>\n",
       "      <td>22.815416</td>\n",
       "      <td>26.000000</td>\n",
       "      <td>61.000000</td>\n",
       "    </tr>\n",
       "    <tr>\n",
       "      <th>Height</th>\n",
       "      <td>20758.0</td>\n",
       "      <td>1.700245</td>\n",
       "      <td>0.087312</td>\n",
       "      <td>1.45</td>\n",
       "      <td>1.631856</td>\n",
       "      <td>1.700000</td>\n",
       "      <td>1.762887</td>\n",
       "      <td>1.975663</td>\n",
       "    </tr>\n",
       "    <tr>\n",
       "      <th>Weight</th>\n",
       "      <td>20758.0</td>\n",
       "      <td>87.887768</td>\n",
       "      <td>26.379443</td>\n",
       "      <td>39.00</td>\n",
       "      <td>66.000000</td>\n",
       "      <td>84.064875</td>\n",
       "      <td>111.600553</td>\n",
       "      <td>165.057269</td>\n",
       "    </tr>\n",
       "    <tr>\n",
       "      <th>FCVC</th>\n",
       "      <td>20758.0</td>\n",
       "      <td>2.445908</td>\n",
       "      <td>0.533218</td>\n",
       "      <td>1.00</td>\n",
       "      <td>2.000000</td>\n",
       "      <td>2.393837</td>\n",
       "      <td>3.000000</td>\n",
       "      <td>3.000000</td>\n",
       "    </tr>\n",
       "    <tr>\n",
       "      <th>NCP</th>\n",
       "      <td>20758.0</td>\n",
       "      <td>2.761332</td>\n",
       "      <td>0.705375</td>\n",
       "      <td>1.00</td>\n",
       "      <td>3.000000</td>\n",
       "      <td>3.000000</td>\n",
       "      <td>3.000000</td>\n",
       "      <td>4.000000</td>\n",
       "    </tr>\n",
       "    <tr>\n",
       "      <th>CH2O</th>\n",
       "      <td>20758.0</td>\n",
       "      <td>2.029418</td>\n",
       "      <td>0.608467</td>\n",
       "      <td>1.00</td>\n",
       "      <td>1.792022</td>\n",
       "      <td>2.000000</td>\n",
       "      <td>2.549617</td>\n",
       "      <td>3.000000</td>\n",
       "    </tr>\n",
       "    <tr>\n",
       "      <th>FAF</th>\n",
       "      <td>20758.0</td>\n",
       "      <td>0.981747</td>\n",
       "      <td>0.838302</td>\n",
       "      <td>0.00</td>\n",
       "      <td>0.008013</td>\n",
       "      <td>1.000000</td>\n",
       "      <td>1.587406</td>\n",
       "      <td>3.000000</td>\n",
       "    </tr>\n",
       "    <tr>\n",
       "      <th>TUE</th>\n",
       "      <td>20758.0</td>\n",
       "      <td>0.616756</td>\n",
       "      <td>0.602113</td>\n",
       "      <td>0.00</td>\n",
       "      <td>0.000000</td>\n",
       "      <td>0.573887</td>\n",
       "      <td>1.000000</td>\n",
       "      <td>2.000000</td>\n",
       "    </tr>\n",
       "  </tbody>\n",
       "</table>\n",
       "</div>"
      ],
      "text/plain": [
       "          count       mean        std    min        25%        50%  \\\n",
       "Age     20758.0  23.841804   5.688072  14.00  20.000000  22.815416   \n",
       "Height  20758.0   1.700245   0.087312   1.45   1.631856   1.700000   \n",
       "Weight  20758.0  87.887768  26.379443  39.00  66.000000  84.064875   \n",
       "FCVC    20758.0   2.445908   0.533218   1.00   2.000000   2.393837   \n",
       "NCP     20758.0   2.761332   0.705375   1.00   3.000000   3.000000   \n",
       "CH2O    20758.0   2.029418   0.608467   1.00   1.792022   2.000000   \n",
       "FAF     20758.0   0.981747   0.838302   0.00   0.008013   1.000000   \n",
       "TUE     20758.0   0.616756   0.602113   0.00   0.000000   0.573887   \n",
       "\n",
       "               75%         max  \n",
       "Age      26.000000   61.000000  \n",
       "Height    1.762887    1.975663  \n",
       "Weight  111.600553  165.057269  \n",
       "FCVC      3.000000    3.000000  \n",
       "NCP       3.000000    4.000000  \n",
       "CH2O      2.549617    3.000000  \n",
       "FAF       1.587406    3.000000  \n",
       "TUE       1.000000    2.000000  "
      ]
     },
     "execution_count": 6,
     "metadata": {},
     "output_type": "execute_result"
    }
   ],
   "source": [
    "train.describe().T"
   ]
  },
  {
   "cell_type": "markdown",
   "metadata": {},
   "source": [
    "# Transformers"
   ]
  },
  {
   "cell_type": "code",
   "execution_count": 7,
   "metadata": {},
   "outputs": [],
   "source": [
    "def features_encoding(data:pd.DataFrame) -> pd.DataFrame: \n",
    "    data['Gender'] = data['Gender'].replace({'Male':0,'Female':1})\n",
    "    data[['family_history_with_overweight','FAVC','SMOKE','SCC']] = data[['family_history_with_overweight','FAVC','SMOKE','SCC']].replace({'no':0,'yes':1})\n",
    "    data[['CAEC','CALC']] = data[['CAEC','CALC']].replace({'no':0,'Sometimes':1,'Frequently':2,'Always':3})\n",
    "    data = pd.get_dummies(data, columns=['MTRANS'], dtype='int8')\n",
    "    return data\n",
    "FeaturesEncoding = FunctionTransformer(features_encoding)"
   ]
  },
  {
   "cell_type": "code",
   "execution_count": 8,
   "metadata": {},
   "outputs": [],
   "source": [
    "numeric_features = ['Age', 'Height', 'Weight', 'FCVC', 'NCP', 'CH2O', 'FAF', 'TUE']\n",
    "FeatureScaler = ColumnTransformer(\n",
    "    transformers=[\n",
    "        ('scaler', StandardScaler(), numeric_features)\n",
    "    ],\n",
    "    remainder='passthrough'  # Conserver les autres colonnes inchangées\n",
    ")"
   ]
  },
  {
   "cell_type": "markdown",
   "metadata": {},
   "source": [
    "# Optuna"
   ]
  },
  {
   "cell_type": "code",
   "execution_count": 9,
   "metadata": {},
   "outputs": [],
   "source": [
    "X = train.copy()\n",
    "\n",
    "lb = LabelEncoder()\n",
    "y = lb.fit_transform(X.pop('NObeyesdad'))\n",
    "\n",
    "SEED = 42\n",
    "SPLITS = 5\n",
    "TRIALS = 200\n",
    "SKF = StratifiedKFold(n_splits = SPLITS, random_state = SEED, shuffle = True)"
   ]
  },
  {
   "cell_type": "markdown",
   "metadata": {},
   "source": [
    "## XGB"
   ]
  },
  {
   "cell_type": "code",
   "execution_count": 10,
   "metadata": {},
   "outputs": [],
   "source": [
    "params_xgb = {\n",
    "        'random_state' : SEED,\n",
    "        'tree_method' : 'hist',\n",
    "}\n",
    "def xgb_objective(trial):\n",
    "\n",
    "    params = {\n",
    "        'eta' : trial.suggest_float('eta', .001, .3, log = True),\n",
    "        'max_depth' : trial.suggest_int('max_depth', 2, 30),\n",
    "        'subsample' : trial.suggest_float('subsample', .5, 1),\n",
    "        'colsample_bytree' : trial.suggest_float('colsample_bytree', .1, 1),\n",
    "        'min_child_weight' : trial.suggest_float('min_child_weight', .1, 20, log = True),\n",
    "        'reg_lambda' : trial.suggest_float('reg_lambda', .01, 20, log = True),\n",
    "        'reg_alpha' : trial.suggest_float('reg_alpha', .01, 10, log = True),\n",
    "        'n_estimators' : trial.suggest_int('max_depth', 10, 500),\n",
    "        **params_xgb\n",
    "\n",
    "    }\n",
    "    \n",
    "    optuna_model = make_pipeline(\n",
    "        FeaturesEncoding,\n",
    "        FeatureScaler,\n",
    "        XGBClassifier(**params)\n",
    "    )\n",
    "    \n",
    "    optuna_score = cross_val_score(optuna_model, X, y, scoring='accuracy', cv=SKF)\n",
    "    \n",
    "    return np.mean(optuna_score)"
   ]
  },
  {
   "cell_type": "code",
   "execution_count": 11,
   "metadata": {},
   "outputs": [
    {
     "name": "stderr",
     "output_type": "stream",
     "text": [
      "[I 2024-02-05 20:42:16,259] A new study created in memory with name: no-name-2250b09b-fde2-49a1-9cf0-d118456b5c0c\n"
     ]
    },
    {
     "data": {
      "application/vnd.jupyter.widget-view+json": {
       "model_id": "86e5263ff6864ca7bafd7a8e8a1eae94",
       "version_major": 2,
       "version_minor": 0
      },
      "text/plain": [
       "  0%|          | 0/200 [00:00<?, ?it/s]"
      ]
     },
     "metadata": {},
     "output_type": "display_data"
    },
    {
     "name": "stdout",
     "output_type": "stream",
     "text": [
      "[I 2024-02-05 20:42:24,508] Trial 11 finished with value: 0.7184700369342485 and parameters: {'eta': 0.016534797795007987, 'max_depth': 5, 'subsample': 0.9943816391567825, 'colsample_bytree': 0.24446505026163534, 'min_child_weight': 6.372863493429788, 'reg_lambda': 0.012268567092660644, 'reg_alpha': 6.878744190447381}. Best is trial 11 with value: 0.7184700369342485.\n",
      "[I 2024-02-05 20:42:27,384] Trial 5 finished with value: 0.8088449100409447 and parameters: {'eta': 0.025737228035154065, 'max_depth': 6, 'subsample': 0.5011688814235205, 'colsample_bytree': 0.32584654823661396, 'min_child_weight': 0.6958241338206285, 'reg_lambda': 0.19149332799194194, 'reg_alpha': 0.1803980513729415}. Best is trial 5 with value: 0.8088449100409447.\n",
      "[I 2024-02-05 20:42:36,793] Trial 3 finished with value: 0.8573081259524249 and parameters: {'eta': 0.03579665906505937, 'max_depth': 9, 'subsample': 0.5493923537663203, 'colsample_bytree': 0.3581421829018418, 'min_child_weight': 0.44037347323563397, 'reg_lambda': 0.9566742248491991, 'reg_alpha': 6.973791300321736}. Best is trial 3 with value: 0.8573081259524249.\n",
      "[I 2024-02-05 20:42:40,589] Trial 8 finished with value: 0.8491665076874018 and parameters: {'eta': 0.03149005875480781, 'max_depth': 10, 'subsample': 0.8652928716376876, 'colsample_bytree': 0.28882267573250797, 'min_child_weight': 1.1943265633540932, 'reg_lambda': 0.46583697004753066, 'reg_alpha': 0.060590653780674054}. Best is trial 3 with value: 0.8573081259524249.\n",
      "[I 2024-02-05 20:42:45,340] Trial 15 finished with value: 0.8206473101868808 and parameters: {'eta': 0.002110053687444129, 'max_depth': 4, 'subsample': 0.6374926782250803, 'colsample_bytree': 0.4566673137861677, 'min_child_weight': 0.6432084264237505, 'reg_lambda': 12.305290317408321, 'reg_alpha': 0.9990372257939075}. Best is trial 3 with value: 0.8573081259524249.\n",
      "[I 2024-02-05 20:42:50,892] Trial 0 finished with value: 0.8448307137728032 and parameters: {'eta': 0.026585514327923315, 'max_depth': 16, 'subsample': 0.6894604341874971, 'colsample_bytree': 0.2717502180951451, 'min_child_weight': 15.071362028898909, 'reg_lambda': 11.798216057680285, 'reg_alpha': 1.2252548184672754}. Best is trial 3 with value: 0.8573081259524249.\n",
      "[I 2024-02-05 20:42:52,316] Trial 4 finished with value: 0.8354850190473405 and parameters: {'eta': 0.0010775401435441292, 'max_depth': 13, 'subsample': 0.6523496483192652, 'colsample_bytree': 0.21419010633254065, 'min_child_weight': 0.9820811356536217, 'reg_lambda': 1.3768123615632852, 'reg_alpha': 0.05716047714466947}. Best is trial 3 with value: 0.8573081259524249.\n",
      "[I 2024-02-05 20:42:55,306] Trial 6 finished with value: 0.8998456972784143 and parameters: {'eta': 0.011669090135879636, 'max_depth': 13, 'subsample': 0.7377373800266369, 'colsample_bytree': 0.6912237513683627, 'min_child_weight': 0.2636047894320993, 'reg_lambda': 0.21435438896833858, 'reg_alpha': 1.056028095215213}. Best is trial 6 with value: 0.8998456972784143.\n",
      "[I 2024-02-05 20:42:57,421] Trial 17 finished with value: 0.8653531730172501 and parameters: {'eta': 0.04939645877180673, 'max_depth': 5, 'subsample': 0.5112844756933395, 'colsample_bytree': 0.7515599832892819, 'min_child_weight': 4.807424100452719, 'reg_lambda': 0.03745178782783244, 'reg_alpha': 0.01926113985593142}. Best is trial 6 with value: 0.8998456972784143.\n",
      "[I 2024-02-05 20:43:01,548] Trial 13 finished with value: 0.75912906516943 and parameters: {'eta': 0.0763441051661961, 'max_depth': 16, 'subsample': 0.9832560534873878, 'colsample_bytree': 0.10580259388870526, 'min_child_weight': 1.6384354894219115, 'reg_lambda': 1.56621385624087, 'reg_alpha': 0.05128151950593113}. Best is trial 6 with value: 0.8998456972784143.\n",
      "[I 2024-02-05 20:43:09,773] Trial 7 finished with value: 0.7859619916550973 and parameters: {'eta': 0.0937408861525446, 'max_depth': 24, 'subsample': 0.9609357352169128, 'colsample_bytree': 0.14788719694385719, 'min_child_weight': 9.3504977979964, 'reg_lambda': 0.038544829527981786, 'reg_alpha': 0.04592626026522405}. Best is trial 6 with value: 0.8998456972784143.\n",
      "[I 2024-02-05 20:43:10,313] Trial 16 finished with value: 0.8851526247360596 and parameters: {'eta': 0.001084034506366246, 'max_depth': 12, 'subsample': 0.7959973938556872, 'colsample_bytree': 0.8672301523254635, 'min_child_weight': 8.863619857083314, 'reg_lambda': 1.2879450919922648, 'reg_alpha': 3.1792264383017383}. Best is trial 6 with value: 0.8998456972784143.\n",
      "[I 2024-02-05 20:43:13,721] Trial 12 finished with value: 0.8651121627724869 and parameters: {'eta': 0.14665092009302755, 'max_depth': 23, 'subsample': 0.6159380133318242, 'colsample_bytree': 0.24773053322901245, 'min_child_weight': 17.76390314441691, 'reg_lambda': 0.1815205716883786, 'reg_alpha': 0.30843375296168796}. Best is trial 6 with value: 0.8998456972784143.\n",
      "[I 2024-02-05 20:43:14,045] Trial 9 finished with value: 0.8855377839172398 and parameters: {'eta': 0.002152722807787569, 'max_depth': 17, 'subsample': 0.7291939285421376, 'colsample_bytree': 0.7434649634946939, 'min_child_weight': 0.11713472582910493, 'reg_lambda': 15.162319953875585, 'reg_alpha': 0.013222983997988116}. Best is trial 6 with value: 0.8998456972784143.\n",
      "[I 2024-02-05 20:43:22,268] Trial 2 finished with value: 0.8988340437501654 and parameters: {'eta': 0.02798949332307101, 'max_depth': 23, 'subsample': 0.5350798841282824, 'colsample_bytree': 0.6009942948046744, 'min_child_weight': 5.695993829439998, 'reg_lambda': 0.24172705307393794, 'reg_alpha': 0.17185603550161713}. Best is trial 6 with value: 0.8998456972784143.\n",
      "[I 2024-02-05 20:43:23,440] Trial 1 finished with value: 0.8638114222772423 and parameters: {'eta': 0.11659211454801253, 'max_depth': 26, 'subsample': 0.9110808328946469, 'colsample_bytree': 0.22514872570447286, 'min_child_weight': 0.7779426676811858, 'reg_lambda': 5.500587523118559, 'reg_alpha': 1.5740634172584231}. Best is trial 6 with value: 0.8998456972784143.\n",
      "[I 2024-02-05 20:43:33,312] Trial 10 finished with value: 0.8901142979684538 and parameters: {'eta': 0.017195421574028483, 'max_depth': 23, 'subsample': 0.5804204976771685, 'colsample_bytree': 0.45703501048321277, 'min_child_weight': 4.899349213671259, 'reg_lambda': 0.0627292536408817, 'reg_alpha': 0.015027468139861925}. Best is trial 6 with value: 0.8998456972784143.\n",
      "[I 2024-02-05 20:43:37,058] Trial 19 finished with value: 0.8912708199013262 and parameters: {'eta': 0.0017506223277187003, 'max_depth': 17, 'subsample': 0.6787375587778021, 'colsample_bytree': 0.8476217751443006, 'min_child_weight': 6.985911680764941, 'reg_lambda': 1.3786583335591078, 'reg_alpha': 0.023861446255499203}. Best is trial 6 with value: 0.8998456972784143.\n",
      "[I 2024-02-05 20:43:38,122] Trial 14 finished with value: 0.8857787013273957 and parameters: {'eta': 0.04909549056680106, 'max_depth': 21, 'subsample': 0.5151983230981106, 'colsample_bytree': 0.4295363144319134, 'min_child_weight': 2.822714614308267, 'reg_lambda': 0.02368567648577932, 'reg_alpha': 0.8239630388235253}. Best is trial 6 with value: 0.8998456972784143.\n",
      "[I 2024-02-05 20:43:52,587] Trial 18 finished with value: 0.8737352445193929 and parameters: {'eta': 0.008768180999352719, 'max_depth': 25, 'subsample': 0.7301505160390453, 'colsample_bytree': 0.5291723105422669, 'min_child_weight': 3.3642921188168713, 'reg_lambda': 19.694372765234654, 'reg_alpha': 0.08357908867557451}. Best is trial 6 with value: 0.8998456972784143.\n",
      "[I 2024-02-05 20:43:59,548] Trial 20 finished with value: 0.8482510888338999 and parameters: {'eta': 0.057456061821809186, 'max_depth': 30, 'subsample': 0.504012526661274, 'colsample_bytree': 0.21760127507071267, 'min_child_weight': 17.18098411384634, 'reg_lambda': 0.025564113662183332, 'reg_alpha': 0.01603244447315287}. Best is trial 6 with value: 0.8998456972784143.\n",
      "[I 2024-02-05 20:44:12,355] Trial 23 finished with value: 0.8954618266415828 and parameters: {'eta': 0.004788943489400786, 'max_depth': 22, 'subsample': 0.800356669618193, 'colsample_bytree': 0.9593015306262942, 'min_child_weight': 0.11243153260596017, 'reg_lambda': 0.15836944057995633, 'reg_alpha': 1.856937288153548}. Best is trial 6 with value: 0.8998456972784143.\n",
      "[I 2024-02-05 20:44:18,388] Trial 21 finished with value: 0.8992675581574001 and parameters: {'eta': 0.003706690762128483, 'max_depth': 26, 'subsample': 0.8146712176461536, 'colsample_bytree': 0.8183073352267989, 'min_child_weight': 0.11535711130779898, 'reg_lambda': 0.1127532539256217, 'reg_alpha': 0.9252310954905572}. Best is trial 6 with value: 0.8998456972784143.\n",
      "[I 2024-02-05 20:44:22,910] Trial 22 finished with value: 0.8993155768580035 and parameters: {'eta': 0.006667939873531643, 'max_depth': 23, 'subsample': 0.8031457545328604, 'colsample_bytree': 0.7725945721383805, 'min_child_weight': 0.13382488441245916, 'reg_lambda': 0.08420996139940443, 'reg_alpha': 0.013014560759935163}. Best is trial 6 with value: 0.8998456972784143.\n",
      "[I 2024-02-05 20:44:27,938] Trial 24 finished with value: 0.8930049703648726 and parameters: {'eta': 0.008885217955191522, 'max_depth': 30, 'subsample': 0.7756976305907141, 'colsample_bytree': 0.947960658271866, 'min_child_weight': 0.13389048587740052, 'reg_lambda': 3.8261645530206803, 'reg_alpha': 1.648422159925563}. Best is trial 6 with value: 0.8998456972784143.\n",
      "[I 2024-02-05 20:44:31,951] Trial 27 finished with value: 0.8995082434810378 and parameters: {'eta': 0.009659040419213385, 'max_depth': 30, 'subsample': 0.7909323549468735, 'colsample_bytree': 0.6114191997824693, 'min_child_weight': 2.8034528656084254, 'reg_lambda': 0.12024541696186873, 'reg_alpha': 0.42661080164119164}. Best is trial 6 with value: 0.8998456972784143.\n",
      "[I 2024-02-05 20:44:32,449] Trial 25 finished with value: 0.8931011934352935 and parameters: {'eta': 0.006253826485111707, 'max_depth': 29, 'subsample': 0.7585461100394625, 'colsample_bytree': 0.6544061587879133, 'min_child_weight': 0.10149323639132916, 'reg_lambda': 5.715654728109393, 'reg_alpha': 0.011993019829632785}. Best is trial 6 with value: 0.8998456972784143.\n",
      "[I 2024-02-05 20:44:39,265] Trial 32 finished with value: 0.9006163985835295 and parameters: {'eta': 0.0065938356648702215, 'max_depth': 19, 'subsample': 0.7871365257555925, 'colsample_bytree': 0.7062027587129671, 'min_child_weight': 0.25262538947740076, 'reg_lambda': 0.14930070945645993, 'reg_alpha': 0.4815033560387194}. Best is trial 32 with value: 0.9006163985835295.\n",
      "[I 2024-02-05 20:44:45,372] Trial 26 finished with value: 0.8997009913343537 and parameters: {'eta': 0.008522384521918313, 'max_depth': 30, 'subsample': 0.8123818861965805, 'colsample_bytree': 0.5855257841714758, 'min_child_weight': 0.17233406483192232, 'reg_lambda': 0.10882683578138853, 'reg_alpha': 0.8033704801529044}. Best is trial 32 with value: 0.9006163985835295.\n",
      "[I 2024-02-05 20:44:46,568] Trial 28 finished with value: 0.9007128073231652 and parameters: {'eta': 0.007056725505997069, 'max_depth': 28, 'subsample': 0.8280049232792428, 'colsample_bytree': 0.63019942249056, 'min_child_weight': 0.13756348635648766, 'reg_lambda': 0.21048553789783436, 'reg_alpha': 0.49579271023974375}. Best is trial 28 with value: 0.9007128073231652.\n",
      "[I 2024-02-05 20:44:58,122] Trial 33 finished with value: 0.9010981753822117 and parameters: {'eta': 0.0064675532757886255, 'max_depth': 20, 'subsample': 0.7987971231709075, 'colsample_bytree': 0.6395100033706747, 'min_child_weight': 0.10118975740113924, 'reg_lambda': 0.1279228952858452, 'reg_alpha': 0.42511081509034293}. Best is trial 33 with value: 0.9010981753822117.\n",
      "[I 2024-02-05 20:44:59,482] Trial 29 finished with value: 0.9015318406456831 and parameters: {'eta': 0.006535857177465981, 'max_depth': 29, 'subsample': 0.8042982305287043, 'colsample_bytree': 0.6150332078260716, 'min_child_weight': 0.16335984764218656, 'reg_lambda': 0.1564492909255596, 'reg_alpha': 0.15339083114374208}. Best is trial 29 with value: 0.9015318406456831.\n",
      "[I 2024-02-05 20:45:00,998] Trial 30 finished with value: 0.8985447943226068 and parameters: {'eta': 0.00733141493661014, 'max_depth': 29, 'subsample': 0.813593928118845, 'colsample_bytree': 0.5856366532997934, 'min_child_weight': 0.2518794230563198, 'reg_lambda': 0.12582480573049853, 'reg_alpha': 0.16653798959686306}. Best is trial 29 with value: 0.9015318406456831.\n",
      "[I 2024-02-05 20:45:01,380] Trial 31 finished with value: 0.9035549388243146 and parameters: {'eta': 0.260379260093522, 'max_depth': 29, 'subsample': 0.8225813132473381, 'colsample_bytree': 0.6431895388421736, 'min_child_weight': 0.25579705030191807, 'reg_lambda': 0.12169612191550463, 'reg_alpha': 0.4362981024831131}. Best is trial 31 with value: 0.9035549388243146.\n",
      "[I 2024-02-05 20:45:21,247] Trial 38 finished with value: 0.9020133273362176 and parameters: {'eta': 0.2968205782344942, 'max_depth': 20, 'subsample': 0.8502063607503942, 'colsample_bytree': 0.676681976953658, 'min_child_weight': 0.23148676769214926, 'reg_lambda': 0.07801958901832134, 'reg_alpha': 0.365178604708632}. Best is trial 31 with value: 0.9035549388243146.\n",
      "[I 2024-02-05 20:45:21,963] Trial 37 finished with value: 0.9015317362067501 and parameters: {'eta': 0.01004218447248605, 'max_depth': 20, 'subsample': 0.8640834124265755, 'colsample_bytree': 0.6401980087534368, 'min_child_weight': 0.2300611917473829, 'reg_lambda': 0.42864289102984154, 'reg_alpha': 0.45648928652104986}. Best is trial 31 with value: 0.9035549388243146.\n",
      "[I 2024-02-05 20:45:25,536] Trial 39 finished with value: 0.9009535854814101 and parameters: {'eta': 0.012120077115829632, 'max_depth': 19, 'subsample': 0.8438285414562462, 'colsample_bytree': 0.6664368277813406, 'min_child_weight': 0.26563025952588715, 'reg_lambda': 0.391631464544003, 'reg_alpha': 0.5545820391235697}. Best is trial 31 with value: 0.9035549388243146.\n",
      "[I 2024-02-05 20:45:34,340] Trial 40 finished with value: 0.9013871114929708 and parameters: {'eta': 0.011496740379543971, 'max_depth': 19, 'subsample': 0.8602602664015291, 'colsample_bytree': 0.6960644558447879, 'min_child_weight': 0.24418746110129347, 'reg_lambda': 0.36204175076553885, 'reg_alpha': 0.35933697109119794}. Best is trial 31 with value: 0.9035549388243146.\n",
      "[I 2024-02-05 20:45:34,863] Trial 41 finished with value: 0.9019170810571449 and parameters: {'eta': 0.013026740915005205, 'max_depth': 19, 'subsample': 0.8534601227696944, 'colsample_bytree': 0.6650817788972401, 'min_child_weight': 0.2590709621472326, 'reg_lambda': 0.41038470239018104, 'reg_alpha': 0.4668914875926928}. Best is trial 31 with value: 0.9035549388243146.\n",
      "[I 2024-02-05 20:45:35,997] Trial 34 finished with value: 0.9010017318295984 and parameters: {'eta': 0.007262971652040649, 'max_depth': 29, 'subsample': 0.8266484999856145, 'colsample_bytree': 0.6494191240089521, 'min_child_weight': 0.23149373781598956, 'reg_lambda': 0.08516360118081404, 'reg_alpha': 0.5422305184886883}. Best is trial 31 with value: 0.9035549388243146.\n",
      "[I 2024-02-05 20:45:41,026] Trial 35 finished with value: 0.9018207767564423 and parameters: {'eta': 0.005886205301957744, 'max_depth': 29, 'subsample': 0.8141406959592854, 'colsample_bytree': 0.6655971921403754, 'min_child_weight': 0.22635685895406743, 'reg_lambda': 0.08510985552920651, 'reg_alpha': 0.5312217807296582}. Best is trial 31 with value: 0.9035549388243146.\n",
      "[I 2024-02-05 20:45:42,494] Trial 36 finished with value: 0.9018688766873272 and parameters: {'eta': 0.0047743214741528695, 'max_depth': 27, 'subsample': 0.8536437506436794, 'colsample_bytree': 0.6656334010830987, 'min_child_weight': 0.23527860437526185, 'reg_lambda': 0.0927900967322057, 'reg_alpha': 0.5748147221519337}. Best is trial 31 with value: 0.9035549388243146.\n",
      "[I 2024-02-05 20:45:46,409] Trial 42 finished with value: 0.9000381782322341 and parameters: {'eta': 0.00340063007675781, 'max_depth': 19, 'subsample': 0.8440450743794139, 'colsample_bytree': 0.6893756963758949, 'min_child_weight': 0.25412901673251986, 'reg_lambda': 0.4050071032995345, 'reg_alpha': 0.4487368665921251}. Best is trial 31 with value: 0.9035549388243146.\n",
      "[I 2024-02-05 20:45:51,766] Trial 43 finished with value: 0.9002309376898758 and parameters: {'eta': 0.0038466920584751163, 'max_depth': 20, 'subsample': 0.8376863526438053, 'colsample_bytree': 0.6755994818460258, 'min_child_weight': 0.24930104905351355, 'reg_lambda': 0.4002746225444915, 'reg_alpha': 0.41157085338603366}. Best is trial 31 with value: 0.9035549388243146.\n",
      "[I 2024-02-05 20:46:17,088] Trial 45 finished with value: 0.9035068040804524 and parameters: {'eta': 0.22060989758877114, 'max_depth': 27, 'subsample': 0.8566125380723235, 'colsample_bytree': 0.6689935557461532, 'min_child_weight': 0.40341937457806015, 'reg_lambda': 0.32982616928293096, 'reg_alpha': 0.2430536489612884}. Best is trial 31 with value: 0.9035549388243146.\n",
      "[I 2024-02-05 20:46:19,563] Trial 44 finished with value: 0.8964733757308985 and parameters: {'eta': 0.0037353109917923275, 'max_depth': 27, 'subsample': 0.8547147819939496, 'colsample_bytree': 0.5281258739135208, 'min_child_weight': 0.22221481367569104, 'reg_lambda': 0.3859231381662189, 'reg_alpha': 0.4580486819863613}. Best is trial 31 with value: 0.9035549388243146.\n",
      "[I 2024-02-05 20:46:31,127] Trial 46 finished with value: 0.9028323026371062 and parameters: {'eta': 0.2770687528024112, 'max_depth': 26, 'subsample': 0.8719892364162684, 'colsample_bytree': 0.5136865327813164, 'min_child_weight': 0.41635839897257443, 'reg_lambda': 0.411179538621125, 'reg_alpha': 0.24989004099492015}. Best is trial 31 with value: 0.9035549388243146.\n",
      "[I 2024-02-05 20:46:33,919] Trial 47 finished with value: 0.9016761288340112 and parameters: {'eta': 0.2991996415649999, 'max_depth': 27, 'subsample': 0.8798420304904065, 'colsample_bytree': 0.5211704481127644, 'min_child_weight': 0.4222524121814477, 'reg_lambda': 0.5572775011530571, 'reg_alpha': 0.2373771396631617}. Best is trial 31 with value: 0.9035549388243146.\n",
      "[I 2024-02-05 20:46:37,314] Trial 48 finished with value: 0.9028325231192985 and parameters: {'eta': 0.2944574183253756, 'max_depth': 27, 'subsample': 0.9165748880392424, 'colsample_bytree': 0.5113110479093435, 'min_child_weight': 0.37695577871086966, 'reg_lambda': 0.4253176301085176, 'reg_alpha': 0.2324472094111942}. Best is trial 31 with value: 0.9035549388243146.\n",
      "[I 2024-02-05 20:46:46,425] Trial 51 finished with value: 0.9020616825622723 and parameters: {'eta': 0.2546011290048234, 'max_depth': 26, 'subsample': 0.8972155784880701, 'colsample_bytree': 0.5263194068294933, 'min_child_weight': 0.4221451930994261, 'reg_lambda': 0.7619823542449505, 'reg_alpha': 0.1348805674082447}. Best is trial 31 with value: 0.9035549388243146.\n",
      "[I 2024-02-05 20:46:46,719] Trial 49 finished with value: 0.902784295540829 and parameters: {'eta': 0.23588240698406104, 'max_depth': 27, 'subsample': 0.8883088011118508, 'colsample_bytree': 0.5363185182312796, 'min_child_weight': 0.35470716310428263, 'reg_lambda': 0.7227287365616959, 'reg_alpha': 0.21687562116347803}. Best is trial 31 with value: 0.9035549388243146.\n",
      "[I 2024-02-05 20:46:49,858] Trial 50 finished with value: 0.9039405273655534 and parameters: {'eta': 0.21928106540925765, 'max_depth': 27, 'subsample': 0.9321890946778235, 'colsample_bytree': 0.5100335827960119, 'min_child_weight': 0.3802520505972029, 'reg_lambda': 0.7642311664281047, 'reg_alpha': 0.1442221878633524}. Best is trial 50 with value: 0.9039405273655534.\n",
      "[I 2024-02-05 20:46:51,537] Trial 53 finished with value: 0.8996528449861652 and parameters: {'eta': 0.2773974491341159, 'max_depth': 26, 'subsample': 0.9022034434075856, 'colsample_bytree': 0.5220814403758395, 'min_child_weight': 0.4136064318562167, 'reg_lambda': 0.0506141523741376, 'reg_alpha': 0.2617423796940178}. Best is trial 50 with value: 0.9039405273655534.\n",
      "[I 2024-02-05 20:46:52,549] Trial 52 finished with value: 0.9036031664027844 and parameters: {'eta': 0.2752379468518856, 'max_depth': 27, 'subsample': 0.9053257207608056, 'colsample_bytree': 0.5366764845764006, 'min_child_weight': 0.41304800972415795, 'reg_lambda': 0.61172996808885, 'reg_alpha': 0.25249697343709326}. Best is trial 50 with value: 0.9039405273655534.\n",
      "[I 2024-02-05 20:46:58,730] Trial 54 finished with value: 0.8999420247877683 and parameters: {'eta': 0.280118824018211, 'max_depth': 27, 'subsample': 0.90657763435608, 'colsample_bytree': 0.5419904426500864, 'min_child_weight': 0.41050345998471066, 'reg_lambda': 0.05340883946648976, 'reg_alpha': 0.2192820768118722}. Best is trial 50 with value: 0.9039405273655534.\n",
      "[I 2024-02-05 20:47:01,547] Trial 55 finished with value: 0.9036031896114363 and parameters: {'eta': 0.2135330876460132, 'max_depth': 26, 'subsample': 0.9182875882201506, 'colsample_bytree': 0.5258767906672779, 'min_child_weight': 0.4008790022118877, 'reg_lambda': 0.6549457318087698, 'reg_alpha': 0.26935851633633223}. Best is trial 50 with value: 0.9039405273655534.\n",
      "[I 2024-02-05 20:47:25,400] Trial 57 finished with value: 0.9042293706417054 and parameters: {'eta': 0.2709389379686743, 'max_depth': 25, 'subsample': 0.9060690460811756, 'colsample_bytree': 0.7342755432264096, 'min_child_weight': 0.39743571287095253, 'reg_lambda': 0.8781368280824177, 'reg_alpha': 0.28542993179357223}. Best is trial 57 with value: 0.9042293706417054.\n",
      "[I 2024-02-05 20:47:28,732] Trial 56 finished with value: 0.9027359867320779 and parameters: {'eta': 0.27753115662174094, 'max_depth': 27, 'subsample': 0.9075982676816126, 'colsample_bytree': 0.5387470259115664, 'min_child_weight': 0.41198675472988916, 'reg_lambda': 0.6174478190787832, 'reg_alpha': 0.24283493751330018}. Best is trial 57 with value: 0.9042293706417054.\n",
      "[I 2024-02-05 20:47:37,184] Trial 58 finished with value: 0.899941839118554 and parameters: {'eta': 0.29187768057986685, 'max_depth': 25, 'subsample': 0.9008840305390049, 'colsample_bytree': 0.4927947505856053, 'min_child_weight': 0.43835304379113726, 'reg_lambda': 0.6090697833903185, 'reg_alpha': 0.20119077701455684}. Best is trial 57 with value: 0.9042293706417054.\n",
      "[I 2024-02-05 20:47:42,179] Trial 59 finished with value: 0.9019654362831993 and parameters: {'eta': 0.28080773139206316, 'max_depth': 25, 'subsample': 0.9062520783197625, 'colsample_bytree': 0.5018532052735952, 'min_child_weight': 0.4083398497545551, 'reg_lambda': 0.8926925855025699, 'reg_alpha': 0.10233074064291135}. Best is trial 57 with value: 0.9042293706417054.\n",
      "[I 2024-02-05 20:47:43,533] Trial 60 finished with value: 0.8945463497664514 and parameters: {'eta': 0.29598820484929406, 'max_depth': 25, 'subsample': 0.9173581803026468, 'colsample_bytree': 0.3668901738555439, 'min_child_weight': 0.3860682753021825, 'reg_lambda': 0.725472635939152, 'reg_alpha': 0.11796946359343972}. Best is trial 57 with value: 0.9042293706417054.\n",
      "[I 2024-02-05 20:47:49,897] Trial 61 finished with value: 0.8921374889816927 and parameters: {'eta': 0.18948270728473823, 'max_depth': 24, 'subsample': 0.9229247120838702, 'colsample_bytree': 0.37545982653836085, 'min_child_weight': 0.4402078245172431, 'reg_lambda': 0.6930852219412125, 'reg_alpha': 0.1283798932514589}. Best is trial 57 with value: 0.9042293706417054.\n",
      "[I 2024-02-05 20:47:53,466] Trial 62 finished with value: 0.891704067409065 and parameters: {'eta': 0.1973064243535506, 'max_depth': 25, 'subsample': 0.9148433899776048, 'colsample_bytree': 0.38759957718179316, 'min_child_weight': 0.40657974830390464, 'reg_lambda': 0.7387546115385503, 'reg_alpha': 0.11384521885983516}. Best is trial 57 with value: 0.9042293706417054.\n",
      "[I 2024-02-05 20:47:55,207] Trial 64 finished with value: 0.8888619591165673 and parameters: {'eta': 0.16542318476964388, 'max_depth': 24, 'subsample': 0.9301229220920502, 'colsample_bytree': 0.37725587345181927, 'min_child_weight': 0.573708549192541, 'reg_lambda': 0.2632109394804636, 'reg_alpha': 0.1079177820185907}. Best is trial 57 with value: 0.9042293706417054.\n",
      "[I 2024-02-05 20:47:57,046] Trial 65 finished with value: 0.8914631848118869 and parameters: {'eta': 0.17390068003623388, 'max_depth': 24, 'subsample': 0.9217269077213219, 'colsample_bytree': 0.40251457724930395, 'min_child_weight': 0.6196430774245635, 'reg_lambda': 0.2715609403766448, 'reg_alpha': 0.10633966718048994}. Best is trial 57 with value: 0.9042293706417054.\n",
      "[I 2024-02-05 20:47:59,473] Trial 63 finished with value: 0.8905961676017433 and parameters: {'eta': 0.1848867646948002, 'max_depth': 25, 'subsample': 0.9464244039913166, 'colsample_bytree': 0.41739531839983535, 'min_child_weight': 0.3480856435190192, 'reg_lambda': 0.2751775715198371, 'reg_alpha': 0.1058075003036121}. Best is trial 57 with value: 0.9042293706417054.\n",
      "[I 2024-02-05 20:48:02,885] Trial 66 finished with value: 0.8893436314763161 and parameters: {'eta': 0.1769323069017961, 'max_depth': 24, 'subsample': 0.9361258690030467, 'colsample_bytree': 0.3868507449476013, 'min_child_weight': 0.5857627187453551, 'reg_lambda': 0.2896078854690115, 'reg_alpha': 0.10234372785195821}. Best is trial 57 with value: 0.9042293706417054.\n",
      "[I 2024-02-05 20:48:05,074] Trial 67 finished with value: 0.889488198168466 and parameters: {'eta': 0.18020737247747556, 'max_depth': 24, 'subsample': 0.9298265076275578, 'colsample_bytree': 0.38894720659106563, 'min_child_weight': 0.5641036951358183, 'reg_lambda': 0.2839375592268213, 'reg_alpha': 0.11299605626450439}. Best is trial 57 with value: 0.9042293706417054.\n",
      "[I 2024-02-05 20:48:24,714] Trial 68 finished with value: 0.8922820092565387 and parameters: {'eta': 0.18196015635386567, 'max_depth': 24, 'subsample': 0.9399723142666613, 'colsample_bytree': 0.3869711768842831, 'min_child_weight': 0.5912256593846158, 'reg_lambda': 1.8059538831528887, 'reg_alpha': 0.09787071229701653}. Best is trial 57 with value: 0.9042293706417054.\n",
      "[I 2024-02-05 20:48:27,011] Trial 69 finished with value: 0.8924265643443625 and parameters: {'eta': 0.17829646439870053, 'max_depth': 24, 'subsample': 0.9371503426181097, 'colsample_bytree': 0.3930145628053179, 'min_child_weight': 0.5962406434037656, 'reg_lambda': 1.9091946071674266, 'reg_alpha': 0.11444881374463121}. Best is trial 57 with value: 0.9042293706417054.\n",
      "[I 2024-02-05 20:48:38,904] Trial 70 finished with value: 0.8955579220644188 and parameters: {'eta': 0.18540091097635603, 'max_depth': 24, 'subsample': 0.9406497282303817, 'colsample_bytree': 0.40104717923722855, 'min_child_weight': 0.5803147937492924, 'reg_lambda': 1.118968510462724, 'reg_alpha': 0.10491457953043107}. Best is trial 57 with value: 0.9042293706417054.\n",
      "[I 2024-02-05 20:48:39,217] Trial 71 finished with value: 0.8872720620283712 and parameters: {'eta': 0.18352848100667332, 'max_depth': 24, 'subsample': 0.9500593293912127, 'colsample_bytree': 0.34681947005828595, 'min_child_weight': 0.5945358074796188, 'reg_lambda': 2.023757802781853, 'reg_alpha': 0.07523743898614382}. Best is trial 57 with value: 0.9042293706417054.\n",
      "[I 2024-02-05 20:48:42,658] Trial 72 finished with value: 0.9000862665587928 and parameters: {'eta': 0.19134387917569673, 'max_depth': 24, 'subsample': 0.9330875131383956, 'colsample_bytree': 0.4704824559195304, 'min_child_weight': 0.7112579608905945, 'reg_lambda': 1.8766301189452594, 'reg_alpha': 0.08593810325546374}. Best is trial 57 with value: 0.9042293706417054.\n",
      "[I 2024-02-05 20:48:51,648] Trial 73 finished with value: 0.8923303644825934 and parameters: {'eta': 0.12175772252849908, 'max_depth': 24, 'subsample': 0.9654962013311101, 'colsample_bytree': 0.4183496296655705, 'min_child_weight': 0.6555898461741504, 'reg_lambda': 1.1156116131941747, 'reg_alpha': 0.084296857789148}. Best is trial 57 with value: 0.9042293706417054.\n",
      "[I 2024-02-05 20:48:58,497] Trial 75 finished with value: 0.8975331872116616 and parameters: {'eta': 0.11181838358154057, 'max_depth': 28, 'subsample': 0.9503168925822043, 'colsample_bytree': 0.4709123356656119, 'min_child_weight': 0.8789356229630484, 'reg_lambda': 1.8722356834928422, 'reg_alpha': 0.6905316493177014}. Best is trial 57 with value: 0.9042293706417054.\n",
      "[I 2024-02-05 20:49:06,999] Trial 76 finished with value: 0.898978250708212 and parameters: {'eta': 0.11519535313308561, 'max_depth': 28, 'subsample': 0.9489329239624292, 'colsample_bytree': 0.4649147753133097, 'min_child_weight': 0.8444007982382559, 'reg_lambda': 2.174506201210393, 'reg_alpha': 0.07737650629617382}. Best is trial 57 with value: 0.9042293706417054.\n",
      "[I 2024-02-05 20:49:08,167] Trial 77 finished with value: 0.8980629595022951 and parameters: {'eta': 0.09665856546089321, 'max_depth': 28, 'subsample': 0.9695382888240095, 'colsample_bytree': 0.45352128662824065, 'min_child_weight': 1.091940170095657, 'reg_lambda': 1.9826197802569194, 'reg_alpha': 0.07583972058657018}. Best is trial 57 with value: 0.9042293706417054.\n",
      "[I 2024-02-05 20:49:11,454] Trial 78 finished with value: 0.9044221068906951 and parameters: {'eta': 0.12227799620165443, 'max_depth': 28, 'subsample': 0.9618732326112099, 'colsample_bytree': 0.5740102857626611, 'min_child_weight': 1.1733421219404478, 'reg_lambda': 2.0782722415899686, 'reg_alpha': 0.07915050965791083}. Best is trial 78 with value: 0.9044221068906951.\n",
      "[I 2024-02-05 20:49:11,812] Trial 74 finished with value: 0.8967142351194248 and parameters: {'eta': 0.12599249018584188, 'max_depth': 28, 'subsample': 0.9448798247414113, 'colsample_bytree': 0.4692334652342777, 'min_child_weight': 0.5691997069268084, 'reg_lambda': 0.2737694845588143, 'reg_alpha': 0.08620360393077141}. Best is trial 78 with value: 0.9044221068906951.\n",
      "[I 2024-02-05 20:49:15,236] Trial 79 finished with value: 0.9043257561726892 and parameters: {'eta': 0.12038236526836905, 'max_depth': 28, 'subsample': 0.9691810706948754, 'colsample_bytree': 0.5748847545881082, 'min_child_weight': 0.8509249784172788, 'reg_lambda': 2.1405310487221376, 'reg_alpha': 0.07937399387423678}. Best is trial 78 with value: 0.9044221068906951.\n",
      "[I 2024-02-05 20:49:35,141] Trial 80 finished with value: 0.9043256981510595 and parameters: {'eta': 0.11713211872163465, 'max_depth': 28, 'subsample': 0.9708028122178426, 'colsample_bytree': 0.571041307557464, 'min_child_weight': 0.8202454742958268, 'reg_lambda': 2.502024379073011, 'reg_alpha': 0.0765857761601633}. Best is trial 78 with value: 0.9044221068906951.\n",
      "[I 2024-02-05 20:49:36,535] Trial 92 finished with value: 0.7054633282413552 and parameters: {'eta': 0.06913416038714387, 'max_depth': 2, 'subsample': 0.9900047439650114, 'colsample_bytree': 0.5850967520852555, 'min_child_weight': 1.5193827828285373, 'reg_lambda': 3.1215340305728505, 'reg_alpha': 0.05684336503334574}. Best is trial 78 with value: 0.9044221068906951.\n",
      "[I 2024-02-05 20:49:42,031] Trial 81 finished with value: 0.9044703344691648 and parameters: {'eta': 0.11890420079560177, 'max_depth': 28, 'subsample': 0.9664960585640433, 'colsample_bytree': 0.575711214968801, 'min_child_weight': 0.7463445052624246, 'reg_lambda': 1.13766917322777, 'reg_alpha': 0.0769609572526458}. Best is trial 81 with value: 0.9044703344691648.\n",
      "[I 2024-02-05 20:49:42,858] Trial 91 finished with value: 0.8999900318840458 and parameters: {'eta': 0.07418117587795649, 'max_depth': 14, 'subsample': 0.9721992165220571, 'colsample_bytree': 0.5823589088252932, 'min_child_weight': 1.4489664675126945, 'reg_lambda': 2.8463583303676803, 'reg_alpha': 0.030864644826579392}. Best is trial 81 with value: 0.9044703344691648.\n",
      "[I 2024-02-05 20:49:45,162] Trial 82 finished with value: 0.8977740233915359 and parameters: {'eta': 0.11191537318045279, 'max_depth': 28, 'subsample': 0.9703898163705162, 'colsample_bytree': 0.4538654056832785, 'min_child_weight': 1.0729736885491146, 'reg_lambda': 2.7589451946879415, 'reg_alpha': 0.3028596479800211}. Best is trial 81 with value: 0.9044703344691648.\n",
      "[I 2024-02-05 20:49:45,663] Trial 83 finished with value: 0.8981111174548092 and parameters: {'eta': 0.11461832514744288, 'max_depth': 28, 'subsample': 0.97389137720054, 'colsample_bytree': 0.4511188597799297, 'min_child_weight': 1.096396897788131, 'reg_lambda': 2.5932993217517355, 'reg_alpha': 0.30105043089998007}. Best is trial 81 with value: 0.9044703344691648.\n",
      "[I 2024-02-05 20:49:50,120] Trial 84 finished with value: 0.9033623302229099 and parameters: {'eta': 0.12217760000632057, 'max_depth': 28, 'subsample': 0.9657462713045579, 'colsample_bytree': 0.5808222038428171, 'min_child_weight': 1.032000847314958, 'reg_lambda': 2.704947379499589, 'reg_alpha': 0.2910166021548383}. Best is trial 81 with value: 0.9044703344691648.\n",
      "[I 2024-02-05 20:49:59,356] Trial 85 finished with value: 0.9042775053855678 and parameters: {'eta': 0.12286259542603893, 'max_depth': 28, 'subsample': 0.8739019092608155, 'colsample_bytree': 0.5766732250551047, 'min_child_weight': 0.9276097567564183, 'reg_lambda': 2.9745474293931884, 'reg_alpha': 0.30108749137323304}. Best is trial 81 with value: 0.9044703344691648.\n",
      "[I 2024-02-05 20:50:01,859] Trial 89 finished with value: 0.9059153631527377 and parameters: {'eta': 0.22495255292961686, 'max_depth': 22, 'subsample': 0.9826597783891687, 'colsample_bytree': 0.5809920827796949, 'min_child_weight': 1.5616869487781537, 'reg_lambda': 3.3390361275037623, 'reg_alpha': 0.3042530638347657}. Best is trial 89 with value: 0.9059153631527377.\n",
      "[I 2024-02-05 20:50:15,216] Trial 86 finished with value: 0.9044222925599096 and parameters: {'eta': 0.1338994278444642, 'max_depth': 28, 'subsample': 0.8799762328221481, 'colsample_bytree': 0.5791174153358123, 'min_child_weight': 0.310812231266591, 'reg_lambda': 0.5451621506680069, 'reg_alpha': 0.30767179673618034}. Best is trial 89 with value: 0.9059153631527377.\n",
      "[I 2024-02-05 20:50:17,702] Trial 88 finished with value: 0.9047111358360616 and parameters: {'eta': 0.22879376600006043, 'max_depth': 26, 'subsample': 0.8839016613471772, 'colsample_bytree': 0.5736357926410709, 'min_child_weight': 0.3407485985380358, 'reg_lambda': 0.527391475528741, 'reg_alpha': 0.304085438708895}. Best is trial 89 with value: 0.9059153631527377.\n",
      "[I 2024-02-05 20:50:18,582] Trial 87 finished with value: 0.9064935370867293 and parameters: {'eta': 0.23152158618673055, 'max_depth': 28, 'subsample': 0.8773052675061962, 'colsample_bytree': 0.5765349521185223, 'min_child_weight': 0.30560634879475257, 'reg_lambda': 2.760817194612376, 'reg_alpha': 0.33275883962457947}. Best is trial 87 with value: 0.9064935370867293.\n",
      "[I 2024-02-05 20:50:29,777] Trial 90 finished with value: 0.9055783155067678 and parameters: {'eta': 0.1434285244362466, 'max_depth': 30, 'subsample': 0.8782547732175484, 'colsample_bytree': 0.5723588356249432, 'min_child_weight': 0.3324566148528323, 'reg_lambda': 3.2447817522572038, 'reg_alpha': 0.1705138535164525}. Best is trial 87 with value: 0.9064935370867293.\n",
      "[I 2024-02-05 20:50:50,670] Trial 95 finished with value: 0.9041812126891913 and parameters: {'eta': 0.14264059384871444, 'max_depth': 30, 'subsample': 0.9970321847804603, 'colsample_bytree': 0.5600592780622975, 'min_child_weight': 1.7120902343841924, 'reg_lambda': 5.659263713304034, 'reg_alpha': 0.037936177319880325}. Best is trial 87 with value: 0.9064935370867293.\n",
      "[I 2024-02-05 20:50:51,814] Trial 93 finished with value: 0.904229393850357 and parameters: {'eta': 0.14185637812499124, 'max_depth': 30, 'subsample': 0.9788227147319709, 'colsample_bytree': 0.5718138252832976, 'min_child_weight': 0.3124669676418001, 'reg_lambda': 6.606559247461356, 'reg_alpha': 0.2916257593984768}. Best is trial 87 with value: 0.9064935370867293.\n",
      "[I 2024-02-05 20:50:52,683] Trial 94 finished with value: 0.9053855676534521 and parameters: {'eta': 0.14801693452721304, 'max_depth': 30, 'subsample': 0.9796170222104716, 'colsample_bytree': 0.5667248155896814, 'min_child_weight': 2.019482331917918, 'reg_lambda': 2.674250830717166, 'reg_alpha': 0.03415129875423984}. Best is trial 87 with value: 0.9064935370867293.\n",
      "[I 2024-02-05 20:50:53,697] Trial 98 finished with value: 0.9045665807482376 and parameters: {'eta': 0.14623144053883974, 'max_depth': 29, 'subsample': 0.9939488353505395, 'colsample_bytree': 0.7276676209094325, 'min_child_weight': 1.9562334168696198, 'reg_lambda': 5.577464195175087, 'reg_alpha': 0.04556847242295434}. Best is trial 87 with value: 0.9064935370867293.\n",
      "[I 2024-02-05 20:50:56,645] Trial 97 finished with value: 0.9040848851798369 and parameters: {'eta': 0.14203245595441286, 'max_depth': 30, 'subsample': 0.9975768488155377, 'colsample_bytree': 0.5589107023324881, 'min_child_weight': 1.2460892197775093, 'reg_lambda': 4.954236230706704, 'reg_alpha': 0.049118260439376844}. Best is trial 87 with value: 0.9064935370867293.\n",
      "[I 2024-02-05 20:51:02,156] Trial 96 finished with value: 0.9057229054075695 and parameters: {'eta': 0.14335858416007696, 'max_depth': 30, 'subsample': 0.9965179924929484, 'colsample_bytree': 0.7249128216414096, 'min_child_weight': 0.3167138444823305, 'reg_lambda': 6.809166996436639, 'reg_alpha': 0.04098704738335138}. Best is trial 87 with value: 0.9064935370867293.\n",
      "[I 2024-02-05 20:51:06,054] Trial 99 finished with value: 0.897532873894862 and parameters: {'eta': 0.03777654277451436, 'max_depth': 30, 'subsample': 0.9949741071539571, 'colsample_bytree': 0.6101101434804463, 'min_child_weight': 1.295099333866819, 'reg_lambda': 5.558598007388755, 'reg_alpha': 0.04378566768208968}. Best is trial 87 with value: 0.9064935370867293.\n",
      "[I 2024-02-05 20:51:06,828] Trial 100 finished with value: 0.9055300299066686 and parameters: {'eta': 0.14164834407490534, 'max_depth': 30, 'subsample': 0.9944363000962847, 'colsample_bytree': 0.7190710649133181, 'min_child_weight': 1.979162575009804, 'reg_lambda': 5.798933939349658, 'reg_alpha': 0.039986141296972276}. Best is trial 87 with value: 0.9064935370867293.\n",
      "[I 2024-02-05 20:51:09,432] Trial 103 finished with value: 0.9024469345780597 and parameters: {'eta': 0.14580366020654664, 'max_depth': 22, 'subsample': 0.9845677656693759, 'colsample_bytree': 0.570134487721935, 'min_child_weight': 1.2890314861185286, 'reg_lambda': 5.0906126045949245, 'reg_alpha': 0.04047182298626932}. Best is trial 87 with value: 0.9064935370867293.\n",
      "[I 2024-02-05 20:51:21,322] Trial 101 finished with value: 0.9023505258384242 and parameters: {'eta': 0.0914725972984457, 'max_depth': 30, 'subsample': 0.9959416531744439, 'colsample_bytree': 0.5656044872483006, 'min_child_weight': 1.6631889690810948, 'reg_lambda': 7.236672778617023, 'reg_alpha': 0.04332530380574502}. Best is trial 87 with value: 0.9064935370867293.\n",
      "[I 2024-02-05 20:51:25,668] Trial 102 finished with value: 0.9043738909165514 and parameters: {'eta': 0.1569255872104985, 'max_depth': 30, 'subsample': 0.9983927774888132, 'colsample_bytree': 0.5668763317325651, 'min_child_weight': 1.8436016730597138, 'reg_lambda': 4.639727662279302, 'reg_alpha': 0.030831281197571652}. Best is trial 87 with value: 0.9064935370867293.\n",
      "[I 2024-02-05 20:51:32,853] Trial 104 finished with value: 0.9041329502977439 and parameters: {'eta': 0.1450595333639713, 'max_depth': 30, 'subsample': 0.9836856528007774, 'colsample_bytree': 0.5590447839624391, 'min_child_weight': 2.689203109244728, 'reg_lambda': 5.413505914050238, 'reg_alpha': 0.03475607931361195}. Best is trial 87 with value: 0.9064935370867293.\n",
      "[I 2024-02-05 20:51:53,217] Trial 107 finished with value: 0.9036030387551992 and parameters: {'eta': 0.15020844731373467, 'max_depth': 29, 'subsample': 0.9993483772366148, 'colsample_bytree': 0.6186904039301666, 'min_child_weight': 1.9636685806646035, 'reg_lambda': 7.7640553150029294, 'reg_alpha': 0.045490176208055254}. Best is trial 87 with value: 0.9064935370867293.\n",
      "[I 2024-02-05 20:51:53,345] Trial 106 finished with value: 0.9033621909709989 and parameters: {'eta': 0.0971145488956096, 'max_depth': 29, 'subsample': 0.8820668640798393, 'colsample_bytree': 0.6162053511997767, 'min_child_weight': 1.866805146949683, 'reg_lambda': 3.628502882232139, 'reg_alpha': 0.1805002722512627}. Best is trial 87 with value: 0.9064935370867293.\n",
      "[I 2024-02-05 20:51:53,396] Trial 105 finished with value: 0.9013389419361306 and parameters: {'eta': 0.08713324141830969, 'max_depth': 30, 'subsample': 0.985917021657436, 'colsample_bytree': 0.6188533619145551, 'min_child_weight': 2.118413511483143, 'reg_lambda': 4.44059655241017, 'reg_alpha': 0.17614522423320753}. Best is trial 87 with value: 0.9064935370867293.\n",
      "[I 2024-02-05 20:51:55,622] Trial 109 finished with value: 0.9017725143649951 and parameters: {'eta': 0.09296790643009183, 'max_depth': 29, 'subsample': 0.9865179869330022, 'colsample_bytree': 0.6123961633484128, 'min_child_weight': 1.9439928498444479, 'reg_lambda': 8.406563748758657, 'reg_alpha': 0.040771152897997244}. Best is trial 87 with value: 0.9064935370867293.\n",
      "[I 2024-02-05 20:51:57,211] Trial 108 finished with value: 0.8989300811513719 and parameters: {'eta': 0.038119291894358275, 'max_depth': 30, 'subsample': 0.9991462329407284, 'colsample_bytree': 0.6125367001120252, 'min_child_weight': 1.919834105158506, 'reg_lambda': 4.052180429160699, 'reg_alpha': 0.047685293610524496}. Best is trial 87 with value: 0.9064935370867293.\n",
      "[I 2024-02-05 20:51:57,727] Trial 110 finished with value: 0.8965696104056455 and parameters: {'eta': 0.03941134467203303, 'max_depth': 29, 'subsample': 0.9848677812580927, 'colsample_bytree': 0.6180814930951527, 'min_child_weight': 2.3505505172712517, 'reg_lambda': 8.151478490121308, 'reg_alpha': 0.03719463808748149}. Best is trial 87 with value: 0.9064935370867293.\n",
      "[I 2024-02-05 20:52:01,388] Trial 111 finished with value: 0.9025915825004909 and parameters: {'eta': 0.09360289175947122, 'max_depth': 29, 'subsample': 0.8878981802504512, 'colsample_bytree': 0.8117028370276852, 'min_child_weight': 3.0171980703485115, 'reg_lambda': 3.9867780825946686, 'reg_alpha': 0.0296129678174603}. Best is trial 87 with value: 0.9064935370867293.\n",
      "[I 2024-02-05 20:52:03,704] Trial 112 finished with value: 0.9022061332111629 and parameters: {'eta': 0.0976535722172219, 'max_depth': 29, 'subsample': 0.9821074190336414, 'colsample_bytree': 0.7734688537711469, 'min_child_weight': 2.1346852420031754, 'reg_lambda': 8.04780952796253, 'reg_alpha': 0.022782845257797828}. Best is trial 87 with value: 0.9064935370867293.\n",
      "[I 2024-02-05 20:52:05,887] Trial 113 finished with value: 0.9014353738844181 and parameters: {'eta': 0.08876862601330997, 'max_depth': 29, 'subsample': 0.9832536919559594, 'colsample_bytree': 0.7714519832561313, 'min_child_weight': 2.1000602232848795, 'reg_lambda': 8.564590792781694, 'reg_alpha': 0.024016830960693767}. Best is trial 87 with value: 0.9064935370867293.\n",
      "[I 2024-02-05 20:52:09,286] Trial 121 finished with value: 0.8970032408561393 and parameters: {'eta': 0.2371272416076776, 'max_depth': 9, 'subsample': 0.7032331380552993, 'colsample_bytree': 0.7260299561112105, 'min_child_weight': 2.4277125648034494, 'reg_lambda': 9.81003390611545, 'reg_alpha': 0.024781339655762936}. Best is trial 87 with value: 0.9064935370867293.\n",
      "[I 2024-02-05 20:52:16,594] Trial 123 finished with value: 0.8895845604907979 and parameters: {'eta': 0.023141008294521297, 'max_depth': 10, 'subsample': 0.9577430558386286, 'colsample_bytree': 0.7685053812335716, 'min_child_weight': 0.5068292728105865, 'reg_lambda': 10.111696921733584, 'reg_alpha': 0.023552948104026427}. Best is trial 87 with value: 0.9064935370867293.\n",
      "[I 2024-02-05 20:52:17,987] Trial 114 finished with value: 0.901242544800821 and parameters: {'eta': 0.08340615180682166, 'max_depth': 29, 'subsample': 0.9558460392570136, 'colsample_bytree': 0.7914888866850714, 'min_child_weight': 1.967064311390493, 'reg_lambda': 8.744327288530688, 'reg_alpha': 0.025291061903254617}. Best is trial 87 with value: 0.9064935370867293.\n",
      "[I 2024-02-05 20:52:18,326] Trial 124 finished with value: 0.8984967408090258 and parameters: {'eta': 0.22104229336400025, 'max_depth': 10, 'subsample': 0.7072744129628388, 'colsample_bytree': 0.9186384520678158, 'min_child_weight': 3.7470529076409123, 'reg_lambda': 3.5170478133052465, 'reg_alpha': 0.06291642946240783}. Best is trial 87 with value: 0.9064935370867293.\n",
      "[I 2024-02-05 20:52:20,106] Trial 115 finished with value: 0.9018688650830011 and parameters: {'eta': 0.09310145079182544, 'max_depth': 29, 'subsample': 0.7062159799142812, 'colsample_bytree': 0.7197728698985109, 'min_child_weight': 2.1197204814248845, 'reg_lambda': 8.619782587456397, 'reg_alpha': 0.02365421003951141}. Best is trial 87 with value: 0.9064935370867293.\n",
      "[I 2024-02-05 20:52:33,763] Trial 116 finished with value: 0.9041812591064948 and parameters: {'eta': 0.2253979953091771, 'max_depth': 29, 'subsample': 0.8891094625200643, 'colsample_bytree': 0.8105236259325032, 'min_child_weight': 1.986643968466437, 'reg_lambda': 9.656905657479024, 'reg_alpha': 0.06517490893383068}. Best is trial 87 with value: 0.9064935370867293.\n",
      "[I 2024-02-05 20:52:49,616] Trial 119 finished with value: 0.8930049703648726 and parameters: {'eta': 0.020144706083280183, 'max_depth': 29, 'subsample': 0.9580952990321269, 'colsample_bytree': 0.7225012723643167, 'min_child_weight': 2.234711230425444, 'reg_lambda': 10.145085346069097, 'reg_alpha': 0.020595707890356554}. Best is trial 87 with value: 0.9064935370867293.\n",
      "[I 2024-02-05 20:52:49,709] Trial 117 finished with value: 0.9035068388934299 and parameters: {'eta': 0.1016217329805781, 'max_depth': 29, 'subsample': 0.5669770845550164, 'colsample_bytree': 0.8124439900250446, 'min_child_weight': 2.3747992644821045, 'reg_lambda': 3.61758298960569, 'reg_alpha': 0.02201543126172292}. Best is trial 87 with value: 0.9064935370867293.\n",
      "[I 2024-02-05 20:53:04,444] Trial 120 finished with value: 0.8933421456584272 and parameters: {'eta': 0.022087167819381366, 'max_depth': 29, 'subsample': 0.9602216586761522, 'colsample_bytree': 0.8765846931679833, 'min_child_weight': 0.19257687635200355, 'reg_lambda': 11.869744104817856, 'reg_alpha': 0.019246272578059616}. Best is trial 87 with value: 0.9064935370867293.\n",
      "[I 2024-02-05 20:53:07,025] Trial 129 finished with value: 0.8919933632539273 and parameters: {'eta': 0.06144190713445661, 'max_depth': 26, 'subsample': 0.752617197167267, 'colsample_bytree': 0.7121639134363144, 'min_child_weight': 0.19795077366563552, 'reg_lambda': 1.5241652415003766, 'reg_alpha': 9.244786831717699}. Best is trial 87 with value: 0.9064935370867293.\n",
      "[I 2024-02-05 20:53:10,049] Trial 125 finished with value: 0.9063009632983021 and parameters: {'eta': 0.24069423590357245, 'max_depth': 26, 'subsample': 0.9578870530799067, 'colsample_bytree': 0.7258415982192998, 'min_child_weight': 0.4952149225340042, 'reg_lambda': 10.611636682524358, 'reg_alpha': 0.057520476835094654}. Best is trial 87 with value: 0.9064935370867293.\n",
      "[I 2024-02-05 20:53:13,688] Trial 126 finished with value: 0.8982558582118477 and parameters: {'eta': 0.022452268814709502, 'max_depth': 26, 'subsample': 0.9598473408343515, 'colsample_bytree': 0.901018677849546, 'min_child_weight': 0.2894230885479955, 'reg_lambda': 1.5233522518582054, 'reg_alpha': 0.36088107454948376}. Best is trial 87 with value: 0.9064935370867293.\n",
      "[I 2024-02-05 20:53:14,025] Trial 118 finished with value: 0.9030251665336811 and parameters: {'eta': 0.23051091910508403, 'max_depth': 29, 'subsample': 0.9599471462147161, 'colsample_bytree': 0.8536819461044499, 'min_child_weight': 0.19357664026306787, 'reg_lambda': 4.166304087628707, 'reg_alpha': 0.021800269969707}. Best is trial 87 with value: 0.9064935370867293.\n",
      "[I 2024-02-05 20:53:21,548] Trial 130 finished with value: 0.8974849828418436 and parameters: {'eta': 0.15576616052881, 'max_depth': 26, 'subsample': 0.7685658386607291, 'colsample_bytree': 0.4904649684162483, 'min_child_weight': 0.1910277587528094, 'reg_lambda': 13.396408091655895, 'reg_alpha': 0.017400985532658748}. Best is trial 87 with value: 0.9064935370867293.\n",
      "[I 2024-02-05 20:53:23,252] Trial 122 finished with value: 0.9006643824711551 and parameters: {'eta': 0.22553877387401075, 'max_depth': 29, 'subsample': 0.9581337652769094, 'colsample_bytree': 0.8045486731955341, 'min_child_weight': 0.19656551797286861, 'reg_lambda': 1.3937047206280713, 'reg_alpha': 0.02640932485417388}. Best is trial 87 with value: 0.9064935370867293.\n",
      "[I 2024-02-05 20:53:29,939] Trial 127 finished with value: 0.9043257213597113 and parameters: {'eta': 0.2097392869518398, 'max_depth': 26, 'subsample': 0.7701778071455108, 'colsample_bytree': 0.7201522646771207, 'min_child_weight': 0.19447851430683938, 'reg_lambda': 1.5707827516372437, 'reg_alpha': 0.056800414705219196}. Best is trial 87 with value: 0.9064935370867293.\n",
      "[I 2024-02-05 20:53:31,343] Trial 128 finished with value: 0.9048075213670452 and parameters: {'eta': 0.16081963982564282, 'max_depth': 26, 'subsample': 0.9574455711822097, 'colsample_bytree': 0.723233760527283, 'min_child_weight': 0.3041066642996251, 'reg_lambda': 1.4277876026078065, 'reg_alpha': 0.05330075129593556}. Best is trial 87 with value: 0.9064935370867293.\n",
      "[I 2024-02-05 20:53:38,328] Trial 131 finished with value: 0.9016280289031264 and parameters: {'eta': 0.16275780506870374, 'max_depth': 27, 'subsample': 0.9573279542538319, 'colsample_bytree': 0.5985665783447245, 'min_child_weight': 0.18819746636736526, 'reg_lambda': 14.118117269983513, 'reg_alpha': 0.35541953469606474}. Best is trial 87 with value: 0.9064935370867293.\n",
      "[I 2024-02-05 20:54:00,716] Trial 132 finished with value: 0.900809065206564 and parameters: {'eta': 0.06080843796573071, 'max_depth': 26, 'subsample': 0.6367140868650634, 'colsample_bytree': 0.5962838971143845, 'min_child_weight': 0.19917154152336242, 'reg_lambda': 1.5476914414654548, 'reg_alpha': 0.02996262197726127}. Best is trial 87 with value: 0.9064935370867293.\n",
      "[I 2024-02-05 20:54:04,774] Trial 133 finished with value: 0.9031696055782458 and parameters: {'eta': 0.16175249029077912, 'max_depth': 26, 'subsample': 0.958044211024696, 'colsample_bytree': 0.5994725472727941, 'min_child_weight': 0.28869360492163454, 'reg_lambda': 1.4336276766386131, 'reg_alpha': 0.017075068909171005}. Best is trial 87 with value: 0.9064935370867293.\n",
      "[I 2024-02-05 20:54:12,467] Trial 136 finished with value: 0.9022061680241407 and parameters: {'eta': 0.16617356519777335, 'max_depth': 27, 'subsample': 0.8688739710843809, 'colsample_bytree': 0.594843864257169, 'min_child_weight': 0.2939613149271096, 'reg_lambda': 13.183953946938477, 'reg_alpha': 0.3586351041614956}. Best is trial 87 with value: 0.9064935370867293.\n",
      "[I 2024-02-05 20:54:14,424] Trial 138 finished with value: 0.903795809817167 and parameters: {'eta': 0.1604042730147594, 'max_depth': 27, 'subsample': 0.8369494135316493, 'colsample_bytree': 0.7522709104840175, 'min_child_weight': 0.5027666718120016, 'reg_lambda': 15.24541006876158, 'reg_alpha': 0.06016059255481536}. Best is trial 87 with value: 0.9064935370867293.\n",
      "[I 2024-02-05 20:54:15,270] Trial 137 finished with value: 0.9040848387625333 and parameters: {'eta': 0.15383832913867787, 'max_depth': 27, 'subsample': 0.8688751041605913, 'colsample_bytree': 0.7464322178619662, 'min_child_weight': 0.3164151496529356, 'reg_lambda': 13.61215259677075, 'reg_alpha': 0.6207471769612019}. Best is trial 87 with value: 0.9064935370867293.\n",
      "[I 2024-02-05 20:54:16,929] Trial 134 finished with value: 0.9045666735828449 and parameters: {'eta': 0.16468367571148232, 'max_depth': 27, 'subsample': 0.9742839382951972, 'colsample_bytree': 0.5963443049545574, 'min_child_weight': 0.29497009363530075, 'reg_lambda': 4.4114519431614445, 'reg_alpha': 0.03142578902882848}. Best is trial 87 with value: 0.9064935370867293.\n",
      "[I 2024-02-05 20:54:18,230] Trial 135 finished with value: 0.9045184227957235 and parameters: {'eta': 0.16080317665790025, 'max_depth': 27, 'subsample': 0.9739757934789945, 'colsample_bytree': 0.597653493797817, 'min_child_weight': 0.3195961923893019, 'reg_lambda': 2.178849134455069, 'reg_alpha': 0.3592359678477558}. Best is trial 87 with value: 0.9064935370867293.\n",
      "[I 2024-02-05 20:54:19,643] Trial 143 finished with value: 0.9031214708343835 and parameters: {'eta': 0.13054471590710348, 'max_depth': 17, 'subsample': 0.8362659466613904, 'colsample_bytree': 0.7489509514328178, 'min_child_weight': 0.330457678992186, 'reg_lambda': 0.4808251535467802, 'reg_alpha': 0.03353966168571554}. Best is trial 87 with value: 0.9064935370867293.\n",
      "[I 2024-02-05 20:54:25,381] Trial 140 finished with value: 0.9028805766328795 and parameters: {'eta': 0.16427880788213967, 'max_depth': 27, 'subsample': 0.9758657433871528, 'colsample_bytree': 0.634225761258751, 'min_child_weight': 0.4899271444118839, 'reg_lambda': 18.95883806968333, 'reg_alpha': 0.054983022495830695}. Best is trial 87 with value: 0.9064935370867293.\n",
      "[I 2024-02-05 20:54:40,139] Trial 139 finished with value: 0.9039885344618309 and parameters: {'eta': 0.15990448089257261, 'max_depth': 27, 'subsample': 0.8694982139741144, 'colsample_bytree': 0.6449054680059525, 'min_child_weight': 0.5068360027963195, 'reg_lambda': 0.536588942520273, 'reg_alpha': 0.02973039991526889}. Best is trial 87 with value: 0.9064935370867293.\n",
      "[I 2024-02-05 20:54:45,108] Trial 142 finished with value: 0.905963741587444 and parameters: {'eta': 0.16612346566256764, 'max_depth': 27, 'subsample': 0.9772220767343411, 'colsample_bytree': 0.7486838539946294, 'min_child_weight': 0.3176278524459141, 'reg_lambda': 3.2171143006738205, 'reg_alpha': 0.03341963730852531}. Best is trial 87 with value: 0.9064935370867293.\n",
      "[I 2024-02-05 20:54:49,732] Trial 141 finished with value: 0.9023025303464728 and parameters: {'eta': 0.1641660749895418, 'max_depth': 27, 'subsample': 0.9753169045265327, 'colsample_bytree': 0.7512714359024568, 'min_child_weight': 0.3150061853368636, 'reg_lambda': 0.5080655735860711, 'reg_alpha': 0.02950354531711816}. Best is trial 87 with value: 0.9064935370867293.\n",
      "[I 2024-02-05 20:54:58,998] Trial 150 finished with value: 0.9038441186259177 and parameters: {'eta': 0.13601366538476772, 'max_depth': 17, 'subsample': 0.9763787924307054, 'colsample_bytree': 0.6943966471237291, 'min_child_weight': 0.34718843697768065, 'reg_lambda': 0.5222020373624574, 'reg_alpha': 0.19892875062565685}. Best is trial 87 with value: 0.9064935370867293.\n",
      "[I 2024-02-05 20:55:14,693] Trial 144 finished with value: 0.9049038256677477 and parameters: {'eta': 0.1348455127620123, 'max_depth': 27, 'subsample': 0.9757178660218843, 'colsample_bytree': 0.7429673479130806, 'min_child_weight': 0.3364158539795422, 'reg_lambda': 3.1620817500346217, 'reg_alpha': 0.05393323825049246}. Best is trial 87 with value: 0.9064935370867293.\n",
      "[I 2024-02-05 20:55:17,612] Trial 147 finished with value: 0.9037476286560009 and parameters: {'eta': 0.1341950179475409, 'max_depth': 22, 'subsample': 0.9740734979252239, 'colsample_bytree': 0.6900200651752678, 'min_child_weight': 0.3418124673005594, 'reg_lambda': 0.5193226889240791, 'reg_alpha': 0.052535009306092166}. Best is trial 87 with value: 0.9064935370867293.\n",
      "[I 2024-02-05 20:55:20,660] Trial 151 finished with value: 0.9027842375191992 and parameters: {'eta': 0.2496968092102549, 'max_depth': 22, 'subsample': 0.9738828433817721, 'colsample_bytree': 0.6875164873015949, 'min_child_weight': 0.3506037132897484, 'reg_lambda': 1.1796229561914149, 'reg_alpha': 0.06801190154727739}. Best is trial 87 with value: 0.9064935370867293.\n",
      "[I 2024-02-05 20:55:22,606] Trial 145 finished with value: 0.9042295563109197 and parameters: {'eta': 0.25511834736783545, 'max_depth': 27, 'subsample': 0.9727233433864131, 'colsample_bytree': 0.6392585386799958, 'min_child_weight': 0.48949422597481557, 'reg_lambda': 0.4896066630346304, 'reg_alpha': 0.052413045517906806}. Best is trial 87 with value: 0.9064935370867293.\n",
      "[I 2024-02-05 20:55:33,100] Trial 146 finished with value: 0.9062528285544399 and parameters: {'eta': 0.2552423384519347, 'max_depth': 30, 'subsample': 0.969887457918808, 'colsample_bytree': 0.6915534977101666, 'min_child_weight': 0.3330740059789593, 'reg_lambda': 6.501210919366978, 'reg_alpha': 0.049454847148894754}. Best is trial 87 with value: 0.9064935370867293.\n",
      "[I 2024-02-05 20:55:38,172] Trial 152 finished with value: 0.9053855560491261 and parameters: {'eta': 0.20375880705842808, 'max_depth': 28, 'subsample': 0.9767907193442233, 'colsample_bytree': 0.6891521906796583, 'min_child_weight': 0.3570177813259724, 'reg_lambda': 6.661950534028626, 'reg_alpha': 0.06753459403377528}. Best is trial 87 with value: 0.9064935370867293.\n",
      "[I 2024-02-05 20:55:41,057] Trial 149 finished with value: 0.9051929822606992 and parameters: {'eta': 0.13130540487869286, 'max_depth': 28, 'subsample': 0.9762403862712001, 'colsample_bytree': 0.6909914853105791, 'min_child_weight': 0.3477947633608204, 'reg_lambda': 0.5297977319499698, 'reg_alpha': 0.05396028293777321}. Best is trial 87 with value: 0.9064935370867293.\n",
      "[I 2024-02-05 20:55:46,601] Trial 148 finished with value: 0.9033141838747216 and parameters: {'eta': 0.13472038101643677, 'max_depth': 30, 'subsample': 0.9766924090661215, 'colsample_bytree': 0.6461957446473889, 'min_child_weight': 0.35108677739810273, 'reg_lambda': 0.5052838941386708, 'reg_alpha': 0.03307958450986133}. Best is trial 87 with value: 0.9064935370867293.\n",
      "[I 2024-02-05 20:55:48,418] Trial 155 finished with value: 0.9044220836820432 and parameters: {'eta': 0.19638810354516156, 'max_depth': 28, 'subsample': 0.976508809702791, 'colsample_bytree': 0.6925545955832385, 'min_child_weight': 0.345145349911396, 'reg_lambda': 6.427278189066495, 'reg_alpha': 3.1064717301462648}. Best is trial 87 with value: 0.9064935370867293.\n",
      "[I 2024-02-05 20:55:52,401] Trial 153 finished with value: 0.9051928778217659 and parameters: {'eta': 0.1965380603931228, 'max_depth': 28, 'subsample': 0.9759105555339064, 'colsample_bytree': 0.6875092040541625, 'min_child_weight': 0.33746328899944705, 'reg_lambda': 6.718060355416627, 'reg_alpha': 0.06941161380653516}. Best is trial 87 with value: 0.9064935370867293.\n",
      "[I 2024-02-05 20:56:03,216] Trial 154 finished with value: 0.9039405389698792 and parameters: {'eta': 0.20047430560679097, 'max_depth': 28, 'subsample': 0.9738597350595521, 'colsample_bytree': 0.5431561059424984, 'min_child_weight': 0.33851349703221023, 'reg_lambda': 1.081093866258493, 'reg_alpha': 0.2062446189132203}. Best is trial 87 with value: 0.9064935370867293.\n",
      "[I 2024-02-05 20:56:15,612] Trial 156 finished with value: 0.9045666155612153 and parameters: {'eta': 0.24892574006088053, 'max_depth': 28, 'subsample': 0.9881228108959538, 'colsample_bytree': 0.5452722173244284, 'min_child_weight': 0.27653265337578514, 'reg_lambda': 3.2303123165778254, 'reg_alpha': 0.06928763807117634}. Best is trial 87 with value: 0.9064935370867293.\n",
      "[I 2024-02-05 20:56:18,842] Trial 157 finished with value: 0.9052411866305168 and parameters: {'eta': 0.19343094680983702, 'max_depth': 25, 'subsample': 0.9424809288826045, 'colsample_bytree': 0.6833242513020636, 'min_child_weight': 0.34588828254946474, 'reg_lambda': 6.690862333757648, 'reg_alpha': 0.05229877645678379}. Best is trial 87 with value: 0.9064935370867293.\n",
      "[I 2024-02-05 20:56:25,580] Trial 159 finished with value: 0.9060600110751686 and parameters: {'eta': 0.2008451265968575, 'max_depth': 25, 'subsample': 0.9458399101245215, 'colsample_bytree': 0.6618614575281336, 'min_child_weight': 0.28239404764423626, 'reg_lambda': 6.190170791656773, 'reg_alpha': 0.0398063067377048}. Best is trial 87 with value: 0.9064935370867293.\n",
      "[I 2024-02-05 20:56:26,412] Trial 158 finished with value: 0.9065415441830067 and parameters: {'eta': 0.19787804741695797, 'max_depth': 25, 'subsample': 0.9400613285652561, 'colsample_bytree': 0.6552744790455539, 'min_child_weight': 0.2782401988372781, 'reg_lambda': 2.3649691600782283, 'reg_alpha': 0.03790374838946685}. Best is trial 158 with value: 0.9065415441830067.\n",
      "[I 2024-02-05 20:56:27,341] Trial 160 finished with value: 0.9033622605969545 and parameters: {'eta': 0.1983545401317028, 'max_depth': 25, 'subsample': 0.9478748691921902, 'colsample_bytree': 0.5486039053845361, 'min_child_weight': 0.2623920612821141, 'reg_lambda': 6.740153331993297, 'reg_alpha': 0.03688933499850737}. Best is trial 158 with value: 0.9065415441830067.\n",
      "[I 2024-02-05 20:56:37,405] Trial 161 finished with value: 0.9060119459572616 and parameters: {'eta': 0.24962136052558564, 'max_depth': 30, 'subsample': 0.9460424698327111, 'colsample_bytree': 0.7047080392194066, 'min_child_weight': 0.2704501316654003, 'reg_lambda': 6.414453408147754, 'reg_alpha': 2.7755813454904135}. Best is trial 158 with value: 0.9065415441830067.\n",
      "[I 2024-02-05 20:56:43,904] Trial 162 finished with value: 0.9055783387154197 and parameters: {'eta': 0.19977801373444062, 'max_depth': 25, 'subsample': 0.9881941783473358, 'colsample_bytree': 0.6690658661218515, 'min_child_weight': 0.25360244640982155, 'reg_lambda': 6.157543463212499, 'reg_alpha': 0.036253594226644946}. Best is trial 158 with value: 0.9065415441830067.\n",
      "[I 2024-02-05 20:56:52,009] Trial 164 finished with value: 0.9063009749026282 and parameters: {'eta': 0.20572086763979971, 'max_depth': 25, 'subsample': 0.9900917565698364, 'colsample_bytree': 0.7091811366430377, 'min_child_weight': 0.2624766060911933, 'reg_lambda': 6.374778839620248, 'reg_alpha': 0.039279218624397566}. Best is trial 158 with value: 0.9065415441830067.\n",
      "[I 2024-02-05 20:56:56,687] Trial 165 finished with value: 0.9061081806320088 and parameters: {'eta': 0.20435903760982482, 'max_depth': 25, 'subsample': 0.9472022848749988, 'colsample_bytree': 0.7066217559438889, 'min_child_weight': 0.28160039400501413, 'reg_lambda': 3.31790492610454, 'reg_alpha': 0.03792151992649687}. Best is trial 158 with value: 0.9065415441830067.\n",
      "[I 2024-02-05 20:56:58,694] Trial 166 finished with value: 0.9055782458808125 and parameters: {'eta': 0.1985622248316639, 'max_depth': 25, 'subsample': 0.9471669196366537, 'colsample_bytree': 0.6696568098629095, 'min_child_weight': 0.22538623756051882, 'reg_lambda': 6.586182776766096, 'reg_alpha': 0.03561883620889615}. Best is trial 158 with value: 0.9065415441830067.\n",
      "[I 2024-02-05 20:56:59,903] Trial 163 finished with value: 0.9062528865760694 and parameters: {'eta': 0.2020250900725693, 'max_depth': 30, 'subsample': 0.9900364482260556, 'colsample_bytree': 0.6625903555046715, 'min_child_weight': 0.2722290777722051, 'reg_lambda': 6.402510646083896, 'reg_alpha': 0.035990790847817054}. Best is trial 158 with value: 0.9065415441830067.\n",
      "[I 2024-02-05 20:57:12,334] Trial 167 finished with value: 0.9053375605571748 and parameters: {'eta': 0.21052487759911265, 'max_depth': 25, 'subsample': 0.9895783042587355, 'colsample_bytree': 0.6680059302250003, 'min_child_weight': 0.2596624986933604, 'reg_lambda': 3.1518256458756224, 'reg_alpha': 0.0393247225893737}. Best is trial 158 with value: 0.9065415441830067.\n",
      "[I 2024-02-05 20:57:21,104] Trial 168 finished with value: 0.9063010445285835 and parameters: {'eta': 0.19523821497204807, 'max_depth': 25, 'subsample': 0.9446817384665773, 'colsample_bytree': 0.7029469648268478, 'min_child_weight': 0.25469569261171765, 'reg_lambda': 7.088997343742886, 'reg_alpha': 0.040362291286414775}. Best is trial 158 with value: 0.9065415441830067.\n",
      "[I 2024-02-05 20:57:26,611] Trial 171 finished with value: 0.9060120271875431 and parameters: {'eta': 0.20446508620776596, 'max_depth': 23, 'subsample': 0.9432975136168767, 'colsample_bytree': 0.6672335577607299, 'min_child_weight': 0.25227913915183886, 'reg_lambda': 6.322205242427222, 'reg_alpha': 0.0391613606527736}. Best is trial 158 with value: 0.9065415441830067.\n",
      "[I 2024-02-05 20:57:27,639] Trial 172 finished with value: 0.9065418458954803 and parameters: {'eta': 0.20644151495826105, 'max_depth': 23, 'subsample': 0.9278852919401963, 'colsample_bytree': 0.7071135299695821, 'min_child_weight': 0.2274741726133936, 'reg_lambda': 6.360347351080351, 'reg_alpha': 0.0411801436491759}. Best is trial 172 with value: 0.9065418458954803.\n",
      "[I 2024-02-05 20:57:28,897] Trial 169 finished with value: 0.9062526544895512 and parameters: {'eta': 0.19659479830150628, 'max_depth': 25, 'subsample': 0.9397429374102224, 'colsample_bytree': 0.6705898531167224, 'min_child_weight': 0.2747600523667351, 'reg_lambda': 2.4357902342434814, 'reg_alpha': 0.041885507044551934}. Best is trial 172 with value: 0.9065418458954803.\n",
      "[I 2024-02-05 20:57:32,065] Trial 170 finished with value: 0.9057228821989177 and parameters: {'eta': 0.2024897310388935, 'max_depth': 25, 'subsample': 0.9260975507933091, 'colsample_bytree': 0.6606923987259866, 'min_child_weight': 0.26989868999656025, 'reg_lambda': 5.825130462436129, 'reg_alpha': 0.03718856555771048}. Best is trial 172 with value: 0.9065418458954803.\n",
      "[I 2024-02-05 20:57:38,921] Trial 173 finished with value: 0.9058673908694377 and parameters: {'eta': 0.24982918162906315, 'max_depth': 23, 'subsample': 0.9269704812032766, 'colsample_bytree': 0.6630811234317848, 'min_child_weight': 0.23811167230312108, 'reg_lambda': 5.989455069845672, 'reg_alpha': 0.04114738171909946}. Best is trial 172 with value: 0.9065418458954803.\n",
      "[I 2024-02-05 20:57:42,319] Trial 174 finished with value: 0.9053856256750816 and parameters: {'eta': 0.21583710598540723, 'max_depth': 25, 'subsample': 0.9386030451253683, 'colsample_bytree': 0.6648867659146255, 'min_child_weight': 0.23016003749726902, 'reg_lambda': 6.1964044552729565, 'reg_alpha': 1.5532288045744402}. Best is trial 172 with value: 0.9065418458954803.\n",
      "[I 2024-02-05 20:57:44,813] Trial 175 finished with value: 0.9055301691585796 and parameters: {'eta': 0.25242634982251005, 'max_depth': 23, 'subsample': 0.9442310926007447, 'colsample_bytree': 0.6682105724477871, 'min_child_weight': 0.15894231355950703, 'reg_lambda': 6.14188169954202, 'reg_alpha': 2.103321675045715}. Best is trial 172 with value: 0.9065418458954803.\n",
      "[I 2024-02-05 20:57:56,228] Trial 178 finished with value: 0.905867367660786 and parameters: {'eta': 0.2443286818391676, 'max_depth': 25, 'subsample': 0.9344497646453422, 'colsample_bytree': 0.6541399345651061, 'min_child_weight': 0.15547889155082384, 'reg_lambda': 5.788546092561378, 'reg_alpha': 2.22898518545032}. Best is trial 172 with value: 0.9065418458954803.\n",
      "[I 2024-02-05 20:57:57,204] Trial 176 finished with value: 0.9053856140707557 and parameters: {'eta': 0.2544205839597668, 'max_depth': 23, 'subsample': 0.9248772999470969, 'colsample_bytree': 0.67589190250541, 'min_child_weight': 0.22626269560347229, 'reg_lambda': 6.048183195131292, 'reg_alpha': 0.04018828946135826}. Best is trial 172 with value: 0.9065418458954803.\n",
      "[I 2024-02-05 20:58:05,294] Trial 177 finished with value: 0.9063491328551422 and parameters: {'eta': 0.25012244881881485, 'max_depth': 25, 'subsample': 0.9447711847091694, 'colsample_bytree': 0.6623511698652575, 'min_child_weight': 0.15691371361978992, 'reg_lambda': 6.085482758347516, 'reg_alpha': 0.04278851650829435}. Best is trial 172 with value: 0.9065418458954803.\n",
      "[I 2024-02-05 20:58:18,146] Trial 179 finished with value: 0.9063010097156058 and parameters: {'eta': 0.2638075459739316, 'max_depth': 30, 'subsample': 0.9272263657978359, 'colsample_bytree': 0.6576376448671509, 'min_child_weight': 0.15666657987371052, 'reg_lambda': 4.936518455872359, 'reg_alpha': 2.18148555771804}. Best is trial 172 with value: 0.9065418458954803.\n",
      "[I 2024-02-05 20:58:19,894] Trial 180 finished with value: 0.9061563733975007 and parameters: {'eta': 0.2637456813121749, 'max_depth': 23, 'subsample': 0.9304185938702461, 'colsample_bytree': 0.6585896628110439, 'min_child_weight': 0.22521154540712054, 'reg_lambda': 5.117397208509842, 'reg_alpha': 0.04201628814917089}. Best is trial 172 with value: 0.9065418458954803.\n",
      "[I 2024-02-05 20:58:21,208] Trial 184 finished with value: 0.9073607747790652 and parameters: {'eta': 0.2522902630610552, 'max_depth': 23, 'subsample': 0.9248921529498372, 'colsample_bytree': 0.6605535338067056, 'min_child_weight': 0.1643712738302978, 'reg_lambda': 4.853247474212227, 'reg_alpha': 2.1651688340506476}. Best is trial 184 with value: 0.9073607747790652.\n",
      "[I 2024-02-05 20:58:25,699] Trial 182 finished with value: 0.9056264966679338 and parameters: {'eta': 0.24280483631072453, 'max_depth': 23, 'subsample': 0.934218254368139, 'colsample_bytree': 0.6581067024635792, 'min_child_weight': 0.24240912982970758, 'reg_lambda': 4.682226626138362, 'reg_alpha': 0.043084848270675546}. Best is trial 184 with value: 0.9073607747790652.\n",
      "[I 2024-02-05 20:58:26,406] Trial 181 finished with value: 0.9071199850164945 and parameters: {'eta': 0.2544246818773931, 'max_depth': 23, 'subsample': 0.9261574680406413, 'colsample_bytree': 0.6552688997367576, 'min_child_weight': 0.1476349347419982, 'reg_lambda': 4.5082415528320166, 'reg_alpha': 0.0429682271227577}. Best is trial 184 with value: 0.9073607747790652.\n",
      "[I 2024-02-05 20:58:27,933] Trial 183 finished with value: 0.9063491444594682 and parameters: {'eta': 0.2572854440525775, 'max_depth': 23, 'subsample': 0.9263177914754801, 'colsample_bytree': 0.6611129803137151, 'min_child_weight': 0.16285842075523127, 'reg_lambda': 4.84983894256789, 'reg_alpha': 0.04094694437276435}. Best is trial 184 with value: 0.9073607747790652.\n",
      "[I 2024-02-05 20:58:27,943] Trial 185 finished with value: 0.9066864009833042 and parameters: {'eta': 0.2555286174279158, 'max_depth': 23, 'subsample': 0.925901522527629, 'colsample_bytree': 0.7073151578772593, 'min_child_weight': 0.22069411983909099, 'reg_lambda': 4.869529702521417, 'reg_alpha': 2.1690039899292457}. Best is trial 184 with value: 0.9073607747790652.\n",
      "[I 2024-02-05 20:58:28,236] Trial 186 finished with value: 0.9047112170663427 and parameters: {'eta': 0.2579468566699425, 'max_depth': 23, 'subsample': 0.9247868800162361, 'colsample_bytree': 0.6555207405568865, 'min_child_weight': 0.23454103425037295, 'reg_lambda': 4.847277499652389, 'reg_alpha': 3.3372343470068753}. Best is trial 184 with value: 0.9073607747790652.\n",
      "[I 2024-02-05 20:58:40,342] Trial 189 finished with value: 0.9054819763930878 and parameters: {'eta': 0.2965201202963978, 'max_depth': 21, 'subsample': 0.9311334727871541, 'colsample_bytree': 0.7061400933747097, 'min_child_weight': 0.1378385129788549, 'reg_lambda': 4.733479638887445, 'reg_alpha': 3.9163696107974926}. Best is trial 184 with value: 0.9073607747790652.\n",
      "[I 2024-02-05 20:58:42,748] Trial 188 finished with value: 0.904759375018857 and parameters: {'eta': 0.2519278756537037, 'max_depth': 23, 'subsample': 0.9275624706890363, 'colsample_bytree': 0.705100078984638, 'min_child_weight': 0.21442957358347037, 'reg_lambda': 5.058424862627397, 'reg_alpha': 3.6187243831671916}. Best is trial 184 with value: 0.9073607747790652.\n",
      "[I 2024-02-05 20:58:42,977] Trial 187 finished with value: 0.9059636371485107 and parameters: {'eta': 0.26278721828487955, 'max_depth': 23, 'subsample': 0.9321363054410392, 'colsample_bytree': 0.6551735430013884, 'min_child_weight': 0.21843658634651547, 'reg_lambda': 4.900622865826894, 'reg_alpha': 0.041875119751764785}. Best is trial 184 with value: 0.9073607747790652.\n",
      "[I 2024-02-05 20:58:51,127] Trial 190 finished with value: 0.9060602315573609 and parameters: {'eta': 0.2996830555951621, 'max_depth': 21, 'subsample': 0.929444841856822, 'colsample_bytree': 0.7051065884097295, 'min_child_weight': 0.15477509679547963, 'reg_lambda': 4.869494869868189, 'reg_alpha': 1.273819054729491}. Best is trial 184 with value: 0.9073607747790652.\n",
      "[I 2024-02-05 20:58:58,900] Trial 195 finished with value: 0.9045183299611163 and parameters: {'eta': 0.27645179885628623, 'max_depth': 21, 'subsample': 0.9147722843256733, 'colsample_bytree': 0.7014794221249978, 'min_child_weight': 0.121972232500747, 'reg_lambda': 4.5427926916025765, 'reg_alpha': 4.958768394920883}. Best is trial 184 with value: 0.9073607747790652.\n",
      "[I 2024-02-05 20:58:59,274] Trial 193 finished with value: 0.9056265082722599 and parameters: {'eta': 0.29114313826780164, 'max_depth': 23, 'subsample': 0.9122128005404319, 'colsample_bytree': 0.703447863883722, 'min_child_weight': 0.14274831532385218, 'reg_lambda': 4.745613031367121, 'reg_alpha': 3.728374620893934}. Best is trial 184 with value: 0.9073607747790652.\n",
      "[I 2024-02-05 20:58:59,804] Trial 198 finished with value: 0.9051446154303185 and parameters: {'eta': 0.2941825656600848, 'max_depth': 21, 'subsample': 0.913951780759199, 'colsample_bytree': 0.70752614141723, 'min_child_weight': 0.14022655858771074, 'reg_lambda': 4.033098808914983, 'reg_alpha': 4.583860727325652}. Best is trial 184 with value: 0.9073607747790652.\n",
      "[I 2024-02-05 20:59:00,421] Trial 194 finished with value: 0.9063490980421646 and parameters: {'eta': 0.2956813883885648, 'max_depth': 22, 'subsample': 0.9146416346502205, 'colsample_bytree': 0.7057145389561706, 'min_child_weight': 0.13093383471819617, 'reg_lambda': 4.404351614742592, 'reg_alpha': 3.1927836185808363}. Best is trial 184 with value: 0.9073607747790652.\n",
      "[I 2024-02-05 20:59:00,842] Trial 196 finished with value: 0.9051448010995331 and parameters: {'eta': 0.29101914841302806, 'max_depth': 22, 'subsample': 0.916079491804501, 'colsample_bytree': 0.7071772743740365, 'min_child_weight': 0.13705647387831502, 'reg_lambda': 4.814911311943008, 'reg_alpha': 3.426553522355877}. Best is trial 184 with value: 0.9073607747790652.\n",
      "[I 2024-02-05 20:59:01,400] Trial 197 finished with value: 0.9052411750261911 and parameters: {'eta': 0.29959922769391606, 'max_depth': 21, 'subsample': 0.8974255416035178, 'colsample_bytree': 0.704700133206786, 'min_child_weight': 0.12895672561726826, 'reg_lambda': 4.897733201456684, 'reg_alpha': 1.322885131399389}. Best is trial 184 with value: 0.9073607747790652.\n",
      "[I 2024-02-05 20:59:01,820] Trial 191 finished with value: 0.9043258954246 and parameters: {'eta': 0.2907425324481548, 'max_depth': 23, 'subsample': 0.9137536598773066, 'colsample_bytree': 0.7050334367865598, 'min_child_weight': 0.1332068218460247, 'reg_lambda': 4.78338025868445, 'reg_alpha': 0.04422871551943257}. Best is trial 184 with value: 0.9073607747790652.\n",
      "[I 2024-02-05 20:59:01,991] Trial 192 finished with value: 0.9054821156449986 and parameters: {'eta': 0.2820866347293036, 'max_depth': 23, 'subsample': 0.912046837457778, 'colsample_bytree': 0.7113165763086529, 'min_child_weight': 0.13866622126079975, 'reg_lambda': 4.790005077664676, 'reg_alpha': 0.04470061873329542}. Best is trial 184 with value: 0.9073607747790652.\n",
      "[I 2024-02-05 20:59:02,679] Trial 199 finished with value: 0.9069271443285715 and parameters: {'eta': 0.27031354137718683, 'max_depth': 24, 'subsample': 0.9133321109783175, 'colsample_bytree': 0.633624613224782, 'min_child_weight': 0.13784101456671544, 'reg_lambda': 4.004063605901306, 'reg_alpha': 1.1359741975634763}. Best is trial 184 with value: 0.9073607747790652.\n",
      "\n",
      "scores : 0.9073607747790652, params : {'eta': 0.2522902630610552, 'max_depth': 23, 'subsample': 0.9248921529498372, 'colsample_bytree': 0.6605535338067056, 'min_child_weight': 0.1643712738302978, 'reg_lambda': 4.853247474212227, 'reg_alpha': 2.1651688340506476} \n"
     ]
    },
    {
     "data": {
      "application/vnd.plotly.v1+json": {
       "config": {
        "plotlyServerURL": "https://plot.ly"
       },
       "data": [
        {
         "cliponaxis": false,
         "hovertemplate": [
          "reg_alpha (FloatDistribution): 0.0030493169750323997<extra></extra>",
          "reg_lambda (FloatDistribution): 0.0030835474452374527<extra></extra>",
          "min_child_weight (FloatDistribution): 0.006108676209931372<extra></extra>",
          "eta (FloatDistribution): 0.008736529579769859<extra></extra>",
          "subsample (FloatDistribution): 0.06067628275405558<extra></extra>",
          "colsample_bytree (FloatDistribution): 0.38692126064220483<extra></extra>",
          "max_depth (IntDistribution): 0.5314243863937685<extra></extra>"
         ],
         "name": "Objective Value",
         "orientation": "h",
         "text": [
          "<0.01",
          "<0.01",
          "<0.01",
          "<0.01",
          "0.06",
          "0.39",
          "0.53"
         ],
         "textposition": "outside",
         "type": "bar",
         "x": [
          0.0030493169750323997,
          0.0030835474452374527,
          0.006108676209931372,
          0.008736529579769859,
          0.06067628275405558,
          0.38692126064220483,
          0.5314243863937685
         ],
         "y": [
          "reg_alpha",
          "reg_lambda",
          "min_child_weight",
          "eta",
          "subsample",
          "colsample_bytree",
          "max_depth"
         ]
        }
       ],
       "layout": {
        "template": {
         "data": {
          "bar": [
           {
            "error_x": {
             "color": "#2a3f5f"
            },
            "error_y": {
             "color": "#2a3f5f"
            },
            "marker": {
             "line": {
              "color": "#E5ECF6",
              "width": 0.5
             },
             "pattern": {
              "fillmode": "overlay",
              "size": 10,
              "solidity": 0.2
             }
            },
            "type": "bar"
           }
          ],
          "barpolar": [
           {
            "marker": {
             "line": {
              "color": "#E5ECF6",
              "width": 0.5
             },
             "pattern": {
              "fillmode": "overlay",
              "size": 10,
              "solidity": 0.2
             }
            },
            "type": "barpolar"
           }
          ],
          "carpet": [
           {
            "aaxis": {
             "endlinecolor": "#2a3f5f",
             "gridcolor": "white",
             "linecolor": "white",
             "minorgridcolor": "white",
             "startlinecolor": "#2a3f5f"
            },
            "baxis": {
             "endlinecolor": "#2a3f5f",
             "gridcolor": "white",
             "linecolor": "white",
             "minorgridcolor": "white",
             "startlinecolor": "#2a3f5f"
            },
            "type": "carpet"
           }
          ],
          "choropleth": [
           {
            "colorbar": {
             "outlinewidth": 0,
             "ticks": ""
            },
            "type": "choropleth"
           }
          ],
          "contour": [
           {
            "colorbar": {
             "outlinewidth": 0,
             "ticks": ""
            },
            "colorscale": [
             [
              0,
              "#0d0887"
             ],
             [
              0.1111111111111111,
              "#46039f"
             ],
             [
              0.2222222222222222,
              "#7201a8"
             ],
             [
              0.3333333333333333,
              "#9c179e"
             ],
             [
              0.4444444444444444,
              "#bd3786"
             ],
             [
              0.5555555555555556,
              "#d8576b"
             ],
             [
              0.6666666666666666,
              "#ed7953"
             ],
             [
              0.7777777777777778,
              "#fb9f3a"
             ],
             [
              0.8888888888888888,
              "#fdca26"
             ],
             [
              1,
              "#f0f921"
             ]
            ],
            "type": "contour"
           }
          ],
          "contourcarpet": [
           {
            "colorbar": {
             "outlinewidth": 0,
             "ticks": ""
            },
            "type": "contourcarpet"
           }
          ],
          "heatmap": [
           {
            "colorbar": {
             "outlinewidth": 0,
             "ticks": ""
            },
            "colorscale": [
             [
              0,
              "#0d0887"
             ],
             [
              0.1111111111111111,
              "#46039f"
             ],
             [
              0.2222222222222222,
              "#7201a8"
             ],
             [
              0.3333333333333333,
              "#9c179e"
             ],
             [
              0.4444444444444444,
              "#bd3786"
             ],
             [
              0.5555555555555556,
              "#d8576b"
             ],
             [
              0.6666666666666666,
              "#ed7953"
             ],
             [
              0.7777777777777778,
              "#fb9f3a"
             ],
             [
              0.8888888888888888,
              "#fdca26"
             ],
             [
              1,
              "#f0f921"
             ]
            ],
            "type": "heatmap"
           }
          ],
          "heatmapgl": [
           {
            "colorbar": {
             "outlinewidth": 0,
             "ticks": ""
            },
            "colorscale": [
             [
              0,
              "#0d0887"
             ],
             [
              0.1111111111111111,
              "#46039f"
             ],
             [
              0.2222222222222222,
              "#7201a8"
             ],
             [
              0.3333333333333333,
              "#9c179e"
             ],
             [
              0.4444444444444444,
              "#bd3786"
             ],
             [
              0.5555555555555556,
              "#d8576b"
             ],
             [
              0.6666666666666666,
              "#ed7953"
             ],
             [
              0.7777777777777778,
              "#fb9f3a"
             ],
             [
              0.8888888888888888,
              "#fdca26"
             ],
             [
              1,
              "#f0f921"
             ]
            ],
            "type": "heatmapgl"
           }
          ],
          "histogram": [
           {
            "marker": {
             "pattern": {
              "fillmode": "overlay",
              "size": 10,
              "solidity": 0.2
             }
            },
            "type": "histogram"
           }
          ],
          "histogram2d": [
           {
            "colorbar": {
             "outlinewidth": 0,
             "ticks": ""
            },
            "colorscale": [
             [
              0,
              "#0d0887"
             ],
             [
              0.1111111111111111,
              "#46039f"
             ],
             [
              0.2222222222222222,
              "#7201a8"
             ],
             [
              0.3333333333333333,
              "#9c179e"
             ],
             [
              0.4444444444444444,
              "#bd3786"
             ],
             [
              0.5555555555555556,
              "#d8576b"
             ],
             [
              0.6666666666666666,
              "#ed7953"
             ],
             [
              0.7777777777777778,
              "#fb9f3a"
             ],
             [
              0.8888888888888888,
              "#fdca26"
             ],
             [
              1,
              "#f0f921"
             ]
            ],
            "type": "histogram2d"
           }
          ],
          "histogram2dcontour": [
           {
            "colorbar": {
             "outlinewidth": 0,
             "ticks": ""
            },
            "colorscale": [
             [
              0,
              "#0d0887"
             ],
             [
              0.1111111111111111,
              "#46039f"
             ],
             [
              0.2222222222222222,
              "#7201a8"
             ],
             [
              0.3333333333333333,
              "#9c179e"
             ],
             [
              0.4444444444444444,
              "#bd3786"
             ],
             [
              0.5555555555555556,
              "#d8576b"
             ],
             [
              0.6666666666666666,
              "#ed7953"
             ],
             [
              0.7777777777777778,
              "#fb9f3a"
             ],
             [
              0.8888888888888888,
              "#fdca26"
             ],
             [
              1,
              "#f0f921"
             ]
            ],
            "type": "histogram2dcontour"
           }
          ],
          "mesh3d": [
           {
            "colorbar": {
             "outlinewidth": 0,
             "ticks": ""
            },
            "type": "mesh3d"
           }
          ],
          "parcoords": [
           {
            "line": {
             "colorbar": {
              "outlinewidth": 0,
              "ticks": ""
             }
            },
            "type": "parcoords"
           }
          ],
          "pie": [
           {
            "automargin": true,
            "type": "pie"
           }
          ],
          "scatter": [
           {
            "fillpattern": {
             "fillmode": "overlay",
             "size": 10,
             "solidity": 0.2
            },
            "type": "scatter"
           }
          ],
          "scatter3d": [
           {
            "line": {
             "colorbar": {
              "outlinewidth": 0,
              "ticks": ""
             }
            },
            "marker": {
             "colorbar": {
              "outlinewidth": 0,
              "ticks": ""
             }
            },
            "type": "scatter3d"
           }
          ],
          "scattercarpet": [
           {
            "marker": {
             "colorbar": {
              "outlinewidth": 0,
              "ticks": ""
             }
            },
            "type": "scattercarpet"
           }
          ],
          "scattergeo": [
           {
            "marker": {
             "colorbar": {
              "outlinewidth": 0,
              "ticks": ""
             }
            },
            "type": "scattergeo"
           }
          ],
          "scattergl": [
           {
            "marker": {
             "colorbar": {
              "outlinewidth": 0,
              "ticks": ""
             }
            },
            "type": "scattergl"
           }
          ],
          "scattermapbox": [
           {
            "marker": {
             "colorbar": {
              "outlinewidth": 0,
              "ticks": ""
             }
            },
            "type": "scattermapbox"
           }
          ],
          "scatterpolar": [
           {
            "marker": {
             "colorbar": {
              "outlinewidth": 0,
              "ticks": ""
             }
            },
            "type": "scatterpolar"
           }
          ],
          "scatterpolargl": [
           {
            "marker": {
             "colorbar": {
              "outlinewidth": 0,
              "ticks": ""
             }
            },
            "type": "scatterpolargl"
           }
          ],
          "scatterternary": [
           {
            "marker": {
             "colorbar": {
              "outlinewidth": 0,
              "ticks": ""
             }
            },
            "type": "scatterternary"
           }
          ],
          "surface": [
           {
            "colorbar": {
             "outlinewidth": 0,
             "ticks": ""
            },
            "colorscale": [
             [
              0,
              "#0d0887"
             ],
             [
              0.1111111111111111,
              "#46039f"
             ],
             [
              0.2222222222222222,
              "#7201a8"
             ],
             [
              0.3333333333333333,
              "#9c179e"
             ],
             [
              0.4444444444444444,
              "#bd3786"
             ],
             [
              0.5555555555555556,
              "#d8576b"
             ],
             [
              0.6666666666666666,
              "#ed7953"
             ],
             [
              0.7777777777777778,
              "#fb9f3a"
             ],
             [
              0.8888888888888888,
              "#fdca26"
             ],
             [
              1,
              "#f0f921"
             ]
            ],
            "type": "surface"
           }
          ],
          "table": [
           {
            "cells": {
             "fill": {
              "color": "#EBF0F8"
             },
             "line": {
              "color": "white"
             }
            },
            "header": {
             "fill": {
              "color": "#C8D4E3"
             },
             "line": {
              "color": "white"
             }
            },
            "type": "table"
           }
          ]
         },
         "layout": {
          "annotationdefaults": {
           "arrowcolor": "#2a3f5f",
           "arrowhead": 0,
           "arrowwidth": 1
          },
          "autotypenumbers": "strict",
          "coloraxis": {
           "colorbar": {
            "outlinewidth": 0,
            "ticks": ""
           }
          },
          "colorscale": {
           "diverging": [
            [
             0,
             "#8e0152"
            ],
            [
             0.1,
             "#c51b7d"
            ],
            [
             0.2,
             "#de77ae"
            ],
            [
             0.3,
             "#f1b6da"
            ],
            [
             0.4,
             "#fde0ef"
            ],
            [
             0.5,
             "#f7f7f7"
            ],
            [
             0.6,
             "#e6f5d0"
            ],
            [
             0.7,
             "#b8e186"
            ],
            [
             0.8,
             "#7fbc41"
            ],
            [
             0.9,
             "#4d9221"
            ],
            [
             1,
             "#276419"
            ]
           ],
           "sequential": [
            [
             0,
             "#0d0887"
            ],
            [
             0.1111111111111111,
             "#46039f"
            ],
            [
             0.2222222222222222,
             "#7201a8"
            ],
            [
             0.3333333333333333,
             "#9c179e"
            ],
            [
             0.4444444444444444,
             "#bd3786"
            ],
            [
             0.5555555555555556,
             "#d8576b"
            ],
            [
             0.6666666666666666,
             "#ed7953"
            ],
            [
             0.7777777777777778,
             "#fb9f3a"
            ],
            [
             0.8888888888888888,
             "#fdca26"
            ],
            [
             1,
             "#f0f921"
            ]
           ],
           "sequentialminus": [
            [
             0,
             "#0d0887"
            ],
            [
             0.1111111111111111,
             "#46039f"
            ],
            [
             0.2222222222222222,
             "#7201a8"
            ],
            [
             0.3333333333333333,
             "#9c179e"
            ],
            [
             0.4444444444444444,
             "#bd3786"
            ],
            [
             0.5555555555555556,
             "#d8576b"
            ],
            [
             0.6666666666666666,
             "#ed7953"
            ],
            [
             0.7777777777777778,
             "#fb9f3a"
            ],
            [
             0.8888888888888888,
             "#fdca26"
            ],
            [
             1,
             "#f0f921"
            ]
           ]
          },
          "colorway": [
           "#636efa",
           "#EF553B",
           "#00cc96",
           "#ab63fa",
           "#FFA15A",
           "#19d3f3",
           "#FF6692",
           "#B6E880",
           "#FF97FF",
           "#FECB52"
          ],
          "font": {
           "color": "#2a3f5f"
          },
          "geo": {
           "bgcolor": "white",
           "lakecolor": "white",
           "landcolor": "#E5ECF6",
           "showlakes": true,
           "showland": true,
           "subunitcolor": "white"
          },
          "hoverlabel": {
           "align": "left"
          },
          "hovermode": "closest",
          "mapbox": {
           "style": "light"
          },
          "paper_bgcolor": "white",
          "plot_bgcolor": "#E5ECF6",
          "polar": {
           "angularaxis": {
            "gridcolor": "white",
            "linecolor": "white",
            "ticks": ""
           },
           "bgcolor": "#E5ECF6",
           "radialaxis": {
            "gridcolor": "white",
            "linecolor": "white",
            "ticks": ""
           }
          },
          "scene": {
           "xaxis": {
            "backgroundcolor": "#E5ECF6",
            "gridcolor": "white",
            "gridwidth": 2,
            "linecolor": "white",
            "showbackground": true,
            "ticks": "",
            "zerolinecolor": "white"
           },
           "yaxis": {
            "backgroundcolor": "#E5ECF6",
            "gridcolor": "white",
            "gridwidth": 2,
            "linecolor": "white",
            "showbackground": true,
            "ticks": "",
            "zerolinecolor": "white"
           },
           "zaxis": {
            "backgroundcolor": "#E5ECF6",
            "gridcolor": "white",
            "gridwidth": 2,
            "linecolor": "white",
            "showbackground": true,
            "ticks": "",
            "zerolinecolor": "white"
           }
          },
          "shapedefaults": {
           "line": {
            "color": "#2a3f5f"
           }
          },
          "ternary": {
           "aaxis": {
            "gridcolor": "white",
            "linecolor": "white",
            "ticks": ""
           },
           "baxis": {
            "gridcolor": "white",
            "linecolor": "white",
            "ticks": ""
           },
           "bgcolor": "#E5ECF6",
           "caxis": {
            "gridcolor": "white",
            "linecolor": "white",
            "ticks": ""
           }
          },
          "title": {
           "x": 0.05
          },
          "xaxis": {
           "automargin": true,
           "gridcolor": "white",
           "linecolor": "white",
           "ticks": "",
           "title": {
            "standoff": 15
           },
           "zerolinecolor": "white",
           "zerolinewidth": 2
          },
          "yaxis": {
           "automargin": true,
           "gridcolor": "white",
           "linecolor": "white",
           "ticks": "",
           "title": {
            "standoff": 15
           },
           "zerolinecolor": "white",
           "zerolinewidth": 2
          }
         }
        },
        "title": {
         "text": "Hyperparameter Importances"
        },
        "xaxis": {
         "title": {
          "text": "Hyperparameter Importance"
         }
        },
        "yaxis": {
         "title": {
          "text": "Hyperparameter"
         }
        }
       }
      }
     },
     "metadata": {},
     "output_type": "display_data"
    }
   ],
   "source": [
    "xgb_study = optuna.create_study(direction = 'maximize')\n",
    "xgb_study.optimize(xgb_objective,n_trials=TRIALS, n_jobs=-1, show_progress_bar=True)\n",
    "print(\"\")\n",
    "print(f'scores : {xgb_study.best_value}, params : {xgb_study.best_params} ')\n",
    "with open('xgb.json', 'w') as json_file:\n",
    "    json.dump(xgb_study.best_params, json_file, indent=4)\n",
    "\n",
    "optuna.visualization.plot_param_importances(xgb_study)"
   ]
  },
  {
   "cell_type": "markdown",
   "metadata": {},
   "source": [
    "## LGBM"
   ]
  },
  {
   "cell_type": "code",
   "execution_count": 12,
   "metadata": {},
   "outputs": [],
   "source": [
    "params_lgbm = {\n",
    "    'boosting_type': 'gbdt',\n",
    "    'random_state': SEED\n",
    "}\n",
    "def lgbm_objective(trial):\n",
    "    params = {\n",
    "        'learning_rate': trial.suggest_float('learning_rate', 0.01, 0.3),\n",
    "        'num_leaves': trial.suggest_int('num_leaves', 20, 100),\n",
    "        'max_depth': trial.suggest_int('max_depth', 5, 20),\n",
    "        'min_child_samples': trial.suggest_int('min_child_samples', 1, 20),\n",
    "        'subsample': trial.suggest_float('subsample', 0.5, 1.0),\n",
    "        'colsample_bytree': trial.suggest_float('colsample_bytree', 0.5, 1.0),\n",
    "        'reg_alpha': trial.suggest_float('reg_alpha', 0.0, 1.0),\n",
    "        'reg_lambda': trial.suggest_float('reg_lambda', 0.0, 1.0),\n",
    "        'n_estimators': trial.suggest_int('n_estimators', 50, 300),\n",
    "        **params_lgbm\n",
    "        \n",
    "    }\n",
    "    \n",
    "    optuna_model = make_pipeline(\n",
    "        FeaturesEncoding,\n",
    "        FeatureScaler,\n",
    "        LGBMClassifier(**params)\n",
    "    )\n",
    "    \n",
    "    optuna_score = cross_val_score(optuna_model, X, y, scoring='accuracy', cv=SKF)\n",
    "    \n",
    "    return np.mean(optuna_score)"
   ]
  },
  {
   "cell_type": "code",
   "execution_count": 13,
   "metadata": {},
   "outputs": [
    {
     "name": "stderr",
     "output_type": "stream",
     "text": [
      "[I 2024-02-05 20:59:03,967] A new study created in memory with name: no-name-47709e44-0c5d-41e0-baff-c4fed6df2b49\n"
     ]
    },
    {
     "data": {
      "application/vnd.jupyter.widget-view+json": {
       "model_id": "d311197cacc742198541c6f57045679a",
       "version_major": 2,
       "version_minor": 0
      },
      "text/plain": [
       "  0%|          | 0/200 [00:00<?, ?it/s]"
      ]
     },
     "metadata": {},
     "output_type": "display_data"
    },
    {
     "name": "stdout",
     "output_type": "stream",
     "text": [
      "[I 2024-02-05 21:12:31,806] Trial 3 finished with value: 0.9038440141869847 and parameters: {'learning_rate': 0.22711624056257798, 'num_leaves': 20, 'max_depth': 7, 'min_child_samples': 20, 'subsample': 0.674238608520485, 'colsample_bytree': 0.5750167109910995, 'reg_alpha': 0.43218518900550995, 'reg_lambda': 0.8645644133452034, 'n_estimators': 197}. Best is trial 3 with value: 0.9038440141869847.\n",
      "[I 2024-02-05 21:14:22,843] Trial 0 finished with value: 0.9034587041495676 and parameters: {'learning_rate': 0.2164530696401225, 'num_leaves': 78, 'max_depth': 17, 'min_child_samples': 20, 'subsample': 0.7992785147296793, 'colsample_bytree': 0.7358468661736302, 'reg_alpha': 0.9158243941117413, 'reg_lambda': 0.2752619732005117, 'n_estimators': 77}. Best is trial 3 with value: 0.9038440141869847.\n",
      "[I 2024-02-05 21:16:21,090] Trial 8 finished with value: 0.9061564198148042 and parameters: {'learning_rate': 0.059234770356500877, 'num_leaves': 50, 'max_depth': 16, 'min_child_samples': 1, 'subsample': 0.7240165055415717, 'colsample_bytree': 0.8387498784193625, 'reg_alpha': 0.5509375104329867, 'reg_lambda': 0.061094435854168405, 'n_estimators': 104}. Best is trial 8 with value: 0.9061564198148042.\n",
      "[I 2024-02-05 21:16:30,814] Trial 9 finished with value: 0.9037476634689787 and parameters: {'learning_rate': 0.2335864063244333, 'num_leaves': 31, 'max_depth': 9, 'min_child_samples': 3, 'subsample': 0.6456214117805833, 'colsample_bytree': 0.9053888101453961, 'reg_alpha': 0.6672532338210861, 'reg_lambda': 0.7618028472919139, 'n_estimators': 205}. Best is trial 8 with value: 0.9061564198148042.\n",
      "[I 2024-02-05 21:17:06,671] Trial 5 finished with value: 0.9053857301140148 and parameters: {'learning_rate': 0.28188177159946676, 'num_leaves': 48, 'max_depth': 10, 'min_child_samples': 7, 'subsample': 0.7730124405946697, 'colsample_bytree': 0.5094108662956864, 'reg_alpha': 0.7183079528621383, 'reg_lambda': 0.33036737949505945, 'n_estimators': 128}. Best is trial 8 with value: 0.9061564198148042.\n",
      "[I 2024-02-05 21:20:06,705] Trial 6 finished with value: 0.9029286533551124 and parameters: {'learning_rate': 0.1754396545317138, 'num_leaves': 66, 'max_depth': 19, 'min_child_samples': 19, 'subsample': 0.77012556806299, 'colsample_bytree': 0.8765728308846452, 'reg_alpha': 0.0848472660614783, 'reg_lambda': 0.39120178922889726, 'n_estimators': 102}. Best is trial 8 with value: 0.9061564198148042.\n",
      "[I 2024-02-05 21:21:15,459] Trial 2 finished with value: 0.9050484155685494 and parameters: {'learning_rate': 0.14247744271111087, 'num_leaves': 27, 'max_depth': 15, 'min_child_samples': 5, 'subsample': 0.5547318274369286, 'colsample_bytree': 0.662792576375884, 'reg_alpha': 0.5519017269844031, 'reg_lambda': 0.39106643456278056, 'n_estimators': 237}. Best is trial 8 with value: 0.9061564198148042.\n",
      "[I 2024-02-05 21:21:30,070] Trial 7 finished with value: 0.9025914548529059 and parameters: {'learning_rate': 0.19984944497032017, 'num_leaves': 94, 'max_depth': 15, 'min_child_samples': 6, 'subsample': 0.7316027880294564, 'colsample_bytree': 0.9487332357182381, 'reg_alpha': 0.9370925346036731, 'reg_lambda': 0.10633215596076417, 'n_estimators': 190}. Best is trial 8 with value: 0.9061564198148042.\n",
      "[I 2024-02-05 21:24:59,435] Trial 16 finished with value: 0.9039404693439239 and parameters: {'learning_rate': 0.27899737244362677, 'num_leaves': 42, 'max_depth': 5, 'min_child_samples': 12, 'subsample': 0.5739836713812435, 'colsample_bytree': 0.8222940841243083, 'reg_alpha': 0.5963498944330502, 'reg_lambda': 0.9315668334872094, 'n_estimators': 135}. Best is trial 8 with value: 0.9061564198148042.\n",
      "[I 2024-02-05 21:27:06,573] Trial 10 finished with value: 0.9023023562815841 and parameters: {'learning_rate': 0.15706693038753558, 'num_leaves': 81, 'max_depth': 8, 'min_child_samples': 3, 'subsample': 0.87183683805704, 'colsample_bytree': 0.8353504093556006, 'reg_alpha': 0.527352573686564, 'reg_lambda': 0.38964568476401706, 'n_estimators': 173}. Best is trial 8 with value: 0.9061564198148042.\n",
      "[I 2024-02-05 21:28:37,821] Trial 1 finished with value: 0.9041812823151465 and parameters: {'learning_rate': 0.25622354009437676, 'num_leaves': 89, 'max_depth': 12, 'min_child_samples': 2, 'subsample': 0.7438073991509846, 'colsample_bytree': 0.5250489094845066, 'reg_alpha': 0.5494459564094804, 'reg_lambda': 0.4661139032080137, 'n_estimators': 189}. Best is trial 8 with value: 0.9061564198148042.\n",
      "[I 2024-02-05 21:30:17,099] Trial 11 finished with value: 0.9045666155612153 and parameters: {'learning_rate': 0.10582067617913275, 'num_leaves': 64, 'max_depth': 19, 'min_child_samples': 10, 'subsample': 0.5374900552818909, 'colsample_bytree': 0.7485089850016428, 'reg_alpha': 0.45922945834107776, 'reg_lambda': 0.8871857572862147, 'n_estimators': 158}. Best is trial 8 with value: 0.9061564198148042.\n",
      "[I 2024-02-05 21:32:58,478] Trial 18 finished with value: 0.9044220604733916 and parameters: {'learning_rate': 0.23144584303546015, 'num_leaves': 27, 'max_depth': 16, 'min_child_samples': 4, 'subsample': 0.8427561318067731, 'colsample_bytree': 0.6658743115470317, 'reg_alpha': 0.38273820905156797, 'reg_lambda': 0.7302452126476777, 'n_estimators': 125}. Best is trial 8 with value: 0.9061564198148042.\n",
      "[I 2024-02-05 21:36:31,658] Trial 21 finished with value: 0.9063972908076565 and parameters: {'learning_rate': 0.0493529826293683, 'num_leaves': 55, 'max_depth': 12, 'min_child_samples': 12, 'subsample': 0.9961373168954883, 'colsample_bytree': 0.7358613704408142, 'reg_alpha': 0.27020874568827313, 'reg_lambda': 0.07247265277353951, 'n_estimators': 56}. Best is trial 21 with value: 0.9063972908076565.\n",
      "[I 2024-02-05 21:37:49,535] Trial 22 finished with value: 0.9065417994781766 and parameters: {'learning_rate': 0.047739950262786116, 'num_leaves': 50, 'max_depth': 12, 'min_child_samples': 10, 'subsample': 0.9321206854276742, 'colsample_bytree': 0.6999927285480081, 'reg_alpha': 0.2972741358031293, 'reg_lambda': 0.027281153397174962, 'n_estimators': 58}. Best is trial 22 with value: 0.9065417994781766.\n",
      "[I 2024-02-05 21:40:25,105] Trial 17 finished with value: 0.9033140446228106 and parameters: {'learning_rate': 0.23996310075831329, 'num_leaves': 68, 'max_depth': 14, 'min_child_samples': 4, 'subsample': 0.7642478610663398, 'colsample_bytree': 0.6825264857300051, 'reg_alpha': 0.964626056320567, 'reg_lambda': 0.43359890557022196, 'n_estimators': 228}. Best is trial 22 with value: 0.9065417994781766.\n",
      "[I 2024-02-05 21:41:07,843] Trial 24 finished with value: 0.8985449103658658 and parameters: {'learning_rate': 0.015677790659141537, 'num_leaves': 48, 'max_depth': 12, 'min_child_samples': 8, 'subsample': 0.9886682249676102, 'colsample_bytree': 0.5983314750930783, 'reg_alpha': 0.7825026796688633, 'reg_lambda': 0.020632547147549918, 'n_estimators': 51}. Best is trial 22 with value: 0.9065417994781766.\n",
      "[I 2024-02-05 21:42:24,156] Trial 13 finished with value: 0.9031213547911247 and parameters: {'learning_rate': 0.16938174507606396, 'num_leaves': 47, 'max_depth': 14, 'min_child_samples': 5, 'subsample': 0.7972841380444582, 'colsample_bytree': 0.8008149213869646, 'reg_alpha': 0.14168051523794578, 'reg_lambda': 0.8540275980192482, 'n_estimators': 190}. Best is trial 22 with value: 0.9065417994781766.\n",
      "[I 2024-02-05 21:43:58,491] Trial 25 finished with value: 0.8938240617090202 and parameters: {'learning_rate': 0.012825160893862805, 'num_leaves': 51, 'max_depth': 12, 'min_child_samples': 15, 'subsample': 0.8938886593696791, 'colsample_bytree': 0.996031912976939, 'reg_alpha': 0.2298449230962454, 'reg_lambda': 0.050171228698186826, 'n_estimators': 50}. Best is trial 22 with value: 0.9065417994781766.\n",
      "[I 2024-02-05 21:44:35,086] Trial 15 finished with value: 0.9033141606660697 and parameters: {'learning_rate': 0.22705299875356463, 'num_leaves': 88, 'max_depth': 18, 'min_child_samples': 5, 'subsample': 0.9897706465623646, 'colsample_bytree': 0.6847902278628029, 'reg_alpha': 0.38044405375339074, 'reg_lambda': 0.9164590617589651, 'n_estimators': 127}. Best is trial 22 with value: 0.9065417994781766.\n",
      "[I 2024-02-05 21:45:33,083] Trial 12 finished with value: 0.9034586461279381 and parameters: {'learning_rate': 0.12818869143972692, 'num_leaves': 65, 'max_depth': 9, 'min_child_samples': 13, 'subsample': 0.8077008644635282, 'colsample_bytree': 0.690134457666093, 'reg_alpha': 0.6870685317673275, 'reg_lambda': 0.7552234813087548, 'n_estimators': 215}. Best is trial 22 with value: 0.9065417994781766.\n",
      "[I 2024-02-05 21:46:17,607] Trial 23 finished with value: 0.9082280240757271 and parameters: {'learning_rate': 0.04618363316125143, 'num_leaves': 43, 'max_depth': 11, 'min_child_samples': 9, 'subsample': 0.9963621244853804, 'colsample_bytree': 0.6509937946294905, 'reg_alpha': 0.7797531470782709, 'reg_lambda': 0.008640786690686623, 'n_estimators': 114}. Best is trial 23 with value: 0.9082280240757271.\n",
      "[I 2024-02-05 21:47:28,974] Trial 26 finished with value: 0.9007127725101874 and parameters: {'learning_rate': 0.014850336234729575, 'num_leaves': 55, 'max_depth': 12, 'min_child_samples': 14, 'subsample': 0.9990013800973268, 'colsample_bytree': 0.6569414311154218, 'reg_alpha': 0.2223658220938693, 'reg_lambda': 0.1843997543364758, 'n_estimators': 56}. Best is trial 23 with value: 0.9082280240757271.\n",
      "[I 2024-02-05 21:47:36,695] Trial 20 finished with value: 0.9036514636072093 and parameters: {'learning_rate': 0.12414298436501868, 'num_leaves': 47, 'max_depth': 15, 'min_child_samples': 8, 'subsample': 0.5042890238401552, 'colsample_bytree': 0.8680367545992225, 'reg_alpha': 0.7658209564303209, 'reg_lambda': 0.9653617188449185, 'n_estimators': 161}. Best is trial 23 with value: 0.9082280240757271.\n",
      "[I 2024-02-05 21:48:04,426] Trial 4 finished with value: 0.9052893329787052 and parameters: {'learning_rate': 0.02798257518503738, 'num_leaves': 82, 'max_depth': 13, 'min_child_samples': 11, 'subsample': 0.890016681566612, 'colsample_bytree': 0.8418093733521387, 'reg_alpha': 0.736157311408111, 'reg_lambda': 0.05855278738300418, 'n_estimators': 209}. Best is trial 23 with value: 0.9082280240757271.\n",
      "[I 2024-02-05 21:49:28,871] Trial 27 finished with value: 0.9005683798829264 and parameters: {'learning_rate': 0.017657944575734254, 'num_leaves': 53, 'max_depth': 12, 'min_child_samples': 14, 'subsample': 0.9997153579983495, 'colsample_bytree': 0.6201300429498906, 'reg_alpha': 0.22887598598760414, 'reg_lambda': 0.1506964484839315, 'n_estimators': 52}. Best is trial 23 with value: 0.9082280240757271.\n",
      "[I 2024-02-05 21:50:00,483] Trial 28 finished with value: 0.9066381850091604 and parameters: {'learning_rate': 0.07379760110860363, 'num_leaves': 54, 'max_depth': 11, 'min_child_samples': 14, 'subsample': 0.9921085635479366, 'colsample_bytree': 0.7805697077817633, 'reg_alpha': 0.2545508937174131, 'reg_lambda': 0.18311310406294257, 'n_estimators': 56}. Best is trial 23 with value: 0.9082280240757271.\n",
      "[I 2024-02-05 21:58:09,180] Trial 35 finished with value: 0.9087578775966421 and parameters: {'learning_rate': 0.0634389190503343, 'num_leaves': 39, 'max_depth': 10, 'min_child_samples': 10, 'subsample': 0.9406535946025496, 'colsample_bytree': 0.6161651982467576, 'reg_alpha': 0.015980136802912215, 'reg_lambda': 0.15828428356353944, 'n_estimators': 82}. Best is trial 35 with value: 0.9087578775966421.\n",
      "[I 2024-02-05 21:58:26,724] Trial 32 finished with value: 0.9072162777128708 and parameters: {'learning_rate': 0.06658786447003046, 'num_leaves': 55, 'max_depth': 11, 'min_child_samples': 16, 'subsample': 0.932978293641345, 'colsample_bytree': 0.7646672715567084, 'reg_alpha': 0.24781970223687041, 'reg_lambda': 0.17582573573659144, 'n_estimators': 83}. Best is trial 35 with value: 0.9087578775966421.\n",
      "[I 2024-02-05 21:59:34,754] Trial 14 finished with value: 0.9073607863833912 and parameters: {'learning_rate': 0.024530170269649716, 'num_leaves': 91, 'max_depth': 16, 'min_child_samples': 4, 'subsample': 0.9006217257607763, 'colsample_bytree': 0.7403096579911774, 'reg_alpha': 0.7286372459638889, 'reg_lambda': 0.674931647194077, 'n_estimators': 163}. Best is trial 35 with value: 0.9087578775966421.\n",
      "[I 2024-02-05 22:07:02,608] Trial 41 finished with value: 0.9076979964899236 and parameters: {'learning_rate': 0.08583287153031348, 'num_leaves': 39, 'max_depth': 6, 'min_child_samples': 9, 'subsample': 0.9451361193832026, 'colsample_bytree': 0.5696314632713301, 'reg_alpha': 0.8570366893926333, 'reg_lambda': 0.5756400158960392, 'n_estimators': 87}. Best is trial 35 with value: 0.9087578775966421.\n",
      "[I 2024-02-05 22:07:16,671] Trial 19 finished with value: 0.9026878635925414 and parameters: {'learning_rate': 0.11879319702142162, 'num_leaves': 82, 'max_depth': 8, 'min_child_samples': 9, 'subsample': 0.934729115607126, 'colsample_bytree': 0.6435514652148873, 'reg_alpha': 0.18361228194696189, 'reg_lambda': 0.15659591891374736, 'n_estimators': 274}. Best is trial 35 with value: 0.9087578775966421.\n",
      "[I 2024-02-05 22:08:01,783] Trial 39 finished with value: 0.9072644704783629 and parameters: {'learning_rate': 0.0851895807755907, 'num_leaves': 38, 'max_depth': 10, 'min_child_samples': 16, 'subsample': 0.9367519100242947, 'colsample_bytree': 0.7792980640073877, 'reg_alpha': 0.0183888517569118, 'reg_lambda': 0.5474546191397807, 'n_estimators': 89}. Best is trial 35 with value: 0.9087578775966421.\n",
      "[I 2024-02-05 22:12:00,136] Trial 43 finished with value: 0.907698042907227 and parameters: {'learning_rate': 0.09687778314776166, 'num_leaves': 34, 'max_depth': 5, 'min_child_samples': 7, 'subsample': 0.9553905222791076, 'colsample_bytree': 0.551033920799989, 'reg_alpha': 0.8537922093293875, 'reg_lambda': 0.5292341520855723, 'n_estimators': 84}. Best is trial 35 with value: 0.9087578775966421.\n",
      "[I 2024-02-05 22:14:13,302] Trial 44 finished with value: 0.9085651877649559 and parameters: {'learning_rate': 0.09270826376227534, 'num_leaves': 37, 'max_depth': 5, 'min_child_samples': 8, 'subsample': 0.959730959922167, 'colsample_bytree': 0.5526243497077961, 'reg_alpha': 0.8570781474541671, 'reg_lambda': 0.5671881172465799, 'n_estimators': 109}. Best is trial 35 with value: 0.9087578775966421.\n",
      "[I 2024-02-05 22:17:55,019] Trial 45 finished with value: 0.9084206674901096 and parameters: {'learning_rate': 0.09534799942763533, 'num_leaves': 36, 'max_depth': 5, 'min_child_samples': 8, 'subsample': 0.9544236904396535, 'colsample_bytree': 0.5497510702528363, 'reg_alpha': 0.8654216865945015, 'reg_lambda': 0.5415669988272541, 'n_estimators': 105}. Best is trial 35 with value: 0.9087578775966421.\n",
      "[I 2024-02-05 22:18:42,550] Trial 38 finished with value: 0.9049520416418915 and parameters: {'learning_rate': 0.08301292579696715, 'num_leaves': 38, 'max_depth': 10, 'min_child_samples': 16, 'subsample': 0.9478728580640085, 'colsample_bytree': 0.7816199689569572, 'reg_alpha': 0.339012317643664, 'reg_lambda': 0.5841312584187639, 'n_estimators': 268}. Best is trial 35 with value: 0.9087578775966421.\n",
      "[I 2024-02-05 22:19:10,108] Trial 33 finished with value: 0.9070235066509034 and parameters: {'learning_rate': 0.0659706405356041, 'num_leaves': 37, 'max_depth': 11, 'min_child_samples': 9, 'subsample': 0.9187879630574562, 'colsample_bytree': 0.5996721812056585, 'reg_alpha': 0.23833314233897374, 'reg_lambda': 0.18756737224609535, 'n_estimators': 273}. Best is trial 35 with value: 0.9087578775966421.\n",
      "[I 2024-02-05 22:20:09,786] Trial 46 finished with value: 0.907649757307128 and parameters: {'learning_rate': 0.09922369738600231, 'num_leaves': 33, 'max_depth': 5, 'min_child_samples': 7, 'subsample': 0.958254672830114, 'colsample_bytree': 0.5444702218263692, 'reg_alpha': 0.8579433250752627, 'reg_lambda': 0.27016605356109263, 'n_estimators': 104}. Best is trial 35 with value: 0.9087578775966421.\n",
      "[I 2024-02-05 22:22:02,434] Trial 42 finished with value: 0.9084688834642533 and parameters: {'learning_rate': 0.09240124652084258, 'num_leaves': 42, 'max_depth': 5, 'min_child_samples': 9, 'subsample': 0.9435481330664678, 'colsample_bytree': 0.576902550511782, 'reg_alpha': 0.8343706796830184, 'reg_lambda': 0.5863843797932844, 'n_estimators': 261}. Best is trial 35 with value: 0.9087578775966421.\n",
      "[I 2024-02-05 22:22:35,956] Trial 37 finished with value: 0.9044702764475353 and parameters: {'learning_rate': 0.069546697946935, 'num_leaves': 39, 'max_depth': 10, 'min_child_samples': 10, 'subsample': 0.9346512338951348, 'colsample_bytree': 0.7807597414512751, 'reg_alpha': 0.28778619712287684, 'reg_lambda': 0.19347881095645253, 'n_estimators': 293}. Best is trial 35 with value: 0.9087578775966421.\n",
      "[I 2024-02-05 22:22:55,120] Trial 40 finished with value: 0.9052409777526507 and parameters: {'learning_rate': 0.0930564234286077, 'num_leaves': 41, 'max_depth': 6, 'min_child_samples': 16, 'subsample': 0.9362222530737283, 'colsample_bytree': 0.5618740300416838, 'reg_alpha': 0.06683644875535663, 'reg_lambda': 0.2548201109637448, 'n_estimators': 268}. Best is trial 35 with value: 0.9087578775966421.\n",
      "[I 2024-02-05 22:24:24,350] Trial 36 finished with value: 0.9057709705254764 and parameters: {'learning_rate': 0.06747284557226567, 'num_leaves': 40, 'max_depth': 10, 'min_child_samples': 17, 'subsample': 0.9360945343078756, 'colsample_bytree': 0.6132802135882666, 'reg_alpha': 0.2815983051940726, 'reg_lambda': 0.1809719073811576, 'n_estimators': 295}. Best is trial 35 with value: 0.9087578775966421.\n",
      "[I 2024-02-05 22:25:11,494] Trial 47 finished with value: 0.9067344544968851 and parameters: {'learning_rate': 0.039167439295972634, 'num_leaves': 24, 'max_depth': 6, 'min_child_samples': 11, 'subsample': 0.8520896876353555, 'colsample_bytree': 0.5420999877266641, 'reg_alpha': 0.8719775569414482, 'reg_lambda': 0.6458979691405323, 'n_estimators': 110}. Best is trial 35 with value: 0.9087578775966421.\n",
      "[I 2024-02-05 22:25:58,853] Trial 49 finished with value: 0.906638126987531 and parameters: {'learning_rate': 0.044012200476642636, 'num_leaves': 22, 'max_depth': 6, 'min_child_samples': 11, 'subsample': 0.8564640094700311, 'colsample_bytree': 0.533321375322361, 'reg_alpha': 0.8600354919206288, 'reg_lambda': 0.26556734608658933, 'n_estimators': 110}. Best is trial 35 with value: 0.9087578775966421.\n",
      "[I 2024-02-05 22:26:14,855] Trial 48 finished with value: 0.9070235530682069 and parameters: {'learning_rate': 0.03978246870607577, 'num_leaves': 22, 'max_depth': 6, 'min_child_samples': 11, 'subsample': 0.8494420607538435, 'colsample_bytree': 0.500127812713367, 'reg_alpha': 0.8654241828255098, 'reg_lambda': 0.23582041034656587, 'n_estimators': 118}. Best is trial 35 with value: 0.9087578775966421.\n",
      "[I 2024-02-05 22:29:14,718] Trial 50 finished with value: 0.9084206790944356 and parameters: {'learning_rate': 0.1460296383902161, 'num_leaves': 20, 'max_depth': 7, 'min_child_samples': 11, 'subsample': 0.8571726194486777, 'colsample_bytree': 0.5036891048551774, 'reg_alpha': 0.9889350023918762, 'reg_lambda': 0.27690441992937387, 'n_estimators': 141}. Best is trial 35 with value: 0.9087578775966421.\n",
      "[I 2024-02-05 22:29:49,709] Trial 30 finished with value: 0.9036994707034868 and parameters: {'learning_rate': 0.07343326926861557, 'num_leaves': 58, 'max_depth': 10, 'min_child_samples': 14, 'subsample': 0.9853862386832373, 'colsample_bytree': 0.7104066604125875, 'reg_alpha': 0.29447607173750695, 'reg_lambda': 0.20771335205806496, 'n_estimators': 300}. Best is trial 35 with value: 0.9087578775966421.\n",
      "[I 2024-02-05 22:30:38,083] Trial 29 finished with value: 0.9076015877502879 and parameters: {'learning_rate': 0.013446323253480635, 'num_leaves': 57, 'max_depth': 11, 'min_child_samples': 14, 'subsample': 0.997529386306003, 'colsample_bytree': 0.7004511364460311, 'reg_alpha': 0.24902444776381902, 'reg_lambda': 0.19093654105477753, 'n_estimators': 297}. Best is trial 35 with value: 0.9087578775966421.\n",
      "[I 2024-02-05 22:30:50,893] Trial 52 finished with value: 0.9062045777673186 and parameters: {'learning_rate': 0.03871823730419188, 'num_leaves': 26, 'max_depth': 6, 'min_child_samples': 11, 'subsample': 0.8673581981501153, 'colsample_bytree': 0.5053190953739314, 'reg_alpha': 0.9950025242419058, 'reg_lambda': 0.6736256824753919, 'n_estimators': 116}. Best is trial 35 with value: 0.9087578775966421.\n",
      "[I 2024-02-05 22:31:42,619] Trial 54 finished with value: 0.9067826008450733 and parameters: {'learning_rate': 0.03915384541830593, 'num_leaves': 20, 'max_depth': 7, 'min_child_samples': 11, 'subsample': 0.8503351376005841, 'colsample_bytree': 0.5052812076194824, 'reg_alpha': 0.912122269912455, 'reg_lambda': 0.6310820793537237, 'n_estimators': 113}. Best is trial 35 with value: 0.9087578775966421.\n",
      "[I 2024-02-05 22:31:55,274] Trial 51 finished with value: 0.9079870950612452 and parameters: {'learning_rate': 0.1377246588783691, 'num_leaves': 22, 'max_depth': 7, 'min_child_samples': 11, 'subsample': 0.8621536024331494, 'colsample_bytree': 0.5019644773604062, 'reg_alpha': 0.986502775052582, 'reg_lambda': 0.6370774351147729, 'n_estimators': 141}. Best is trial 35 with value: 0.9087578775966421.\n",
      "[I 2024-02-05 22:31:56,106] Trial 31 finished with value: 0.9046629430705696 and parameters: {'learning_rate': 0.0689769361624124, 'num_leaves': 58, 'max_depth': 10, 'min_child_samples': 14, 'subsample': 0.9348212287247797, 'colsample_bytree': 0.6040088381381616, 'reg_alpha': 0.2722277715100291, 'reg_lambda': 0.1811260584262897, 'n_estimators': 285}. Best is trial 35 with value: 0.9087578775966421.\n",
      "[I 2024-02-05 22:32:10,901] Trial 57 finished with value: 0.9070237387374215 and parameters: {'learning_rate': 0.2005433610057313, 'num_leaves': 28, 'max_depth': 7, 'min_child_samples': 6, 'subsample': 0.9701727526936835, 'colsample_bytree': 0.5869045286051118, 'reg_alpha': 0.7965873740182408, 'reg_lambda': 0.46366960801783014, 'n_estimators': 73}. Best is trial 35 with value: 0.9087578775966421.\n",
      "[I 2024-02-05 22:32:20,882] Trial 56 finished with value: 0.9098176658687531 and parameters: {'learning_rate': 0.14765229895853133, 'num_leaves': 29, 'max_depth': 7, 'min_child_samples': 8, 'subsample': 0.9679112186982098, 'colsample_bytree': 0.5011916803410469, 'reg_alpha': 0.9911207013937392, 'reg_lambda': 0.4798202711955602, 'n_estimators': 73}. Best is trial 56 with value: 0.9098176658687531.\n",
      "[I 2024-02-05 22:32:51,784] Trial 53 finished with value: 0.9079870022266381 and parameters: {'learning_rate': 0.03693210630239143, 'num_leaves': 22, 'max_depth': 7, 'min_child_samples': 11, 'subsample': 0.8588598373116728, 'colsample_bytree': 0.5015071423212332, 'reg_alpha': 0.9183611007478578, 'reg_lambda': 0.6384035686310866, 'n_estimators': 142}. Best is trial 56 with value: 0.9098176658687531.\n",
      "[I 2024-02-05 22:34:13,112] Trial 55 finished with value: 0.9086134385520772 and parameters: {'learning_rate': 0.1380606378657731, 'num_leaves': 20, 'max_depth': 7, 'min_child_samples': 8, 'subsample': 0.9680050904987382, 'colsample_bytree': 0.5024025641507528, 'reg_alpha': 0.9863392707238334, 'reg_lambda': 0.48044832556955885, 'n_estimators': 139}. Best is trial 56 with value: 0.9098176658687531.\n",
      "[I 2024-02-05 22:36:42,723] Trial 34 finished with value: 0.9060601271184276 and parameters: {'learning_rate': 0.06505730747472784, 'num_leaves': 58, 'max_depth': 10, 'min_child_samples': 10, 'subsample': 0.9400169993320804, 'colsample_bytree': 0.6142524206658758, 'reg_alpha': 0.28804175859810444, 'reg_lambda': 0.16736764967344955, 'n_estimators': 296}. Best is trial 56 with value: 0.9098176658687531.\n",
      "[I 2024-02-05 22:39:03,929] Trial 66 finished with value: 0.9075534530064256 and parameters: {'learning_rate': 0.15626741493208726, 'num_leaves': 30, 'max_depth': 8, 'min_child_samples': 8, 'subsample': 0.9109696753880379, 'colsample_bytree': 0.5235115930867551, 'reg_alpha': 0.9353148040532917, 'reg_lambda': 0.3281465934485814, 'n_estimators': 70}. Best is trial 56 with value: 0.9098176658687531.\n",
      "[I 2024-02-05 22:39:35,990] Trial 67 finished with value: 0.908757865992316 and parameters: {'learning_rate': 0.15630492536158977, 'num_leaves': 31, 'max_depth': 8, 'min_child_samples': 8, 'subsample': 0.9040432719268426, 'colsample_bytree': 0.524642224476678, 'reg_alpha': 0.9379115679235746, 'reg_lambda': 0.3214290660988586, 'n_estimators': 69}. Best is trial 56 with value: 0.9098176658687531.\n",
      "[I 2024-02-05 22:40:30,804] Trial 63 finished with value: 0.9089024907060954 and parameters: {'learning_rate': 0.1151592023456637, 'num_leaves': 44, 'max_depth': 8, 'min_child_samples': 8, 'subsample': 0.9705030977402342, 'colsample_bytree': 0.5826790591189588, 'reg_alpha': 0.8040785207976006, 'reg_lambda': 0.3265485110280282, 'n_estimators': 70}. Best is trial 56 with value: 0.9098176658687531.\n",
      "[I 2024-02-05 22:40:59,979] Trial 59 finished with value: 0.906590061869624 and parameters: {'learning_rate': 0.19110460696958023, 'num_leaves': 28, 'max_depth': 7, 'min_child_samples': 6, 'subsample': 0.9032439049666539, 'colsample_bytree': 0.5196590890499218, 'reg_alpha': 0.9952554531019899, 'reg_lambda': 0.3277094060167405, 'n_estimators': 137}. Best is trial 56 with value: 0.9098176658687531.\n",
      "[I 2024-02-05 22:41:19,654] Trial 58 finished with value: 0.9071682706165936 and parameters: {'learning_rate': 0.14321059709857725, 'num_leaves': 29, 'max_depth': 7, 'min_child_samples': 6, 'subsample': 0.9037035009877699, 'colsample_bytree': 0.5261799287404179, 'reg_alpha': 0.9948685238119263, 'reg_lambda': 0.33139583231644854, 'n_estimators': 143}. Best is trial 56 with value: 0.9098176658687531.\n",
      "[I 2024-02-05 22:42:15,482] Trial 61 finished with value: 0.9083725791635509 and parameters: {'learning_rate': 0.14446608856840276, 'num_leaves': 28, 'max_depth': 7, 'min_child_samples': 6, 'subsample': 0.8260060920057803, 'colsample_bytree': 0.58210453816441, 'reg_alpha': 0.9099138842278858, 'reg_lambda': 0.4733379418109174, 'n_estimators': 142}. Best is trial 56 with value: 0.9098176658687531.\n",
      "[I 2024-02-05 22:43:19,258] Trial 60 finished with value: 0.9070237271330956 and parameters: {'learning_rate': 0.14752101954850283, 'num_leaves': 29, 'max_depth': 7, 'min_child_samples': 6, 'subsample': 0.9074938681805836, 'colsample_bytree': 0.526222619290603, 'reg_alpha': 0.9859961604594858, 'reg_lambda': 0.33351095499954786, 'n_estimators': 151}. Best is trial 56 with value: 0.9098176658687531.\n",
      "[I 2024-02-05 22:43:24,086] Trial 69 finished with value: 0.90861334571747 and parameters: {'learning_rate': 0.15437113148904602, 'num_leaves': 30, 'max_depth': 8, 'min_child_samples': 6, 'subsample': 0.9082651428605897, 'colsample_bytree': 0.5227987824523369, 'reg_alpha': 0.9487012307078331, 'reg_lambda': 0.33105611676063473, 'n_estimators': 70}. Best is trial 56 with value: 0.9098176658687531.\n",
      "[I 2024-02-05 22:43:48,813] Trial 65 finished with value: 0.9073126748481805 and parameters: {'learning_rate': 0.11620490092305952, 'num_leaves': 44, 'max_depth': 8, 'min_child_samples': 8, 'subsample': 0.9110861773956177, 'colsample_bytree': 0.6253414329982708, 'reg_alpha': 0.6315984098682943, 'reg_lambda': 0.3619310645739783, 'n_estimators': 98}. Best is trial 56 with value: 0.9098176658687531.\n",
      "[I 2024-02-05 22:44:35,318] Trial 64 finished with value: 0.905867263221853 and parameters: {'learning_rate': 0.19548168823527784, 'num_leaves': 30, 'max_depth': 8, 'min_child_samples': 6, 'subsample': 0.9661485145488842, 'colsample_bytree': 0.5842576354188389, 'reg_alpha': 0.8094584942871645, 'reg_lambda': 0.3414824196609738, 'n_estimators': 148}. Best is trial 56 with value: 0.9098176658687531.\n",
      "[I 2024-02-05 22:47:06,737] Trial 62 finished with value: 0.9056265662938893 and parameters: {'learning_rate': 0.1375350574374422, 'num_leaves': 44, 'max_depth': 7, 'min_child_samples': 8, 'subsample': 0.9687674942909875, 'colsample_bytree': 0.585538990030672, 'reg_alpha': 0.6261525826605543, 'reg_lambda': 0.4411819789876999, 'n_estimators': 140}. Best is trial 56 with value: 0.9098176658687531.\n",
      "[I 2024-02-05 22:49:01,105] Trial 75 finished with value: 0.9081797616842797 and parameters: {'learning_rate': 0.11230324527482302, 'num_leaves': 31, 'max_depth': 8, 'min_child_samples': 7, 'subsample': 0.9674945021344581, 'colsample_bytree': 0.5738312035644458, 'reg_alpha': 0.5968198563942197, 'reg_lambda': 0.4137992387217123, 'n_estimators': 69}. Best is trial 56 with value: 0.9098176658687531.\n",
      "[I 2024-02-05 22:49:17,560] Trial 72 finished with value: 0.9069754067200186 and parameters: {'learning_rate': 0.17276202416087993, 'num_leaves': 44, 'max_depth': 9, 'min_child_samples': 6, 'subsample': 0.9669510810978216, 'colsample_bytree': 0.5758529534174187, 'reg_alpha': 0.6752103530911786, 'reg_lambda': 0.41102828702774546, 'n_estimators': 66}. Best is trial 56 with value: 0.9098176658687531.\n",
      "[I 2024-02-05 22:50:14,035] Trial 68 finished with value: 0.9073125820135732 and parameters: {'learning_rate': 0.1559737510077678, 'num_leaves': 30, 'max_depth': 8, 'min_child_samples': 6, 'subsample': 0.9077306246982588, 'colsample_bytree': 0.5202837993938207, 'reg_alpha': 0.9405837967274386, 'reg_lambda': 0.33882634143900625, 'n_estimators': 177}. Best is trial 56 with value: 0.9098176658687531.\n",
      "[I 2024-02-05 22:50:57,456] Trial 78 finished with value: 0.9064938271948769 and parameters: {'learning_rate': 0.17576865426544724, 'num_leaves': 33, 'max_depth': 9, 'min_child_samples': 7, 'subsample': 0.8849409321457945, 'colsample_bytree': 0.5600288945551476, 'reg_alpha': 0.47898259669128823, 'reg_lambda': 0.42861437558871324, 'n_estimators': 66}. Best is trial 56 with value: 0.9098176658687531.\n",
      "[I 2024-02-05 22:51:43,091] Trial 77 finished with value: 0.9069271559328973 and parameters: {'learning_rate': 0.17018858046562796, 'num_leaves': 45, 'max_depth': 9, 'min_child_samples': 7, 'subsample': 0.9757772123718502, 'colsample_bytree': 0.6385466291859566, 'reg_alpha': 0.5945907215844922, 'reg_lambda': 0.41003770732263106, 'n_estimators': 64}. Best is trial 56 with value: 0.9098176658687531.\n",
      "[I 2024-02-05 22:51:46,560] Trial 76 finished with value: 0.9078425631820732 and parameters: {'learning_rate': 0.11438637356866536, 'num_leaves': 44, 'max_depth': 9, 'min_child_samples': 7, 'subsample': 0.9726320300758975, 'colsample_bytree': 0.6298698138592789, 'reg_alpha': 0.6303325278392914, 'reg_lambda': 0.38066878216514194, 'n_estimators': 66}. Best is trial 56 with value: 0.9098176658687531.\n",
      "[I 2024-02-05 22:53:03,030] Trial 73 finished with value: 0.9083242703548 and parameters: {'learning_rate': 0.10948567199704974, 'num_leaves': 45, 'max_depth': 8, 'min_child_samples': 6, 'subsample': 0.9680901900556503, 'colsample_bytree': 0.5755052732343345, 'reg_alpha': 0.6492778127238921, 'reg_lambda': 0.4188334212748223, 'n_estimators': 95}. Best is trial 56 with value: 0.9098176658687531.\n",
      "[I 2024-02-05 22:53:20,692] Trial 70 finished with value: 0.9053856488837335 and parameters: {'learning_rate': 0.17149209822028508, 'num_leaves': 31, 'max_depth': 8, 'min_child_samples': 6, 'subsample': 0.8139407524973608, 'colsample_bytree': 0.5269484721469435, 'reg_alpha': 0.6679377196063124, 'reg_lambda': 0.314342553817132, 'n_estimators': 152}. Best is trial 56 with value: 0.9098176658687531.\n",
      "[I 2024-02-05 22:53:47,890] Trial 74 finished with value: 0.9069272835804822 and parameters: {'learning_rate': 0.11095099676982309, 'num_leaves': 43, 'max_depth': 9, 'min_child_samples': 7, 'subsample': 0.8805685984639667, 'colsample_bytree': 0.5788350829421113, 'reg_alpha': 0.8166623897617148, 'reg_lambda': 0.4139227681534038, 'n_estimators': 96}. Best is trial 56 with value: 0.9098176658687531.\n",
      "[I 2024-02-05 22:54:01,425] Trial 80 finished with value: 0.9075535342367068 and parameters: {'learning_rate': 0.17099826938190998, 'num_leaves': 32, 'max_depth': 9, 'min_child_samples': 5, 'subsample': 0.8803904917507676, 'colsample_bytree': 0.5652291437919983, 'reg_alpha': 0.9359550832342315, 'reg_lambda': 0.39051372610036256, 'n_estimators': 66}. Best is trial 56 with value: 0.9098176658687531.\n",
      "[I 2024-02-05 22:56:29,228] Trial 81 finished with value: 0.906734616957448 and parameters: {'learning_rate': 0.16473948602019484, 'num_leaves': 35, 'max_depth': 9, 'min_child_samples': 7, 'subsample': 0.8839815481412118, 'colsample_bytree': 0.560035206239273, 'reg_alpha': 0.4773722330575281, 'reg_lambda': 0.4974025566692514, 'n_estimators': 65}. Best is trial 56 with value: 0.9098176658687531.\n",
      "[I 2024-02-05 22:57:22,494] Trial 86 finished with value: 0.908661526878636 and parameters: {'learning_rate': 0.12605493100766296, 'num_leaves': 34, 'max_depth': 5, 'min_child_samples': 9, 'subsample': 0.8760265457259234, 'colsample_bytree': 0.5387637937014179, 'reg_alpha': 0.8203552553624982, 'reg_lambda': 0.13102386225369722, 'n_estimators': 96}. Best is trial 56 with value: 0.9098176658687531.\n",
      "[I 2024-02-05 22:57:24,608] Trial 87 finished with value: 0.9089505442196764 and parameters: {'learning_rate': 0.12968156315636667, 'num_leaves': 35, 'max_depth': 5, 'min_child_samples': 9, 'subsample': 0.6716466175357254, 'colsample_bytree': 0.5340911105804103, 'reg_alpha': 0.8238019386577127, 'reg_lambda': 0.5060829208923951, 'n_estimators': 77}. Best is trial 56 with value: 0.9098176658687531.\n",
      "[I 2024-02-05 22:57:27,698] Trial 82 finished with value: 0.9070237155287696 and parameters: {'learning_rate': 0.16480444088539525, 'num_leaves': 25, 'max_depth': 9, 'min_child_samples': 9, 'subsample': 0.8897860420337463, 'colsample_bytree': 0.555979089411714, 'reg_alpha': 0.9542251468023647, 'reg_lambda': 0.4966750027743439, 'n_estimators': 97}. Best is trial 56 with value: 0.9098176658687531.\n",
      "[I 2024-02-05 22:57:36,957] Trial 79 finished with value: 0.9073607399660875 and parameters: {'learning_rate': 0.16680921096862697, 'num_leaves': 100, 'max_depth': 9, 'min_child_samples': 7, 'subsample': 0.703981949845975, 'colsample_bytree': 0.5540652679759416, 'reg_alpha': 0.9404379066211128, 'reg_lambda': 0.4096468211185279, 'n_estimators': 63}. Best is trial 56 with value: 0.9098176658687531.\n",
      "[I 2024-02-05 22:57:41,568] Trial 88 finished with value: 0.9074571022884195 and parameters: {'learning_rate': 0.123219021175609, 'num_leaves': 35, 'max_depth': 5, 'min_child_samples': 9, 'subsample': 0.693976973591198, 'colsample_bytree': 0.5394514122793607, 'reg_alpha': 0.8229334421056378, 'reg_lambda': 0.5010759074869345, 'n_estimators': 77}. Best is trial 56 with value: 0.9098176658687531.\n",
      "[I 2024-02-05 22:58:14,300] Trial 89 finished with value: 0.9081796920583244 and parameters: {'learning_rate': 0.13119291567218652, 'num_leaves': 35, 'max_depth': 5, 'min_child_samples': 9, 'subsample': 0.9219428841754037, 'colsample_bytree': 0.5429507799920765, 'reg_alpha': 0.7419937841032928, 'reg_lambda': 0.10541877554877346, 'n_estimators': 77}. Best is trial 56 with value: 0.9098176658687531.\n",
      "[I 2024-02-05 22:58:34,128] Trial 90 finished with value: 0.9098658122169414 and parameters: {'learning_rate': 0.12402001799992794, 'num_leaves': 35, 'max_depth': 5, 'min_child_samples': 9, 'subsample': 0.9219640352241889, 'colsample_bytree': 0.5369926543328536, 'reg_alpha': 0.7336972991740668, 'reg_lambda': 0.13804415216844565, 'n_estimators': 78}. Best is trial 90 with value: 0.9098658122169414.\n",
      "[I 2024-02-05 23:00:36,901] Trial 84 finished with value: 0.9073608328006948 and parameters: {'learning_rate': 0.12800622144924703, 'num_leaves': 35, 'max_depth': 9, 'min_child_samples': 9, 'subsample': 0.8881550923749779, 'colsample_bytree': 0.6381534766914081, 'reg_alpha': 0.8189936359825137, 'reg_lambda': 0.4997208208265447, 'n_estimators': 93}. Best is trial 90 with value: 0.9098658122169414.\n",
      "[I 2024-02-05 23:00:47,484] Trial 83 finished with value: 0.9084206326771319 and parameters: {'learning_rate': 0.10842316447427175, 'num_leaves': 35, 'max_depth': 9, 'min_child_samples': 9, 'subsample': 0.979501120342019, 'colsample_bytree': 0.5646019489887596, 'reg_alpha': 0.9571724923321144, 'reg_lambda': 0.4841462010574594, 'n_estimators': 95}. Best is trial 90 with value: 0.9098658122169414.\n",
      "[I 2024-02-05 23:01:01,021] Trial 91 finished with value: 0.9082279428454457 and parameters: {'learning_rate': 0.12979090932806814, 'num_leaves': 69, 'max_depth': 5, 'min_child_samples': 9, 'subsample': 0.9264706666611672, 'colsample_bytree': 0.5395883702219006, 'reg_alpha': 0.894053503584552, 'reg_lambda': 0.574988639081762, 'n_estimators': 80}. Best is trial 90 with value: 0.9098658122169414.\n",
      "[I 2024-02-05 23:01:43,598] Trial 92 finished with value: 0.9079388906914275 and parameters: {'learning_rate': 0.12684441583491993, 'num_leaves': 25, 'max_depth': 5, 'min_child_samples': 9, 'subsample': 0.6834397120756333, 'colsample_bytree': 0.5428794617243369, 'reg_alpha': 0.7327546531391378, 'reg_lambda': 0.13493497373793592, 'n_estimators': 78}. Best is trial 90 with value: 0.9098658122169414.\n",
      "[I 2024-02-05 23:01:51,473] Trial 93 finished with value: 0.908516994999464 and parameters: {'learning_rate': 0.13375318349720577, 'num_leaves': 36, 'max_depth': 5, 'min_child_samples': 9, 'subsample': 0.6937978060232675, 'colsample_bytree': 0.5417282319199791, 'reg_alpha': 0.7545031061655221, 'reg_lambda': 0.11092394159885138, 'n_estimators': 78}. Best is trial 90 with value: 0.9098658122169414.\n",
      "[I 2024-02-05 23:02:08,034] Trial 94 finished with value: 0.9081797616842797 and parameters: {'learning_rate': 0.12699374579089412, 'num_leaves': 36, 'max_depth': 5, 'min_child_samples': 10, 'subsample': 0.6935669434960119, 'colsample_bytree': 0.537238808457281, 'reg_alpha': 0.7177064246265757, 'reg_lambda': 0.10404331782781086, 'n_estimators': 81}. Best is trial 90 with value: 0.9098658122169414.\n",
      "[I 2024-02-05 23:02:16,429] Trial 85 finished with value: 0.9077944864598404 and parameters: {'learning_rate': 0.12331344504980744, 'num_leaves': 35, 'max_depth': 9, 'min_child_samples': 9, 'subsample': 0.6314780818621615, 'colsample_bytree': 0.5580615763833517, 'reg_alpha': 0.8219805500837774, 'reg_lambda': 0.12471844897924109, 'n_estimators': 95}. Best is trial 90 with value: 0.9098658122169414.\n",
      "[I 2024-02-05 23:02:41,326] Trial 71 finished with value: 0.906686308148697 and parameters: {'learning_rate': 0.11429140357793176, 'num_leaves': 44, 'max_depth': 8, 'min_child_samples': 6, 'subsample': 0.9710172612324033, 'colsample_bytree': 0.5231170151833634, 'reg_alpha': 0.5840624944361834, 'reg_lambda': 0.37441233678895774, 'n_estimators': 181}. Best is trial 90 with value: 0.9098658122169414.\n",
      "[I 2024-02-05 23:03:12,081] Trial 96 finished with value: 0.9092396311866724 and parameters: {'learning_rate': 0.13073711692495707, 'num_leaves': 25, 'max_depth': 6, 'min_child_samples': 10, 'subsample': 0.7480354592050863, 'colsample_bytree': 0.5151685442141771, 'reg_alpha': 0.7531217500935841, 'reg_lambda': 0.10433675081529252, 'n_estimators': 78}. Best is trial 90 with value: 0.9098658122169414.\n",
      "[I 2024-02-05 23:04:00,626] Trial 98 finished with value: 0.9100584440269982 and parameters: {'learning_rate': 0.12990703433975737, 'num_leaves': 24, 'max_depth': 6, 'min_child_samples': 12, 'subsample': 0.6015934511907742, 'colsample_bytree': 0.5140010962284411, 'reg_alpha': 0.7088513179541591, 'reg_lambda': 0.10160618673664715, 'n_estimators': 79}. Best is trial 98 with value: 0.9100584440269982.\n",
      "[I 2024-02-05 23:05:12,300] Trial 97 finished with value: 0.909143187634059 and parameters: {'learning_rate': 0.1280485538364357, 'num_leaves': 37, 'max_depth': 6, 'min_child_samples': 10, 'subsample': 0.6013801875891795, 'colsample_bytree': 0.5132569270459649, 'reg_alpha': 0.7158061262755706, 'reg_lambda': 0.12664464664565406, 'n_estimators': 81}. Best is trial 98 with value: 0.9100584440269982.\n",
      "[I 2024-02-05 23:06:20,502] Trial 100 finished with value: 0.9087578543879902 and parameters: {'learning_rate': 0.14903674855092683, 'num_leaves': 24, 'max_depth': 6, 'min_child_samples': 8, 'subsample': 0.6680829215089723, 'colsample_bytree': 0.5147750088704898, 'reg_alpha': 0.7077324610926605, 'reg_lambda': 0.13017811793214962, 'n_estimators': 80}. Best is trial 98 with value: 0.9100584440269982.\n",
      "[I 2024-02-05 23:07:10,656] Trial 107 finished with value: 0.9086134269477514 and parameters: {'learning_rate': 0.150650481519599, 'num_leaves': 24, 'max_depth': 6, 'min_child_samples': 12, 'subsample': 0.7862380378028991, 'colsample_bytree': 0.512121888307548, 'reg_alpha': 0.709963136534463, 'reg_lambda': 0.03800080454735576, 'n_estimators': 58}. Best is trial 98 with value: 0.9100584440269982.\n",
      "[I 2024-02-05 23:07:12,682] Trial 101 finished with value: 0.9098658702385711 and parameters: {'learning_rate': 0.13565171326824554, 'num_leaves': 25, 'max_depth': 6, 'min_child_samples': 10, 'subsample': 0.6419025495411765, 'colsample_bytree': 0.5158796387037052, 'reg_alpha': 0.7641450859263536, 'reg_lambda': 0.12376111562776163, 'n_estimators': 87}. Best is trial 98 with value: 0.9100584440269982.\n",
      "[I 2024-02-05 23:07:49,505] Trial 99 finished with value: 0.907168096551705 and parameters: {'learning_rate': 0.18305127995958956, 'num_leaves': 75, 'max_depth': 6, 'min_child_samples': 10, 'subsample': 0.548633469712809, 'colsample_bytree': 0.5171699276559238, 'reg_alpha': 0.6985031572420398, 'reg_lambda': 0.11119005716816158, 'n_estimators': 79}. Best is trial 98 with value: 0.9100584440269982.\n",
      "[I 2024-02-05 23:09:12,415] Trial 102 finished with value: 0.9089986557548869 and parameters: {'learning_rate': 0.1363463917022211, 'num_leaves': 37, 'max_depth': 6, 'min_child_samples': 10, 'subsample': 0.6632062718836428, 'colsample_bytree': 0.5139880793089443, 'reg_alpha': 0.7071644103987611, 'reg_lambda': 0.10270579058591087, 'n_estimators': 87}. Best is trial 98 with value: 0.9100584440269982.\n",
      "[I 2024-02-05 23:09:30,340] Trial 103 finished with value: 0.9083724283073142 and parameters: {'learning_rate': 0.1817539027784161, 'num_leaves': 37, 'max_depth': 6, 'min_child_samples': 10, 'subsample': 0.6411180782670762, 'colsample_bytree': 0.5143366344253191, 'reg_alpha': 0.7120799929631577, 'reg_lambda': 0.2988987702359178, 'n_estimators': 89}. Best is trial 98 with value: 0.9100584440269982.\n",
      "[I 2024-02-05 23:09:51,513] Trial 108 finished with value: 0.9099621281219699 and parameters: {'learning_rate': 0.10206674095425335, 'num_leaves': 24, 'max_depth': 6, 'min_child_samples': 13, 'subsample': 0.6414427293477506, 'colsample_bytree': 0.5105212176403028, 'reg_alpha': 0.7765575510318493, 'reg_lambda': 0.23528327538330304, 'n_estimators': 86}. Best is trial 98 with value: 0.9100584440269982.\n",
      "[I 2024-02-05 23:10:09,976] Trial 106 finished with value: 0.9084206558857838 and parameters: {'learning_rate': 0.1801075814517279, 'num_leaves': 39, 'max_depth': 6, 'min_child_samples': 12, 'subsample': 0.6303379348895279, 'colsample_bytree': 0.5142768490157898, 'reg_alpha': 0.8937452737204465, 'reg_lambda': 0.29200784625999954, 'n_estimators': 88}. Best is trial 98 with value: 0.9100584440269982.\n",
      "[I 2024-02-05 23:12:39,541] Trial 104 finished with value: 0.9076979616769458 and parameters: {'learning_rate': 0.1497468624377233, 'num_leaves': 39, 'max_depth': 6, 'min_child_samples': 10, 'subsample': 0.5938287925011596, 'colsample_bytree': 0.5148078422115726, 'reg_alpha': 0.8909503742779155, 'reg_lambda': 0.05065056557119263, 'n_estimators': 122}. Best is trial 98 with value: 0.9100584440269982.\n",
      "[I 2024-02-05 23:12:50,425] Trial 105 finished with value: 0.9080834109662737 and parameters: {'learning_rate': 0.15049439091467368, 'num_leaves': 40, 'max_depth': 6, 'min_child_samples': 10, 'subsample': 0.7409250789032711, 'colsample_bytree': 0.5143969297707797, 'reg_alpha': 0.8905685375516603, 'reg_lambda': 0.21924498736067063, 'n_estimators': 123}. Best is trial 98 with value: 0.9100584440269982.\n",
      "[I 2024-02-05 23:12:51,127] Trial 109 finished with value: 0.9080833993619477 and parameters: {'learning_rate': 0.15259569203194692, 'num_leaves': 40, 'max_depth': 6, 'min_child_samples': 12, 'subsample': 0.6136746705237219, 'colsample_bytree': 0.5158540249276313, 'reg_alpha': 0.7043383202400401, 'reg_lambda': 0.06281839527677888, 'n_estimators': 87}. Best is trial 98 with value: 0.9100584440269982.\n",
      "[I 2024-02-05 23:13:26,891] Trial 111 finished with value: 0.9088541354800409 and parameters: {'learning_rate': 0.10454803750346317, 'num_leaves': 40, 'max_depth': 6, 'min_child_samples': 12, 'subsample': 0.571073883563155, 'colsample_bytree': 0.5119902064793028, 'reg_alpha': 0.7808357013832614, 'reg_lambda': 0.07344439986196935, 'n_estimators': 73}. Best is trial 98 with value: 0.9100584440269982.\n",
      "[I 2024-02-05 23:13:57,773] Trial 110 finished with value: 0.9052411054002356 and parameters: {'learning_rate': 0.2949541071146324, 'num_leaves': 40, 'max_depth': 6, 'min_child_samples': 13, 'subsample': 0.6237588276241846, 'colsample_bytree': 0.5154083044812159, 'reg_alpha': 0.7023085173365535, 'reg_lambda': 0.0723491599044635, 'n_estimators': 89}. Best is trial 98 with value: 0.9100584440269982.\n",
      "[I 2024-02-05 23:14:13,112] Trial 113 finished with value: 0.9087096500181724 and parameters: {'learning_rate': 0.10263096836325616, 'num_leaves': 26, 'max_depth': 6, 'min_child_samples': 12, 'subsample': 0.6304955198371227, 'colsample_bytree': 0.5123011727618915, 'reg_alpha': 0.7795284898966085, 'reg_lambda': 0.22166097469379775, 'n_estimators': 88}. Best is trial 98 with value: 0.9100584440269982.\n",
      "[I 2024-02-05 23:14:46,666] Trial 95 finished with value: 0.9076498617460611 and parameters: {'learning_rate': 0.1278264496800587, 'num_leaves': 74, 'max_depth': 20, 'min_child_samples': 10, 'subsample': 0.6201889314509474, 'colsample_bytree': 0.543919628749317, 'reg_alpha': 0.7704804931672996, 'reg_lambda': 0.1367767992682814, 'n_estimators': 78}. Best is trial 98 with value: 0.9100584440269982.\n",
      "[I 2024-02-05 23:15:14,083] Trial 112 finished with value: 0.9076497805157798 and parameters: {'learning_rate': 0.18246520552571976, 'num_leaves': 40, 'max_depth': 6, 'min_child_samples': 10, 'subsample': 0.6200215644243581, 'colsample_bytree': 0.5150275071792256, 'reg_alpha': 0.6989625155127123, 'reg_lambda': 0.2314245452643351, 'n_estimators': 90}. Best is trial 98 with value: 0.9100584440269982.\n",
      "[I 2024-02-05 23:16:10,062] Trial 116 finished with value: 0.9084688254426239 and parameters: {'learning_rate': 0.11946200757864316, 'num_leaves': 27, 'max_depth': 6, 'min_child_samples': 12, 'subsample': 0.6068458176069024, 'colsample_bytree': 0.5320200935858864, 'reg_alpha': 0.785324470270267, 'reg_lambda': 0.21888958133916175, 'n_estimators': 87}. Best is trial 98 with value: 0.9100584440269982.\n",
      "[I 2024-02-05 23:16:17,732] Trial 117 finished with value: 0.9081315689187879 and parameters: {'learning_rate': 0.10381026707886931, 'num_leaves': 27, 'max_depth': 6, 'min_child_samples': 13, 'subsample': 0.5979580382051318, 'colsample_bytree': 0.5323903995146412, 'reg_alpha': 0.7729692561626424, 'reg_lambda': 0.07527897514039883, 'n_estimators': 85}. Best is trial 98 with value: 0.9100584440269982.\n",
      "[I 2024-02-05 23:16:23,369] Trial 115 finished with value: 0.908227908032468 and parameters: {'learning_rate': 0.10294438336490683, 'num_leaves': 41, 'max_depth': 6, 'min_child_samples': 13, 'subsample': 0.5952300045419356, 'colsample_bytree': 0.6707246455948628, 'reg_alpha': 0.7699674915042033, 'reg_lambda': 0.22975080049161822, 'n_estimators': 87}. Best is trial 98 with value: 0.9100584440269982.\n",
      "[I 2024-02-05 23:16:54,424] Trial 114 finished with value: 0.9074089443359054 and parameters: {'learning_rate': 0.13878999725929558, 'num_leaves': 40, 'max_depth': 6, 'min_child_samples': 10, 'subsample': 0.6085328491195822, 'colsample_bytree': 0.5116773932327302, 'reg_alpha': 0.788185510637214, 'reg_lambda': 0.07156665754449637, 'n_estimators': 87}. Best is trial 98 with value: 0.9100584440269982.\n",
      "[I 2024-02-05 23:18:51,437] Trial 118 finished with value: 0.9078424471388142 and parameters: {'learning_rate': 0.05619524321567553, 'num_leaves': 27, 'max_depth': 6, 'min_child_samples': 13, 'subsample': 0.5932847353216093, 'colsample_bytree': 0.5321590055346405, 'reg_alpha': 0.7929067290499239, 'reg_lambda': 0.07906338161781964, 'n_estimators': 85}. Best is trial 98 with value: 0.9100584440269982.\n",
      "[I 2024-02-05 23:19:33,003] Trial 119 finished with value: 0.908854239918974 and parameters: {'learning_rate': 0.10417911180404399, 'num_leaves': 23, 'max_depth': 20, 'min_child_samples': 13, 'subsample': 0.6042388050493646, 'colsample_bytree': 0.5974282207190945, 'reg_alpha': 0.7775202108917638, 'reg_lambda': 0.08342952698341533, 'n_estimators': 85}. Best is trial 98 with value: 0.9100584440269982.\n",
      "[I 2024-02-05 23:19:54,443] Trial 122 finished with value: 0.908613484969381 and parameters: {'learning_rate': 0.13709459414687966, 'num_leaves': 27, 'max_depth': 7, 'min_child_samples': 13, 'subsample': 0.5773369956227425, 'colsample_bytree': 0.5289455294557119, 'reg_alpha': 0.7656799401407233, 'reg_lambda': 0.0017045870166174093, 'n_estimators': 73}. Best is trial 98 with value: 0.9100584440269982.\n",
      "[I 2024-02-05 23:19:56,989] Trial 120 finished with value: 0.9082279312411199 and parameters: {'learning_rate': 0.10349715745238802, 'num_leaves': 26, 'max_depth': 6, 'min_child_samples': 13, 'subsample': 0.6627641600604781, 'colsample_bytree': 0.5963108967083691, 'reg_alpha': 0.7668870111437192, 'reg_lambda': 0.0746900566293673, 'n_estimators': 102}. Best is trial 98 with value: 0.9100584440269982.\n",
      "[I 2024-02-05 23:20:36,689] Trial 121 finished with value: 0.908276089193634 and parameters: {'learning_rate': 0.09989424154193766, 'num_leaves': 26, 'max_depth': 6, 'min_child_samples': 13, 'subsample': 0.5756239094041667, 'colsample_bytree': 0.5311967808712538, 'reg_alpha': 0.7769939306975908, 'reg_lambda': 0.07482763794147557, 'n_estimators': 102}. Best is trial 98 with value: 0.9100584440269982.\n",
      "[I 2024-02-05 23:21:02,259] Trial 123 finished with value: 0.9093842326917997 and parameters: {'learning_rate': 0.137622034530985, 'num_leaves': 27, 'max_depth': 13, 'min_child_samples': 13, 'subsample': 0.5826864331770375, 'colsample_bytree': 0.5320041465333211, 'reg_alpha': 0.7718223241689063, 'reg_lambda': 0.15770103448262207, 'n_estimators': 74}. Best is trial 98 with value: 0.9100584440269982.\n",
      "[I 2024-02-05 23:21:42,145] Trial 128 finished with value: 0.9080833761532959 and parameters: {'learning_rate': 0.13891175358737418, 'num_leaves': 23, 'max_depth': 7, 'min_child_samples': 13, 'subsample': 0.6676514865015178, 'colsample_bytree': 0.5003084115323178, 'reg_alpha': 0.7414559291723116, 'reg_lambda': 0.08161391912173578, 'n_estimators': 73}. Best is trial 98 with value: 0.9100584440269982.\n",
      "[I 2024-02-05 23:23:29,635] Trial 125 finished with value: 0.9078426212037028 and parameters: {'learning_rate': 0.12068364533249433, 'num_leaves': 27, 'max_depth': 7, 'min_child_samples': 13, 'subsample': 0.6614451992825217, 'colsample_bytree': 0.5321276604344733, 'reg_alpha': 0.753981803028813, 'reg_lambda': 0.16081816155374673, 'n_estimators': 102}. Best is trial 98 with value: 0.9100584440269982.\n",
      "[I 2024-02-05 23:24:32,187] Trial 132 finished with value: 0.9072646793562292 and parameters: {'learning_rate': 0.1185755134212839, 'num_leaves': 23, 'max_depth': 13, 'min_child_samples': 15, 'subsample': 0.662648282485577, 'colsample_bytree': 0.600980709760415, 'reg_alpha': 0.7440732910293151, 'reg_lambda': 0.15211442871829034, 'n_estimators': 59}. Best is trial 98 with value: 0.9100584440269982.\n",
      "[I 2024-02-05 23:24:32,375] Trial 133 finished with value: 0.9075055503490812 and parameters: {'learning_rate': 0.12060681629998646, 'num_leaves': 23, 'max_depth': 17, 'min_child_samples': 15, 'subsample': 0.6516508932282906, 'colsample_bytree': 0.595616647105578, 'reg_alpha': 0.7407086689231538, 'reg_lambda': 0.1581592358000927, 'n_estimators': 59}. Best is trial 98 with value: 0.9100584440269982.\n",
      "[I 2024-02-05 23:24:34,315] Trial 134 finished with value: 0.9074571371013972 and parameters: {'learning_rate': 0.1206168962082391, 'num_leaves': 22, 'max_depth': 15, 'min_child_samples': 11, 'subsample': 0.7189957285095041, 'colsample_bytree': 0.892811831279871, 'reg_alpha': 0.7397839130938282, 'reg_lambda': 0.15772607094793875, 'n_estimators': 59}. Best is trial 98 with value: 0.9100584440269982.\n",
      "[I 2024-02-05 23:24:38,753] Trial 127 finished with value: 0.9077463169030004 and parameters: {'learning_rate': 0.1384748259684274, 'num_leaves': 50, 'max_depth': 7, 'min_child_samples': 13, 'subsample': 0.5672186946096951, 'colsample_bytree': 0.5966336607885644, 'reg_alpha': 0.7429072528525181, 'reg_lambda': 0.08575284070304577, 'n_estimators': 74}. Best is trial 98 with value: 0.9100584440269982.\n",
      "[I 2024-02-05 23:25:36,660] Trial 136 finished with value: 0.9074571951230268 and parameters: {'learning_rate': 0.08885346707639646, 'num_leaves': 21, 'max_depth': 18, 'min_child_samples': 14, 'subsample': 0.5832128816579089, 'colsample_bytree': 0.5513400822740835, 'reg_alpha': 0.7396890935353355, 'reg_lambda': 0.15473651816537767, 'n_estimators': 53}. Best is trial 98 with value: 0.9100584440269982.\n",
      "[I 2024-02-05 23:26:11,960] Trial 135 finished with value: 0.9099139469608039 and parameters: {'learning_rate': 0.12004382244346837, 'num_leaves': 23, 'max_depth': 13, 'min_child_samples': 15, 'subsample': 0.659542703227769, 'colsample_bytree': 0.500538068094611, 'reg_alpha': 0.7424815204827638, 'reg_lambda': 0.15470150043304293, 'n_estimators': 61}. Best is trial 98 with value: 0.9100584440269982.\n",
      "[I 2024-02-05 23:26:12,383] Trial 124 finished with value: 0.907216405360456 and parameters: {'learning_rate': 0.1386674040645087, 'num_leaves': 49, 'max_depth': 13, 'min_child_samples': 13, 'subsample': 0.6606254157605327, 'colsample_bytree': 0.5320852487503166, 'reg_alpha': 0.748248298144428, 'reg_lambda': 0.08271745012446105, 'n_estimators': 73}. Best is trial 98 with value: 0.9100584440269982.\n",
      "[I 2024-02-05 23:26:28,187] Trial 126 finished with value: 0.9067827517013102 and parameters: {'learning_rate': 0.1395682167349687, 'num_leaves': 47, 'max_depth': 13, 'min_child_samples': 13, 'subsample': 0.5751263053170765, 'colsample_bytree': 0.6693917807122729, 'reg_alpha': 0.7502483005622024, 'reg_lambda': 0.08606192373993311, 'n_estimators': 73}. Best is trial 98 with value: 0.9100584440269982.\n",
      "[I 2024-02-05 23:26:55,065] Trial 130 finished with value: 0.9091914036082027 and parameters: {'learning_rate': 0.07704068128107454, 'num_leaves': 33, 'max_depth': 13, 'min_child_samples': 11, 'subsample': 0.5174425371264976, 'colsample_bytree': 0.594446781095262, 'reg_alpha': 0.7488130879115652, 'reg_lambda': 0.15916548984656148, 'n_estimators': 74}. Best is trial 98 with value: 0.9100584440269982.\n",
      "[I 2024-02-05 23:26:58,468] Trial 141 finished with value: 0.9055782226721606 and parameters: {'learning_rate': 0.08165753950397481, 'num_leaves': 20, 'max_depth': 5, 'min_child_samples': 14, 'subsample': 0.5431786818681107, 'colsample_bytree': 0.7212650474316791, 'reg_alpha': 0.6529223343637719, 'reg_lambda': 0.024702021694082976, 'n_estimators': 50}. Best is trial 98 with value: 0.9100584440269982.\n",
      "[I 2024-02-05 23:27:20,749] Trial 140 finished with value: 0.9045666851871708 and parameters: {'learning_rate': 0.08827278987340309, 'num_leaves': 32, 'max_depth': 5, 'min_child_samples': 14, 'subsample': 0.5655432482746318, 'colsample_bytree': 0.5506392282025384, 'reg_alpha': 0.8428877635540839, 'reg_lambda': 0.0250524730295969, 'n_estimators': 50}. Best is trial 98 with value: 0.9100584440269982.\n",
      "[I 2024-02-05 23:27:27,257] Trial 131 finished with value: 0.908758005244227 and parameters: {'learning_rate': 0.12145068164117787, 'num_leaves': 22, 'max_depth': 13, 'min_child_samples': 13, 'subsample': 0.5755059570197996, 'colsample_bytree': 0.5000327951633838, 'reg_alpha': 0.7471605829262116, 'reg_lambda': 0.0003575309298973206, 'n_estimators': 101}. Best is trial 98 with value: 0.9100584440269982.\n",
      "[I 2024-02-05 23:28:15,673] Trial 139 finished with value: 0.9075535458410329 and parameters: {'learning_rate': 0.08684619620912672, 'num_leaves': 21, 'max_depth': 15, 'min_child_samples': 14, 'subsample': 0.5559699209716137, 'colsample_bytree': 0.5490819256891353, 'reg_alpha': 0.6662825708067305, 'reg_lambda': 0.09874650036014396, 'n_estimators': 50}. Best is trial 98 with value: 0.9100584440269982.\n",
      "[I 2024-02-05 23:28:34,468] Trial 129 finished with value: 0.9090950528901967 and parameters: {'learning_rate': 0.11957263900613405, 'num_leaves': 47, 'max_depth': 13, 'min_child_samples': 13, 'subsample': 0.5781421604476281, 'colsample_bytree': 0.5013582865463848, 'reg_alpha': 0.7449699078298916, 'reg_lambda': 0.002728022205243333, 'n_estimators': 74}. Best is trial 98 with value: 0.9100584440269982.\n",
      "[I 2024-02-05 23:29:33,995] Trial 138 finished with value: 0.9063010909458871 and parameters: {'learning_rate': 0.09054571696282153, 'num_leaves': 32, 'max_depth': 18, 'min_child_samples': 14, 'subsample': 0.5239284611328596, 'colsample_bytree': 0.9073922229313556, 'reg_alpha': 0.6791849326469565, 'reg_lambda': 0.03591088092133911, 'n_estimators': 53}. Best is trial 98 with value: 0.9100584440269982.\n",
      "[I 2024-02-05 23:31:02,587] Trial 143 finished with value: 0.9080833065273405 and parameters: {'learning_rate': 0.08132494312543653, 'num_leaves': 32, 'max_depth': 14, 'min_child_samples': 18, 'subsample': 0.5210994003833995, 'colsample_bytree': 0.7167413624933563, 'reg_alpha': 0.8397410228474843, 'reg_lambda': 0.02051535508935809, 'n_estimators': 50}. Best is trial 98 with value: 0.9100584440269982.\n",
      "[I 2024-02-05 23:32:42,837] Trial 146 finished with value: 0.9100585020486276 and parameters: {'learning_rate': 0.13395360584589253, 'num_leaves': 32, 'max_depth': 12, 'min_child_samples': 18, 'subsample': 0.5203616733066442, 'colsample_bytree': 0.5030440029621581, 'reg_alpha': 0.6826523125769417, 'reg_lambda': 0.19955509554860323, 'n_estimators': 51}. Best is trial 146 with value: 0.9100585020486276.\n",
      "[I 2024-02-05 23:32:48,189] Trial 148 finished with value: 0.9044704737210756 and parameters: {'learning_rate': 0.13260062479162732, 'num_leaves': 29, 'max_depth': 14, 'min_child_samples': 17, 'subsample': 0.5148075211947486, 'colsample_bytree': 0.9698695868723128, 'reg_alpha': 0.684261779318901, 'reg_lambda': 0.19900545608882425, 'n_estimators': 62}. Best is trial 146 with value: 0.9100585020486276.\n",
      "[I 2024-02-05 23:33:41,221] Trial 142 finished with value: 0.9084206210728059 and parameters: {'learning_rate': 0.08099061730573957, 'num_leaves': 33, 'max_depth': 14, 'min_child_samples': 12, 'subsample': 0.5228728565659324, 'colsample_bytree': 0.6151253968546909, 'reg_alpha': 0.6755174390290088, 'reg_lambda': 0.19810167707311654, 'n_estimators': 73}. Best is trial 146 with value: 0.9100585020486276.\n",
      "[I 2024-02-05 23:33:45,063] Trial 145 finished with value: 0.9098657193823343 and parameters: {'learning_rate': 0.08126415677929383, 'num_leaves': 32, 'max_depth': 14, 'min_child_samples': 11, 'subsample': 0.5618189193105716, 'colsample_bytree': 0.5024255603677232, 'reg_alpha': 0.6774106350674103, 'reg_lambda': 0.026012629284435235, 'n_estimators': 63}. Best is trial 146 with value: 0.9100585020486276.\n",
      "[I 2024-02-05 23:34:42,591] Trial 150 finished with value: 0.9063009516939763 and parameters: {'learning_rate': 0.13221095756112786, 'num_leaves': 33, 'max_depth': 14, 'min_child_samples': 1, 'subsample': 0.6463106867853176, 'colsample_bytree': 0.929360897666281, 'reg_alpha': 0.6830588764788712, 'reg_lambda': 0.1904227466045545, 'n_estimators': 63}. Best is trial 146 with value: 0.9100585020486276.\n",
      "[I 2024-02-05 23:34:46,341] Trial 147 finished with value: 0.9057230330551544 and parameters: {'learning_rate': 0.07854545933315177, 'num_leaves': 32, 'max_depth': 14, 'min_child_samples': 18, 'subsample': 0.5249930095522295, 'colsample_bytree': 0.9683856829945139, 'reg_alpha': 0.8355447882296887, 'reg_lambda': 0.19811614253514387, 'n_estimators': 82}. Best is trial 146 with value: 0.9100585020486276.\n",
      "[I 2024-02-05 23:35:06,680] Trial 151 finished with value: 0.9094321933707736 and parameters: {'learning_rate': 0.13362209995457472, 'num_leaves': 29, 'max_depth': 14, 'min_child_samples': 19, 'subsample': 0.5055858755697185, 'colsample_bytree': 0.5047124226422802, 'reg_alpha': 0.6828194365840154, 'reg_lambda': 0.18342053939413605, 'n_estimators': 62}. Best is trial 146 with value: 0.9100585020486276.\n",
      "[I 2024-02-05 23:35:58,587] Trial 152 finished with value: 0.9093359006743971 and parameters: {'learning_rate': 0.1131926985620421, 'num_leaves': 29, 'max_depth': 14, 'min_child_samples': 19, 'subsample': 0.5082706162445663, 'colsample_bytree': 0.5065351357849117, 'reg_alpha': 0.8087397910659826, 'reg_lambda': 0.18254030400477222, 'n_estimators': 62}. Best is trial 146 with value: 0.9100585020486276.\n",
      "[I 2024-02-05 23:38:20,666] Trial 153 finished with value: 0.908854239918974 and parameters: {'learning_rate': 0.1320740958562115, 'num_leaves': 29, 'max_depth': 14, 'min_child_samples': 11, 'subsample': 0.6416829859729434, 'colsample_bytree': 0.5228225966969298, 'reg_alpha': 0.7940950177505235, 'reg_lambda': 0.19197771369030708, 'n_estimators': 70}. Best is trial 146 with value: 0.9100585020486276.\n",
      "[I 2024-02-05 23:39:09,729] Trial 154 finished with value: 0.9095286485277126 and parameters: {'learning_rate': 0.14410406337390858, 'num_leaves': 29, 'max_depth': 14, 'min_child_samples': 18, 'subsample': 0.5033769527544822, 'colsample_bytree': 0.5051753598473507, 'reg_alpha': 0.7982892248464281, 'reg_lambda': 0.19900194296501048, 'n_estimators': 62}. Best is trial 146 with value: 0.9100585020486276.\n",
      "[I 2024-02-05 23:40:46,749] Trial 156 finished with value: 0.9101547367233745 and parameters: {'learning_rate': 0.11327114705127682, 'num_leaves': 29, 'max_depth': 12, 'min_child_samples': 11, 'subsample': 0.6454638392277356, 'colsample_bytree': 0.501292677205366, 'reg_alpha': 0.7224308689715246, 'reg_lambda': 0.1780199013546951, 'n_estimators': 68}. Best is trial 156 with value: 0.9101547367233745.\n",
      "[I 2024-02-05 23:41:29,939] Trial 137 finished with value: 0.9084688370469497 and parameters: {'learning_rate': 0.07801874965594555, 'num_leaves': 21, 'max_depth': 18, 'min_child_samples': 14, 'subsample': 0.5212807652103395, 'colsample_bytree': 0.5493316679422291, 'reg_alpha': 0.8364616908792026, 'reg_lambda': 0.1544530890670977, 'n_estimators': 245}. Best is trial 156 with value: 0.9101547367233745.\n",
      "[I 2024-02-05 23:41:38,899] Trial 159 finished with value: 0.9086133457174699 and parameters: {'learning_rate': 0.16082000323008463, 'num_leaves': 29, 'max_depth': 12, 'min_child_samples': 11, 'subsample': 0.5580135341417833, 'colsample_bytree': 0.5008065937209749, 'reg_alpha': 0.7189395130515245, 'reg_lambda': 0.13360398087485706, 'n_estimators': 67}. Best is trial 156 with value: 0.9101547367233745.\n",
      "[I 2024-02-05 23:41:45,521] Trial 158 finished with value: 0.9091914384211804 and parameters: {'learning_rate': 0.16088672920990596, 'num_leaves': 29, 'max_depth': 12, 'min_child_samples': 11, 'subsample': 0.7605300869591441, 'colsample_bytree': 0.5019910578608101, 'reg_alpha': 0.720909069173192, 'reg_lambda': 0.8268307625098836, 'n_estimators': 68}. Best is trial 156 with value: 0.9101547367233745.\n",
      "[I 2024-02-05 23:41:59,594] Trial 160 finished with value: 0.9089986093375833 and parameters: {'learning_rate': 0.14360889180630293, 'num_leaves': 29, 'max_depth': 12, 'min_child_samples': 20, 'subsample': 0.5018327347848721, 'colsample_bytree': 0.505994050740734, 'reg_alpha': 0.6531198005849503, 'reg_lambda': 0.17783338856771724, 'n_estimators': 67}. Best is trial 156 with value: 0.9101547367233745.\n",
      "[I 2024-02-05 23:43:19,215] Trial 162 finished with value: 0.9099623021868585 and parameters: {'learning_rate': 0.1607214998086251, 'num_leaves': 25, 'max_depth': 12, 'min_child_samples': 20, 'subsample': 0.5324767744277284, 'colsample_bytree': 0.5014977880573792, 'reg_alpha': 0.647071461888987, 'reg_lambda': 0.1196569104426646, 'n_estimators': 56}. Best is trial 156 with value: 0.9101547367233745.\n",
      "[I 2024-02-05 23:44:37,392] Trial 163 finished with value: 0.909432239788077 and parameters: {'learning_rate': 0.16072139567922944, 'num_leaves': 25, 'max_depth': 12, 'min_child_samples': 20, 'subsample': 0.5052949096541498, 'colsample_bytree': 0.5001771155823794, 'reg_alpha': 0.7227543842873304, 'reg_lambda': 0.25163375084639167, 'n_estimators': 61}. Best is trial 156 with value: 0.9101547367233745.\n",
      "[I 2024-02-05 23:45:53,036] Trial 164 finished with value: 0.909191229543314 and parameters: {'learning_rate': 0.11137889044072559, 'num_leaves': 25, 'max_depth': 12, 'min_child_samples': 20, 'subsample': 0.5009984120540655, 'colsample_bytree': 0.5001083394060855, 'reg_alpha': 0.41172478769712945, 'reg_lambda': 0.17687789538730395, 'n_estimators': 57}. Best is trial 156 with value: 0.9101547367233745.\n",
      "[I 2024-02-05 23:47:01,455] Trial 144 finished with value: 0.9061082734666159 and parameters: {'learning_rate': 0.13340646657761995, 'num_leaves': 29, 'max_depth': 14, 'min_child_samples': 11, 'subsample': 0.5375281046675806, 'colsample_bytree': 0.5002725636570349, 'reg_alpha': 0.8393241671575404, 'reg_lambda': 0.030052869359502868, 'n_estimators': 223}. Best is trial 156 with value: 0.9101547367233745.\n",
      "[I 2024-02-05 23:47:08,030] Trial 168 finished with value: 0.9100585716745831 and parameters: {'learning_rate': 0.14533862427810534, 'num_leaves': 25, 'max_depth': 11, 'min_child_samples': 19, 'subsample': 0.537725742347057, 'colsample_bytree': 0.5227081026642397, 'reg_alpha': 0.7212757056207734, 'reg_lambda': 0.8085041810761218, 'n_estimators': 57}. Best is trial 156 with value: 0.9101547367233745.\n",
      "[I 2024-02-05 23:47:15,741] Trial 165 finished with value: 0.9098177122860569 and parameters: {'learning_rate': 0.1614845247097595, 'num_leaves': 29, 'max_depth': 12, 'min_child_samples': 20, 'subsample': 0.5024069315309916, 'colsample_bytree': 0.5048447261623152, 'reg_alpha': 0.652212948550607, 'reg_lambda': 0.2545917088400057, 'n_estimators': 56}. Best is trial 156 with value: 0.9101547367233745.\n",
      "[I 2024-02-05 23:47:20,572] Trial 167 finished with value: 0.9089505674283282 and parameters: {'learning_rate': 0.1436132794820113, 'num_leaves': 25, 'max_depth': 12, 'min_child_samples': 11, 'subsample': 0.5069930348221527, 'colsample_bytree': 0.5067624783400049, 'reg_alpha': 0.6431368953736428, 'reg_lambda': 0.17756300299139827, 'n_estimators': 61}. Best is trial 156 with value: 0.9101547367233745.\n",
      "[I 2024-02-05 23:47:59,597] Trial 166 finished with value: 0.9092876963045793 and parameters: {'learning_rate': 0.11011567317988548, 'num_leaves': 30, 'max_depth': 15, 'min_child_samples': 20, 'subsample': 0.5015308903385447, 'colsample_bytree': 0.5065159388337328, 'reg_alpha': 0.7213515472095193, 'reg_lambda': 0.17620402132850213, 'n_estimators': 60}. Best is trial 156 with value: 0.9101547367233745.\n",
      "[I 2024-02-05 23:48:17,490] Trial 149 finished with value: 0.906156454627782 and parameters: {'learning_rate': 0.1614799823974069, 'num_leaves': 29, 'max_depth': 14, 'min_child_samples': 11, 'subsample': 0.504670950718213, 'colsample_bytree': 0.5225088574519625, 'reg_alpha': 0.6872443737345493, 'reg_lambda': 0.19900978130754654, 'n_estimators': 226}. Best is trial 156 with value: 0.9101547367233745.\n",
      "[I 2024-02-05 23:48:24,387] Trial 169 finished with value: 0.9096730527592998 and parameters: {'learning_rate': 0.1452465087948669, 'num_leaves': 25, 'max_depth': 11, 'min_child_samples': 20, 'subsample': 0.5010643917634219, 'colsample_bytree': 0.5232629097254208, 'reg_alpha': 0.5231877740743484, 'reg_lambda': 0.8503574121637677, 'n_estimators': 57}. Best is trial 156 with value: 0.9101547367233745.\n",
      "[I 2024-02-05 23:49:37,177] Trial 170 finished with value: 0.9089023746628364 and parameters: {'learning_rate': 0.14540215834142386, 'num_leaves': 24, 'max_depth': 11, 'min_child_samples': 20, 'subsample': 0.5353640745294991, 'colsample_bytree': 0.5241168810176363, 'reg_alpha': 0.5653054582676287, 'reg_lambda': 0.2544131892639257, 'n_estimators': 57}. Best is trial 156 with value: 0.9101547367233745.\n",
      "[I 2024-02-05 23:51:24,448] Trial 171 finished with value: 0.9085170414167676 and parameters: {'learning_rate': 0.14793421221196268, 'num_leaves': 25, 'max_depth': 15, 'min_child_samples': 19, 'subsample': 0.5352444355048929, 'colsample_bytree': 0.5236642398091476, 'reg_alpha': 0.5683117183923263, 'reg_lambda': 0.24167503176263463, 'n_estimators': 61}. Best is trial 156 with value: 0.9101547367233745.\n",
      "[I 2024-02-05 23:52:21,014] Trial 175 finished with value: 0.9084689762988607 and parameters: {'learning_rate': 0.15745671972319653, 'num_leaves': 25, 'max_depth': 11, 'min_child_samples': 19, 'subsample': 0.5433246565832244, 'colsample_bytree': 0.5250813220547254, 'reg_alpha': 0.6122570397072598, 'reg_lambda': 0.2512609755637707, 'n_estimators': 56}. Best is trial 156 with value: 0.9101547367233745.\n",
      "[I 2024-02-05 23:52:22,600] Trial 173 finished with value: 0.9088542051059962 and parameters: {'learning_rate': 0.14570544682872785, 'num_leaves': 24, 'max_depth': 11, 'min_child_samples': 19, 'subsample': 0.5096013530875202, 'colsample_bytree': 0.5215435461345839, 'reg_alpha': 0.5381171527303652, 'reg_lambda': 0.26461118749826207, 'n_estimators': 60}. Best is trial 156 with value: 0.9101547367233745.\n",
      "[I 2024-02-05 23:52:24,066] Trial 172 finished with value: 0.9097213035464213 and parameters: {'learning_rate': 0.14449138917152804, 'num_leaves': 24, 'max_depth': 11, 'min_child_samples': 19, 'subsample': 0.5111546789851532, 'colsample_bytree': 0.5225673763102592, 'reg_alpha': 0.5404178960702576, 'reg_lambda': 0.8236250826820429, 'n_estimators': 62}. Best is trial 156 with value: 0.9101547367233745.\n",
      "[I 2024-02-05 23:52:29,217] Trial 174 finished with value: 0.9080352414094335 and parameters: {'learning_rate': 0.1438978850734401, 'num_leaves': 24, 'max_depth': 11, 'min_child_samples': 19, 'subsample': 0.509265296280315, 'colsample_bytree': 0.5236842997449845, 'reg_alpha': 0.6155925461490239, 'reg_lambda': 0.2500826828159143, 'n_estimators': 60}. Best is trial 156 with value: 0.9101547367233745.\n",
      "[I 2024-02-05 23:52:32,935] Trial 176 finished with value: 0.9086617241521763 and parameters: {'learning_rate': 0.16020561926942886, 'num_leaves': 24, 'max_depth': 11, 'min_child_samples': 19, 'subsample': 0.541503016203437, 'colsample_bytree': 0.5250222844934436, 'reg_alpha': 0.614599241479953, 'reg_lambda': 0.25931307898820616, 'n_estimators': 54}. Best is trial 156 with value: 0.9101547367233745.\n",
      "[I 2024-02-05 23:53:05,966] Trial 178 finished with value: 0.9090951109118262 and parameters: {'learning_rate': 0.14697597403810733, 'num_leaves': 24, 'max_depth': 11, 'min_child_samples': 19, 'subsample': 0.533882331282761, 'colsample_bytree': 0.5217057372354853, 'reg_alpha': 0.5245616536229184, 'reg_lambda': 0.2507031077512291, 'n_estimators': 54}. Best is trial 156 with value: 0.9101547367233745.\n",
      "[I 2024-02-05 23:53:19,885] Trial 177 finished with value: 0.9096732268241883 and parameters: {'learning_rate': 0.14582568661715917, 'num_leaves': 24, 'max_depth': 11, 'min_child_samples': 19, 'subsample': 0.5316600946259319, 'colsample_bytree': 0.5237681220700465, 'reg_alpha': 0.5505153463328974, 'reg_lambda': 0.2508031293838087, 'n_estimators': 58}. Best is trial 156 with value: 0.9101547367233745.\n",
      "[I 2024-02-05 23:54:58,507] Trial 179 finished with value: 0.9086614572526803 and parameters: {'learning_rate': 0.15712473942795707, 'num_leaves': 27, 'max_depth': 11, 'min_child_samples': 19, 'subsample': 0.5426495246026213, 'colsample_bytree': 0.5213439896949599, 'reg_alpha': 0.5978579124723274, 'reg_lambda': 0.8404903888190457, 'n_estimators': 56}. Best is trial 156 with value: 0.9101547367233745.\n",
      "[I 2024-02-05 23:55:56,121] Trial 155 finished with value: 0.9075052834495854 and parameters: {'learning_rate': 0.1332047463931131, 'num_leaves': 33, 'max_depth': 12, 'min_child_samples': 1, 'subsample': 0.6442013302943946, 'colsample_bytree': 0.5037919810714724, 'reg_alpha': 0.8033493038364373, 'reg_lambda': 0.1787814111561089, 'n_estimators': 219}. Best is trial 156 with value: 0.9101547367233745.\n",
      "[I 2024-02-05 23:56:50,492] Trial 180 finished with value: 0.9092878007435123 and parameters: {'learning_rate': 0.1570894252285267, 'num_leaves': 27, 'max_depth': 11, 'min_child_samples': 19, 'subsample': 0.5482753126487995, 'colsample_bytree': 0.5211556377016903, 'reg_alpha': 0.613758315274672, 'reg_lambda': 0.9431223126619103, 'n_estimators': 56}. Best is trial 156 with value: 0.9101547367233745.\n",
      "[I 2024-02-05 23:57:36,801] Trial 183 finished with value: 0.9095285789017573 and parameters: {'learning_rate': 0.16472672050397463, 'num_leaves': 27, 'max_depth': 11, 'min_child_samples': 18, 'subsample': 0.5292581845089043, 'colsample_bytree': 0.5100008358729067, 'reg_alpha': 0.5257699676467031, 'reg_lambda': 0.8589779316253534, 'n_estimators': 54}. Best is trial 156 with value: 0.9101547367233745.\n",
      "[I 2024-02-05 23:57:40,599] Trial 181 finished with value: 0.9086133457174699 and parameters: {'learning_rate': 0.15438752679138468, 'num_leaves': 27, 'max_depth': 11, 'min_child_samples': 19, 'subsample': 0.5139095894412802, 'colsample_bytree': 0.5211198533422904, 'reg_alpha': 0.5417684105983673, 'reg_lambda': 0.8243933152193699, 'n_estimators': 55}. Best is trial 156 with value: 0.9101547367233745.\n",
      "[I 2024-02-05 23:57:43,745] Trial 185 finished with value: 0.909528625319061 and parameters: {'learning_rate': 0.15354363950685931, 'num_leaves': 26, 'max_depth': 13, 'min_child_samples': 18, 'subsample': 0.5314280397391016, 'colsample_bytree': 0.5097164431067124, 'reg_alpha': 0.5341784706815054, 'reg_lambda': 0.8423153949836545, 'n_estimators': 55}. Best is trial 156 with value: 0.9101547367233745.\n",
      "[I 2024-02-05 23:57:44,909] Trial 182 finished with value: 0.9091914036082027 and parameters: {'learning_rate': 0.1517991930240032, 'num_leaves': 27, 'max_depth': 13, 'min_child_samples': 19, 'subsample': 0.5318480152827878, 'colsample_bytree': 0.5096142338242626, 'reg_alpha': 0.6198586299855194, 'reg_lambda': 0.8463306909905572, 'n_estimators': 55}. Best is trial 156 with value: 0.9101547367233745.\n",
      "[I 2024-02-05 23:57:46,627] Trial 184 finished with value: 0.9090467788944233 and parameters: {'learning_rate': 0.15593230449796996, 'num_leaves': 27, 'max_depth': 12, 'min_child_samples': 18, 'subsample': 0.5311634887839363, 'colsample_bytree': 0.5108081298131304, 'reg_alpha': 0.5177529122280317, 'reg_lambda': 0.8205774288161908, 'n_estimators': 54}. Best is trial 156 with value: 0.9101547367233745.\n",
      "[I 2024-02-05 23:59:40,966] Trial 187 finished with value: 0.9086133805304477 and parameters: {'learning_rate': 0.154234710873859, 'num_leaves': 27, 'max_depth': 12, 'min_child_samples': 18, 'subsample': 0.5295064289754827, 'colsample_bytree': 0.5115323858608034, 'reg_alpha': 0.5226473913288621, 'reg_lambda': 0.837133111624625, 'n_estimators': 65}. Best is trial 156 with value: 0.9101547367233745.\n",
      "[I 2024-02-06 00:00:14,906] Trial 161 finished with value: 0.9066380689659013 and parameters: {'learning_rate': 0.11116718276782832, 'num_leaves': 29, 'max_depth': 12, 'min_child_samples': 20, 'subsample': 0.5001186607945024, 'colsample_bytree': 0.50014289138615, 'reg_alpha': 0.6490345980922394, 'reg_lambda': 0.2465050715884639, 'n_estimators': 252}. Best is trial 156 with value: 0.9101547367233745.\n",
      "[I 2024-02-06 00:02:03,012] Trial 189 finished with value: 0.9094322397880772 and parameters: {'learning_rate': 0.15359757835397037, 'num_leaves': 26, 'max_depth': 12, 'min_child_samples': 18, 'subsample': 0.527199331409827, 'colsample_bytree': 0.5120335709014691, 'reg_alpha': 0.5046408823110717, 'reg_lambda': 0.7756163743823937, 'n_estimators': 65}. Best is trial 156 with value: 0.9101547367233745.\n",
      "[I 2024-02-06 00:03:06,725] Trial 194 finished with value: 0.9081316037317656 and parameters: {'learning_rate': 0.168429042409627, 'num_leaves': 22, 'max_depth': 12, 'min_child_samples': 18, 'subsample': 0.529414292765329, 'colsample_bytree': 0.5116720782809914, 'reg_alpha': 0.5118084586450751, 'reg_lambda': 0.8747505541776761, 'n_estimators': 66}. Best is trial 156 with value: 0.9101547367233745.\n",
      "[I 2024-02-06 00:03:13,102] Trial 193 finished with value: 0.9086133341131442 and parameters: {'learning_rate': 0.16761223894219512, 'num_leaves': 22, 'max_depth': 12, 'min_child_samples': 18, 'subsample': 0.527683672512859, 'colsample_bytree': 0.511497349562783, 'reg_alpha': 0.5174365432243662, 'reg_lambda': 0.7709378413203467, 'n_estimators': 68}. Best is trial 156 with value: 0.9101547367233745.\n",
      "[I 2024-02-06 00:03:45,430] Trial 191 finished with value: 0.9082278384065126 and parameters: {'learning_rate': 0.17496709818636372, 'num_leaves': 26, 'max_depth': 12, 'min_child_samples': 18, 'subsample': 0.529291714277081, 'colsample_bytree': 0.5127434964126854, 'reg_alpha': 0.507970947396319, 'reg_lambda': 0.8854577938814033, 'n_estimators': 67}. Best is trial 156 with value: 0.9101547367233745.\n",
      "[I 2024-02-06 00:03:52,692] Trial 190 finished with value: 0.909335889070071 and parameters: {'learning_rate': 0.14965633619531246, 'num_leaves': 31, 'max_depth': 12, 'min_child_samples': 18, 'subsample': 0.5154629569388711, 'colsample_bytree': 0.5110085005586058, 'reg_alpha': 0.5219646154768321, 'reg_lambda': 0.7892507496893778, 'n_estimators': 66}. Best is trial 156 with value: 0.9101547367233745.\n",
      "[I 2024-02-06 00:04:10,334] Trial 192 finished with value: 0.9092877891391865 and parameters: {'learning_rate': 0.1515935670468368, 'num_leaves': 31, 'max_depth': 10, 'min_child_samples': 18, 'subsample': 0.5291125062870339, 'colsample_bytree': 0.5130723473038845, 'reg_alpha': 0.570691295460336, 'reg_lambda': 0.8798288028207214, 'n_estimators': 65}. Best is trial 156 with value: 0.9101547367233745.\n",
      "[I 2024-02-06 00:04:14,667] Trial 196 finished with value: 0.9071199966208205 and parameters: {'learning_rate': 0.16843385970219982, 'num_leaves': 22, 'max_depth': 10, 'min_child_samples': 17, 'subsample': 0.517619413091577, 'colsample_bytree': 0.5430332966169632, 'reg_alpha': 0.509600214775898, 'reg_lambda': 0.7918031615529438, 'n_estimators': 67}. Best is trial 156 with value: 0.9101547367233745.\n",
      "[I 2024-02-06 00:04:23,510] Trial 186 finished with value: 0.9068790327933609 and parameters: {'learning_rate': 0.1552199980643384, 'num_leaves': 61, 'max_depth': 12, 'min_child_samples': 20, 'subsample': 0.5293659106983597, 'colsample_bytree': 0.5091809272181242, 'reg_alpha': 0.4922231257617037, 'reg_lambda': 0.8167543819594072, 'n_estimators': 65}. Best is trial 156 with value: 0.9101547367233745.\n",
      "[I 2024-02-06 00:04:41,798] Trial 157 finished with value: 0.9049038604807256 and parameters: {'learning_rate': 0.14419996110267558, 'num_leaves': 61, 'max_depth': 13, 'min_child_samples': 11, 'subsample': 0.645889874928096, 'colsample_bytree': 0.5004217292338725, 'reg_alpha': 0.5248664770733172, 'reg_lambda': 0.1755424786692752, 'n_estimators': 200}. Best is trial 156 with value: 0.9101547367233745.\n",
      "[I 2024-02-06 00:04:57,118] Trial 199 finished with value: 0.9076016573762434 and parameters: {'learning_rate': 0.17760843023549777, 'num_leaves': 22, 'max_depth': 10, 'min_child_samples': 17, 'subsample': 0.5541366114978554, 'colsample_bytree': 0.5387759047314703, 'reg_alpha': 0.4578684357933785, 'reg_lambda': 0.7881511014905382, 'n_estimators': 68}. Best is trial 156 with value: 0.9101547367233745.\n",
      "[I 2024-02-06 00:05:02,010] Trial 198 finished with value: 0.9076981937634638 and parameters: {'learning_rate': 0.1686092812713198, 'num_leaves': 31, 'max_depth': 10, 'min_child_samples': 17, 'subsample': 0.5563082715046418, 'colsample_bytree': 0.5371060145402129, 'reg_alpha': 0.4872278782228026, 'reg_lambda': 0.8789421875537783, 'n_estimators': 68}. Best is trial 156 with value: 0.9101547367233745.\n",
      "[I 2024-02-06 00:05:11,345] Trial 195 finished with value: 0.9061083663012232 and parameters: {'learning_rate': 0.16658231542396718, 'num_leaves': 63, 'max_depth': 12, 'min_child_samples': 18, 'subsample': 0.5250063125046718, 'colsample_bytree': 0.5387025223294831, 'reg_alpha': 0.47739558007340094, 'reg_lambda': 0.792837555615093, 'n_estimators': 66}. Best is trial 156 with value: 0.9101547367233745.\n",
      "[I 2024-02-06 00:05:15,383] Trial 197 finished with value: 0.9066384170956786 and parameters: {'learning_rate': 0.17580657777094102, 'num_leaves': 63, 'max_depth': 10, 'min_child_samples': 18, 'subsample': 0.5174769126248169, 'colsample_bytree': 0.5377170771513318, 'reg_alpha': 0.49843564759308373, 'reg_lambda': 0.8845208336014668, 'n_estimators': 65}. Best is trial 156 with value: 0.9101547367233745.\n",
      "[I 2024-02-06 00:05:17,336] Trial 188 finished with value: 0.9062527241155067 and parameters: {'learning_rate': 0.15313280970233245, 'num_leaves': 26, 'max_depth': 12, 'min_child_samples': 18, 'subsample': 0.5283162586140241, 'colsample_bytree': 0.5091711099634613, 'reg_alpha': 0.4476614932847446, 'reg_lambda': 0.8579616893024927, 'n_estimators': 198}. Best is trial 156 with value: 0.9101547367233745.\n",
      "\n",
      "scores : 0.9101547367233745, params : {'learning_rate': 0.11327114705127682, 'num_leaves': 29, 'max_depth': 12, 'min_child_samples': 11, 'subsample': 0.6454638392277356, 'colsample_bytree': 0.501292677205366, 'reg_alpha': 0.7224308689715246, 'reg_lambda': 0.1780199013546951, 'n_estimators': 68} \n"
     ]
    },
    {
     "data": {
      "application/vnd.plotly.v1+json": {
       "config": {
        "plotlyServerURL": "https://plot.ly"
       },
       "data": [
        {
         "cliponaxis": false,
         "hovertemplate": [
          "max_depth (IntDistribution): 0.004616626419946801<extra></extra>",
          "min_child_samples (IntDistribution): 0.00651397159810875<extra></extra>",
          "subsample (FloatDistribution): 0.014083571595389338<extra></extra>",
          "reg_lambda (FloatDistribution): 0.017732151862968715<extra></extra>",
          "reg_alpha (FloatDistribution): 0.0628839111230116<extra></extra>",
          "num_leaves (IntDistribution): 0.1059048233057832<extra></extra>",
          "n_estimators (IntDistribution): 0.141765001971252<extra></extra>",
          "colsample_bytree (FloatDistribution): 0.307636735011982<extra></extra>",
          "learning_rate (FloatDistribution): 0.33886320711155765<extra></extra>"
         ],
         "name": "Objective Value",
         "orientation": "h",
         "text": [
          "<0.01",
          "<0.01",
          "0.01",
          "0.02",
          "0.06",
          "0.11",
          "0.14",
          "0.31",
          "0.34"
         ],
         "textposition": "outside",
         "type": "bar",
         "x": [
          0.004616626419946801,
          0.00651397159810875,
          0.014083571595389338,
          0.017732151862968715,
          0.0628839111230116,
          0.1059048233057832,
          0.141765001971252,
          0.307636735011982,
          0.33886320711155765
         ],
         "y": [
          "max_depth",
          "min_child_samples",
          "subsample",
          "reg_lambda",
          "reg_alpha",
          "num_leaves",
          "n_estimators",
          "colsample_bytree",
          "learning_rate"
         ]
        }
       ],
       "layout": {
        "template": {
         "data": {
          "bar": [
           {
            "error_x": {
             "color": "#2a3f5f"
            },
            "error_y": {
             "color": "#2a3f5f"
            },
            "marker": {
             "line": {
              "color": "#E5ECF6",
              "width": 0.5
             },
             "pattern": {
              "fillmode": "overlay",
              "size": 10,
              "solidity": 0.2
             }
            },
            "type": "bar"
           }
          ],
          "barpolar": [
           {
            "marker": {
             "line": {
              "color": "#E5ECF6",
              "width": 0.5
             },
             "pattern": {
              "fillmode": "overlay",
              "size": 10,
              "solidity": 0.2
             }
            },
            "type": "barpolar"
           }
          ],
          "carpet": [
           {
            "aaxis": {
             "endlinecolor": "#2a3f5f",
             "gridcolor": "white",
             "linecolor": "white",
             "minorgridcolor": "white",
             "startlinecolor": "#2a3f5f"
            },
            "baxis": {
             "endlinecolor": "#2a3f5f",
             "gridcolor": "white",
             "linecolor": "white",
             "minorgridcolor": "white",
             "startlinecolor": "#2a3f5f"
            },
            "type": "carpet"
           }
          ],
          "choropleth": [
           {
            "colorbar": {
             "outlinewidth": 0,
             "ticks": ""
            },
            "type": "choropleth"
           }
          ],
          "contour": [
           {
            "colorbar": {
             "outlinewidth": 0,
             "ticks": ""
            },
            "colorscale": [
             [
              0,
              "#0d0887"
             ],
             [
              0.1111111111111111,
              "#46039f"
             ],
             [
              0.2222222222222222,
              "#7201a8"
             ],
             [
              0.3333333333333333,
              "#9c179e"
             ],
             [
              0.4444444444444444,
              "#bd3786"
             ],
             [
              0.5555555555555556,
              "#d8576b"
             ],
             [
              0.6666666666666666,
              "#ed7953"
             ],
             [
              0.7777777777777778,
              "#fb9f3a"
             ],
             [
              0.8888888888888888,
              "#fdca26"
             ],
             [
              1,
              "#f0f921"
             ]
            ],
            "type": "contour"
           }
          ],
          "contourcarpet": [
           {
            "colorbar": {
             "outlinewidth": 0,
             "ticks": ""
            },
            "type": "contourcarpet"
           }
          ],
          "heatmap": [
           {
            "colorbar": {
             "outlinewidth": 0,
             "ticks": ""
            },
            "colorscale": [
             [
              0,
              "#0d0887"
             ],
             [
              0.1111111111111111,
              "#46039f"
             ],
             [
              0.2222222222222222,
              "#7201a8"
             ],
             [
              0.3333333333333333,
              "#9c179e"
             ],
             [
              0.4444444444444444,
              "#bd3786"
             ],
             [
              0.5555555555555556,
              "#d8576b"
             ],
             [
              0.6666666666666666,
              "#ed7953"
             ],
             [
              0.7777777777777778,
              "#fb9f3a"
             ],
             [
              0.8888888888888888,
              "#fdca26"
             ],
             [
              1,
              "#f0f921"
             ]
            ],
            "type": "heatmap"
           }
          ],
          "heatmapgl": [
           {
            "colorbar": {
             "outlinewidth": 0,
             "ticks": ""
            },
            "colorscale": [
             [
              0,
              "#0d0887"
             ],
             [
              0.1111111111111111,
              "#46039f"
             ],
             [
              0.2222222222222222,
              "#7201a8"
             ],
             [
              0.3333333333333333,
              "#9c179e"
             ],
             [
              0.4444444444444444,
              "#bd3786"
             ],
             [
              0.5555555555555556,
              "#d8576b"
             ],
             [
              0.6666666666666666,
              "#ed7953"
             ],
             [
              0.7777777777777778,
              "#fb9f3a"
             ],
             [
              0.8888888888888888,
              "#fdca26"
             ],
             [
              1,
              "#f0f921"
             ]
            ],
            "type": "heatmapgl"
           }
          ],
          "histogram": [
           {
            "marker": {
             "pattern": {
              "fillmode": "overlay",
              "size": 10,
              "solidity": 0.2
             }
            },
            "type": "histogram"
           }
          ],
          "histogram2d": [
           {
            "colorbar": {
             "outlinewidth": 0,
             "ticks": ""
            },
            "colorscale": [
             [
              0,
              "#0d0887"
             ],
             [
              0.1111111111111111,
              "#46039f"
             ],
             [
              0.2222222222222222,
              "#7201a8"
             ],
             [
              0.3333333333333333,
              "#9c179e"
             ],
             [
              0.4444444444444444,
              "#bd3786"
             ],
             [
              0.5555555555555556,
              "#d8576b"
             ],
             [
              0.6666666666666666,
              "#ed7953"
             ],
             [
              0.7777777777777778,
              "#fb9f3a"
             ],
             [
              0.8888888888888888,
              "#fdca26"
             ],
             [
              1,
              "#f0f921"
             ]
            ],
            "type": "histogram2d"
           }
          ],
          "histogram2dcontour": [
           {
            "colorbar": {
             "outlinewidth": 0,
             "ticks": ""
            },
            "colorscale": [
             [
              0,
              "#0d0887"
             ],
             [
              0.1111111111111111,
              "#46039f"
             ],
             [
              0.2222222222222222,
              "#7201a8"
             ],
             [
              0.3333333333333333,
              "#9c179e"
             ],
             [
              0.4444444444444444,
              "#bd3786"
             ],
             [
              0.5555555555555556,
              "#d8576b"
             ],
             [
              0.6666666666666666,
              "#ed7953"
             ],
             [
              0.7777777777777778,
              "#fb9f3a"
             ],
             [
              0.8888888888888888,
              "#fdca26"
             ],
             [
              1,
              "#f0f921"
             ]
            ],
            "type": "histogram2dcontour"
           }
          ],
          "mesh3d": [
           {
            "colorbar": {
             "outlinewidth": 0,
             "ticks": ""
            },
            "type": "mesh3d"
           }
          ],
          "parcoords": [
           {
            "line": {
             "colorbar": {
              "outlinewidth": 0,
              "ticks": ""
             }
            },
            "type": "parcoords"
           }
          ],
          "pie": [
           {
            "automargin": true,
            "type": "pie"
           }
          ],
          "scatter": [
           {
            "fillpattern": {
             "fillmode": "overlay",
             "size": 10,
             "solidity": 0.2
            },
            "type": "scatter"
           }
          ],
          "scatter3d": [
           {
            "line": {
             "colorbar": {
              "outlinewidth": 0,
              "ticks": ""
             }
            },
            "marker": {
             "colorbar": {
              "outlinewidth": 0,
              "ticks": ""
             }
            },
            "type": "scatter3d"
           }
          ],
          "scattercarpet": [
           {
            "marker": {
             "colorbar": {
              "outlinewidth": 0,
              "ticks": ""
             }
            },
            "type": "scattercarpet"
           }
          ],
          "scattergeo": [
           {
            "marker": {
             "colorbar": {
              "outlinewidth": 0,
              "ticks": ""
             }
            },
            "type": "scattergeo"
           }
          ],
          "scattergl": [
           {
            "marker": {
             "colorbar": {
              "outlinewidth": 0,
              "ticks": ""
             }
            },
            "type": "scattergl"
           }
          ],
          "scattermapbox": [
           {
            "marker": {
             "colorbar": {
              "outlinewidth": 0,
              "ticks": ""
             }
            },
            "type": "scattermapbox"
           }
          ],
          "scatterpolar": [
           {
            "marker": {
             "colorbar": {
              "outlinewidth": 0,
              "ticks": ""
             }
            },
            "type": "scatterpolar"
           }
          ],
          "scatterpolargl": [
           {
            "marker": {
             "colorbar": {
              "outlinewidth": 0,
              "ticks": ""
             }
            },
            "type": "scatterpolargl"
           }
          ],
          "scatterternary": [
           {
            "marker": {
             "colorbar": {
              "outlinewidth": 0,
              "ticks": ""
             }
            },
            "type": "scatterternary"
           }
          ],
          "surface": [
           {
            "colorbar": {
             "outlinewidth": 0,
             "ticks": ""
            },
            "colorscale": [
             [
              0,
              "#0d0887"
             ],
             [
              0.1111111111111111,
              "#46039f"
             ],
             [
              0.2222222222222222,
              "#7201a8"
             ],
             [
              0.3333333333333333,
              "#9c179e"
             ],
             [
              0.4444444444444444,
              "#bd3786"
             ],
             [
              0.5555555555555556,
              "#d8576b"
             ],
             [
              0.6666666666666666,
              "#ed7953"
             ],
             [
              0.7777777777777778,
              "#fb9f3a"
             ],
             [
              0.8888888888888888,
              "#fdca26"
             ],
             [
              1,
              "#f0f921"
             ]
            ],
            "type": "surface"
           }
          ],
          "table": [
           {
            "cells": {
             "fill": {
              "color": "#EBF0F8"
             },
             "line": {
              "color": "white"
             }
            },
            "header": {
             "fill": {
              "color": "#C8D4E3"
             },
             "line": {
              "color": "white"
             }
            },
            "type": "table"
           }
          ]
         },
         "layout": {
          "annotationdefaults": {
           "arrowcolor": "#2a3f5f",
           "arrowhead": 0,
           "arrowwidth": 1
          },
          "autotypenumbers": "strict",
          "coloraxis": {
           "colorbar": {
            "outlinewidth": 0,
            "ticks": ""
           }
          },
          "colorscale": {
           "diverging": [
            [
             0,
             "#8e0152"
            ],
            [
             0.1,
             "#c51b7d"
            ],
            [
             0.2,
             "#de77ae"
            ],
            [
             0.3,
             "#f1b6da"
            ],
            [
             0.4,
             "#fde0ef"
            ],
            [
             0.5,
             "#f7f7f7"
            ],
            [
             0.6,
             "#e6f5d0"
            ],
            [
             0.7,
             "#b8e186"
            ],
            [
             0.8,
             "#7fbc41"
            ],
            [
             0.9,
             "#4d9221"
            ],
            [
             1,
             "#276419"
            ]
           ],
           "sequential": [
            [
             0,
             "#0d0887"
            ],
            [
             0.1111111111111111,
             "#46039f"
            ],
            [
             0.2222222222222222,
             "#7201a8"
            ],
            [
             0.3333333333333333,
             "#9c179e"
            ],
            [
             0.4444444444444444,
             "#bd3786"
            ],
            [
             0.5555555555555556,
             "#d8576b"
            ],
            [
             0.6666666666666666,
             "#ed7953"
            ],
            [
             0.7777777777777778,
             "#fb9f3a"
            ],
            [
             0.8888888888888888,
             "#fdca26"
            ],
            [
             1,
             "#f0f921"
            ]
           ],
           "sequentialminus": [
            [
             0,
             "#0d0887"
            ],
            [
             0.1111111111111111,
             "#46039f"
            ],
            [
             0.2222222222222222,
             "#7201a8"
            ],
            [
             0.3333333333333333,
             "#9c179e"
            ],
            [
             0.4444444444444444,
             "#bd3786"
            ],
            [
             0.5555555555555556,
             "#d8576b"
            ],
            [
             0.6666666666666666,
             "#ed7953"
            ],
            [
             0.7777777777777778,
             "#fb9f3a"
            ],
            [
             0.8888888888888888,
             "#fdca26"
            ],
            [
             1,
             "#f0f921"
            ]
           ]
          },
          "colorway": [
           "#636efa",
           "#EF553B",
           "#00cc96",
           "#ab63fa",
           "#FFA15A",
           "#19d3f3",
           "#FF6692",
           "#B6E880",
           "#FF97FF",
           "#FECB52"
          ],
          "font": {
           "color": "#2a3f5f"
          },
          "geo": {
           "bgcolor": "white",
           "lakecolor": "white",
           "landcolor": "#E5ECF6",
           "showlakes": true,
           "showland": true,
           "subunitcolor": "white"
          },
          "hoverlabel": {
           "align": "left"
          },
          "hovermode": "closest",
          "mapbox": {
           "style": "light"
          },
          "paper_bgcolor": "white",
          "plot_bgcolor": "#E5ECF6",
          "polar": {
           "angularaxis": {
            "gridcolor": "white",
            "linecolor": "white",
            "ticks": ""
           },
           "bgcolor": "#E5ECF6",
           "radialaxis": {
            "gridcolor": "white",
            "linecolor": "white",
            "ticks": ""
           }
          },
          "scene": {
           "xaxis": {
            "backgroundcolor": "#E5ECF6",
            "gridcolor": "white",
            "gridwidth": 2,
            "linecolor": "white",
            "showbackground": true,
            "ticks": "",
            "zerolinecolor": "white"
           },
           "yaxis": {
            "backgroundcolor": "#E5ECF6",
            "gridcolor": "white",
            "gridwidth": 2,
            "linecolor": "white",
            "showbackground": true,
            "ticks": "",
            "zerolinecolor": "white"
           },
           "zaxis": {
            "backgroundcolor": "#E5ECF6",
            "gridcolor": "white",
            "gridwidth": 2,
            "linecolor": "white",
            "showbackground": true,
            "ticks": "",
            "zerolinecolor": "white"
           }
          },
          "shapedefaults": {
           "line": {
            "color": "#2a3f5f"
           }
          },
          "ternary": {
           "aaxis": {
            "gridcolor": "white",
            "linecolor": "white",
            "ticks": ""
           },
           "baxis": {
            "gridcolor": "white",
            "linecolor": "white",
            "ticks": ""
           },
           "bgcolor": "#E5ECF6",
           "caxis": {
            "gridcolor": "white",
            "linecolor": "white",
            "ticks": ""
           }
          },
          "title": {
           "x": 0.05
          },
          "xaxis": {
           "automargin": true,
           "gridcolor": "white",
           "linecolor": "white",
           "ticks": "",
           "title": {
            "standoff": 15
           },
           "zerolinecolor": "white",
           "zerolinewidth": 2
          },
          "yaxis": {
           "automargin": true,
           "gridcolor": "white",
           "linecolor": "white",
           "ticks": "",
           "title": {
            "standoff": 15
           },
           "zerolinecolor": "white",
           "zerolinewidth": 2
          }
         }
        },
        "title": {
         "text": "Hyperparameter Importances"
        },
        "xaxis": {
         "title": {
          "text": "Hyperparameter Importance"
         }
        },
        "yaxis": {
         "title": {
          "text": "Hyperparameter"
         }
        }
       }
      }
     },
     "metadata": {},
     "output_type": "display_data"
    }
   ],
   "source": [
    "lgbm_study = optuna.create_study(direction = 'maximize')\n",
    "lgbm_study.optimize(lgbm_objective,n_trials=TRIALS, n_jobs=-1, show_progress_bar=True)\n",
    "print(\"\")\n",
    "print(f'scores : {lgbm_study.best_value}, params : {lgbm_study.best_params} ')\n",
    "with open('lgbm.json', 'w') as json_file:\n",
    "    json.dump(lgbm_study.best_params, json_file, indent=4)\n",
    "optuna.visualization.plot_param_importances(lgbm_study)"
   ]
  },
  {
   "cell_type": "markdown",
   "metadata": {},
   "source": [
    "## CatBoost"
   ]
  },
  {
   "cell_type": "code",
   "execution_count": 14,
   "metadata": {},
   "outputs": [],
   "source": [
    "params_cat ={    \n",
    "    'thread_count': 4,\n",
    "    'eval_metric': 'AUC',\n",
    "    'loss_function': 'MultiClass',\n",
    "    'random_seed': SEED,\n",
    "    'verbose': False,\n",
    "    'cat_features' : [8,9,10,11,12,13,14,15]\n",
    "    \n",
    "}\n",
    "def cat_objective(trial):\n",
    "    params = {\n",
    "        'learning_rate': trial.suggest_float('learning_rate', 0.01, 0.3),\n",
    "        'depth': trial.suggest_int('depth', 4, 10),\n",
    "        'l2_leaf_reg': trial.suggest_float('l2_leaf_reg', 1, 10),\n",
    "        'iterations': trial.suggest_int('iterations', 50, 300),\n",
    "        'border_count': trial.suggest_int('border_count', 32, 255),\n",
    "        **params_cat\n",
    "    }\n",
    "    \n",
    "    optuna_model = make_pipeline(\n",
    "        FeatureScaler,\n",
    "        CatBoostClassifier(**params)\n",
    "    )\n",
    "    \n",
    "    optuna_score = cross_val_score(optuna_model, X, y, scoring='accuracy', cv=SKF)\n",
    "    \n",
    "    return np.mean(optuna_score)"
   ]
  },
  {
   "cell_type": "code",
   "execution_count": 15,
   "metadata": {},
   "outputs": [
    {
     "name": "stderr",
     "output_type": "stream",
     "text": [
      "[I 2024-02-06 00:05:18,445] A new study created in memory with name: no-name-b2837778-bc1b-4bd6-ab52-2c135b8e990a\n"
     ]
    },
    {
     "data": {
      "application/vnd.jupyter.widget-view+json": {
       "model_id": "9ded6d47351f498b8bc0fcf6034b618f",
       "version_major": 2,
       "version_minor": 0
      },
      "text/plain": [
       "  0%|          | 0/200 [00:00<?, ?it/s]"
      ]
     },
     "metadata": {},
     "output_type": "display_data"
    },
    {
     "name": "stdout",
     "output_type": "stream",
     "text": [
      "[I 2024-02-06 00:06:44,681] Trial 2 finished with value: 0.8746503500560954 and parameters: {'learning_rate': 0.03739944155725026, 'depth': 8, 'l2_leaf_reg': 5.173271362547643, 'iterations': 80, 'border_count': 151}. Best is trial 2 with value: 0.8746503500560954.\n",
      "[I 2024-02-06 00:07:02,851] Trial 6 finished with value: 0.8987855028548962 and parameters: {'learning_rate': 0.26114494554501494, 'depth': 7, 'l2_leaf_reg': 8.735731373685564, 'iterations': 101, 'border_count': 152}. Best is trial 6 with value: 0.8987855028548962.\n",
      "[I 2024-02-06 00:08:34,735] Trial 7 finished with value: 0.9027358126671892 and parameters: {'learning_rate': 0.2446158661721171, 'depth': 6, 'l2_leaf_reg': 7.890124707330498, 'iterations': 190, 'border_count': 111}. Best is trial 7 with value: 0.9027358126671892.\n",
      "[I 2024-02-06 00:09:16,759] Trial 10 finished with value: 0.8996045593860661 and parameters: {'learning_rate': 0.13066013731601567, 'depth': 8, 'l2_leaf_reg': 1.1054488900509147, 'iterations': 188, 'border_count': 44}. Best is trial 7 with value: 0.9027358126671892.\n",
      "[I 2024-02-06 00:09:21,453] Trial 4 finished with value: 0.897195628975352 and parameters: {'learning_rate': 0.25561608979636014, 'depth': 10, 'l2_leaf_reg': 9.28930350554056, 'iterations': 137, 'border_count': 161}. Best is trial 7 with value: 0.9027358126671892.\n",
      "[I 2024-02-06 00:09:22,037] Trial 8 finished with value: 0.8962323538818096 and parameters: {'learning_rate': 0.28990237332659063, 'depth': 10, 'l2_leaf_reg': 9.688644129555895, 'iterations': 147, 'border_count': 88}. Best is trial 7 with value: 0.9027358126671892.\n",
      "[I 2024-02-06 00:09:31,725] Trial 9 finished with value: 0.8994602015717827 and parameters: {'learning_rate': 0.09581445408162544, 'depth': 4, 'l2_leaf_reg': 9.901972622510232, 'iterations': 273, 'border_count': 157}. Best is trial 7 with value: 0.9027358126671892.\n",
      "[I 2024-02-06 00:09:53,389] Trial 1 finished with value: 0.9000382478581896 and parameters: {'learning_rate': 0.273776607007902, 'depth': 5, 'l2_leaf_reg': 4.374517950510093, 'iterations': 255, 'border_count': 44}. Best is trial 7 with value: 0.9027358126671892.\n",
      "[I 2024-02-06 00:10:26,010] Trial 15 finished with value: 0.8907405138117006 and parameters: {'learning_rate': 0.13945185862791393, 'depth': 6, 'l2_leaf_reg': 8.819603180228947, 'iterations': 67, 'border_count': 229}. Best is trial 7 with value: 0.9027358126671892.\n",
      "[I 2024-02-06 00:10:26,645] Trial 0 finished with value: 0.902784167893244 and parameters: {'learning_rate': 0.25447837205131385, 'depth': 5, 'l2_leaf_reg': 6.8877457912773075, 'iterations': 282, 'border_count': 117}. Best is trial 0 with value: 0.902784167893244.\n",
      "[I 2024-02-06 00:10:40,077] Trial 14 finished with value: 0.9020615781233392 and parameters: {'learning_rate': 0.2922088870206027, 'depth': 4, 'l2_leaf_reg': 2.7848386659326687, 'iterations': 175, 'border_count': 226}. Best is trial 0 with value: 0.902784167893244.\n",
      "[I 2024-02-06 00:10:49,460] Trial 19 finished with value: 0.8852970173633208 and parameters: {'learning_rate': 0.12132305021784665, 'depth': 4, 'l2_leaf_reg': 5.236062425970326, 'iterations': 85, 'border_count': 205}. Best is trial 0 with value: 0.902784167893244.\n",
      "[I 2024-02-06 00:11:05,446] Trial 18 finished with value: 0.8976776842778558 and parameters: {'learning_rate': 0.27124076566188055, 'depth': 7, 'l2_leaf_reg': 6.752073295407731, 'iterations': 84, 'border_count': 97}. Best is trial 0 with value: 0.902784167893244.\n",
      "[I 2024-02-06 00:11:18,357] Trial 16 finished with value: 0.8901145068463203 and parameters: {'learning_rate': 0.05781883155090929, 'depth': 6, 'l2_leaf_reg': 1.2392018062171821, 'iterations': 128, 'border_count': 196}. Best is trial 0 with value: 0.902784167893244.\n",
      "[I 2024-02-06 00:12:06,729] Trial 3 finished with value: 0.8930531515260384 and parameters: {'learning_rate': 0.032332044862354234, 'depth': 6, 'l2_leaf_reg': 9.188363767156062, 'iterations': 300, 'border_count': 237}. Best is trial 0 with value: 0.902784167893244.\n",
      "[I 2024-02-06 00:13:00,027] Trial 12 finished with value: 0.8998454767962218 and parameters: {'learning_rate': 0.10365678998524132, 'depth': 7, 'l2_leaf_reg': 6.60041721154709, 'iterations': 206, 'border_count': 154}. Best is trial 0 with value: 0.902784167893244.\n",
      "[I 2024-02-06 00:14:12,474] Trial 21 finished with value: 0.9001826636941026 and parameters: {'learning_rate': 0.19036173638734397, 'depth': 4, 'l2_leaf_reg': 6.797677640056197, 'iterations': 231, 'border_count': 215}. Best is trial 0 with value: 0.902784167893244.\n",
      "[I 2024-02-06 00:16:02,169] Trial 22 finished with value: 0.9030731388169808 and parameters: {'learning_rate': 0.19084475976092055, 'depth': 6, 'l2_leaf_reg': 7.097937701121055, 'iterations': 226, 'border_count': 102}. Best is trial 22 with value: 0.9030731388169808.\n",
      "[I 2024-02-06 00:16:27,963] Trial 26 finished with value: 0.9006163521662259 and parameters: {'learning_rate': 0.20276736402106751, 'depth': 5, 'l2_leaf_reg': 7.180343867939036, 'iterations': 224, 'border_count': 105}. Best is trial 22 with value: 0.9030731388169808.\n",
      "[I 2024-02-06 00:16:28,375] Trial 23 finished with value: 0.902157963654323 and parameters: {'learning_rate': 0.20494100279996805, 'depth': 6, 'l2_leaf_reg': 7.435454585906721, 'iterations': 237, 'border_count': 101}. Best is trial 22 with value: 0.9030731388169808.\n",
      "[I 2024-02-06 00:16:47,390] Trial 24 finished with value: 0.9033141606660697 and parameters: {'learning_rate': 0.20618866413551729, 'depth': 6, 'l2_leaf_reg': 7.105261554014278, 'iterations': 238, 'border_count': 106}. Best is trial 24 with value: 0.9033141606660697.\n",
      "[I 2024-02-06 00:17:02,444] Trial 25 finished with value: 0.9030732664645658 and parameters: {'learning_rate': 0.19714358949542676, 'depth': 6, 'l2_leaf_reg': 7.104139062556613, 'iterations': 232, 'border_count': 111}. Best is trial 24 with value: 0.9033141606660697.\n",
      "[I 2024-02-06 00:17:04,967] Trial 5 finished with value: 0.9019169882225375 and parameters: {'learning_rate': 0.21649607993006217, 'depth': 9, 'l2_leaf_reg': 7.080966972009842, 'iterations': 282, 'border_count': 198}. Best is trial 24 with value: 0.9033141606660697.\n",
      "[I 2024-02-06 00:17:37,664] Trial 27 finished with value: 0.9033142418963511 and parameters: {'learning_rate': 0.21193006735023398, 'depth': 5, 'l2_leaf_reg': 7.16003834080631, 'iterations': 229, 'border_count': 102}. Best is trial 27 with value: 0.9033142418963511.\n",
      "[I 2024-02-06 00:18:07,231] Trial 20 finished with value: 0.9011460896438818 and parameters: {'learning_rate': 0.14573338613452075, 'depth': 7, 'l2_leaf_reg': 7.937259974874574, 'iterations': 244, 'border_count': 250}. Best is trial 27 with value: 0.9033142418963511.\n",
      "[I 2024-02-06 00:18:31,686] Trial 11 finished with value: 0.8943536367261133 and parameters: {'learning_rate': 0.18646134067795048, 'depth': 10, 'l2_leaf_reg': 2.898398025311172, 'iterations': 275, 'border_count': 48}. Best is trial 27 with value: 0.9033142418963511.\n",
      "[I 2024-02-06 00:18:39,312] Trial 28 finished with value: 0.9011943520353292 and parameters: {'learning_rate': 0.2117932636911723, 'depth': 5, 'l2_leaf_reg': 7.617028640138387, 'iterations': 227, 'border_count': 109}. Best is trial 27 with value: 0.9033142418963511.\n",
      "[I 2024-02-06 00:19:28,051] Trial 13 finished with value: 0.8964251829654065 and parameters: {'learning_rate': 0.1986775158570945, 'depth': 10, 'l2_leaf_reg': 9.790077857607875, 'iterations': 258, 'border_count': 36}. Best is trial 27 with value: 0.9033142418963511.\n",
      "[I 2024-02-06 00:20:42,327] Trial 29 finished with value: 0.9023988114385233 and parameters: {'learning_rate': 0.2054445990815917, 'depth': 5, 'l2_leaf_reg': 7.738666971622445, 'iterations': 231, 'border_count': 76}. Best is trial 27 with value: 0.9033142418963511.\n",
      "[I 2024-02-06 00:21:24,887] Trial 17 finished with value: 0.896714072658862 and parameters: {'learning_rate': 0.06324347545446807, 'depth': 10, 'l2_leaf_reg': 4.482197689315454, 'iterations': 231, 'border_count': 231}. Best is trial 27 with value: 0.9033142418963511.\n",
      "[I 2024-02-06 00:22:09,658] Trial 36 finished with value: 0.8998937043746917 and parameters: {'learning_rate': 0.16636904825317922, 'depth': 5, 'l2_leaf_reg': 6.115496922385965, 'iterations': 204, 'border_count': 68}. Best is trial 27 with value: 0.9033142418963511.\n",
      "[I 2024-02-06 00:22:12,315] Trial 30 finished with value: 0.9025914896658837 and parameters: {'learning_rate': 0.1878904137966616, 'depth': 5, 'l2_leaf_reg': 3.7135697428110004, 'iterations': 296, 'border_count': 75}. Best is trial 27 with value: 0.9033142418963511.\n",
      "[I 2024-02-06 00:22:17,225] Trial 31 finished with value: 0.9041331243626324 and parameters: {'learning_rate': 0.17161159088793385, 'depth': 5, 'l2_leaf_reg': 3.7699399759950976, 'iterations': 298, 'border_count': 71}. Best is trial 31 with value: 0.9041331243626324.\n",
      "[I 2024-02-06 00:22:18,906] Trial 32 finished with value: 0.90143539709307 and parameters: {'learning_rate': 0.18113929344308385, 'depth': 5, 'l2_leaf_reg': 5.991992138616, 'iterations': 286, 'border_count': 69}. Best is trial 31 with value: 0.9041331243626324.\n",
      "[I 2024-02-06 00:22:28,798] Trial 35 finished with value: 0.9025914780615576 and parameters: {'learning_rate': 0.16174190167842978, 'depth': 5, 'l2_leaf_reg': 5.764072775894484, 'iterations': 248, 'border_count': 62}. Best is trial 31 with value: 0.9041331243626324.\n",
      "[I 2024-02-06 00:22:37,248] Trial 37 finished with value: 0.8998455116091998 and parameters: {'learning_rate': 0.1683233478838635, 'depth': 5, 'l2_leaf_reg': 5.807641872481518, 'iterations': 210, 'border_count': 66}. Best is trial 31 with value: 0.9041331243626324.\n",
      "[I 2024-02-06 00:23:33,193] Trial 38 finished with value: 0.9019170346398411 and parameters: {'learning_rate': 0.16840000937042676, 'depth': 5, 'l2_leaf_reg': 6.001500878783814, 'iterations': 257, 'border_count': 67}. Best is trial 31 with value: 0.9041331243626324.\n",
      "[I 2024-02-06 00:23:36,290] Trial 39 finished with value: 0.9010020683550497 and parameters: {'learning_rate': 0.16886755858835836, 'depth': 5, 'l2_leaf_reg': 5.841769956605442, 'iterations': 207, 'border_count': 78}. Best is trial 31 with value: 0.9041331243626324.\n",
      "[I 2024-02-06 00:24:20,651] Trial 33 finished with value: 0.9010499013864385 and parameters: {'learning_rate': 0.16567363399952667, 'depth': 8, 'l2_leaf_reg': 5.951565394589535, 'iterations': 212, 'border_count': 73}. Best is trial 31 with value: 0.9041331243626324.\n",
      "[I 2024-02-06 00:24:35,981] Trial 34 finished with value: 0.9019170230355155 and parameters: {'learning_rate': 0.16984413954278726, 'depth': 7, 'l2_leaf_reg': 5.8727489277720455, 'iterations': 245, 'border_count': 71}. Best is trial 31 with value: 0.9041331243626324.\n",
      "[I 2024-02-06 00:24:47,265] Trial 40 finished with value: 0.9021097012628756 and parameters: {'learning_rate': 0.16845879000941488, 'depth': 5, 'l2_leaf_reg': 5.991855457505868, 'iterations': 205, 'border_count': 129}. Best is trial 31 with value: 0.9041331243626324.\n",
      "[I 2024-02-06 00:25:22,990] Trial 41 finished with value: 0.9029769389552115 and parameters: {'learning_rate': 0.230426804772735, 'depth': 5, 'l2_leaf_reg': 5.9479461826859925, 'iterations': 207, 'border_count': 131}. Best is trial 31 with value: 0.9041331243626324.\n",
      "[I 2024-02-06 00:26:51,955] Trial 42 finished with value: 0.9025431808571327 and parameters: {'learning_rate': 0.23158266843939296, 'depth': 6, 'l2_leaf_reg': 5.928271068705412, 'iterations': 203, 'border_count': 124}. Best is trial 31 with value: 0.9041331243626324.\n",
      "[I 2024-02-06 00:26:55,120] Trial 48 finished with value: 0.9001826404854507 and parameters: {'learning_rate': 0.2323487138669254, 'depth': 8, 'l2_leaf_reg': 8.349545671678804, 'iterations': 156, 'border_count': 138}. Best is trial 31 with value: 0.9041331243626324.\n",
      "[I 2024-02-06 00:27:08,643] Trial 44 finished with value: 0.90374774469926 and parameters: {'learning_rate': 0.23931927708321044, 'depth': 5, 'l2_leaf_reg': 6.110741392881771, 'iterations': 257, 'border_count': 138}. Best is trial 31 with value: 0.9041331243626324.\n",
      "[I 2024-02-06 00:27:19,194] Trial 51 finished with value: 0.9023024723248432 and parameters: {'learning_rate': 0.23158218671663766, 'depth': 6, 'l2_leaf_reg': 8.400428870451124, 'iterations': 169, 'border_count': 130}. Best is trial 31 with value: 0.9041331243626324.\n",
      "[I 2024-02-06 00:27:24,169] Trial 52 finished with value: 0.9000381086062788 and parameters: {'learning_rate': 0.23153437259396606, 'depth': 6, 'l2_leaf_reg': 8.342998622077774, 'iterations': 161, 'border_count': 124}. Best is trial 31 with value: 0.9041331243626324.\n",
      "[I 2024-02-06 00:28:02,557] Trial 43 finished with value: 0.905337398096612 and parameters: {'learning_rate': 0.2367366613164073, 'depth': 6, 'l2_leaf_reg': 6.068073209516421, 'iterations': 251, 'border_count': 123}. Best is trial 43 with value: 0.905337398096612.\n",
      "[I 2024-02-06 00:28:10,945] Trial 53 finished with value: 0.902109770888831 and parameters: {'learning_rate': 0.22888848339171092, 'depth': 6, 'l2_leaf_reg': 8.294203940459427, 'iterations': 165, 'border_count': 130}. Best is trial 43 with value: 0.905337398096612.\n",
      "[I 2024-02-06 00:28:13,326] Trial 45 finished with value: 0.9023985909563311 and parameters: {'learning_rate': 0.23310886493595342, 'depth': 6, 'l2_leaf_reg': 5.939977850384067, 'iterations': 258, 'border_count': 125}. Best is trial 43 with value: 0.905337398096612.\n",
      "[I 2024-02-06 00:28:43,379] Trial 47 finished with value: 0.9043740069598105 and parameters: {'learning_rate': 0.22877583063268042, 'depth': 6, 'l2_leaf_reg': 4.312268756919261, 'iterations': 260, 'border_count': 129}. Best is trial 43 with value: 0.905337398096612.\n",
      "[I 2024-02-06 00:29:44,099] Trial 54 finished with value: 0.9010016505993169 and parameters: {'learning_rate': 0.23411518808398937, 'depth': 6, 'l2_leaf_reg': 8.244283506795998, 'iterations': 171, 'border_count': 141}. Best is trial 43 with value: 0.905337398096612.\n",
      "[I 2024-02-06 00:30:32,434] Trial 50 finished with value: 0.9015797433030274 and parameters: {'learning_rate': 0.23264478457901033, 'depth': 6, 'l2_leaf_reg': 8.283201854462265, 'iterations': 269, 'border_count': 128}. Best is trial 43 with value: 0.905337398096612.\n",
      "[I 2024-02-06 00:31:27,067] Trial 57 finished with value: 0.9023507463206164 and parameters: {'learning_rate': 0.25269074489350096, 'depth': 4, 'l2_leaf_reg': 4.687627141966293, 'iterations': 266, 'border_count': 88}. Best is trial 43 with value: 0.905337398096612.\n",
      "[I 2024-02-06 00:31:34,227] Trial 46 finished with value: 0.9003753535257888 and parameters: {'learning_rate': 0.23246765243437173, 'depth': 8, 'l2_leaf_reg': 4.581506350080777, 'iterations': 261, 'border_count': 130}. Best is trial 43 with value: 0.905337398096612.\n",
      "[I 2024-02-06 00:31:57,179] Trial 58 finished with value: 0.9018688302700234 and parameters: {'learning_rate': 0.2556875123843457, 'depth': 4, 'l2_leaf_reg': 4.661941793776627, 'iterations': 271, 'border_count': 85}. Best is trial 43 with value: 0.905337398096612.\n",
      "[I 2024-02-06 00:32:11,532] Trial 59 finished with value: 0.9017726071996023 and parameters: {'learning_rate': 0.24987360727997138, 'depth': 4, 'l2_leaf_reg': 4.599877941178482, 'iterations': 267, 'border_count': 179}. Best is trial 43 with value: 0.905337398096612.\n",
      "[I 2024-02-06 00:32:21,008] Trial 60 finished with value: 0.9014834970239546 and parameters: {'learning_rate': 0.2539512542928222, 'depth': 4, 'l2_leaf_reg': 4.588074223438623, 'iterations': 267, 'border_count': 91}. Best is trial 43 with value: 0.905337398096612.\n",
      "[I 2024-02-06 00:32:34,840] Trial 61 finished with value: 0.9026395547837905 and parameters: {'learning_rate': 0.25295089766515266, 'depth': 4, 'l2_leaf_reg': 4.705699248263356, 'iterations': 269, 'border_count': 165}. Best is trial 43 with value: 0.905337398096612.\n",
      "[I 2024-02-06 00:32:47,872] Trial 49 finished with value: 0.9018688302700234 and parameters: {'learning_rate': 0.23021131728703362, 'depth': 8, 'l2_leaf_reg': 4.495943496878946, 'iterations': 264, 'border_count': 132}. Best is trial 43 with value: 0.905337398096612.\n",
      "[I 2024-02-06 00:33:02,514] Trial 62 finished with value: 0.9023987766255456 and parameters: {'learning_rate': 0.25273829850143836, 'depth': 4, 'l2_leaf_reg': 4.2663580416083, 'iterations': 270, 'border_count': 179}. Best is trial 43 with value: 0.905337398096612.\n",
      "[I 2024-02-06 00:33:10,269] Trial 55 finished with value: 0.903410488175424 and parameters: {'learning_rate': 0.22009971499047148, 'depth': 6, 'l2_leaf_reg': 4.697795151340305, 'iterations': 265, 'border_count': 93}. Best is trial 43 with value: 0.905337398096612.\n",
      "[I 2024-02-06 00:33:28,446] Trial 56 finished with value: 0.9030732780688917 and parameters: {'learning_rate': 0.2502347164529838, 'depth': 6, 'l2_leaf_reg': 4.520465149035019, 'iterations': 266, 'border_count': 167}. Best is trial 43 with value: 0.905337398096612.\n",
      "[I 2024-02-06 00:33:59,862] Trial 63 finished with value: 0.901724321599503 and parameters: {'learning_rate': 0.25458974610275026, 'depth': 4, 'l2_leaf_reg': 4.5664934398106976, 'iterations': 268, 'border_count': 165}. Best is trial 43 with value: 0.905337398096612.\n",
      "[I 2024-02-06 00:34:46,550] Trial 64 finished with value: 0.9030732548602398 and parameters: {'learning_rate': 0.25244440164425286, 'depth': 4, 'l2_leaf_reg': 4.764511146426894, 'iterations': 266, 'border_count': 175}. Best is trial 43 with value: 0.905337398096612.\n",
      "[I 2024-02-06 00:36:23,339] Trial 66 finished with value: 0.9023988114385233 and parameters: {'learning_rate': 0.27150489531640964, 'depth': 4, 'l2_leaf_reg': 3.898126199482218, 'iterations': 283, 'border_count': 173}. Best is trial 43 with value: 0.905337398096612.\n",
      "[I 2024-02-06 00:40:36,913] Trial 65 finished with value: 0.9044221417036729 and parameters: {'learning_rate': 0.2171363291318909, 'depth': 7, 'l2_leaf_reg': 3.7754938594123817, 'iterations': 284, 'border_count': 175}. Best is trial 43 with value: 0.905337398096612.\n",
      "[I 2024-02-06 00:40:58,790] Trial 67 finished with value: 0.9025434245479766 and parameters: {'learning_rate': 0.2748001399533184, 'depth': 7, 'l2_leaf_reg': 6.437571905913663, 'iterations': 283, 'border_count': 161}. Best is trial 43 with value: 0.905337398096612.\n",
      "[I 2024-02-06 00:41:24,235] Trial 68 finished with value: 0.9025914316442541 and parameters: {'learning_rate': 0.2761459490109682, 'depth': 7, 'l2_leaf_reg': 4.03446640297037, 'iterations': 291, 'border_count': 164}. Best is trial 43 with value: 0.905337398096612.\n",
      "[I 2024-02-06 00:41:34,523] Trial 69 finished with value: 0.9015316897894465 and parameters: {'learning_rate': 0.2774853366226445, 'depth': 7, 'l2_leaf_reg': 3.8996127162011742, 'iterations': 285, 'border_count': 117}. Best is trial 43 with value: 0.905337398096612.\n",
      "[I 2024-02-06 00:41:51,212] Trial 71 finished with value: 0.8981113263326754 and parameters: {'learning_rate': 0.21527682315675511, 'depth': 7, 'l2_leaf_reg': 3.746442091176587, 'iterations': 286, 'border_count': 54}. Best is trial 43 with value: 0.905337398096612.\n",
      "[I 2024-02-06 00:41:55,851] Trial 76 finished with value: 0.9016280985290821 and parameters: {'learning_rate': 0.2763236598889634, 'depth': 6, 'l2_leaf_reg': 3.804155091522591, 'iterations': 288, 'border_count': 112}. Best is trial 43 with value: 0.905337398096612.\n",
      "[I 2024-02-06 00:42:00,452] Trial 73 finished with value: 0.9008092276671267 and parameters: {'learning_rate': 0.2177285747791083, 'depth': 7, 'l2_leaf_reg': 3.505087540415617, 'iterations': 285, 'border_count': 57}. Best is trial 43 with value: 0.905337398096612.\n",
      "[I 2024-02-06 00:42:13,638] Trial 72 finished with value: 0.9026876199016975 and parameters: {'learning_rate': 0.21691970221151108, 'depth': 7, 'l2_leaf_reg': 6.411403892302056, 'iterations': 291, 'border_count': 119}. Best is trial 43 with value: 0.905337398096612.\n",
      "[I 2024-02-06 00:42:37,057] Trial 74 finished with value: 0.9008573043893595 and parameters: {'learning_rate': 0.2736397012595242, 'depth': 7, 'l2_leaf_reg': 3.7450530840344007, 'iterations': 284, 'border_count': 115}. Best is trial 43 with value: 0.905337398096612.\n",
      "[I 2024-02-06 00:42:52,220] Trial 75 finished with value: 0.9018205562742502 and parameters: {'learning_rate': 0.279578052162762, 'depth': 7, 'l2_leaf_reg': 3.505118134339797, 'iterations': 281, 'border_count': 118}. Best is trial 43 with value: 0.905337398096612.\n",
      "[I 2024-02-06 00:44:23,461] Trial 77 finished with value: 0.903410488175424 and parameters: {'learning_rate': 0.21492137119155585, 'depth': 7, 'l2_leaf_reg': 3.23009258011282, 'iterations': 250, 'border_count': 117}. Best is trial 43 with value: 0.905337398096612.\n",
      "[I 2024-02-06 00:44:52,375] Trial 70 finished with value: 0.9006645217230661 and parameters: {'learning_rate': 0.27284350332534585, 'depth': 9, 'l2_leaf_reg': 3.359375872552323, 'iterations': 287, 'border_count': 117}. Best is trial 43 with value: 0.905337398096612.\n",
      "[I 2024-02-06 00:48:58,275] Trial 87 finished with value: 0.9046630591138287 and parameters: {'learning_rate': 0.2429722241642835, 'depth': 5, 'l2_leaf_reg': 5.185258222307801, 'iterations': 299, 'border_count': 94}. Best is trial 43 with value: 0.905337398096612.\n",
      "[I 2024-02-06 00:49:00,446] Trial 82 finished with value: 0.9038440489999623 and parameters: {'learning_rate': 0.2196979884318583, 'depth': 6, 'l2_leaf_reg': 3.1169537925326134, 'iterations': 300, 'border_count': 148}. Best is trial 43 with value: 0.905337398096612.\n",
      "[I 2024-02-06 00:49:05,946] Trial 83 finished with value: 0.9028324302846912 and parameters: {'learning_rate': 0.21798714205208433, 'depth': 6, 'l2_leaf_reg': 2.7158176484720453, 'iterations': 299, 'border_count': 98}. Best is trial 43 with value: 0.905337398096612.\n",
      "[I 2024-02-06 00:49:28,030] Trial 81 finished with value: 0.9000863826020519 and parameters: {'learning_rate': 0.2174650781143392, 'depth': 7, 'l2_leaf_reg': 3.2717113537705145, 'iterations': 252, 'border_count': 58}. Best is trial 43 with value: 0.905337398096612.\n",
      "[I 2024-02-06 00:49:40,245] Trial 84 finished with value: 0.9037475822386973 and parameters: {'learning_rate': 0.17986874139746453, 'depth': 6, 'l2_leaf_reg': 3.1950747957472223, 'iterations': 300, 'border_count': 96}. Best is trial 43 with value: 0.905337398096612.\n",
      "[I 2024-02-06 00:49:48,809] Trial 78 finished with value: 0.9030731736299584 and parameters: {'learning_rate': 0.21853349813880651, 'depth': 7, 'l2_leaf_reg': 3.2318049251131296, 'iterations': 295, 'border_count': 148}. Best is trial 43 with value: 0.905337398096612.\n",
      "[I 2024-02-06 00:49:51,755] Trial 89 finished with value: 0.9017243564124808 and parameters: {'learning_rate': 0.1825974901152958, 'depth': 5, 'l2_leaf_reg': 2.6627848747261806, 'iterations': 248, 'border_count': 93}. Best is trial 43 with value: 0.905337398096612.\n",
      "[I 2024-02-06 00:50:29,338] Trial 88 finished with value: 0.903362307014258 and parameters: {'learning_rate': 0.18043604034935276, 'depth': 5, 'l2_leaf_reg': 2.887251429673295, 'iterations': 300, 'border_count': 96}. Best is trial 43 with value: 0.905337398096612.\n",
      "[I 2024-02-06 00:50:55,272] Trial 80 finished with value: 0.9014353274671144 and parameters: {'learning_rate': 0.21161047733223393, 'depth': 7, 'l2_leaf_reg': 3.4733987224845237, 'iterations': 300, 'border_count': 151}. Best is trial 43 with value: 0.905337398096612.\n",
      "[I 2024-02-06 00:52:57,350] Trial 85 finished with value: 0.9017724563433654 and parameters: {'learning_rate': 0.18198806731878725, 'depth': 9, 'l2_leaf_reg': 5.200953587760777, 'iterations': 250, 'border_count': 145}. Best is trial 43 with value: 0.905337398096612.\n",
      "[I 2024-02-06 00:53:17,007] Trial 86 finished with value: 0.9012424867791914 and parameters: {'learning_rate': 0.1967396287142725, 'depth': 9, 'l2_leaf_reg': 3.234188610405087, 'iterations': 251, 'border_count': 145}. Best is trial 43 with value: 0.905337398096612.\n",
      "[I 2024-02-06 00:53:30,959] Trial 79 finished with value: 0.8992674305098152 and parameters: {'learning_rate': 0.2134886971279598, 'depth': 9, 'l2_leaf_reg': 3.5014190041628197, 'iterations': 294, 'border_count': 147}. Best is trial 43 with value: 0.905337398096612.\n",
      "[I 2024-02-06 00:53:51,407] Trial 92 finished with value: 0.8602945224332507 and parameters: {'learning_rate': 0.011820368268839282, 'depth': 5, 'l2_leaf_reg': 5.146530216383516, 'iterations': 276, 'border_count': 145}. Best is trial 43 with value: 0.905337398096612.\n",
      "[I 2024-02-06 00:54:55,974] Trial 91 finished with value: 0.9019652854269626 and parameters: {'learning_rate': 0.2409090700841752, 'depth': 5, 'l2_leaf_reg': 2.201850488529663, 'iterations': 300, 'border_count': 150}. Best is trial 43 with value: 0.905337398096612.\n",
      "[I 2024-02-06 00:55:02,171] Trial 93 finished with value: 0.9020615317060354 and parameters: {'learning_rate': 0.24013024995894836, 'depth': 5, 'l2_leaf_reg': 2.4393670839174164, 'iterations': 276, 'border_count': 149}. Best is trial 43 with value: 0.905337398096612.\n",
      "[I 2024-02-06 00:55:03,802] Trial 90 finished with value: 0.9028805534242277 and parameters: {'learning_rate': 0.24087362755295327, 'depth': 5, 'l2_leaf_reg': 5.258842335562296, 'iterations': 300, 'border_count': 149}. Best is trial 43 with value: 0.905337398096612.\n",
      "[I 2024-02-06 00:55:12,434] Trial 95 finished with value: 0.9036994590991607 and parameters: {'learning_rate': 0.1487277404282619, 'depth': 5, 'l2_leaf_reg': 2.318918433967595, 'iterations': 276, 'border_count': 150}. Best is trial 43 with value: 0.905337398096612.\n",
      "[I 2024-02-06 00:55:24,204] Trial 96 finished with value: 0.9027841446845921 and parameters: {'learning_rate': 0.24119853527030305, 'depth': 5, 'l2_leaf_reg': 5.249302980346214, 'iterations': 279, 'border_count': 190}. Best is trial 43 with value: 0.905337398096612.\n",
      "[I 2024-02-06 00:55:33,871] Trial 94 finished with value: 0.9032659330876001 and parameters: {'learning_rate': 0.24287795359587872, 'depth': 5, 'l2_leaf_reg': 2.2870013656746435, 'iterations': 300, 'border_count': 154}. Best is trial 43 with value: 0.905337398096612.\n",
      "[I 2024-02-06 00:57:02,194] Trial 97 finished with value: 0.9029286649594382 and parameters: {'learning_rate': 0.24395587058327164, 'depth': 6, 'l2_leaf_reg': 5.196449865416216, 'iterations': 277, 'border_count': 81}. Best is trial 43 with value: 0.905337398096612.\n",
      "[I 2024-02-06 00:57:35,281] Trial 98 finished with value: 0.9037957285868854 and parameters: {'learning_rate': 0.2420716680175244, 'depth': 6, 'l2_leaf_reg': 5.112981839315209, 'iterations': 277, 'border_count': 192}. Best is trial 43 with value: 0.905337398096612.\n",
      "[I 2024-02-06 00:58:52,392] Trial 109 finished with value: 0.9000864406236815 and parameters: {'learning_rate': 0.16046535891303426, 'depth': 6, 'l2_leaf_reg': 1.8281791908102283, 'iterations': 110, 'border_count': 140}. Best is trial 43 with value: 0.905337398096612.\n",
      "[I 2024-02-06 00:59:24,259] Trial 99 finished with value: 0.903603189611436 and parameters: {'learning_rate': 0.2410865095963114, 'depth': 6, 'l2_leaf_reg': 2.460768983661523, 'iterations': 278, 'border_count': 82}. Best is trial 43 with value: 0.905337398096612.\n",
      "[I 2024-02-06 00:59:54,411] Trial 100 finished with value: 0.902591686939424 and parameters: {'learning_rate': 0.2426441540382421, 'depth': 6, 'l2_leaf_reg': 2.056998295643339, 'iterations': 279, 'border_count': 83}. Best is trial 43 with value: 0.905337398096612.\n",
      "[I 2024-02-06 01:00:05,925] Trial 101 finished with value: 0.9022542679550254 and parameters: {'learning_rate': 0.24409202063513039, 'depth': 6, 'l2_leaf_reg': 2.29784424979355, 'iterations': 279, 'border_count': 189}. Best is trial 43 with value: 0.905337398096612.\n",
      "[I 2024-02-06 01:00:20,523] Trial 102 finished with value: 0.9024951969695071 and parameters: {'learning_rate': 0.2397445668179456, 'depth': 6, 'l2_leaf_reg': 2.2229022099744986, 'iterations': 277, 'border_count': 82}. Best is trial 43 with value: 0.905337398096612.\n",
      "[I 2024-02-06 01:00:41,073] Trial 104 finished with value: 0.9037476170516751 and parameters: {'learning_rate': 0.15061435972500598, 'depth': 6, 'l2_leaf_reg': 4.171953894759045, 'iterations': 240, 'border_count': 137}. Best is trial 43 with value: 0.905337398096612.\n",
      "[I 2024-02-06 01:00:54,214] Trial 107 finished with value: 0.9025915128745355 and parameters: {'learning_rate': 0.1340862918710017, 'depth': 6, 'l2_leaf_reg': 5.50881741298539, 'iterations': 237, 'border_count': 81}. Best is trial 43 with value: 0.905337398096612.\n",
      "[I 2024-02-06 01:01:13,923] Trial 108 finished with value: 0.9032657938356893 and parameters: {'learning_rate': 0.14970885969050562, 'depth': 6, 'l2_leaf_reg': 4.270715832601971, 'iterations': 241, 'border_count': 137}. Best is trial 43 with value: 0.905337398096612.\n",
      "[I 2024-02-06 01:01:18,642] Trial 103 finished with value: 0.9045665343309341 and parameters: {'learning_rate': 0.14483895359582918, 'depth': 6, 'l2_leaf_reg': 5.472573101758211, 'iterations': 276, 'border_count': 82}. Best is trial 43 with value: 0.905337398096612.\n",
      "[I 2024-02-06 01:01:33,404] Trial 105 finished with value: 0.9043257097553855 and parameters: {'learning_rate': 0.1541968176232312, 'depth': 6, 'l2_leaf_reg': 4.278534458828225, 'iterations': 279, 'border_count': 81}. Best is trial 43 with value: 0.905337398096612.\n",
      "[I 2024-02-06 01:01:55,202] Trial 106 finished with value: 0.9038438285177701 and parameters: {'learning_rate': 0.14337031150157323, 'depth': 6, 'l2_leaf_reg': 1.8411659404070349, 'iterations': 278, 'border_count': 138}. Best is trial 43 with value: 0.905337398096612.\n",
      "[I 2024-02-06 01:04:30,094] Trial 110 finished with value: 0.903843979374007 and parameters: {'learning_rate': 0.14575358320123222, 'depth': 6, 'l2_leaf_reg': 1.8631047168210721, 'iterations': 292, 'border_count': 137}. Best is trial 43 with value: 0.905337398096612.\n",
      "[I 2024-02-06 01:04:32,318] Trial 111 finished with value: 0.9033621445536953 and parameters: {'learning_rate': 0.14483173773749464, 'depth': 6, 'l2_leaf_reg': 1.9890239830199912, 'iterations': 241, 'border_count': 205}. Best is trial 43 with value: 0.905337398096612.\n",
      "[I 2024-02-06 01:04:36,900] Trial 120 finished with value: 0.9009052302553556 and parameters: {'learning_rate': 0.11926378147213137, 'depth': 6, 'l2_leaf_reg': 4.92882083328605, 'iterations': 188, 'border_count': 158}. Best is trial 43 with value: 0.905337398096612.\n",
      "[I 2024-02-06 01:06:05,284] Trial 113 finished with value: 0.9032177287177824 and parameters: {'learning_rate': 0.2642382699363244, 'depth': 6, 'l2_leaf_reg': 5.555621696301631, 'iterations': 259, 'border_count': 210}. Best is trial 43 with value: 0.905337398096612.\n",
      "[I 2024-02-06 01:06:20,253] Trial 112 finished with value: 0.9044220256604139 and parameters: {'learning_rate': 0.147578483517441, 'depth': 6, 'l2_leaf_reg': 1.8853123437636568, 'iterations': 292, 'border_count': 204}. Best is trial 43 with value: 0.905337398096612.\n",
      "[I 2024-02-06 01:06:21,967] Trial 114 finished with value: 0.9042294402676607 and parameters: {'learning_rate': 0.15010886152025812, 'depth': 6, 'l2_leaf_reg': 1.5700598073159795, 'iterations': 260, 'border_count': 206}. Best is trial 43 with value: 0.905337398096612.\n",
      "[I 2024-02-06 01:06:33,434] Trial 115 finished with value: 0.9030733360905211 and parameters: {'learning_rate': 0.14957382412872677, 'depth': 6, 'l2_leaf_reg': 5.537460602867774, 'iterations': 259, 'border_count': 211}. Best is trial 43 with value: 0.905337398096612.\n",
      "[I 2024-02-06 01:06:34,704] Trial 118 finished with value: 0.9025915128745353 and parameters: {'learning_rate': 0.12919610027614076, 'depth': 5, 'l2_leaf_reg': 4.12157476015385, 'iterations': 259, 'border_count': 208}. Best is trial 43 with value: 0.905337398096612.\n",
      "[I 2024-02-06 01:07:07,781] Trial 117 finished with value: 0.9041812823151465 and parameters: {'learning_rate': 0.26171931011887517, 'depth': 6, 'l2_leaf_reg': 4.228889279076092, 'iterations': 260, 'border_count': 208}. Best is trial 43 with value: 0.905337398096612.\n",
      "[I 2024-02-06 01:07:11,286] Trial 121 finished with value: 0.9016280405074525 and parameters: {'learning_rate': 0.12822292675619767, 'depth': 6, 'l2_leaf_reg': 4.9428276896160295, 'iterations': 221, 'border_count': 106}. Best is trial 43 with value: 0.905337398096612.\n",
      "[I 2024-02-06 01:07:26,766] Trial 119 finished with value: 0.9029285257075272 and parameters: {'learning_rate': 0.12542837536321091, 'depth': 6, 'l2_leaf_reg': 4.893730050340496, 'iterations': 259, 'border_count': 211}. Best is trial 43 with value: 0.905337398096612.\n",
      "[I 2024-02-06 01:07:37,315] Trial 116 finished with value: 0.9042774241552862 and parameters: {'learning_rate': 0.14696930463925523, 'depth': 6, 'l2_leaf_reg': 4.1594821750252375, 'iterations': 292, 'border_count': 136}. Best is trial 43 with value: 0.905337398096612.\n",
      "[I 2024-02-06 01:10:43,550] Trial 122 finished with value: 0.9040848387625333 and parameters: {'learning_rate': 0.12065747131606486, 'depth': 6, 'l2_leaf_reg': 1.3539346073183252, 'iterations': 259, 'border_count': 216}. Best is trial 43 with value: 0.905337398096612.\n",
      "[I 2024-02-06 01:10:54,098] Trial 124 finished with value: 0.9032177287177824 and parameters: {'learning_rate': 0.12252750613398135, 'depth': 6, 'l2_leaf_reg': 1.4118196921355883, 'iterations': 260, 'border_count': 134}. Best is trial 43 with value: 0.905337398096612.\n",
      "[I 2024-02-06 01:11:31,999] Trial 123 finished with value: 0.9041811314589097 and parameters: {'learning_rate': 0.11461803705408562, 'depth': 6, 'l2_leaf_reg': 1.4708838999916722, 'iterations': 292, 'border_count': 218}. Best is trial 43 with value: 0.905337398096612.\n",
      "[I 2024-02-06 01:13:07,482] Trial 125 finished with value: 0.9025913852269504 and parameters: {'learning_rate': 0.1374943902418046, 'depth': 6, 'l2_leaf_reg': 1.3430345167114734, 'iterations': 290, 'border_count': 123}. Best is trial 43 with value: 0.905337398096612.\n",
      "[I 2024-02-06 01:13:17,314] Trial 126 finished with value: 0.9040846763019704 and parameters: {'learning_rate': 0.12858718865038762, 'depth': 6, 'l2_leaf_reg': 5.583902024393736, 'iterations': 290, 'border_count': 193}. Best is trial 43 with value: 0.905337398096612.\n",
      "[I 2024-02-06 01:13:29,493] Trial 127 finished with value: 0.9032658170443412 and parameters: {'learning_rate': 0.1248468706505818, 'depth': 6, 'l2_leaf_reg': 1.6988971094557517, 'iterations': 295, 'border_count': 223}. Best is trial 43 with value: 0.905337398096612.\n",
      "[I 2024-02-06 01:13:35,863] Trial 128 finished with value: 0.9036031896114363 and parameters: {'learning_rate': 0.12418004645474978, 'depth': 6, 'l2_leaf_reg': 1.5087287640177982, 'iterations': 293, 'border_count': 221}. Best is trial 43 with value: 0.905337398096612.\n",
      "[I 2024-02-06 01:13:40,012] Trial 129 finished with value: 0.9032175662572197 and parameters: {'learning_rate': 0.11086916013989485, 'depth': 6, 'l2_leaf_reg': 1.5001680963288395, 'iterations': 292, 'border_count': 74}. Best is trial 43 with value: 0.905337398096612.\n",
      "[I 2024-02-06 01:14:06,911] Trial 130 finished with value: 0.9027360679623593 and parameters: {'learning_rate': 0.11405996236026462, 'depth': 6, 'l2_leaf_reg': 1.7246742453151565, 'iterations': 292, 'border_count': 217}. Best is trial 43 with value: 0.905337398096612.\n",
      "[I 2024-02-06 01:14:13,329] Trial 131 finished with value: 0.9031213431867984 and parameters: {'learning_rate': 0.15929008897004174, 'depth': 6, 'l2_leaf_reg': 1.4005721242038405, 'iterations': 291, 'border_count': 220}. Best is trial 43 with value: 0.905337398096612.\n",
      "[I 2024-02-06 01:14:26,766] Trial 132 finished with value: 0.9046146226574928 and parameters: {'learning_rate': 0.11186128142171212, 'depth': 6, 'l2_leaf_reg': 1.4812087572248935, 'iterations': 292, 'border_count': 220}. Best is trial 43 with value: 0.905337398096612.\n",
      "[I 2024-02-06 01:14:41,129] Trial 133 finished with value: 0.9043739373338552 and parameters: {'learning_rate': 0.1559053636568519, 'depth': 6, 'l2_leaf_reg': 1.5058106904205117, 'iterations': 293, 'border_count': 241}. Best is trial 43 with value: 0.905337398096612.\n",
      "[I 2024-02-06 01:17:53,566] Trial 134 finished with value: 0.9051445806173408 and parameters: {'learning_rate': 0.10894788677384133, 'depth': 6, 'l2_leaf_reg': 1.1669210918509023, 'iterations': 294, 'border_count': 223}. Best is trial 43 with value: 0.905337398096612.\n",
      "[I 2024-02-06 01:18:07,123] Trial 135 finished with value: 0.9041331127583065 and parameters: {'learning_rate': 0.11324806470411763, 'depth': 6, 'l2_leaf_reg': 1.3356901949604965, 'iterations': 293, 'border_count': 220}. Best is trial 43 with value: 0.905337398096612.\n",
      "[I 2024-02-06 01:18:29,672] Trial 136 finished with value: 0.9044704389080979 and parameters: {'learning_rate': 0.10514780577868801, 'depth': 6, 'l2_leaf_reg': 1.4563786790238826, 'iterations': 291, 'border_count': 197}. Best is trial 43 with value: 0.905337398096612.\n",
      "[I 2024-02-06 01:19:44,537] Trial 137 finished with value: 0.903892160535173 and parameters: {'learning_rate': 0.10978378815078597, 'depth': 6, 'l2_leaf_reg': 1.0973942285916136, 'iterations': 272, 'border_count': 220}. Best is trial 43 with value: 0.905337398096612.\n",
      "[I 2024-02-06 01:19:56,314] Trial 138 finished with value: 0.9039885576704826 and parameters: {'learning_rate': 0.1076882664699543, 'depth': 6, 'l2_leaf_reg': 1.5394097356548286, 'iterations': 272, 'border_count': 223}. Best is trial 43 with value: 0.905337398096612.\n",
      "[I 2024-02-06 01:20:11,561] Trial 139 finished with value: 0.9040848155538814 and parameters: {'learning_rate': 0.11157294917122786, 'depth': 6, 'l2_leaf_reg': 1.056634631598299, 'iterations': 271, 'border_count': 244}. Best is trial 43 with value: 0.905337398096612.\n",
      "[I 2024-02-06 01:20:45,556] Trial 143 finished with value: 0.9033622257839766 and parameters: {'learning_rate': 0.10087552802453406, 'depth': 6, 'l2_leaf_reg': 1.0292232318030201, 'iterations': 271, 'border_count': 198}. Best is trial 43 with value: 0.905337398096612.\n",
      "[I 2024-02-06 01:20:59,132] Trial 144 finished with value: 0.9048555516719745 and parameters: {'learning_rate': 0.11011214125984246, 'depth': 6, 'l2_leaf_reg': 1.015163621491535, 'iterations': 272, 'border_count': 238}. Best is trial 43 with value: 0.905337398096612.\n",
      "[I 2024-02-06 01:20:59,384] Trial 142 finished with value: 0.9036030619638511 and parameters: {'learning_rate': 0.08820216992389272, 'depth': 6, 'l2_leaf_reg': 1.2214264367799987, 'iterations': 287, 'border_count': 201}. Best is trial 43 with value: 0.905337398096612.\n",
      "[I 2024-02-06 01:22:57,647] Trial 145 finished with value: 0.9022542215377218 and parameters: {'learning_rate': 0.07592363761289206, 'depth': 7, 'l2_leaf_reg': 1.1652420864056225, 'iterations': 271, 'border_count': 240}. Best is trial 43 with value: 0.905337398096612.\n",
      "[I 2024-02-06 01:23:30,359] Trial 140 finished with value: 0.9025914316442541 and parameters: {'learning_rate': 0.11407574002112568, 'depth': 8, 'l2_leaf_reg': 4.324448358835572, 'iterations': 272, 'border_count': 198}. Best is trial 43 with value: 0.905337398096612.\n",
      "[I 2024-02-06 01:23:35,581] Trial 141 finished with value: 0.9012425912181247 and parameters: {'learning_rate': 0.1579972215444298, 'depth': 8, 'l2_leaf_reg': 1.2108077684179548, 'iterations': 272, 'border_count': 202}. Best is trial 43 with value: 0.905337398096612.\n",
      "[I 2024-02-06 01:24:38,845] Trial 147 finished with value: 0.9027358822931448 and parameters: {'learning_rate': 0.0931973598494809, 'depth': 6, 'l2_leaf_reg': 1.087226894837623, 'iterations': 271, 'border_count': 246}. Best is trial 43 with value: 0.905337398096612.\n",
      "[I 2024-02-06 01:24:46,712] Trial 146 finished with value: 0.9038441302302438 and parameters: {'learning_rate': 0.09132027815092655, 'depth': 6, 'l2_leaf_reg': 1.0438683990920532, 'iterations': 284, 'border_count': 246}. Best is trial 43 with value: 0.905337398096612.\n",
      "[I 2024-02-06 01:26:46,032] Trial 148 finished with value: 0.9023505490470759 and parameters: {'learning_rate': 0.09214908009465005, 'depth': 7, 'l2_leaf_reg': 1.1903202171283978, 'iterations': 271, 'border_count': 241}. Best is trial 43 with value: 0.905337398096612.\n",
      "[I 2024-02-06 01:27:48,336] Trial 152 finished with value: 0.9029286649594382 and parameters: {'learning_rate': 0.10158930421798258, 'depth': 6, 'l2_leaf_reg': 1.2205830622182623, 'iterations': 285, 'border_count': 238}. Best is trial 43 with value: 0.905337398096612.\n",
      "[I 2024-02-06 01:28:15,341] Trial 153 finished with value: 0.9030249924687925 and parameters: {'learning_rate': 0.09465130982986567, 'depth': 6, 'l2_leaf_reg': 1.1995082133816148, 'iterations': 286, 'border_count': 233}. Best is trial 43 with value: 0.905337398096612.\n",
      "[I 2024-02-06 01:28:20,347] Trial 149 finished with value: 0.9030251201163775 and parameters: {'learning_rate': 0.08191219820995574, 'depth': 7, 'l2_leaf_reg': 1.1258490153759988, 'iterations': 284, 'border_count': 200}. Best is trial 43 with value: 0.905337398096612.\n",
      "[I 2024-02-06 01:28:46,899] Trial 150 finished with value: 0.9016761404383372 and parameters: {'learning_rate': 0.08927762219231149, 'depth': 7, 'l2_leaf_reg': 4.382691093765239, 'iterations': 284, 'border_count': 238}. Best is trial 43 with value: 0.905337398096612.\n",
      "[I 2024-02-06 01:29:12,158] Trial 151 finished with value: 0.9023987186039161 and parameters: {'learning_rate': 0.09339889544975447, 'depth': 7, 'l2_leaf_reg': 4.373771361165643, 'iterations': 284, 'border_count': 231}. Best is trial 43 with value: 0.905337398096612.\n",
      "[I 2024-02-06 01:30:01,746] Trial 154 finished with value: 0.902109782493157 and parameters: {'learning_rate': 0.26346975504055625, 'depth': 7, 'l2_leaf_reg': 4.353473343276732, 'iterations': 283, 'border_count': 231}. Best is trial 43 with value: 0.905337398096612.\n",
      "[I 2024-02-06 01:30:05,029] Trial 155 finished with value: 0.9028804373809687 and parameters: {'learning_rate': 0.08806949811096187, 'depth': 6, 'l2_leaf_reg': 1.6349954351632185, 'iterations': 284, 'border_count': 229}. Best is trial 43 with value: 0.905337398096612.\n",
      "[I 2024-02-06 01:30:21,085] Trial 156 finished with value: 0.9022060403765557 and parameters: {'learning_rate': 0.09142951123757778, 'depth': 6, 'l2_leaf_reg': 4.424879462507841, 'iterations': 284, 'border_count': 233}. Best is trial 43 with value: 0.905337398096612.\n",
      "[I 2024-02-06 01:30:28,601] Trial 157 finished with value: 0.9027359867320779 and parameters: {'learning_rate': 0.0925531525773915, 'depth': 6, 'l2_leaf_reg': 1.643772211177624, 'iterations': 284, 'border_count': 233}. Best is trial 43 with value: 0.905337398096612.\n",
      "[I 2024-02-06 01:31:06,796] Trial 167 finished with value: 0.8963287510171192 and parameters: {'learning_rate': 0.28600288197837304, 'depth': 6, 'l2_leaf_reg': 1.9732080478848153, 'iterations': 58, 'border_count': 226}. Best is trial 43 with value: 0.905337398096612.\n",
      "[I 2024-02-06 01:32:32,471] Trial 168 finished with value: 0.8983039929557102 and parameters: {'learning_rate': 0.10241487653820637, 'depth': 6, 'l2_leaf_reg': 1.9762074189063683, 'iterations': 133, 'border_count': 250}. Best is trial 43 with value: 0.905337398096612.\n",
      "[I 2024-02-06 01:33:23,959] Trial 158 finished with value: 0.9031695243479646 and parameters: {'learning_rate': 0.10317043844727702, 'depth': 7, 'l2_leaf_reg': 1.614316100154286, 'iterations': 284, 'border_count': 231}. Best is trial 43 with value: 0.905337398096612.\n",
      "[I 2024-02-06 01:33:33,523] Trial 160 finished with value: 0.9020133273362176 and parameters: {'learning_rate': 0.10147061462872524, 'depth': 6, 'l2_leaf_reg': 6.273800197756959, 'iterations': 284, 'border_count': 227}. Best is trial 43 with value: 0.905337398096612.\n",
      "[I 2024-02-06 01:33:33,806] Trial 159 finished with value: 0.9022061216068371 and parameters: {'learning_rate': 0.08120164446464063, 'depth': 7, 'l2_leaf_reg': 6.423019448629688, 'iterations': 283, 'border_count': 236}. Best is trial 43 with value: 0.905337398096612.\n",
      "[I 2024-02-06 01:34:40,120] Trial 161 finished with value: 0.9030250969077256 and parameters: {'learning_rate': 0.07811505418326817, 'depth': 6, 'l2_leaf_reg': 1.6755071580039553, 'iterations': 281, 'border_count': 254}. Best is trial 43 with value: 0.905337398096612.\n",
      "[I 2024-02-06 01:35:05,958] Trial 162 finished with value: 0.9028323722630617 and parameters: {'learning_rate': 0.26514188461235844, 'depth': 6, 'l2_leaf_reg': 1.6716373742518058, 'iterations': 282, 'border_count': 250}. Best is trial 43 with value: 0.905337398096612.\n",
      "[I 2024-02-06 01:35:14,633] Trial 163 finished with value: 0.9033621793666731 and parameters: {'learning_rate': 0.26372273936668367, 'depth': 6, 'l2_leaf_reg': 1.6300055110349927, 'iterations': 282, 'border_count': 228}. Best is trial 43 with value: 0.905337398096612.\n",
      "[I 2024-02-06 01:35:34,314] Trial 165 finished with value: 0.9043254428558896 and parameters: {'learning_rate': 0.1392265398072344, 'depth': 6, 'l2_leaf_reg': 1.5570869611290086, 'iterations': 265, 'border_count': 225}. Best is trial 43 with value: 0.905337398096612.\n",
      "[I 2024-02-06 01:35:57,048] Trial 164 finished with value: 0.902784167893244 and parameters: {'learning_rate': 0.13620436905740285, 'depth': 6, 'l2_leaf_reg': 1.598145698617533, 'iterations': 296, 'border_count': 233}. Best is trial 43 with value: 0.905337398096612.\n",
      "[I 2024-02-06 01:36:31,203] Trial 166 finished with value: 0.9049038836893774 and parameters: {'learning_rate': 0.13529120596388863, 'depth': 6, 'l2_leaf_reg': 1.6250908599274272, 'iterations': 264, 'border_count': 252}. Best is trial 43 with value: 0.905337398096612.\n",
      "[I 2024-02-06 01:37:32,290] Trial 169 finished with value: 0.9029288274200009 and parameters: {'learning_rate': 0.1386763537271792, 'depth': 6, 'l2_leaf_reg': 3.90608392990504, 'iterations': 296, 'border_count': 253}. Best is trial 43 with value: 0.905337398096612.\n",
      "[I 2024-02-06 01:38:07,988] Trial 170 finished with value: 0.90403682006193 and parameters: {'learning_rate': 0.13545737782723877, 'depth': 6, 'l2_leaf_reg': 4.049669074265689, 'iterations': 296, 'border_count': 186}. Best is trial 43 with value: 0.905337398096612.\n",
      "[I 2024-02-06 01:38:46,702] Trial 171 finished with value: 0.9031696752042014 and parameters: {'learning_rate': 0.13863652025806997, 'depth': 6, 'l2_leaf_reg': 6.283699738996247, 'iterations': 264, 'border_count': 187}. Best is trial 43 with value: 0.905337398096612.\n",
      "[I 2024-02-06 01:39:23,584] Trial 173 finished with value: 0.9035548808026851 and parameters: {'learning_rate': 0.22483607186177515, 'depth': 5, 'l2_leaf_reg': 3.987245731957588, 'iterations': 295, 'border_count': 65}. Best is trial 43 with value: 0.905337398096612.\n",
      "[I 2024-02-06 01:39:32,353] Trial 174 finished with value: 0.9036031547984583 and parameters: {'learning_rate': 0.16418904424933103, 'depth': 5, 'l2_leaf_reg': 3.8659485674316043, 'iterations': 296, 'border_count': 213}. Best is trial 43 with value: 0.905337398096612.\n",
      "[I 2024-02-06 01:40:29,879] Trial 172 finished with value: 0.9052891937267942 and parameters: {'learning_rate': 0.17443071481763664, 'depth': 6, 'l2_leaf_reg': 4.027492291887619, 'iterations': 295, 'border_count': 184}. Best is trial 43 with value: 0.905337398096612.\n",
      "[I 2024-02-06 01:40:35,877] Trial 175 finished with value: 0.9032660143178814 and parameters: {'learning_rate': 0.1379925694127292, 'depth': 5, 'l2_leaf_reg': 3.9231663299889132, 'iterations': 296, 'border_count': 215}. Best is trial 43 with value: 0.905337398096612.\n",
      "[I 2024-02-06 01:41:04,633] Trial 176 finished with value: 0.9027359635234262 and parameters: {'learning_rate': 0.13671375029878097, 'depth': 5, 'l2_leaf_reg': 3.9970643414618294, 'iterations': 296, 'border_count': 206}. Best is trial 43 with value: 0.905337398096612.\n",
      "[I 2024-02-06 01:41:09,114] Trial 177 finished with value: 0.9030734985510838 and parameters: {'learning_rate': 0.13841223403930608, 'depth': 5, 'l2_leaf_reg': 3.951155452784889, 'iterations': 296, 'border_count': 185}. Best is trial 43 with value: 0.905337398096612.\n",
      "[I 2024-02-06 01:41:56,786] Trial 178 finished with value: 0.9049037792504441 and parameters: {'learning_rate': 0.1384955240868326, 'depth': 6, 'l2_leaf_reg': 1.437774164633615, 'iterations': 264, 'border_count': 213}. Best is trial 43 with value: 0.905337398096612.\n",
      "[I 2024-02-06 01:42:14,772] Trial 179 finished with value: 0.9020614040584505 and parameters: {'learning_rate': 0.15338169297280238, 'depth': 6, 'l2_leaf_reg': 5.703377091720382, 'iterations': 264, 'border_count': 214}. Best is trial 43 with value: 0.905337398096612.\n",
      "[I 2024-02-06 01:42:41,866] Trial 180 finished with value: 0.903458553293331 and parameters: {'learning_rate': 0.13362322956350672, 'depth': 6, 'l2_leaf_reg': 4.047268900031453, 'iterations': 254, 'border_count': 206}. Best is trial 43 with value: 0.905337398096612.\n",
      "[I 2024-02-06 01:43:50,037] Trial 181 finished with value: 0.9041812126891913 and parameters: {'learning_rate': 0.13272914319278578, 'depth': 6, 'l2_leaf_reg': 2.091777076970839, 'iterations': 264, 'border_count': 206}. Best is trial 43 with value: 0.905337398096612.\n",
      "[I 2024-02-06 01:44:26,103] Trial 182 finished with value: 0.9035550316589218 and parameters: {'learning_rate': 0.15477647287844373, 'depth': 6, 'l2_leaf_reg': 1.351609898487478, 'iterations': 263, 'border_count': 213}. Best is trial 43 with value: 0.905337398096612.\n",
      "[I 2024-02-06 01:45:11,678] Trial 183 finished with value: 0.9023985793520051 and parameters: {'learning_rate': 0.1545034557987558, 'depth': 6, 'l2_leaf_reg': 1.4644506446144339, 'iterations': 264, 'border_count': 214}. Best is trial 43 with value: 0.905337398096612.\n",
      "[I 2024-02-06 01:45:29,952] Trial 184 finished with value: 0.9040365995797377 and parameters: {'learning_rate': 0.15471864643109287, 'depth': 6, 'l2_leaf_reg': 1.4107201165074221, 'iterations': 252, 'border_count': 209}. Best is trial 43 with value: 0.905337398096612.\n",
      "[I 2024-02-06 01:45:45,414] Trial 185 finished with value: 0.90480745174109 and parameters: {'learning_rate': 0.15707551429984204, 'depth': 6, 'l2_leaf_reg': 1.8502576379627682, 'iterations': 253, 'border_count': 205}. Best is trial 43 with value: 0.905337398096612.\n",
      "[I 2024-02-06 01:46:32,894] Trial 186 finished with value: 0.9039883371882904 and parameters: {'learning_rate': 0.15310959129094023, 'depth': 6, 'l2_leaf_reg': 5.671825382074657, 'iterations': 252, 'border_count': 181}. Best is trial 43 with value: 0.905337398096612.\n",
      "[I 2024-02-06 01:46:55,296] Trial 187 finished with value: 0.9036029923378956 and parameters: {'learning_rate': 0.15460838968034976, 'depth': 6, 'l2_leaf_reg': 4.1778308226262375, 'iterations': 264, 'border_count': 202}. Best is trial 43 with value: 0.905337398096612.\n",
      "[I 2024-02-06 01:47:08,469] Trial 188 finished with value: 0.9039402604660577 and parameters: {'learning_rate': 0.15377811748624332, 'depth': 6, 'l2_leaf_reg': 6.654327179252243, 'iterations': 254, 'border_count': 184}. Best is trial 43 with value: 0.905337398096612.\n",
      "[I 2024-02-06 01:47:15,295] Trial 189 finished with value: 0.9026396592227236 and parameters: {'learning_rate': 0.15618616261791302, 'depth': 6, 'l2_leaf_reg': 6.900465728017943, 'iterations': 254, 'border_count': 182}. Best is trial 43 with value: 0.905337398096612.\n",
      "[I 2024-02-06 01:47:53,821] Trial 190 finished with value: 0.904084745927926 and parameters: {'learning_rate': 0.15242542956487706, 'depth': 6, 'l2_leaf_reg': 1.8259193102766949, 'iterations': 254, 'border_count': 204}. Best is trial 43 with value: 0.905337398096612.\n",
      "[I 2024-02-06 01:48:08,745] Trial 191 finished with value: 0.9038920909092175 and parameters: {'learning_rate': 0.15302252973712474, 'depth': 6, 'l2_leaf_reg': 1.8244096773327199, 'iterations': 256, 'border_count': 181}. Best is trial 43 with value: 0.905337398096612.\n",
      "[I 2024-02-06 01:48:33,588] Trial 192 finished with value: 0.9038922417654541 and parameters: {'learning_rate': 0.15714860720469429, 'depth': 6, 'l2_leaf_reg': 1.8538073607142624, 'iterations': 264, 'border_count': 194}. Best is trial 43 with value: 0.905337398096612.\n",
      "[I 2024-02-06 01:48:38,641] Trial 198 finished with value: 0.9028323606587358 and parameters: {'learning_rate': 0.1760167659538217, 'depth': 6, 'l2_leaf_reg': 1.8485730830328244, 'iterations': 150, 'border_count': 196}. Best is trial 43 with value: 0.905337398096612.\n",
      "[I 2024-02-06 01:49:01,116] Trial 193 finished with value: 0.9036032244244139 and parameters: {'learning_rate': 0.1546492298761046, 'depth': 6, 'l2_leaf_reg': 1.8561514174996736, 'iterations': 256, 'border_count': 87}. Best is trial 43 with value: 0.905337398096612.\n",
      "[I 2024-02-06 01:49:19,443] Trial 194 finished with value: 0.9048557953628185 and parameters: {'learning_rate': 0.17364721170288885, 'depth': 6, 'l2_leaf_reg': 1.866636620243592, 'iterations': 254, 'border_count': 88}. Best is trial 43 with value: 0.905337398096612.\n",
      "[I 2024-02-06 01:49:30,198] Trial 195 finished with value: 0.9025915012702095 and parameters: {'learning_rate': 0.14526190028866096, 'depth': 6, 'l2_leaf_reg': 6.9085097401565605, 'iterations': 247, 'border_count': 174}. Best is trial 43 with value: 0.905337398096612.\n",
      "[I 2024-02-06 01:49:34,833] Trial 196 finished with value: 0.9032176706961528 and parameters: {'learning_rate': 0.14735731940973892, 'depth': 6, 'l2_leaf_reg': 3.6850496578315584, 'iterations': 245, 'border_count': 173}. Best is trial 43 with value: 0.905337398096612.\n",
      "[I 2024-02-06 01:49:42,557] Trial 197 finished with value: 0.9042294054546831 and parameters: {'learning_rate': 0.17527287155549223, 'depth': 6, 'l2_leaf_reg': 1.7498700220448378, 'iterations': 256, 'border_count': 194}. Best is trial 43 with value: 0.905337398096612.\n",
      "[I 2024-02-06 01:49:51,750] Trial 199 finished with value: 0.9041330431323511 and parameters: {'learning_rate': 0.14448048290586313, 'depth': 6, 'l2_leaf_reg': 1.865369472225585, 'iterations': 247, 'border_count': 77}. Best is trial 43 with value: 0.905337398096612.\n",
      "\n",
      "scores : 0.905337398096612, params : {'learning_rate': 0.2367366613164073, 'depth': 6, 'l2_leaf_reg': 6.068073209516421, 'iterations': 251, 'border_count': 123}\n"
     ]
    },
    {
     "data": {
      "application/vnd.plotly.v1+json": {
       "config": {
        "plotlyServerURL": "https://plot.ly"
       },
       "data": [
        {
         "cliponaxis": false,
         "hovertemplate": [
          "border_count (IntDistribution): 0.015537694208417219<extra></extra>",
          "depth (IntDistribution): 0.016199407655563394<extra></extra>",
          "l2_leaf_reg (FloatDistribution): 0.02364698044632096<extra></extra>",
          "iterations (IntDistribution): 0.20769136213162104<extra></extra>",
          "learning_rate (FloatDistribution): 0.7369245555580773<extra></extra>"
         ],
         "name": "Objective Value",
         "orientation": "h",
         "text": [
          "0.02",
          "0.02",
          "0.02",
          "0.21",
          "0.74"
         ],
         "textposition": "outside",
         "type": "bar",
         "x": [
          0.015537694208417219,
          0.016199407655563394,
          0.02364698044632096,
          0.20769136213162104,
          0.7369245555580773
         ],
         "y": [
          "border_count",
          "depth",
          "l2_leaf_reg",
          "iterations",
          "learning_rate"
         ]
        }
       ],
       "layout": {
        "template": {
         "data": {
          "bar": [
           {
            "error_x": {
             "color": "#2a3f5f"
            },
            "error_y": {
             "color": "#2a3f5f"
            },
            "marker": {
             "line": {
              "color": "#E5ECF6",
              "width": 0.5
             },
             "pattern": {
              "fillmode": "overlay",
              "size": 10,
              "solidity": 0.2
             }
            },
            "type": "bar"
           }
          ],
          "barpolar": [
           {
            "marker": {
             "line": {
              "color": "#E5ECF6",
              "width": 0.5
             },
             "pattern": {
              "fillmode": "overlay",
              "size": 10,
              "solidity": 0.2
             }
            },
            "type": "barpolar"
           }
          ],
          "carpet": [
           {
            "aaxis": {
             "endlinecolor": "#2a3f5f",
             "gridcolor": "white",
             "linecolor": "white",
             "minorgridcolor": "white",
             "startlinecolor": "#2a3f5f"
            },
            "baxis": {
             "endlinecolor": "#2a3f5f",
             "gridcolor": "white",
             "linecolor": "white",
             "minorgridcolor": "white",
             "startlinecolor": "#2a3f5f"
            },
            "type": "carpet"
           }
          ],
          "choropleth": [
           {
            "colorbar": {
             "outlinewidth": 0,
             "ticks": ""
            },
            "type": "choropleth"
           }
          ],
          "contour": [
           {
            "colorbar": {
             "outlinewidth": 0,
             "ticks": ""
            },
            "colorscale": [
             [
              0,
              "#0d0887"
             ],
             [
              0.1111111111111111,
              "#46039f"
             ],
             [
              0.2222222222222222,
              "#7201a8"
             ],
             [
              0.3333333333333333,
              "#9c179e"
             ],
             [
              0.4444444444444444,
              "#bd3786"
             ],
             [
              0.5555555555555556,
              "#d8576b"
             ],
             [
              0.6666666666666666,
              "#ed7953"
             ],
             [
              0.7777777777777778,
              "#fb9f3a"
             ],
             [
              0.8888888888888888,
              "#fdca26"
             ],
             [
              1,
              "#f0f921"
             ]
            ],
            "type": "contour"
           }
          ],
          "contourcarpet": [
           {
            "colorbar": {
             "outlinewidth": 0,
             "ticks": ""
            },
            "type": "contourcarpet"
           }
          ],
          "heatmap": [
           {
            "colorbar": {
             "outlinewidth": 0,
             "ticks": ""
            },
            "colorscale": [
             [
              0,
              "#0d0887"
             ],
             [
              0.1111111111111111,
              "#46039f"
             ],
             [
              0.2222222222222222,
              "#7201a8"
             ],
             [
              0.3333333333333333,
              "#9c179e"
             ],
             [
              0.4444444444444444,
              "#bd3786"
             ],
             [
              0.5555555555555556,
              "#d8576b"
             ],
             [
              0.6666666666666666,
              "#ed7953"
             ],
             [
              0.7777777777777778,
              "#fb9f3a"
             ],
             [
              0.8888888888888888,
              "#fdca26"
             ],
             [
              1,
              "#f0f921"
             ]
            ],
            "type": "heatmap"
           }
          ],
          "heatmapgl": [
           {
            "colorbar": {
             "outlinewidth": 0,
             "ticks": ""
            },
            "colorscale": [
             [
              0,
              "#0d0887"
             ],
             [
              0.1111111111111111,
              "#46039f"
             ],
             [
              0.2222222222222222,
              "#7201a8"
             ],
             [
              0.3333333333333333,
              "#9c179e"
             ],
             [
              0.4444444444444444,
              "#bd3786"
             ],
             [
              0.5555555555555556,
              "#d8576b"
             ],
             [
              0.6666666666666666,
              "#ed7953"
             ],
             [
              0.7777777777777778,
              "#fb9f3a"
             ],
             [
              0.8888888888888888,
              "#fdca26"
             ],
             [
              1,
              "#f0f921"
             ]
            ],
            "type": "heatmapgl"
           }
          ],
          "histogram": [
           {
            "marker": {
             "pattern": {
              "fillmode": "overlay",
              "size": 10,
              "solidity": 0.2
             }
            },
            "type": "histogram"
           }
          ],
          "histogram2d": [
           {
            "colorbar": {
             "outlinewidth": 0,
             "ticks": ""
            },
            "colorscale": [
             [
              0,
              "#0d0887"
             ],
             [
              0.1111111111111111,
              "#46039f"
             ],
             [
              0.2222222222222222,
              "#7201a8"
             ],
             [
              0.3333333333333333,
              "#9c179e"
             ],
             [
              0.4444444444444444,
              "#bd3786"
             ],
             [
              0.5555555555555556,
              "#d8576b"
             ],
             [
              0.6666666666666666,
              "#ed7953"
             ],
             [
              0.7777777777777778,
              "#fb9f3a"
             ],
             [
              0.8888888888888888,
              "#fdca26"
             ],
             [
              1,
              "#f0f921"
             ]
            ],
            "type": "histogram2d"
           }
          ],
          "histogram2dcontour": [
           {
            "colorbar": {
             "outlinewidth": 0,
             "ticks": ""
            },
            "colorscale": [
             [
              0,
              "#0d0887"
             ],
             [
              0.1111111111111111,
              "#46039f"
             ],
             [
              0.2222222222222222,
              "#7201a8"
             ],
             [
              0.3333333333333333,
              "#9c179e"
             ],
             [
              0.4444444444444444,
              "#bd3786"
             ],
             [
              0.5555555555555556,
              "#d8576b"
             ],
             [
              0.6666666666666666,
              "#ed7953"
             ],
             [
              0.7777777777777778,
              "#fb9f3a"
             ],
             [
              0.8888888888888888,
              "#fdca26"
             ],
             [
              1,
              "#f0f921"
             ]
            ],
            "type": "histogram2dcontour"
           }
          ],
          "mesh3d": [
           {
            "colorbar": {
             "outlinewidth": 0,
             "ticks": ""
            },
            "type": "mesh3d"
           }
          ],
          "parcoords": [
           {
            "line": {
             "colorbar": {
              "outlinewidth": 0,
              "ticks": ""
             }
            },
            "type": "parcoords"
           }
          ],
          "pie": [
           {
            "automargin": true,
            "type": "pie"
           }
          ],
          "scatter": [
           {
            "fillpattern": {
             "fillmode": "overlay",
             "size": 10,
             "solidity": 0.2
            },
            "type": "scatter"
           }
          ],
          "scatter3d": [
           {
            "line": {
             "colorbar": {
              "outlinewidth": 0,
              "ticks": ""
             }
            },
            "marker": {
             "colorbar": {
              "outlinewidth": 0,
              "ticks": ""
             }
            },
            "type": "scatter3d"
           }
          ],
          "scattercarpet": [
           {
            "marker": {
             "colorbar": {
              "outlinewidth": 0,
              "ticks": ""
             }
            },
            "type": "scattercarpet"
           }
          ],
          "scattergeo": [
           {
            "marker": {
             "colorbar": {
              "outlinewidth": 0,
              "ticks": ""
             }
            },
            "type": "scattergeo"
           }
          ],
          "scattergl": [
           {
            "marker": {
             "colorbar": {
              "outlinewidth": 0,
              "ticks": ""
             }
            },
            "type": "scattergl"
           }
          ],
          "scattermapbox": [
           {
            "marker": {
             "colorbar": {
              "outlinewidth": 0,
              "ticks": ""
             }
            },
            "type": "scattermapbox"
           }
          ],
          "scatterpolar": [
           {
            "marker": {
             "colorbar": {
              "outlinewidth": 0,
              "ticks": ""
             }
            },
            "type": "scatterpolar"
           }
          ],
          "scatterpolargl": [
           {
            "marker": {
             "colorbar": {
              "outlinewidth": 0,
              "ticks": ""
             }
            },
            "type": "scatterpolargl"
           }
          ],
          "scatterternary": [
           {
            "marker": {
             "colorbar": {
              "outlinewidth": 0,
              "ticks": ""
             }
            },
            "type": "scatterternary"
           }
          ],
          "surface": [
           {
            "colorbar": {
             "outlinewidth": 0,
             "ticks": ""
            },
            "colorscale": [
             [
              0,
              "#0d0887"
             ],
             [
              0.1111111111111111,
              "#46039f"
             ],
             [
              0.2222222222222222,
              "#7201a8"
             ],
             [
              0.3333333333333333,
              "#9c179e"
             ],
             [
              0.4444444444444444,
              "#bd3786"
             ],
             [
              0.5555555555555556,
              "#d8576b"
             ],
             [
              0.6666666666666666,
              "#ed7953"
             ],
             [
              0.7777777777777778,
              "#fb9f3a"
             ],
             [
              0.8888888888888888,
              "#fdca26"
             ],
             [
              1,
              "#f0f921"
             ]
            ],
            "type": "surface"
           }
          ],
          "table": [
           {
            "cells": {
             "fill": {
              "color": "#EBF0F8"
             },
             "line": {
              "color": "white"
             }
            },
            "header": {
             "fill": {
              "color": "#C8D4E3"
             },
             "line": {
              "color": "white"
             }
            },
            "type": "table"
           }
          ]
         },
         "layout": {
          "annotationdefaults": {
           "arrowcolor": "#2a3f5f",
           "arrowhead": 0,
           "arrowwidth": 1
          },
          "autotypenumbers": "strict",
          "coloraxis": {
           "colorbar": {
            "outlinewidth": 0,
            "ticks": ""
           }
          },
          "colorscale": {
           "diverging": [
            [
             0,
             "#8e0152"
            ],
            [
             0.1,
             "#c51b7d"
            ],
            [
             0.2,
             "#de77ae"
            ],
            [
             0.3,
             "#f1b6da"
            ],
            [
             0.4,
             "#fde0ef"
            ],
            [
             0.5,
             "#f7f7f7"
            ],
            [
             0.6,
             "#e6f5d0"
            ],
            [
             0.7,
             "#b8e186"
            ],
            [
             0.8,
             "#7fbc41"
            ],
            [
             0.9,
             "#4d9221"
            ],
            [
             1,
             "#276419"
            ]
           ],
           "sequential": [
            [
             0,
             "#0d0887"
            ],
            [
             0.1111111111111111,
             "#46039f"
            ],
            [
             0.2222222222222222,
             "#7201a8"
            ],
            [
             0.3333333333333333,
             "#9c179e"
            ],
            [
             0.4444444444444444,
             "#bd3786"
            ],
            [
             0.5555555555555556,
             "#d8576b"
            ],
            [
             0.6666666666666666,
             "#ed7953"
            ],
            [
             0.7777777777777778,
             "#fb9f3a"
            ],
            [
             0.8888888888888888,
             "#fdca26"
            ],
            [
             1,
             "#f0f921"
            ]
           ],
           "sequentialminus": [
            [
             0,
             "#0d0887"
            ],
            [
             0.1111111111111111,
             "#46039f"
            ],
            [
             0.2222222222222222,
             "#7201a8"
            ],
            [
             0.3333333333333333,
             "#9c179e"
            ],
            [
             0.4444444444444444,
             "#bd3786"
            ],
            [
             0.5555555555555556,
             "#d8576b"
            ],
            [
             0.6666666666666666,
             "#ed7953"
            ],
            [
             0.7777777777777778,
             "#fb9f3a"
            ],
            [
             0.8888888888888888,
             "#fdca26"
            ],
            [
             1,
             "#f0f921"
            ]
           ]
          },
          "colorway": [
           "#636efa",
           "#EF553B",
           "#00cc96",
           "#ab63fa",
           "#FFA15A",
           "#19d3f3",
           "#FF6692",
           "#B6E880",
           "#FF97FF",
           "#FECB52"
          ],
          "font": {
           "color": "#2a3f5f"
          },
          "geo": {
           "bgcolor": "white",
           "lakecolor": "white",
           "landcolor": "#E5ECF6",
           "showlakes": true,
           "showland": true,
           "subunitcolor": "white"
          },
          "hoverlabel": {
           "align": "left"
          },
          "hovermode": "closest",
          "mapbox": {
           "style": "light"
          },
          "paper_bgcolor": "white",
          "plot_bgcolor": "#E5ECF6",
          "polar": {
           "angularaxis": {
            "gridcolor": "white",
            "linecolor": "white",
            "ticks": ""
           },
           "bgcolor": "#E5ECF6",
           "radialaxis": {
            "gridcolor": "white",
            "linecolor": "white",
            "ticks": ""
           }
          },
          "scene": {
           "xaxis": {
            "backgroundcolor": "#E5ECF6",
            "gridcolor": "white",
            "gridwidth": 2,
            "linecolor": "white",
            "showbackground": true,
            "ticks": "",
            "zerolinecolor": "white"
           },
           "yaxis": {
            "backgroundcolor": "#E5ECF6",
            "gridcolor": "white",
            "gridwidth": 2,
            "linecolor": "white",
            "showbackground": true,
            "ticks": "",
            "zerolinecolor": "white"
           },
           "zaxis": {
            "backgroundcolor": "#E5ECF6",
            "gridcolor": "white",
            "gridwidth": 2,
            "linecolor": "white",
            "showbackground": true,
            "ticks": "",
            "zerolinecolor": "white"
           }
          },
          "shapedefaults": {
           "line": {
            "color": "#2a3f5f"
           }
          },
          "ternary": {
           "aaxis": {
            "gridcolor": "white",
            "linecolor": "white",
            "ticks": ""
           },
           "baxis": {
            "gridcolor": "white",
            "linecolor": "white",
            "ticks": ""
           },
           "bgcolor": "#E5ECF6",
           "caxis": {
            "gridcolor": "white",
            "linecolor": "white",
            "ticks": ""
           }
          },
          "title": {
           "x": 0.05
          },
          "xaxis": {
           "automargin": true,
           "gridcolor": "white",
           "linecolor": "white",
           "ticks": "",
           "title": {
            "standoff": 15
           },
           "zerolinecolor": "white",
           "zerolinewidth": 2
          },
          "yaxis": {
           "automargin": true,
           "gridcolor": "white",
           "linecolor": "white",
           "ticks": "",
           "title": {
            "standoff": 15
           },
           "zerolinecolor": "white",
           "zerolinewidth": 2
          }
         }
        },
        "title": {
         "text": "Hyperparameter Importances"
        },
        "xaxis": {
         "title": {
          "text": "Hyperparameter Importance"
         }
        },
        "yaxis": {
         "title": {
          "text": "Hyperparameter"
         }
        }
       }
      }
     },
     "metadata": {},
     "output_type": "display_data"
    }
   ],
   "source": [
    "cat_study = optuna.create_study(direction = 'maximize')\n",
    "cat_study.optimize(cat_objective,n_trials=TRIALS, n_jobs=-1, show_progress_bar=True)\n",
    "print(\"\")\n",
    "print(f'scores : {cat_study.best_value}, params : {cat_study.best_params}')\n",
    "with open('cat.json', 'w') as json_file:\n",
    "    json.dump(cat_study.best_params, json_file, indent=4)\n",
    "optuna.visualization.plot_param_importances(cat_study)"
   ]
  },
  {
   "cell_type": "markdown",
   "metadata": {},
   "source": [
    "## Summary"
   ]
  },
  {
   "cell_type": "code",
   "execution_count": 16,
   "metadata": {},
   "outputs": [
    {
     "name": "stdout",
     "output_type": "stream",
     "text": [
      "Mean score XGBoost : 0.90828 ± 0.00462\n"
     ]
    }
   ],
   "source": [
    "params = {\n",
    "    **xgb_study.best_params,\n",
    "    **params_xgb\n",
    "}\n",
    "\n",
    "xgb = make_pipeline(\n",
    "    FeaturesEncoding,\n",
    "    FeatureScaler,\n",
    "    XGBClassifier(**params)\n",
    ")\n",
    "xgb_scores = cross_val_score(xgb, X,y,scoring='accuracy',cv=SKF, n_jobs=-1)\n",
    "print(f'Mean score XGBoost : {np.mean(xgb_scores):.5f} ± {np.std(xgb_scores):.5f}')"
   ]
  },
  {
   "cell_type": "code",
   "execution_count": 17,
   "metadata": {},
   "outputs": [
    {
     "name": "stdout",
     "output_type": "stream",
     "text": [
      "Mean score CatBoost : 0.91015 ± 0.91015\n"
     ]
    }
   ],
   "source": [
    "params = {\n",
    "    **lgbm_study.best_params,\n",
    "    **params_lgbm\n",
    "}\n",
    "lgbm = make_pipeline(\n",
    "        FeaturesEncoding,\n",
    "        FeatureScaler,\n",
    "        LGBMClassifier(**params)\n",
    ")\n",
    "cat_scores = cross_val_score(lgbm, X,y,scoring='accuracy',cv=SKF, n_jobs=-1)\n",
    "print(f'Mean score CatBoost : {np.mean(cat_scores):.5f} ± {np.mean(cat_scores):.5f}')"
   ]
  },
  {
   "cell_type": "code",
   "execution_count": 18,
   "metadata": {},
   "outputs": [
    {
     "name": "stdout",
     "output_type": "stream",
     "text": [
      "Mean score CatBoost : 0.90534 ± 0.90534\n"
     ]
    }
   ],
   "source": [
    "params = {\n",
    "    **cat_study.best_params,\n",
    "    **params_cat\n",
    "}\n",
    "cat = make_pipeline(\n",
    "    FeatureScaler,\n",
    "    CatBoostClassifier(**params)\n",
    ")\n",
    "cat_scores = cross_val_score(cat, X,y,scoring='accuracy',cv=SKF, n_jobs=-1)\n",
    "\n",
    "print(f'Mean score CatBoost : {np.mean(cat_scores):.5f} ± {np.mean(cat_scores):.5f}')"
   ]
  },
  {
   "cell_type": "markdown",
   "metadata": {},
   "source": [
    "# Voting"
   ]
  },
  {
   "cell_type": "code",
   "execution_count": 19,
   "metadata": {},
   "outputs": [],
   "source": [
    "xgb_predict_proba = cross_val_predict(xgb, X,y,cv=SKF, n_jobs=-1, method='predict_proba')\n",
    "lgbm_predict_proba = cross_val_predict(lgbm, X,y,cv=SKF, n_jobs=-1, method='predict_proba')\n",
    "cat_predict_proba = cross_val_predict(cat, X,y,cv=SKF, n_jobs=-1, method='predict_proba')"
   ]
  },
  {
   "cell_type": "code",
   "execution_count": 20,
   "metadata": {},
   "outputs": [],
   "source": [
    "def proba_true(proba) : \n",
    "    df = pd.concat([pd.DataFrame(y, columns=['true']),pd.DataFrame(proba)], axis=1)\n",
    "    return df.apply(lambda row : row[row['true']], axis=1)"
   ]
  },
  {
   "cell_type": "code",
   "execution_count": 21,
   "metadata": {},
   "outputs": [],
   "source": [
    "prediction = pd.DataFrame()\n",
    "prediction.insert(0,'xgb',proba_true(xgb_predict_proba))\n",
    "prediction.insert(1,'lgbm',proba_true(lgbm_predict_proba))\n",
    "prediction.insert(2,'cat',proba_true(cat_predict_proba))"
   ]
  },
  {
   "cell_type": "code",
   "execution_count": 55,
   "metadata": {},
   "outputs": [
    {
     "name": "stdout",
     "output_type": "stream",
     "text": [
      "[ 0.12128787 -0.58146858 -0.21770786]\n"
     ]
    }
   ],
   "source": [
    "ridge = RidgeClassifier()\n",
    "ridge.fit(prediction,y)\n",
    "weights = ridge.coef_[0]/sum(ridge.coef_[1])\n",
    "print(weights)"
   ]
  },
  {
   "cell_type": "code",
   "execution_count": 56,
   "metadata": {},
   "outputs": [],
   "source": [
    "estimators = [\n",
    "    ('xgb',xgb),\n",
    "    ('lgbm',lgbm),\n",
    "    ('cat',cat)\n",
    "]\n",
    "voting = VotingClassifier(estimators, voting='soft',weights=weights)"
   ]
  },
  {
   "cell_type": "code",
   "execution_count": 50,
   "metadata": {},
   "outputs": [
    {
     "name": "stdout",
     "output_type": "stream",
     "text": [
      "Mean score : 0.91112 ± 0.91112\n"
     ]
    }
   ],
   "source": [
    "scores = cross_val_score(voting, X,y,scoring='accuracy',cv=SKF, n_jobs=-1)\n",
    "print(f'Mean score : {np.mean(scores):.5f} ± {np.mean(scores):.5f}')"
   ]
  },
  {
   "cell_type": "markdown",
   "metadata": {},
   "source": [
    "# Submission"
   ]
  },
  {
   "cell_type": "code",
   "execution_count": 57,
   "metadata": {},
   "outputs": [
    {
     "data": {
      "text/html": [
       "<style>#sk-container-id-6 {color: black;background-color: white;}#sk-container-id-6 pre{padding: 0;}#sk-container-id-6 div.sk-toggleable {background-color: white;}#sk-container-id-6 label.sk-toggleable__label {cursor: pointer;display: block;width: 100%;margin-bottom: 0;padding: 0.3em;box-sizing: border-box;text-align: center;}#sk-container-id-6 label.sk-toggleable__label-arrow:before {content: \"▸\";float: left;margin-right: 0.25em;color: #696969;}#sk-container-id-6 label.sk-toggleable__label-arrow:hover:before {color: black;}#sk-container-id-6 div.sk-estimator:hover label.sk-toggleable__label-arrow:before {color: black;}#sk-container-id-6 div.sk-toggleable__content {max-height: 0;max-width: 0;overflow: hidden;text-align: left;background-color: #f0f8ff;}#sk-container-id-6 div.sk-toggleable__content pre {margin: 0.2em;color: black;border-radius: 0.25em;background-color: #f0f8ff;}#sk-container-id-6 input.sk-toggleable__control:checked~div.sk-toggleable__content {max-height: 200px;max-width: 100%;overflow: auto;}#sk-container-id-6 input.sk-toggleable__control:checked~label.sk-toggleable__label-arrow:before {content: \"▾\";}#sk-container-id-6 div.sk-estimator input.sk-toggleable__control:checked~label.sk-toggleable__label {background-color: #d4ebff;}#sk-container-id-6 div.sk-label input.sk-toggleable__control:checked~label.sk-toggleable__label {background-color: #d4ebff;}#sk-container-id-6 input.sk-hidden--visually {border: 0;clip: rect(1px 1px 1px 1px);clip: rect(1px, 1px, 1px, 1px);height: 1px;margin: -1px;overflow: hidden;padding: 0;position: absolute;width: 1px;}#sk-container-id-6 div.sk-estimator {font-family: monospace;background-color: #f0f8ff;border: 1px dotted black;border-radius: 0.25em;box-sizing: border-box;margin-bottom: 0.5em;}#sk-container-id-6 div.sk-estimator:hover {background-color: #d4ebff;}#sk-container-id-6 div.sk-parallel-item::after {content: \"\";width: 100%;border-bottom: 1px solid gray;flex-grow: 1;}#sk-container-id-6 div.sk-label:hover label.sk-toggleable__label {background-color: #d4ebff;}#sk-container-id-6 div.sk-serial::before {content: \"\";position: absolute;border-left: 1px solid gray;box-sizing: border-box;top: 0;bottom: 0;left: 50%;z-index: 0;}#sk-container-id-6 div.sk-serial {display: flex;flex-direction: column;align-items: center;background-color: white;padding-right: 0.2em;padding-left: 0.2em;position: relative;}#sk-container-id-6 div.sk-item {position: relative;z-index: 1;}#sk-container-id-6 div.sk-parallel {display: flex;align-items: stretch;justify-content: center;background-color: white;position: relative;}#sk-container-id-6 div.sk-item::before, #sk-container-id-6 div.sk-parallel-item::before {content: \"\";position: absolute;border-left: 1px solid gray;box-sizing: border-box;top: 0;bottom: 0;left: 50%;z-index: -1;}#sk-container-id-6 div.sk-parallel-item {display: flex;flex-direction: column;z-index: 1;position: relative;background-color: white;}#sk-container-id-6 div.sk-parallel-item:first-child::after {align-self: flex-end;width: 50%;}#sk-container-id-6 div.sk-parallel-item:last-child::after {align-self: flex-start;width: 50%;}#sk-container-id-6 div.sk-parallel-item:only-child::after {width: 0;}#sk-container-id-6 div.sk-dashed-wrapped {border: 1px dashed gray;margin: 0 0.4em 0.5em 0.4em;box-sizing: border-box;padding-bottom: 0.4em;background-color: white;}#sk-container-id-6 div.sk-label label {font-family: monospace;font-weight: bold;display: inline-block;line-height: 1.2em;}#sk-container-id-6 div.sk-label-container {text-align: center;}#sk-container-id-6 div.sk-container {/* jupyter's `normalize.less` sets `[hidden] { display: none; }` but bootstrap.min.css set `[hidden] { display: none !important; }` so we also need the `!important` here to be able to override the default hidden behavior on the sphinx rendered scikit-learn.org. See: https://github.com/scikit-learn/scikit-learn/issues/21755 */display: inline-block !important;position: relative;}#sk-container-id-6 div.sk-text-repr-fallback {display: none;}</style><div id=\"sk-container-id-6\" class=\"sk-top-container\"><div class=\"sk-text-repr-fallback\"><pre>VotingClassifier(estimators=[(&#x27;xgb&#x27;,\n",
       "                              Pipeline(steps=[(&#x27;functiontransformer&#x27;,\n",
       "                                               FunctionTransformer(func=&lt;function features_encoding at 0x164654400&gt;)),\n",
       "                                              (&#x27;columntransformer&#x27;,\n",
       "                                               ColumnTransformer(remainder=&#x27;passthrough&#x27;,\n",
       "                                                                 transformers=[(&#x27;scaler&#x27;,\n",
       "                                                                                StandardScaler(),\n",
       "                                                                                [&#x27;Age&#x27;,\n",
       "                                                                                 &#x27;Height&#x27;,\n",
       "                                                                                 &#x27;Weight&#x27;,\n",
       "                                                                                 &#x27;FCVC&#x27;,\n",
       "                                                                                 &#x27;NCP&#x27;,\n",
       "                                                                                 &#x27;CH2O&#x27;,\n",
       "                                                                                 &#x27;FAF&#x27;,\n",
       "                                                                                 &#x27;TUE&#x27;])])),\n",
       "                                              (&#x27;xgbclassifier&#x27;,\n",
       "                                               XGBClassifier(base_score...\n",
       "                                                              subsample=0.6454638392277356))])),\n",
       "                             (&#x27;cat&#x27;,\n",
       "                              Pipeline(steps=[(&#x27;columntransformer&#x27;,\n",
       "                                               ColumnTransformer(remainder=&#x27;passthrough&#x27;,\n",
       "                                                                 transformers=[(&#x27;scaler&#x27;,\n",
       "                                                                                StandardScaler(),\n",
       "                                                                                [&#x27;Age&#x27;,\n",
       "                                                                                 &#x27;Height&#x27;,\n",
       "                                                                                 &#x27;Weight&#x27;,\n",
       "                                                                                 &#x27;FCVC&#x27;,\n",
       "                                                                                 &#x27;NCP&#x27;,\n",
       "                                                                                 &#x27;CH2O&#x27;,\n",
       "                                                                                 &#x27;FAF&#x27;,\n",
       "                                                                                 &#x27;TUE&#x27;])])),\n",
       "                                              (&#x27;catboostclassifier&#x27;,\n",
       "                                               &lt;catboost.core.CatBoostClassifier object at 0x378eae910&gt;)]))],\n",
       "                 voting=&#x27;soft&#x27;,\n",
       "                 weights=array([ 0.12128787, -0.58146858, -0.21770786]))</pre><b>In a Jupyter environment, please rerun this cell to show the HTML representation or trust the notebook. <br />On GitHub, the HTML representation is unable to render, please try loading this page with nbviewer.org.</b></div><div class=\"sk-container\" hidden><div class=\"sk-item sk-dashed-wrapped\"><div class=\"sk-label-container\"><div class=\"sk-label sk-toggleable\"><input class=\"sk-toggleable__control sk-hidden--visually\" id=\"sk-estimator-id-106\" type=\"checkbox\" ><label for=\"sk-estimator-id-106\" class=\"sk-toggleable__label sk-toggleable__label-arrow\">VotingClassifier</label><div class=\"sk-toggleable__content\"><pre>VotingClassifier(estimators=[(&#x27;xgb&#x27;,\n",
       "                              Pipeline(steps=[(&#x27;functiontransformer&#x27;,\n",
       "                                               FunctionTransformer(func=&lt;function features_encoding at 0x164654400&gt;)),\n",
       "                                              (&#x27;columntransformer&#x27;,\n",
       "                                               ColumnTransformer(remainder=&#x27;passthrough&#x27;,\n",
       "                                                                 transformers=[(&#x27;scaler&#x27;,\n",
       "                                                                                StandardScaler(),\n",
       "                                                                                [&#x27;Age&#x27;,\n",
       "                                                                                 &#x27;Height&#x27;,\n",
       "                                                                                 &#x27;Weight&#x27;,\n",
       "                                                                                 &#x27;FCVC&#x27;,\n",
       "                                                                                 &#x27;NCP&#x27;,\n",
       "                                                                                 &#x27;CH2O&#x27;,\n",
       "                                                                                 &#x27;FAF&#x27;,\n",
       "                                                                                 &#x27;TUE&#x27;])])),\n",
       "                                              (&#x27;xgbclassifier&#x27;,\n",
       "                                               XGBClassifier(base_score...\n",
       "                                                              subsample=0.6454638392277356))])),\n",
       "                             (&#x27;cat&#x27;,\n",
       "                              Pipeline(steps=[(&#x27;columntransformer&#x27;,\n",
       "                                               ColumnTransformer(remainder=&#x27;passthrough&#x27;,\n",
       "                                                                 transformers=[(&#x27;scaler&#x27;,\n",
       "                                                                                StandardScaler(),\n",
       "                                                                                [&#x27;Age&#x27;,\n",
       "                                                                                 &#x27;Height&#x27;,\n",
       "                                                                                 &#x27;Weight&#x27;,\n",
       "                                                                                 &#x27;FCVC&#x27;,\n",
       "                                                                                 &#x27;NCP&#x27;,\n",
       "                                                                                 &#x27;CH2O&#x27;,\n",
       "                                                                                 &#x27;FAF&#x27;,\n",
       "                                                                                 &#x27;TUE&#x27;])])),\n",
       "                                              (&#x27;catboostclassifier&#x27;,\n",
       "                                               &lt;catboost.core.CatBoostClassifier object at 0x378eae910&gt;)]))],\n",
       "                 voting=&#x27;soft&#x27;,\n",
       "                 weights=array([ 0.12128787, -0.58146858, -0.21770786]))</pre></div></div></div><div class=\"sk-parallel\"><div class=\"sk-parallel-item\"><div class=\"sk-item\"><div class=\"sk-label-container\"><div class=\"sk-label sk-toggleable\"><label>xgb</label></div></div><div class=\"sk-serial\"><div class=\"sk-item\"><div class=\"sk-serial\"><div class=\"sk-item\"><div class=\"sk-estimator sk-toggleable\"><input class=\"sk-toggleable__control sk-hidden--visually\" id=\"sk-estimator-id-107\" type=\"checkbox\" ><label for=\"sk-estimator-id-107\" class=\"sk-toggleable__label sk-toggleable__label-arrow\">FunctionTransformer</label><div class=\"sk-toggleable__content\"><pre>FunctionTransformer(func=&lt;function features_encoding at 0x164654400&gt;)</pre></div></div></div><div class=\"sk-item sk-dashed-wrapped\"><div class=\"sk-label-container\"><div class=\"sk-label sk-toggleable\"><input class=\"sk-toggleable__control sk-hidden--visually\" id=\"sk-estimator-id-108\" type=\"checkbox\" ><label for=\"sk-estimator-id-108\" class=\"sk-toggleable__label sk-toggleable__label-arrow\">columntransformer: ColumnTransformer</label><div class=\"sk-toggleable__content\"><pre>ColumnTransformer(remainder=&#x27;passthrough&#x27;,\n",
       "                  transformers=[(&#x27;scaler&#x27;, StandardScaler(),\n",
       "                                 [&#x27;Age&#x27;, &#x27;Height&#x27;, &#x27;Weight&#x27;, &#x27;FCVC&#x27;, &#x27;NCP&#x27;,\n",
       "                                  &#x27;CH2O&#x27;, &#x27;FAF&#x27;, &#x27;TUE&#x27;])])</pre></div></div></div><div class=\"sk-parallel\"><div class=\"sk-parallel-item\"><div class=\"sk-item\"><div class=\"sk-label-container\"><div class=\"sk-label sk-toggleable\"><input class=\"sk-toggleable__control sk-hidden--visually\" id=\"sk-estimator-id-109\" type=\"checkbox\" ><label for=\"sk-estimator-id-109\" class=\"sk-toggleable__label sk-toggleable__label-arrow\">scaler</label><div class=\"sk-toggleable__content\"><pre>[&#x27;Age&#x27;, &#x27;Height&#x27;, &#x27;Weight&#x27;, &#x27;FCVC&#x27;, &#x27;NCP&#x27;, &#x27;CH2O&#x27;, &#x27;FAF&#x27;, &#x27;TUE&#x27;]</pre></div></div></div><div class=\"sk-serial\"><div class=\"sk-item\"><div class=\"sk-estimator sk-toggleable\"><input class=\"sk-toggleable__control sk-hidden--visually\" id=\"sk-estimator-id-110\" type=\"checkbox\" ><label for=\"sk-estimator-id-110\" class=\"sk-toggleable__label sk-toggleable__label-arrow\">StandardScaler</label><div class=\"sk-toggleable__content\"><pre>StandardScaler()</pre></div></div></div></div></div></div><div class=\"sk-parallel-item\"><div class=\"sk-item\"><div class=\"sk-label-container\"><div class=\"sk-label sk-toggleable\"><input class=\"sk-toggleable__control sk-hidden--visually\" id=\"sk-estimator-id-111\" type=\"checkbox\" ><label for=\"sk-estimator-id-111\" class=\"sk-toggleable__label sk-toggleable__label-arrow\">remainder</label><div class=\"sk-toggleable__content\"><pre></pre></div></div></div><div class=\"sk-serial\"><div class=\"sk-item\"><div class=\"sk-estimator sk-toggleable\"><input class=\"sk-toggleable__control sk-hidden--visually\" id=\"sk-estimator-id-112\" type=\"checkbox\" ><label for=\"sk-estimator-id-112\" class=\"sk-toggleable__label sk-toggleable__label-arrow\">passthrough</label><div class=\"sk-toggleable__content\"><pre>passthrough</pre></div></div></div></div></div></div></div></div><div class=\"sk-item\"><div class=\"sk-estimator sk-toggleable\"><input class=\"sk-toggleable__control sk-hidden--visually\" id=\"sk-estimator-id-113\" type=\"checkbox\" ><label for=\"sk-estimator-id-113\" class=\"sk-toggleable__label sk-toggleable__label-arrow\">XGBClassifier</label><div class=\"sk-toggleable__content\"><pre>XGBClassifier(base_score=None, booster=None, callbacks=None,\n",
       "              colsample_bylevel=None, colsample_bynode=None,\n",
       "              colsample_bytree=0.6605535338067056, early_stopping_rounds=None,\n",
       "              enable_categorical=False, eta=0.2522902630610552,\n",
       "              eval_metric=None, feature_types=None, gamma=None, gpu_id=None,\n",
       "              grow_policy=None, importance_type=None,\n",
       "              interaction_constraints=None, learning_rate=None, max_bin=None,\n",
       "              max_cat_threshold=None, max_cat_to_onehot=None,\n",
       "              max_delta_step=None, max_depth=23, max_leaves=None,\n",
       "              min_child_weight=0.1643712738302978, missing=nan,\n",
       "              monotone_constraints=None, n_estimators=100, n_jobs=None,\n",
       "              num_parallel_tree=None, predictor=None, ...)</pre></div></div></div></div></div></div></div></div><div class=\"sk-parallel-item\"><div class=\"sk-item\"><div class=\"sk-label-container\"><div class=\"sk-label sk-toggleable\"><label>lgbm</label></div></div><div class=\"sk-serial\"><div class=\"sk-item\"><div class=\"sk-serial\"><div class=\"sk-item\"><div class=\"sk-estimator sk-toggleable\"><input class=\"sk-toggleable__control sk-hidden--visually\" id=\"sk-estimator-id-114\" type=\"checkbox\" ><label for=\"sk-estimator-id-114\" class=\"sk-toggleable__label sk-toggleable__label-arrow\">FunctionTransformer</label><div class=\"sk-toggleable__content\"><pre>FunctionTransformer(func=&lt;function features_encoding at 0x164654400&gt;)</pre></div></div></div><div class=\"sk-item sk-dashed-wrapped\"><div class=\"sk-label-container\"><div class=\"sk-label sk-toggleable\"><input class=\"sk-toggleable__control sk-hidden--visually\" id=\"sk-estimator-id-115\" type=\"checkbox\" ><label for=\"sk-estimator-id-115\" class=\"sk-toggleable__label sk-toggleable__label-arrow\">columntransformer: ColumnTransformer</label><div class=\"sk-toggleable__content\"><pre>ColumnTransformer(remainder=&#x27;passthrough&#x27;,\n",
       "                  transformers=[(&#x27;scaler&#x27;, StandardScaler(),\n",
       "                                 [&#x27;Age&#x27;, &#x27;Height&#x27;, &#x27;Weight&#x27;, &#x27;FCVC&#x27;, &#x27;NCP&#x27;,\n",
       "                                  &#x27;CH2O&#x27;, &#x27;FAF&#x27;, &#x27;TUE&#x27;])])</pre></div></div></div><div class=\"sk-parallel\"><div class=\"sk-parallel-item\"><div class=\"sk-item\"><div class=\"sk-label-container\"><div class=\"sk-label sk-toggleable\"><input class=\"sk-toggleable__control sk-hidden--visually\" id=\"sk-estimator-id-116\" type=\"checkbox\" ><label for=\"sk-estimator-id-116\" class=\"sk-toggleable__label sk-toggleable__label-arrow\">scaler</label><div class=\"sk-toggleable__content\"><pre>[&#x27;Age&#x27;, &#x27;Height&#x27;, &#x27;Weight&#x27;, &#x27;FCVC&#x27;, &#x27;NCP&#x27;, &#x27;CH2O&#x27;, &#x27;FAF&#x27;, &#x27;TUE&#x27;]</pre></div></div></div><div class=\"sk-serial\"><div class=\"sk-item\"><div class=\"sk-estimator sk-toggleable\"><input class=\"sk-toggleable__control sk-hidden--visually\" id=\"sk-estimator-id-117\" type=\"checkbox\" ><label for=\"sk-estimator-id-117\" class=\"sk-toggleable__label sk-toggleable__label-arrow\">StandardScaler</label><div class=\"sk-toggleable__content\"><pre>StandardScaler()</pre></div></div></div></div></div></div><div class=\"sk-parallel-item\"><div class=\"sk-item\"><div class=\"sk-label-container\"><div class=\"sk-label sk-toggleable\"><input class=\"sk-toggleable__control sk-hidden--visually\" id=\"sk-estimator-id-118\" type=\"checkbox\" ><label for=\"sk-estimator-id-118\" class=\"sk-toggleable__label sk-toggleable__label-arrow\">remainder</label><div class=\"sk-toggleable__content\"><pre></pre></div></div></div><div class=\"sk-serial\"><div class=\"sk-item\"><div class=\"sk-estimator sk-toggleable\"><input class=\"sk-toggleable__control sk-hidden--visually\" id=\"sk-estimator-id-119\" type=\"checkbox\" ><label for=\"sk-estimator-id-119\" class=\"sk-toggleable__label sk-toggleable__label-arrow\">passthrough</label><div class=\"sk-toggleable__content\"><pre>passthrough</pre></div></div></div></div></div></div></div></div><div class=\"sk-item\"><div class=\"sk-estimator sk-toggleable\"><input class=\"sk-toggleable__control sk-hidden--visually\" id=\"sk-estimator-id-120\" type=\"checkbox\" ><label for=\"sk-estimator-id-120\" class=\"sk-toggleable__label sk-toggleable__label-arrow\">LGBMClassifier</label><div class=\"sk-toggleable__content\"><pre>LGBMClassifier(colsample_bytree=0.501292677205366,\n",
       "               learning_rate=0.11327114705127682, max_depth=12,\n",
       "               min_child_samples=11, n_estimators=68, num_leaves=29,\n",
       "               random_state=42, reg_alpha=0.7224308689715246,\n",
       "               reg_lambda=0.1780199013546951, subsample=0.6454638392277356)</pre></div></div></div></div></div></div></div></div><div class=\"sk-parallel-item\"><div class=\"sk-item\"><div class=\"sk-label-container\"><div class=\"sk-label sk-toggleable\"><label>cat</label></div></div><div class=\"sk-serial\"><div class=\"sk-item\"><div class=\"sk-serial\"><div class=\"sk-item sk-dashed-wrapped\"><div class=\"sk-label-container\"><div class=\"sk-label sk-toggleable\"><input class=\"sk-toggleable__control sk-hidden--visually\" id=\"sk-estimator-id-121\" type=\"checkbox\" ><label for=\"sk-estimator-id-121\" class=\"sk-toggleable__label sk-toggleable__label-arrow\">columntransformer: ColumnTransformer</label><div class=\"sk-toggleable__content\"><pre>ColumnTransformer(remainder=&#x27;passthrough&#x27;,\n",
       "                  transformers=[(&#x27;scaler&#x27;, StandardScaler(),\n",
       "                                 [&#x27;Age&#x27;, &#x27;Height&#x27;, &#x27;Weight&#x27;, &#x27;FCVC&#x27;, &#x27;NCP&#x27;,\n",
       "                                  &#x27;CH2O&#x27;, &#x27;FAF&#x27;, &#x27;TUE&#x27;])])</pre></div></div></div><div class=\"sk-parallel\"><div class=\"sk-parallel-item\"><div class=\"sk-item\"><div class=\"sk-label-container\"><div class=\"sk-label sk-toggleable\"><input class=\"sk-toggleable__control sk-hidden--visually\" id=\"sk-estimator-id-122\" type=\"checkbox\" ><label for=\"sk-estimator-id-122\" class=\"sk-toggleable__label sk-toggleable__label-arrow\">scaler</label><div class=\"sk-toggleable__content\"><pre>[&#x27;Age&#x27;, &#x27;Height&#x27;, &#x27;Weight&#x27;, &#x27;FCVC&#x27;, &#x27;NCP&#x27;, &#x27;CH2O&#x27;, &#x27;FAF&#x27;, &#x27;TUE&#x27;]</pre></div></div></div><div class=\"sk-serial\"><div class=\"sk-item\"><div class=\"sk-estimator sk-toggleable\"><input class=\"sk-toggleable__control sk-hidden--visually\" id=\"sk-estimator-id-123\" type=\"checkbox\" ><label for=\"sk-estimator-id-123\" class=\"sk-toggleable__label sk-toggleable__label-arrow\">StandardScaler</label><div class=\"sk-toggleable__content\"><pre>StandardScaler()</pre></div></div></div></div></div></div><div class=\"sk-parallel-item\"><div class=\"sk-item\"><div class=\"sk-label-container\"><div class=\"sk-label sk-toggleable\"><input class=\"sk-toggleable__control sk-hidden--visually\" id=\"sk-estimator-id-124\" type=\"checkbox\" ><label for=\"sk-estimator-id-124\" class=\"sk-toggleable__label sk-toggleable__label-arrow\">remainder</label><div class=\"sk-toggleable__content\"><pre></pre></div></div></div><div class=\"sk-serial\"><div class=\"sk-item\"><div class=\"sk-estimator sk-toggleable\"><input class=\"sk-toggleable__control sk-hidden--visually\" id=\"sk-estimator-id-125\" type=\"checkbox\" ><label for=\"sk-estimator-id-125\" class=\"sk-toggleable__label sk-toggleable__label-arrow\">passthrough</label><div class=\"sk-toggleable__content\"><pre>passthrough</pre></div></div></div></div></div></div></div></div><div class=\"sk-item\"><div class=\"sk-estimator sk-toggleable\"><input class=\"sk-toggleable__control sk-hidden--visually\" id=\"sk-estimator-id-126\" type=\"checkbox\" ><label for=\"sk-estimator-id-126\" class=\"sk-toggleable__label sk-toggleable__label-arrow\">CatBoostClassifier</label><div class=\"sk-toggleable__content\"><pre>&lt;catboost.core.CatBoostClassifier object at 0x378eae910&gt;</pre></div></div></div></div></div></div></div></div></div></div></div></div>"
      ],
      "text/plain": [
       "VotingClassifier(estimators=[('xgb',\n",
       "                              Pipeline(steps=[('functiontransformer',\n",
       "                                               FunctionTransformer(func=<function features_encoding at 0x164654400>)),\n",
       "                                              ('columntransformer',\n",
       "                                               ColumnTransformer(remainder='passthrough',\n",
       "                                                                 transformers=[('scaler',\n",
       "                                                                                StandardScaler(),\n",
       "                                                                                ['Age',\n",
       "                                                                                 'Height',\n",
       "                                                                                 'Weight',\n",
       "                                                                                 'FCVC',\n",
       "                                                                                 'NCP',\n",
       "                                                                                 'CH2O',\n",
       "                                                                                 'FAF',\n",
       "                                                                                 'TUE'])])),\n",
       "                                              ('xgbclassifier',\n",
       "                                               XGBClassifier(base_score...\n",
       "                                                              subsample=0.6454638392277356))])),\n",
       "                             ('cat',\n",
       "                              Pipeline(steps=[('columntransformer',\n",
       "                                               ColumnTransformer(remainder='passthrough',\n",
       "                                                                 transformers=[('scaler',\n",
       "                                                                                StandardScaler(),\n",
       "                                                                                ['Age',\n",
       "                                                                                 'Height',\n",
       "                                                                                 'Weight',\n",
       "                                                                                 'FCVC',\n",
       "                                                                                 'NCP',\n",
       "                                                                                 'CH2O',\n",
       "                                                                                 'FAF',\n",
       "                                                                                 'TUE'])])),\n",
       "                                              ('catboostclassifier',\n",
       "                                               <catboost.core.CatBoostClassifier object at 0x378eae910>)]))],\n",
       "                 voting='soft',\n",
       "                 weights=array([ 0.12128787, -0.58146858, -0.21770786]))"
      ]
     },
     "execution_count": 57,
     "metadata": {},
     "output_type": "execute_result"
    }
   ],
   "source": [
    "voting.fit(X,y)"
   ]
  },
  {
   "cell_type": "code",
   "execution_count": 58,
   "metadata": {},
   "outputs": [],
   "source": [
    "test = pd.read_csv('data/test.csv', index_col='id')\n",
    "submission = pd.read_csv(\"data/sample_submission.csv\", index_col='id')"
   ]
  },
  {
   "cell_type": "code",
   "execution_count": 59,
   "metadata": {},
   "outputs": [
    {
     "data": {
      "text/plain": [
       "array([3, 5, 4, ..., 0, 1, 3])"
      ]
     },
     "execution_count": 59,
     "metadata": {},
     "output_type": "execute_result"
    }
   ],
   "source": [
    "voting.predict(test)"
   ]
  },
  {
   "cell_type": "code",
   "execution_count": 60,
   "metadata": {},
   "outputs": [],
   "source": [
    "submission.loc[:,'NObeyesdad'] = lb.inverse_transform(voting.predict(test))"
   ]
  },
  {
   "cell_type": "code",
   "execution_count": 61,
   "metadata": {},
   "outputs": [],
   "source": [
    "name = dt.now().strftime(\"%Y%m%d_%H%M\")"
   ]
  },
  {
   "cell_type": "code",
   "execution_count": 62,
   "metadata": {},
   "outputs": [],
   "source": [
    "submission.to_csv(f\"submission/{name}.csv\")"
   ]
  },
  {
   "cell_type": "code",
   "execution_count": 63,
   "metadata": {},
   "outputs": [
    {
     "data": {
      "text/html": [
       "<div>\n",
       "<style scoped>\n",
       "    .dataframe tbody tr th:only-of-type {\n",
       "        vertical-align: middle;\n",
       "    }\n",
       "\n",
       "    .dataframe tbody tr th {\n",
       "        vertical-align: top;\n",
       "    }\n",
       "\n",
       "    .dataframe thead th {\n",
       "        text-align: right;\n",
       "    }\n",
       "</style>\n",
       "<table border=\"1\" class=\"dataframe\">\n",
       "  <thead>\n",
       "    <tr style=\"text-align: right;\">\n",
       "      <th></th>\n",
       "      <th>NObeyesdad</th>\n",
       "    </tr>\n",
       "    <tr>\n",
       "      <th>id</th>\n",
       "      <th></th>\n",
       "    </tr>\n",
       "  </thead>\n",
       "  <tbody>\n",
       "    <tr>\n",
       "      <th>20758</th>\n",
       "      <td>Obesity_Type_II</td>\n",
       "    </tr>\n",
       "    <tr>\n",
       "      <th>20759</th>\n",
       "      <td>Overweight_Level_I</td>\n",
       "    </tr>\n",
       "    <tr>\n",
       "      <th>20760</th>\n",
       "      <td>Obesity_Type_III</td>\n",
       "    </tr>\n",
       "    <tr>\n",
       "      <th>20761</th>\n",
       "      <td>Obesity_Type_I</td>\n",
       "    </tr>\n",
       "    <tr>\n",
       "      <th>20762</th>\n",
       "      <td>Obesity_Type_III</td>\n",
       "    </tr>\n",
       "    <tr>\n",
       "      <th>...</th>\n",
       "      <td>...</td>\n",
       "    </tr>\n",
       "    <tr>\n",
       "      <th>34593</th>\n",
       "      <td>Overweight_Level_II</td>\n",
       "    </tr>\n",
       "    <tr>\n",
       "      <th>34594</th>\n",
       "      <td>Normal_Weight</td>\n",
       "    </tr>\n",
       "    <tr>\n",
       "      <th>34595</th>\n",
       "      <td>Insufficient_Weight</td>\n",
       "    </tr>\n",
       "    <tr>\n",
       "      <th>34596</th>\n",
       "      <td>Normal_Weight</td>\n",
       "    </tr>\n",
       "    <tr>\n",
       "      <th>34597</th>\n",
       "      <td>Obesity_Type_II</td>\n",
       "    </tr>\n",
       "  </tbody>\n",
       "</table>\n",
       "<p>13840 rows × 1 columns</p>\n",
       "</div>"
      ],
      "text/plain": [
       "                NObeyesdad\n",
       "id                        \n",
       "20758      Obesity_Type_II\n",
       "20759   Overweight_Level_I\n",
       "20760     Obesity_Type_III\n",
       "20761       Obesity_Type_I\n",
       "20762     Obesity_Type_III\n",
       "...                    ...\n",
       "34593  Overweight_Level_II\n",
       "34594        Normal_Weight\n",
       "34595  Insufficient_Weight\n",
       "34596        Normal_Weight\n",
       "34597      Obesity_Type_II\n",
       "\n",
       "[13840 rows x 1 columns]"
      ]
     },
     "execution_count": 63,
     "metadata": {},
     "output_type": "execute_result"
    }
   ],
   "source": [
    "submission"
   ]
  },
  {
   "cell_type": "code",
   "execution_count": null,
   "metadata": {},
   "outputs": [],
   "source": []
  }
 ],
 "metadata": {
  "kernelspec": {
   "display_name": "playground",
   "language": "python",
   "name": "python3"
  },
  "language_info": {
   "codemirror_mode": {
    "name": "ipython",
    "version": 3
   },
   "file_extension": ".py",
   "mimetype": "text/x-python",
   "name": "python",
   "nbconvert_exporter": "python",
   "pygments_lexer": "ipython3",
   "version": "3.11.7"
  }
 },
 "nbformat": 4,
 "nbformat_minor": 2
}
