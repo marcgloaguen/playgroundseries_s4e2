{
 "cells": [
  {
   "cell_type": "markdown",
   "metadata": {},
   "source": [
    "**id** : A unique identifier for each individual in the dataset.\n",
    "\n",
    "**Gender** : The individual's gender, indicating whether they are male or female.\n",
    "\n",
    "**Age** : The age of the individual, representing their age in years.\n",
    "\n",
    "**Height** : The height of the individual, typically measured in meters.\n",
    "\n",
    "**Weight** : The weight of the individual, typically measured in kilograms.\n",
    "\n",
    "**family_history_with_overweight** : Indicates whether there is a family history of overweight for the individual (yes/no).\n",
    "\n",
    "**FAVC** : Stands for \"Frequency of consuming high caloric food,\" representing how often the individual consumes high-calorie foods (yes/no).\n",
    "\n",
    "**FCVC** : Stands for \"Frequency of consuming vegetables,\" representing how often the individual consumes vegetables.\n",
    "\n",
    "**NCP** : Stands for \"Number of main meals,\" indicating the number of main meals the individual consumes daily.\n",
    "\n",
    "**CAEC** : Stands for \"Consumption of food between meals,\" representing the frequency of consuming food between meals.\n",
    "\n",
    "**SMOKE** : Indicates whether the individual smokes or not (yes/no).\n",
    "\n",
    "**CH2O** : Represents the amount of water consumption for the individual.\n",
    "\n",
    "**SCC** : Stands for \"Calories consumption monitoring,\" indicating whether the individual monitors their calorie consumption (yes/no).\n",
    "\n",
    "**FAF** : Stands for \"Physical activity frequency,\" representing the frequency of the individual's physical activities.\n",
    "\n",
    "**TUE** : Stands for \"Time using technology devices,\" indicating the amount of time the individual spends using technology devices.\n",
    "\n",
    "**CALC** : Stands for \"Consumption of alcohol,\" representing the frequency of alcohol consumption.\n",
    "\n",
    "**MTRANS** : Stands for \"Mode of transportation,\" indicating the mode of transportation the individual uses.\n",
    "\n",
    "**NObeyesdad** : The target variable, representing the obesity risk category of the individual. It has multiple classes such as 'Overweight_Level_II', 'Normal_Weight', 'Insufficient_Weight', 'Obesity_Type_III', 'Obesity_Type_II', 'Overweight_Level_I', and 'Obesity_Type_I'."
   ]
  },
  {
   "cell_type": "code",
   "execution_count": 2,
   "metadata": {},
   "outputs": [],
   "source": [
    "\n",
    "import pandas as pd\n",
    "import numpy as np\n",
    "import json\n",
    "\n",
    "from sklearn.model_selection import StratifiedKFold\n",
    "\n",
    "from sklearn.preprocessing import StandardScaler, FunctionTransformer, LabelEncoder\n",
    "from sklearn.model_selection import cross_val_score\n",
    "from sklearn.ensemble import VotingClassifier\n",
    "from sklearn.linear_model import RidgeClassifier\n",
    "from sklearn.pipeline import make_pipeline\n",
    "\n",
    "import optuna\n",
    "from xgboost import XGBClassifier\n",
    "from lightgbm import LGBMClassifier\n",
    "from catboost import CatBoostClassifier\n",
    "\n",
    "import warnings\n",
    "warnings.filterwarnings('ignore')\n"
   ]
  },
  {
   "cell_type": "code",
   "execution_count": 3,
   "metadata": {},
   "outputs": [],
   "source": [
    "train = pd.read_csv('data/train.csv', index_col = 'id')"
   ]
  },
  {
   "cell_type": "code",
   "execution_count": 4,
   "metadata": {},
   "outputs": [
    {
     "data": {
      "text/html": [
       "<div>\n",
       "<style scoped>\n",
       "    .dataframe tbody tr th:only-of-type {\n",
       "        vertical-align: middle;\n",
       "    }\n",
       "\n",
       "    .dataframe tbody tr th {\n",
       "        vertical-align: top;\n",
       "    }\n",
       "\n",
       "    .dataframe thead th {\n",
       "        text-align: right;\n",
       "    }\n",
       "</style>\n",
       "<table border=\"1\" class=\"dataframe\">\n",
       "  <thead>\n",
       "    <tr style=\"text-align: right;\">\n",
       "      <th></th>\n",
       "      <th>Gender</th>\n",
       "      <th>Age</th>\n",
       "      <th>Height</th>\n",
       "      <th>Weight</th>\n",
       "      <th>family_history_with_overweight</th>\n",
       "      <th>FAVC</th>\n",
       "      <th>FCVC</th>\n",
       "      <th>NCP</th>\n",
       "      <th>CAEC</th>\n",
       "      <th>SMOKE</th>\n",
       "      <th>CH2O</th>\n",
       "      <th>SCC</th>\n",
       "      <th>FAF</th>\n",
       "      <th>TUE</th>\n",
       "      <th>CALC</th>\n",
       "      <th>MTRANS</th>\n",
       "      <th>NObeyesdad</th>\n",
       "    </tr>\n",
       "    <tr>\n",
       "      <th>id</th>\n",
       "      <th></th>\n",
       "      <th></th>\n",
       "      <th></th>\n",
       "      <th></th>\n",
       "      <th></th>\n",
       "      <th></th>\n",
       "      <th></th>\n",
       "      <th></th>\n",
       "      <th></th>\n",
       "      <th></th>\n",
       "      <th></th>\n",
       "      <th></th>\n",
       "      <th></th>\n",
       "      <th></th>\n",
       "      <th></th>\n",
       "      <th></th>\n",
       "      <th></th>\n",
       "    </tr>\n",
       "  </thead>\n",
       "  <tbody>\n",
       "    <tr>\n",
       "      <th>0</th>\n",
       "      <td>Male</td>\n",
       "      <td>24.443011</td>\n",
       "      <td>1.699998</td>\n",
       "      <td>81.669950</td>\n",
       "      <td>yes</td>\n",
       "      <td>yes</td>\n",
       "      <td>2.000000</td>\n",
       "      <td>2.983297</td>\n",
       "      <td>Sometimes</td>\n",
       "      <td>no</td>\n",
       "      <td>2.763573</td>\n",
       "      <td>no</td>\n",
       "      <td>0.000000</td>\n",
       "      <td>0.976473</td>\n",
       "      <td>Sometimes</td>\n",
       "      <td>Public_Transportation</td>\n",
       "      <td>Overweight_Level_II</td>\n",
       "    </tr>\n",
       "    <tr>\n",
       "      <th>1</th>\n",
       "      <td>Female</td>\n",
       "      <td>18.000000</td>\n",
       "      <td>1.560000</td>\n",
       "      <td>57.000000</td>\n",
       "      <td>yes</td>\n",
       "      <td>yes</td>\n",
       "      <td>2.000000</td>\n",
       "      <td>3.000000</td>\n",
       "      <td>Frequently</td>\n",
       "      <td>no</td>\n",
       "      <td>2.000000</td>\n",
       "      <td>no</td>\n",
       "      <td>1.000000</td>\n",
       "      <td>1.000000</td>\n",
       "      <td>no</td>\n",
       "      <td>Automobile</td>\n",
       "      <td>Normal_Weight</td>\n",
       "    </tr>\n",
       "    <tr>\n",
       "      <th>2</th>\n",
       "      <td>Female</td>\n",
       "      <td>18.000000</td>\n",
       "      <td>1.711460</td>\n",
       "      <td>50.165754</td>\n",
       "      <td>yes</td>\n",
       "      <td>yes</td>\n",
       "      <td>1.880534</td>\n",
       "      <td>1.411685</td>\n",
       "      <td>Sometimes</td>\n",
       "      <td>no</td>\n",
       "      <td>1.910378</td>\n",
       "      <td>no</td>\n",
       "      <td>0.866045</td>\n",
       "      <td>1.673584</td>\n",
       "      <td>no</td>\n",
       "      <td>Public_Transportation</td>\n",
       "      <td>Insufficient_Weight</td>\n",
       "    </tr>\n",
       "    <tr>\n",
       "      <th>3</th>\n",
       "      <td>Female</td>\n",
       "      <td>20.952737</td>\n",
       "      <td>1.710730</td>\n",
       "      <td>131.274851</td>\n",
       "      <td>yes</td>\n",
       "      <td>yes</td>\n",
       "      <td>3.000000</td>\n",
       "      <td>3.000000</td>\n",
       "      <td>Sometimes</td>\n",
       "      <td>no</td>\n",
       "      <td>1.674061</td>\n",
       "      <td>no</td>\n",
       "      <td>1.467863</td>\n",
       "      <td>0.780199</td>\n",
       "      <td>Sometimes</td>\n",
       "      <td>Public_Transportation</td>\n",
       "      <td>Obesity_Type_III</td>\n",
       "    </tr>\n",
       "    <tr>\n",
       "      <th>4</th>\n",
       "      <td>Male</td>\n",
       "      <td>31.641081</td>\n",
       "      <td>1.914186</td>\n",
       "      <td>93.798055</td>\n",
       "      <td>yes</td>\n",
       "      <td>yes</td>\n",
       "      <td>2.679664</td>\n",
       "      <td>1.971472</td>\n",
       "      <td>Sometimes</td>\n",
       "      <td>no</td>\n",
       "      <td>1.979848</td>\n",
       "      <td>no</td>\n",
       "      <td>1.967973</td>\n",
       "      <td>0.931721</td>\n",
       "      <td>Sometimes</td>\n",
       "      <td>Public_Transportation</td>\n",
       "      <td>Overweight_Level_II</td>\n",
       "    </tr>\n",
       "  </tbody>\n",
       "</table>\n",
       "</div>"
      ],
      "text/plain": [
       "    Gender        Age    Height      Weight family_history_with_overweight  \\\n",
       "id                                                                           \n",
       "0     Male  24.443011  1.699998   81.669950                            yes   \n",
       "1   Female  18.000000  1.560000   57.000000                            yes   \n",
       "2   Female  18.000000  1.711460   50.165754                            yes   \n",
       "3   Female  20.952737  1.710730  131.274851                            yes   \n",
       "4     Male  31.641081  1.914186   93.798055                            yes   \n",
       "\n",
       "   FAVC      FCVC       NCP        CAEC SMOKE      CH2O SCC       FAF  \\\n",
       "id                                                                      \n",
       "0   yes  2.000000  2.983297   Sometimes    no  2.763573  no  0.000000   \n",
       "1   yes  2.000000  3.000000  Frequently    no  2.000000  no  1.000000   \n",
       "2   yes  1.880534  1.411685   Sometimes    no  1.910378  no  0.866045   \n",
       "3   yes  3.000000  3.000000   Sometimes    no  1.674061  no  1.467863   \n",
       "4   yes  2.679664  1.971472   Sometimes    no  1.979848  no  1.967973   \n",
       "\n",
       "         TUE       CALC                 MTRANS           NObeyesdad  \n",
       "id                                                                   \n",
       "0   0.976473  Sometimes  Public_Transportation  Overweight_Level_II  \n",
       "1   1.000000         no             Automobile        Normal_Weight  \n",
       "2   1.673584         no  Public_Transportation  Insufficient_Weight  \n",
       "3   0.780199  Sometimes  Public_Transportation     Obesity_Type_III  \n",
       "4   0.931721  Sometimes  Public_Transportation  Overweight_Level_II  "
      ]
     },
     "execution_count": 4,
     "metadata": {},
     "output_type": "execute_result"
    }
   ],
   "source": [
    "train.head()"
   ]
  },
  {
   "cell_type": "code",
   "execution_count": 5,
   "metadata": {},
   "outputs": [
    {
     "name": "stdout",
     "output_type": "stream",
     "text": [
      "<class 'pandas.core.frame.DataFrame'>\n",
      "Index: 20758 entries, 0 to 20757\n",
      "Data columns (total 17 columns):\n",
      " #   Column                          Non-Null Count  Dtype  \n",
      "---  ------                          --------------  -----  \n",
      " 0   Gender                          20758 non-null  object \n",
      " 1   Age                             20758 non-null  float64\n",
      " 2   Height                          20758 non-null  float64\n",
      " 3   Weight                          20758 non-null  float64\n",
      " 4   family_history_with_overweight  20758 non-null  object \n",
      " 5   FAVC                            20758 non-null  object \n",
      " 6   FCVC                            20758 non-null  float64\n",
      " 7   NCP                             20758 non-null  float64\n",
      " 8   CAEC                            20758 non-null  object \n",
      " 9   SMOKE                           20758 non-null  object \n",
      " 10  CH2O                            20758 non-null  float64\n",
      " 11  SCC                             20758 non-null  object \n",
      " 12  FAF                             20758 non-null  float64\n",
      " 13  TUE                             20758 non-null  float64\n",
      " 14  CALC                            20758 non-null  object \n",
      " 15  MTRANS                          20758 non-null  object \n",
      " 16  NObeyesdad                      20758 non-null  object \n",
      "dtypes: float64(8), object(9)\n",
      "memory usage: 2.9+ MB\n"
     ]
    }
   ],
   "source": [
    "train.info()"
   ]
  },
  {
   "cell_type": "code",
   "execution_count": 6,
   "metadata": {},
   "outputs": [],
   "source": [
    "def report(data) : \n",
    "    report = pd.DataFrame(index = data.columns)\n",
    "    report['type'] = data.dtypes\n",
    "    report['count'] = data.count()\n",
    "    report['nunique'] = data.nunique()\n",
    "    report['%unique'] = report['nunique'] / len(data) * 100\n",
    "    report['null'] = data.isnull().sum()\n",
    "    report['%null'] = report['null'] / len(data) * 100\n",
    "    report['min'] = data.min()\n",
    "    report['max'] = data.max()\n",
    "    return report"
   ]
  },
  {
   "cell_type": "code",
   "execution_count": 7,
   "metadata": {},
   "outputs": [
    {
     "data": {
      "text/html": [
       "<div>\n",
       "<style scoped>\n",
       "    .dataframe tbody tr th:only-of-type {\n",
       "        vertical-align: middle;\n",
       "    }\n",
       "\n",
       "    .dataframe tbody tr th {\n",
       "        vertical-align: top;\n",
       "    }\n",
       "\n",
       "    .dataframe thead th {\n",
       "        text-align: right;\n",
       "    }\n",
       "</style>\n",
       "<table border=\"1\" class=\"dataframe\">\n",
       "  <thead>\n",
       "    <tr style=\"text-align: right;\">\n",
       "      <th></th>\n",
       "      <th>type</th>\n",
       "      <th>count</th>\n",
       "      <th>nunique</th>\n",
       "      <th>%unique</th>\n",
       "      <th>null</th>\n",
       "      <th>%null</th>\n",
       "      <th>min</th>\n",
       "      <th>max</th>\n",
       "    </tr>\n",
       "  </thead>\n",
       "  <tbody>\n",
       "    <tr>\n",
       "      <th>Gender</th>\n",
       "      <td>object</td>\n",
       "      <td>20758</td>\n",
       "      <td>2</td>\n",
       "      <td>0.009635</td>\n",
       "      <td>0</td>\n",
       "      <td>0.0</td>\n",
       "      <td>Female</td>\n",
       "      <td>Male</td>\n",
       "    </tr>\n",
       "    <tr>\n",
       "      <th>Age</th>\n",
       "      <td>float64</td>\n",
       "      <td>20758</td>\n",
       "      <td>1703</td>\n",
       "      <td>8.204066</td>\n",
       "      <td>0</td>\n",
       "      <td>0.0</td>\n",
       "      <td>14.0</td>\n",
       "      <td>61.0</td>\n",
       "    </tr>\n",
       "    <tr>\n",
       "      <th>Height</th>\n",
       "      <td>float64</td>\n",
       "      <td>20758</td>\n",
       "      <td>1833</td>\n",
       "      <td>8.830330</td>\n",
       "      <td>0</td>\n",
       "      <td>0.0</td>\n",
       "      <td>1.45</td>\n",
       "      <td>1.975663</td>\n",
       "    </tr>\n",
       "    <tr>\n",
       "      <th>Weight</th>\n",
       "      <td>float64</td>\n",
       "      <td>20758</td>\n",
       "      <td>1979</td>\n",
       "      <td>9.533674</td>\n",
       "      <td>0</td>\n",
       "      <td>0.0</td>\n",
       "      <td>39.0</td>\n",
       "      <td>165.057269</td>\n",
       "    </tr>\n",
       "    <tr>\n",
       "      <th>family_history_with_overweight</th>\n",
       "      <td>object</td>\n",
       "      <td>20758</td>\n",
       "      <td>2</td>\n",
       "      <td>0.009635</td>\n",
       "      <td>0</td>\n",
       "      <td>0.0</td>\n",
       "      <td>no</td>\n",
       "      <td>yes</td>\n",
       "    </tr>\n",
       "    <tr>\n",
       "      <th>FAVC</th>\n",
       "      <td>object</td>\n",
       "      <td>20758</td>\n",
       "      <td>2</td>\n",
       "      <td>0.009635</td>\n",
       "      <td>0</td>\n",
       "      <td>0.0</td>\n",
       "      <td>no</td>\n",
       "      <td>yes</td>\n",
       "    </tr>\n",
       "    <tr>\n",
       "      <th>FCVC</th>\n",
       "      <td>float64</td>\n",
       "      <td>20758</td>\n",
       "      <td>934</td>\n",
       "      <td>4.499470</td>\n",
       "      <td>0</td>\n",
       "      <td>0.0</td>\n",
       "      <td>1.0</td>\n",
       "      <td>3.0</td>\n",
       "    </tr>\n",
       "    <tr>\n",
       "      <th>NCP</th>\n",
       "      <td>float64</td>\n",
       "      <td>20758</td>\n",
       "      <td>689</td>\n",
       "      <td>3.319202</td>\n",
       "      <td>0</td>\n",
       "      <td>0.0</td>\n",
       "      <td>1.0</td>\n",
       "      <td>4.0</td>\n",
       "    </tr>\n",
       "    <tr>\n",
       "      <th>CAEC</th>\n",
       "      <td>object</td>\n",
       "      <td>20758</td>\n",
       "      <td>4</td>\n",
       "      <td>0.019270</td>\n",
       "      <td>0</td>\n",
       "      <td>0.0</td>\n",
       "      <td>Always</td>\n",
       "      <td>no</td>\n",
       "    </tr>\n",
       "    <tr>\n",
       "      <th>SMOKE</th>\n",
       "      <td>object</td>\n",
       "      <td>20758</td>\n",
       "      <td>2</td>\n",
       "      <td>0.009635</td>\n",
       "      <td>0</td>\n",
       "      <td>0.0</td>\n",
       "      <td>no</td>\n",
       "      <td>yes</td>\n",
       "    </tr>\n",
       "    <tr>\n",
       "      <th>CH2O</th>\n",
       "      <td>float64</td>\n",
       "      <td>20758</td>\n",
       "      <td>1506</td>\n",
       "      <td>7.255034</td>\n",
       "      <td>0</td>\n",
       "      <td>0.0</td>\n",
       "      <td>1.0</td>\n",
       "      <td>3.0</td>\n",
       "    </tr>\n",
       "    <tr>\n",
       "      <th>SCC</th>\n",
       "      <td>object</td>\n",
       "      <td>20758</td>\n",
       "      <td>2</td>\n",
       "      <td>0.009635</td>\n",
       "      <td>0</td>\n",
       "      <td>0.0</td>\n",
       "      <td>no</td>\n",
       "      <td>yes</td>\n",
       "    </tr>\n",
       "    <tr>\n",
       "      <th>FAF</th>\n",
       "      <td>float64</td>\n",
       "      <td>20758</td>\n",
       "      <td>1360</td>\n",
       "      <td>6.551691</td>\n",
       "      <td>0</td>\n",
       "      <td>0.0</td>\n",
       "      <td>0.0</td>\n",
       "      <td>3.0</td>\n",
       "    </tr>\n",
       "    <tr>\n",
       "      <th>TUE</th>\n",
       "      <td>float64</td>\n",
       "      <td>20758</td>\n",
       "      <td>1297</td>\n",
       "      <td>6.248193</td>\n",
       "      <td>0</td>\n",
       "      <td>0.0</td>\n",
       "      <td>0.0</td>\n",
       "      <td>2.0</td>\n",
       "    </tr>\n",
       "    <tr>\n",
       "      <th>CALC</th>\n",
       "      <td>object</td>\n",
       "      <td>20758</td>\n",
       "      <td>3</td>\n",
       "      <td>0.014452</td>\n",
       "      <td>0</td>\n",
       "      <td>0.0</td>\n",
       "      <td>Frequently</td>\n",
       "      <td>no</td>\n",
       "    </tr>\n",
       "    <tr>\n",
       "      <th>MTRANS</th>\n",
       "      <td>object</td>\n",
       "      <td>20758</td>\n",
       "      <td>5</td>\n",
       "      <td>0.024087</td>\n",
       "      <td>0</td>\n",
       "      <td>0.0</td>\n",
       "      <td>Automobile</td>\n",
       "      <td>Walking</td>\n",
       "    </tr>\n",
       "    <tr>\n",
       "      <th>NObeyesdad</th>\n",
       "      <td>object</td>\n",
       "      <td>20758</td>\n",
       "      <td>7</td>\n",
       "      <td>0.033722</td>\n",
       "      <td>0</td>\n",
       "      <td>0.0</td>\n",
       "      <td>Insufficient_Weight</td>\n",
       "      <td>Overweight_Level_II</td>\n",
       "    </tr>\n",
       "  </tbody>\n",
       "</table>\n",
       "</div>"
      ],
      "text/plain": [
       "                                   type  count  nunique   %unique  null  \\\n",
       "Gender                           object  20758        2  0.009635     0   \n",
       "Age                             float64  20758     1703  8.204066     0   \n",
       "Height                          float64  20758     1833  8.830330     0   \n",
       "Weight                          float64  20758     1979  9.533674     0   \n",
       "family_history_with_overweight   object  20758        2  0.009635     0   \n",
       "FAVC                             object  20758        2  0.009635     0   \n",
       "FCVC                            float64  20758      934  4.499470     0   \n",
       "NCP                             float64  20758      689  3.319202     0   \n",
       "CAEC                             object  20758        4  0.019270     0   \n",
       "SMOKE                            object  20758        2  0.009635     0   \n",
       "CH2O                            float64  20758     1506  7.255034     0   \n",
       "SCC                              object  20758        2  0.009635     0   \n",
       "FAF                             float64  20758     1360  6.551691     0   \n",
       "TUE                             float64  20758     1297  6.248193     0   \n",
       "CALC                             object  20758        3  0.014452     0   \n",
       "MTRANS                           object  20758        5  0.024087     0   \n",
       "NObeyesdad                       object  20758        7  0.033722     0   \n",
       "\n",
       "                                %null                  min  \\\n",
       "Gender                            0.0               Female   \n",
       "Age                               0.0                 14.0   \n",
       "Height                            0.0                 1.45   \n",
       "Weight                            0.0                 39.0   \n",
       "family_history_with_overweight    0.0                   no   \n",
       "FAVC                              0.0                   no   \n",
       "FCVC                              0.0                  1.0   \n",
       "NCP                               0.0                  1.0   \n",
       "CAEC                              0.0               Always   \n",
       "SMOKE                             0.0                   no   \n",
       "CH2O                              0.0                  1.0   \n",
       "SCC                               0.0                   no   \n",
       "FAF                               0.0                  0.0   \n",
       "TUE                               0.0                  0.0   \n",
       "CALC                              0.0           Frequently   \n",
       "MTRANS                            0.0           Automobile   \n",
       "NObeyesdad                        0.0  Insufficient_Weight   \n",
       "\n",
       "                                                max  \n",
       "Gender                                         Male  \n",
       "Age                                            61.0  \n",
       "Height                                     1.975663  \n",
       "Weight                                   165.057269  \n",
       "family_history_with_overweight                  yes  \n",
       "FAVC                                            yes  \n",
       "FCVC                                            3.0  \n",
       "NCP                                             4.0  \n",
       "CAEC                                             no  \n",
       "SMOKE                                           yes  \n",
       "CH2O                                            3.0  \n",
       "SCC                                             yes  \n",
       "FAF                                             3.0  \n",
       "TUE                                             2.0  \n",
       "CALC                                             no  \n",
       "MTRANS                                      Walking  \n",
       "NObeyesdad                      Overweight_Level_II  "
      ]
     },
     "execution_count": 7,
     "metadata": {},
     "output_type": "execute_result"
    }
   ],
   "source": [
    "report(train)"
   ]
  },
  {
   "cell_type": "code",
   "execution_count": 8,
   "metadata": {},
   "outputs": [
    {
     "data": {
      "text/html": [
       "<div>\n",
       "<style scoped>\n",
       "    .dataframe tbody tr th:only-of-type {\n",
       "        vertical-align: middle;\n",
       "    }\n",
       "\n",
       "    .dataframe tbody tr th {\n",
       "        vertical-align: top;\n",
       "    }\n",
       "\n",
       "    .dataframe thead th {\n",
       "        text-align: right;\n",
       "    }\n",
       "</style>\n",
       "<table border=\"1\" class=\"dataframe\">\n",
       "  <thead>\n",
       "    <tr style=\"text-align: right;\">\n",
       "      <th></th>\n",
       "      <th>count</th>\n",
       "      <th>mean</th>\n",
       "      <th>std</th>\n",
       "      <th>min</th>\n",
       "      <th>25%</th>\n",
       "      <th>50%</th>\n",
       "      <th>75%</th>\n",
       "      <th>max</th>\n",
       "    </tr>\n",
       "  </thead>\n",
       "  <tbody>\n",
       "    <tr>\n",
       "      <th>Age</th>\n",
       "      <td>20758.0</td>\n",
       "      <td>23.841804</td>\n",
       "      <td>5.688072</td>\n",
       "      <td>14.00</td>\n",
       "      <td>20.000000</td>\n",
       "      <td>22.815416</td>\n",
       "      <td>26.000000</td>\n",
       "      <td>61.000000</td>\n",
       "    </tr>\n",
       "    <tr>\n",
       "      <th>Height</th>\n",
       "      <td>20758.0</td>\n",
       "      <td>1.700245</td>\n",
       "      <td>0.087312</td>\n",
       "      <td>1.45</td>\n",
       "      <td>1.631856</td>\n",
       "      <td>1.700000</td>\n",
       "      <td>1.762887</td>\n",
       "      <td>1.975663</td>\n",
       "    </tr>\n",
       "    <tr>\n",
       "      <th>Weight</th>\n",
       "      <td>20758.0</td>\n",
       "      <td>87.887768</td>\n",
       "      <td>26.379443</td>\n",
       "      <td>39.00</td>\n",
       "      <td>66.000000</td>\n",
       "      <td>84.064875</td>\n",
       "      <td>111.600553</td>\n",
       "      <td>165.057269</td>\n",
       "    </tr>\n",
       "    <tr>\n",
       "      <th>FCVC</th>\n",
       "      <td>20758.0</td>\n",
       "      <td>2.445908</td>\n",
       "      <td>0.533218</td>\n",
       "      <td>1.00</td>\n",
       "      <td>2.000000</td>\n",
       "      <td>2.393837</td>\n",
       "      <td>3.000000</td>\n",
       "      <td>3.000000</td>\n",
       "    </tr>\n",
       "    <tr>\n",
       "      <th>NCP</th>\n",
       "      <td>20758.0</td>\n",
       "      <td>2.761332</td>\n",
       "      <td>0.705375</td>\n",
       "      <td>1.00</td>\n",
       "      <td>3.000000</td>\n",
       "      <td>3.000000</td>\n",
       "      <td>3.000000</td>\n",
       "      <td>4.000000</td>\n",
       "    </tr>\n",
       "    <tr>\n",
       "      <th>CH2O</th>\n",
       "      <td>20758.0</td>\n",
       "      <td>2.029418</td>\n",
       "      <td>0.608467</td>\n",
       "      <td>1.00</td>\n",
       "      <td>1.792022</td>\n",
       "      <td>2.000000</td>\n",
       "      <td>2.549617</td>\n",
       "      <td>3.000000</td>\n",
       "    </tr>\n",
       "    <tr>\n",
       "      <th>FAF</th>\n",
       "      <td>20758.0</td>\n",
       "      <td>0.981747</td>\n",
       "      <td>0.838302</td>\n",
       "      <td>0.00</td>\n",
       "      <td>0.008013</td>\n",
       "      <td>1.000000</td>\n",
       "      <td>1.587406</td>\n",
       "      <td>3.000000</td>\n",
       "    </tr>\n",
       "    <tr>\n",
       "      <th>TUE</th>\n",
       "      <td>20758.0</td>\n",
       "      <td>0.616756</td>\n",
       "      <td>0.602113</td>\n",
       "      <td>0.00</td>\n",
       "      <td>0.000000</td>\n",
       "      <td>0.573887</td>\n",
       "      <td>1.000000</td>\n",
       "      <td>2.000000</td>\n",
       "    </tr>\n",
       "  </tbody>\n",
       "</table>\n",
       "</div>"
      ],
      "text/plain": [
       "          count       mean        std    min        25%        50%  \\\n",
       "Age     20758.0  23.841804   5.688072  14.00  20.000000  22.815416   \n",
       "Height  20758.0   1.700245   0.087312   1.45   1.631856   1.700000   \n",
       "Weight  20758.0  87.887768  26.379443  39.00  66.000000  84.064875   \n",
       "FCVC    20758.0   2.445908   0.533218   1.00   2.000000   2.393837   \n",
       "NCP     20758.0   2.761332   0.705375   1.00   3.000000   3.000000   \n",
       "CH2O    20758.0   2.029418   0.608467   1.00   1.792022   2.000000   \n",
       "FAF     20758.0   0.981747   0.838302   0.00   0.008013   1.000000   \n",
       "TUE     20758.0   0.616756   0.602113   0.00   0.000000   0.573887   \n",
       "\n",
       "               75%         max  \n",
       "Age      26.000000   61.000000  \n",
       "Height    1.762887    1.975663  \n",
       "Weight  111.600553  165.057269  \n",
       "FCVC      3.000000    3.000000  \n",
       "NCP       3.000000    4.000000  \n",
       "CH2O      2.549617    3.000000  \n",
       "FAF       1.587406    3.000000  \n",
       "TUE       1.000000    2.000000  "
      ]
     },
     "execution_count": 8,
     "metadata": {},
     "output_type": "execute_result"
    }
   ],
   "source": [
    "train.describe().T"
   ]
  },
  {
   "cell_type": "code",
   "execution_count": 9,
   "metadata": {},
   "outputs": [],
   "source": [
    "X = train\n",
    "\n",
    "lb = LabelEncoder()\n",
    "y = lb.fit_transform(X.pop('NObeyesdad'))\n",
    "\n",
    "SEED = 42\n",
    "SPLITS = 5\n",
    "\n",
    "SKF = StratifiedKFold(n_splits = SPLITS, random_state = SEED, shuffle = True)"
   ]
  },
  {
   "cell_type": "code",
   "execution_count": 10,
   "metadata": {},
   "outputs": [],
   "source": [
    "def features_encoding(data:pd.DataFrame) -> pd.DataFrame: \n",
    "    data['Gender'] = data['Gender'].replace({'Male':0,'Female':1})\n",
    "    data[['family_history_with_overweight','FAVC','SMOKE','SCC']] = data[['family_history_with_overweight','FAVC','SMOKE','SCC']].replace({'no':0,'yes':1})\n",
    "    data[['CAEC','CALC']] = data[['CAEC','CALC']].replace({'no':0,'Sometimes':1,'Frequently':2,'Always':3})\n",
    "    data = pd.get_dummies(data, columns=['MTRANS'], dtype='int8')\n",
    "    return data\n",
    "FeaturesEncoding = FunctionTransformer(features_encoding)"
   ]
  },
  {
   "cell_type": "code",
   "execution_count": 11,
   "metadata": {},
   "outputs": [],
   "source": [
    "def xgb_objective(trial):\n",
    "    params = {\n",
    "        'eta' : trial.suggest_float('eta', .001, .3, log = True),\n",
    "        'max_depth' : trial.suggest_int('max_depth', 2, 30),\n",
    "        'subsample' : trial.suggest_float('subsample', .5, 1),\n",
    "        'colsample_bytree' : trial.suggest_float('colsample_bytree', .1, 1),\n",
    "        'min_child_weight' : trial.suggest_float('min_child_weight', .1, 20, log = True),\n",
    "        'reg_lambda' : trial.suggest_float('reg_lambda', .01, 20, log = True),\n",
    "        'reg_alpha' : trial.suggest_float('reg_alpha', .01, 10, log = True),\n",
    "        'n_estimators' : trial.suggest_int('max_depth', 10, 500),\n",
    "        \n",
    "        'random_state' : SEED,\n",
    "        'tree_method' : 'hist',\n",
    "    }\n",
    "    \n",
    "    optuna_model = make_pipeline(\n",
    "        FeaturesEncoding,\n",
    "        StandardScaler(),\n",
    "        XGBClassifier(**params)\n",
    "    )\n",
    "    \n",
    "    optuna_score = cross_val_score(optuna_model, X, y, scoring='accuracy', cv=SKF)\n",
    "    \n",
    "    return np.mean(optuna_score)"
   ]
  },
  {
   "cell_type": "code",
   "execution_count": 12,
   "metadata": {},
   "outputs": [],
   "source": [
    "def lgbm_objective(trial):\n",
    "    params = {\n",
    "        'boosting_type': 'gbdt',\n",
    "        'learning_rate': trial.suggest_float('learning_rate', 0.01, 0.3),\n",
    "        'num_leaves': trial.suggest_int('num_leaves', 20, 100),\n",
    "        'max_depth': trial.suggest_int('max_depth', 5, 20),\n",
    "        'min_child_samples': trial.suggest_int('min_child_samples', 1, 20),\n",
    "        'subsample': trial.suggest_float('subsample', 0.5, 1.0),\n",
    "        'colsample_bytree': trial.suggest_float('colsample_bytree', 0.5, 1.0),\n",
    "        'reg_alpha': trial.suggest_float('reg_alpha', 0.0, 1.0),\n",
    "        'reg_lambda': trial.suggest_float('reg_lambda', 0.0, 1.0),\n",
    "        'n_estimators': trial.suggest_int('n_estimators', 50, 300),\n",
    "        'random_state': SEED\n",
    "    }\n",
    "    \n",
    "    optuna_model = make_pipeline(\n",
    "        FeaturesEncoding,\n",
    "        StandardScaler(),\n",
    "        LGBMClassifier(**params)\n",
    "    )\n",
    "    \n",
    "    optuna_score = cross_val_score(optuna_model, X, y, scoring='accuracy', cv=SKF)\n",
    "    \n",
    "    return np.mean(optuna_score)"
   ]
  },
  {
   "cell_type": "code",
   "execution_count": 13,
   "metadata": {},
   "outputs": [],
   "source": [
    "cat_features = [\n",
    "    'Gender',\n",
    "    'family_history_with_overweight',\n",
    "    'FAVC',\n",
    "    'CAEC',\n",
    "    'SMOKE',\n",
    "    'SCC',\n",
    "    'CALC'\n",
    "]"
   ]
  },
  {
   "cell_type": "code",
   "execution_count": 14,
   "metadata": {},
   "outputs": [],
   "source": [
    "def cat_objective(trial):\n",
    "    params = {\n",
    "        'learning_rate': trial.suggest_float('learning_rate', 0.01, 0.3),\n",
    "        'depth': trial.suggest_int('depth', 4, 10),\n",
    "        'l2_leaf_reg': trial.suggest_float('l2_leaf_reg', 1, 10),\n",
    "        'iterations': trial.suggest_int('iterations', 50, 300),\n",
    "        'border_count': trial.suggest_int('border_count', 32, 255),\n",
    "        'thread_count': 4,\n",
    "        'eval_metric': 'AUC',\n",
    "        'loss_function': 'MultiClass',\n",
    "        'random_seed': SEED,\n",
    "        'verbose': False,\n",
    "        'cat_features' : [0, 4, 5, 8, 9, 11, 14, 15]\n",
    "    }\n",
    "    \n",
    "    optuna_model = make_pipeline(\n",
    "        CatBoostClassifier(**params)\n",
    "    )\n",
    "    \n",
    "    optuna_score = cross_val_score(optuna_model, X, y, scoring='accuracy', cv=SKF)\n",
    "    \n",
    "    return np.mean(optuna_score)"
   ]
  },
  {
   "cell_type": "code",
   "execution_count": 15,
   "metadata": {},
   "outputs": [
    {
     "name": "stderr",
     "output_type": "stream",
     "text": [
      "[I 2024-02-03 18:20:54,657] A new study created in memory with name: no-name-327331aa-acf1-466c-b0dc-af582021a689\n",
      "[I 2024-02-03 18:21:07,879] Trial 3 finished with value: 0.8662684062015374 and parameters: {'eta': 0.002695904257318622, 'max_depth': 6, 'subsample': 0.999346020947002, 'colsample_bytree': 0.8077531973739216, 'min_child_weight': 17.4701070165456, 'reg_lambda': 0.183027504216396, 'reg_alpha': 4.592783867138206}. Best is trial 3 with value: 0.8662684062015374.\n",
      "[I 2024-02-03 18:21:11,966] Trial 5 finished with value: 0.8492148745177822 and parameters: {'eta': 0.06346148141832621, 'max_depth': 7, 'subsample': 0.5726762875709589, 'colsample_bytree': 0.47992365584948626, 'min_child_weight': 12.607633413610953, 'reg_lambda': 10.149371491061261, 'reg_alpha': 5.387930731044843}. Best is trial 3 with value: 0.8662684062015374.\n",
      "[I 2024-02-03 18:21:12,235] Trial 7 finished with value: 0.8833698869599406 and parameters: {'eta': 0.0010350209616449438, 'max_depth': 7, 'subsample': 0.876613243174057, 'colsample_bytree': 0.7665982259904499, 'min_child_weight': 1.0340750309309632, 'reg_lambda': 2.5883140927657093, 'reg_alpha': 0.011591962949371912}. Best is trial 7 with value: 0.8833698869599406.\n",
      "[I 2024-02-03 18:21:47,357] Trial 9 finished with value: 0.883851884240815 and parameters: {'eta': 0.002536590425547966, 'max_depth': 16, 'subsample': 0.7174678375952085, 'colsample_bytree': 0.8574752740885901, 'min_child_weight': 9.058358527455185, 'reg_lambda': 0.18203494830148753, 'reg_alpha': 4.469117878988511}. Best is trial 9 with value: 0.883851884240815.\n",
      "[I 2024-02-03 18:21:47,932] Trial 2 finished with value: 0.8852490798929988 and parameters: {'eta': 0.01881699482435732, 'max_depth': 16, 'subsample': 0.9767549461771186, 'colsample_bytree': 0.9145413667146102, 'min_child_weight': 16.294815210538957, 'reg_lambda': 0.34796255144779886, 'reg_alpha': 2.78891449696975}. Best is trial 2 with value: 0.8852490798929988.\n",
      "[I 2024-02-03 18:21:53,766] Trial 10 finished with value: 0.8469986919603837 and parameters: {'eta': 0.11898965359539096, 'max_depth': 13, 'subsample': 0.5914802434633479, 'colsample_bytree': 0.28586324698036325, 'min_child_weight': 0.6030278100084712, 'reg_lambda': 0.013287281655384677, 'reg_alpha': 0.38158525983993546}. Best is trial 2 with value: 0.8852490798929988.\n",
      "[I 2024-02-03 18:21:54,515] Trial 15 finished with value: 0.8388091826423422 and parameters: {'eta': 0.0017413660432577885, 'max_depth': 4, 'subsample': 0.9575171058675378, 'colsample_bytree': 0.7671040786186053, 'min_child_weight': 0.6666347595001697, 'reg_lambda': 0.1729433403945633, 'reg_alpha': 0.25798643941826566}. Best is trial 2 with value: 0.8852490798929988.\n",
      "[I 2024-02-03 18:21:56,500] Trial 4 finished with value: 0.8390981187531013 and parameters: {'eta': 0.004048547242488369, 'max_depth': 16, 'subsample': 0.5212337648456419, 'colsample_bytree': 0.3355624536227613, 'min_child_weight': 7.89499047001654, 'reg_lambda': 5.941664880046561, 'reg_alpha': 0.01205021563926226}. Best is trial 2 with value: 0.8852490798929988.\n",
      "[I 2024-02-03 18:21:58,934] Trial 18 finished with value: 0.7260816856350978 and parameters: {'eta': 0.04739841813728776, 'max_depth': 3, 'subsample': 0.723787641532649, 'colsample_bytree': 0.5851239957523294, 'min_child_weight': 1.1378804412105081, 'reg_lambda': 13.364064781091189, 'reg_alpha': 2.651583416613169}. Best is trial 2 with value: 0.8852490798929988.\n",
      "[I 2024-02-03 18:22:04,961] Trial 0 finished with value: 0.8934384383548035 and parameters: {'eta': 0.12146539571175188, 'max_depth': 16, 'subsample': 0.9590187630205231, 'colsample_bytree': 0.5134287070163058, 'min_child_weight': 0.43340491985449137, 'reg_lambda': 1.003906219947207, 'reg_alpha': 6.497414550030561}. Best is trial 0 with value: 0.8934384383548035.\n",
      "[I 2024-02-03 18:22:29,398] Trial 16 finished with value: 0.8535023016020006 and parameters: {'eta': 0.0022769553565735803, 'max_depth': 11, 'subsample': 0.6009832141462488, 'colsample_bytree': 0.38020821321675086, 'min_child_weight': 3.118397687801572, 'reg_lambda': 0.37381783758451687, 'reg_alpha': 1.1420736270092313}. Best is trial 0 with value: 0.8934384383548035.\n",
      "[I 2024-02-03 18:22:35,234] Trial 11 finished with value: 0.7413049250151669 and parameters: {'eta': 0.0035274918082085745, 'max_depth': 28, 'subsample': 0.8836052184094525, 'colsample_bytree': 0.10261998064924799, 'min_child_weight': 3.3406226863842727, 'reg_lambda': 0.18203477354624312, 'reg_alpha': 0.05543776471298703}. Best is trial 0 with value: 0.8934384383548035.\n",
      "[I 2024-02-03 18:22:39,298] Trial 12 finished with value: 0.8835146045083271 and parameters: {'eta': 0.004976278608696596, 'max_depth': 29, 'subsample': 0.7447433235487332, 'colsample_bytree': 0.8212871311403398, 'min_child_weight': 11.676550908458486, 'reg_lambda': 3.5866901970527647, 'reg_alpha': 3.963278586759817}. Best is trial 0 with value: 0.8934384383548035.\n",
      "[I 2024-02-03 18:22:40,790] Trial 1 finished with value: 0.903940446135272 and parameters: {'eta': 0.19614134959107807, 'max_depth': 30, 'subsample': 0.5062694742967312, 'colsample_bytree': 0.5864575733284572, 'min_child_weight': 11.06393859217624, 'reg_lambda': 4.774337024189592, 'reg_alpha': 0.5096642777665021}. Best is trial 1 with value: 0.903940446135272.\n",
      "[I 2024-02-03 18:22:47,612] Trial 17 finished with value: 0.8928121412812754 and parameters: {'eta': 0.004061667589828783, 'max_depth': 14, 'subsample': 0.8108843885693913, 'colsample_bytree': 0.6857436994749453, 'min_child_weight': 7.014306744917504, 'reg_lambda': 0.48264257611659794, 'reg_alpha': 1.3678998879365165}. Best is trial 1 with value: 0.903940446135272.\n",
      "[I 2024-02-03 18:22:50,546] Trial 8 finished with value: 0.8862121461086749 and parameters: {'eta': 0.001836601837864874, 'max_depth': 26, 'subsample': 0.5458313339246035, 'colsample_bytree': 0.6076113853283539, 'min_child_weight': 1.364179119403865, 'reg_lambda': 7.579811387289681, 'reg_alpha': 0.31583073334888523}. Best is trial 1 with value: 0.903940446135272.\n",
      "[I 2024-02-03 18:23:04,306] Trial 6 finished with value: 0.8732534793250366 and parameters: {'eta': 0.06088604052391581, 'max_depth': 25, 'subsample': 0.8090218702368354, 'colsample_bytree': 0.274943660254523, 'min_child_weight': 0.3028494449051964, 'reg_lambda': 1.4252287428782118, 'reg_alpha': 0.4905043799149939}. Best is trial 1 with value: 0.903940446135272.\n",
      "[I 2024-02-03 18:23:05,930] Trial 14 finished with value: 0.8826473668159911 and parameters: {'eta': 0.0093139475812923, 'max_depth': 20, 'subsample': 0.6106680367763148, 'colsample_bytree': 0.42210344107531034, 'min_child_weight': 0.2714154006479488, 'reg_lambda': 0.7935749021813137, 'reg_alpha': 0.4207932853897799}. Best is trial 1 with value: 0.903940446135272.\n",
      "[I 2024-02-03 18:23:11,150] Trial 13 finished with value: 0.8951728673221717 and parameters: {'eta': 0.01928412667153696, 'max_depth': 30, 'subsample': 0.7175406365259669, 'colsample_bytree': 0.7501915845068198, 'min_child_weight': 1.3783488125773549, 'reg_lambda': 1.5916540239769739, 'reg_alpha': 4.240692377922706}. Best is trial 1 with value: 0.903940446135272.\n",
      "[I 2024-02-03 18:23:38,895] Trial 20 finished with value: 0.8941128585678684 and parameters: {'eta': 0.01743419716431031, 'max_depth': 21, 'subsample': 0.6643620316116647, 'colsample_bytree': 0.7143205992680468, 'min_child_weight': 0.2092390942964292, 'reg_lambda': 8.138457653079143, 'reg_alpha': 0.08370288436480369}. Best is trial 1 with value: 0.903940446135272.\n",
      "[I 2024-02-03 18:23:41,098] Trial 21 finished with value: 0.8680504825310799 and parameters: {'eta': 0.2993410656900818, 'max_depth': 27, 'subsample': 0.8237453456561319, 'colsample_bytree': 0.17557815673858357, 'min_child_weight': 0.10988664376770681, 'reg_lambda': 1.8723102822633884, 'reg_alpha': 0.5073558018072172}. Best is trial 1 with value: 0.903940446135272.\n",
      "[I 2024-02-03 18:23:54,153] Trial 24 finished with value: 0.900520117491479 and parameters: {'eta': 0.2719151775810144, 'max_depth': 22, 'subsample': 0.8734079459748361, 'colsample_bytree': 0.6155131143206625, 'min_child_weight': 0.12401873520672566, 'reg_lambda': 1.2477413797655725, 'reg_alpha': 9.865836215323998}. Best is trial 1 with value: 0.903940446135272.\n",
      "[I 2024-02-03 18:24:08,188] Trial 19 finished with value: 0.9058673444521343 and parameters: {'eta': 0.15515343287710553, 'max_depth': 25, 'subsample': 0.8175740774518323, 'colsample_bytree': 0.6062344405309491, 'min_child_weight': 0.27460326902516863, 'reg_lambda': 0.9252961543261288, 'reg_alpha': 0.48885438724469393}. Best is trial 19 with value: 0.9058673444521343.\n",
      "[I 2024-02-03 18:24:19,114] Trial 28 finished with value: 0.9018688070613715 and parameters: {'eta': 0.28907627602133457, 'max_depth': 21, 'subsample': 0.6642786370013163, 'colsample_bytree': 0.9905747651536526, 'min_child_weight': 0.10254483563057433, 'reg_lambda': 1.2202994905815263, 'reg_alpha': 9.596669439589988}. Best is trial 19 with value: 0.9058673444521343.\n",
      "[I 2024-02-03 18:24:22,541] Trial 23 finished with value: 0.896425391843273 and parameters: {'eta': 0.014124381799593187, 'max_depth': 23, 'subsample': 0.8640077628556639, 'colsample_bytree': 0.9990860203940674, 'min_child_weight': 0.10558511889019978, 'reg_lambda': 1.3541456433451557, 'reg_alpha': 0.8343484565557184}. Best is trial 19 with value: 0.9058673444521343.\n",
      "[I 2024-02-03 18:24:25,414] Trial 25 finished with value: 0.9057709125038468 and parameters: {'eta': 0.2552911767627163, 'max_depth': 24, 'subsample': 0.8110293060334506, 'colsample_bytree': 0.6106667942919838, 'min_child_weight': 0.1618792761237311, 'reg_lambda': 1.403366741522192, 'reg_alpha': 0.5299768953828153}. Best is trial 19 with value: 0.9058673444521343.\n",
      "[I 2024-02-03 18:24:30,574] Trial 22 finished with value: 0.8957991527913741 and parameters: {'eta': 0.013239835881445308, 'max_depth': 26, 'subsample': 0.867552458885179, 'colsample_bytree': 0.9573294451735692, 'min_child_weight': 0.10730554545417724, 'reg_lambda': 1.38460481337892, 'reg_alpha': 0.9484268987623508}. Best is trial 19 with value: 0.9058673444521343.\n",
      "[I 2024-02-03 18:24:35,528] Trial 26 finished with value: 0.9030731852342843 and parameters: {'eta': 0.29720723153099776, 'max_depth': 22, 'subsample': 0.6604122137237147, 'colsample_bytree': 0.5507581862712296, 'min_child_weight': 0.14095853902524813, 'reg_lambda': 1.5222521184177904, 'reg_alpha': 0.286753914103605}. Best is trial 19 with value: 0.9058673444521343.\n",
      "[I 2024-02-03 18:24:37,785] Trial 30 finished with value: 0.9043740069598105 and parameters: {'eta': 0.26457279231432546, 'max_depth': 20, 'subsample': 0.6662744545796961, 'colsample_bytree': 0.6790711492240422, 'min_child_weight': 0.1041982399372973, 'reg_lambda': 19.80601614767139, 'reg_alpha': 0.08526131898385651}. Best is trial 19 with value: 0.9058673444521343.\n",
      "[I 2024-02-03 18:24:42,690] Trial 27 finished with value: 0.8980630291282505 and parameters: {'eta': 0.2896775262187983, 'max_depth': 22, 'subsample': 0.6548225568923336, 'colsample_bytree': 0.47403771827866736, 'min_child_weight': 0.2130647041003436, 'reg_lambda': 1.2726687447410765, 'reg_alpha': 0.12028517975901766}. Best is trial 19 with value: 0.9058673444521343.\n",
      "[I 2024-02-03 18:24:48,049] Trial 29 finished with value: 0.9025914200399281 and parameters: {'eta': 0.24406692144243694, 'max_depth': 21, 'subsample': 0.6655320265717264, 'colsample_bytree': 0.993549253207773, 'min_child_weight': 0.10086226114756182, 'reg_lambda': 1.5710571876789614, 'reg_alpha': 0.11217168594372515}. Best is trial 19 with value: 0.9058673444521343.\n",
      "[I 2024-02-03 18:24:51,662] Trial 32 finished with value: 0.8938721384312529 and parameters: {'eta': 0.020188354533342594, 'max_depth': 22, 'subsample': 0.6586889142817942, 'colsample_bytree': 0.9911932765626161, 'min_child_weight': 2.831007186491599, 'reg_lambda': 4.442153004234368, 'reg_alpha': 0.09465281604977102}. Best is trial 19 with value: 0.9058673444521343.\n",
      "[I 2024-02-03 18:24:54,255] Trial 33 finished with value: 0.9004238480037541 and parameters: {'eta': 0.297266882584072, 'max_depth': 23, 'subsample': 0.6706654356315997, 'colsample_bytree': 0.6309615577681057, 'min_child_weight': 3.016988993097387, 'reg_lambda': 3.48753731473544, 'reg_alpha': 9.838058783501626}. Best is trial 19 with value: 0.9058673444521343.\n",
      "[I 2024-02-03 18:25:35,798] Trial 31 finished with value: 0.9001827797373616 and parameters: {'eta': 0.2313103222687725, 'max_depth': 22, 'subsample': 0.6718506899995167, 'colsample_bytree': 0.6448732943261253, 'min_child_weight': 0.10974371710870026, 'reg_lambda': 0.04898407241222215, 'reg_alpha': 0.12668874386804768}. Best is trial 19 with value: 0.9058673444521343.\n",
      "[I 2024-02-03 18:25:45,821] Trial 37 finished with value: 0.9055301343456019 and parameters: {'eta': 0.15438913556070913, 'max_depth': 24, 'subsample': 0.7749940039312389, 'colsample_bytree': 0.6545352292017969, 'min_child_weight': 3.0405849766688013, 'reg_lambda': 4.214232257726444, 'reg_alpha': 0.15797828640076414}. Best is trial 19 with value: 0.9058673444521343.\n",
      "[I 2024-02-03 18:25:51,363] Trial 34 finished with value: 0.9054819531844359 and parameters: {'eta': 0.2802383143890732, 'max_depth': 23, 'subsample': 0.8779743154895816, 'colsample_bytree': 0.6412037255251256, 'min_child_weight': 0.1989487763845482, 'reg_lambda': 19.631686229828983, 'reg_alpha': 0.11985615779436647}. Best is trial 19 with value: 0.9058673444521343.\n",
      "[I 2024-02-03 18:25:56,715] Trial 35 finished with value: 0.9011944680785883 and parameters: {'eta': 0.1576830593985921, 'max_depth': 23, 'subsample': 0.6714872283696106, 'colsample_bytree': 0.9682530456951244, 'min_child_weight': 0.17805535440567935, 'reg_lambda': 19.20805332380736, 'reg_alpha': 0.13607174580369372}. Best is trial 19 with value: 0.9058673444521343.\n",
      "[I 2024-02-03 18:25:58,000] Trial 41 finished with value: 0.8998937972092989 and parameters: {'eta': 0.1332075899237299, 'max_depth': 19, 'subsample': 0.7874225058769054, 'colsample_bytree': 0.6827601469639334, 'min_child_weight': 0.49289295856890963, 'reg_lambda': 18.62718076486006, 'reg_alpha': 0.03205402099416031}. Best is trial 19 with value: 0.9058673444521343.\n",
      "[I 2024-02-03 18:26:03,184] Trial 38 finished with value: 0.9052891124965129 and parameters: {'eta': 0.14218724602649502, 'max_depth': 24, 'subsample': 0.7656081109805029, 'colsample_bytree': 0.6507168831104577, 'min_child_weight': 2.4176538970630923, 'reg_lambda': 3.9364273065344118, 'reg_alpha': 0.16212853517075076}. Best is trial 19 with value: 0.9058673444521343.\n",
      "[I 2024-02-03 18:26:05,572] Trial 36 finished with value: 0.9021097128672014 and parameters: {'eta': 0.15978285491191652, 'max_depth': 24, 'subsample': 0.6778694527660707, 'colsample_bytree': 0.6531219674010289, 'min_child_weight': 0.17499026564538425, 'reg_lambda': 18.762550402842656, 'reg_alpha': 0.15999521464709318}. Best is trial 19 with value: 0.9058673444521343.\n",
      "[I 2024-02-03 18:26:06,892] Trial 44 finished with value: 0.9013389071231529 and parameters: {'eta': 0.15863157246784498, 'max_depth': 18, 'subsample': 0.7867858575927134, 'colsample_bytree': 0.6728754684616222, 'min_child_weight': 0.4557016635931652, 'reg_lambda': 17.750446752589273, 'reg_alpha': 0.03504674819176922}. Best is trial 19 with value: 0.9058673444521343.\n",
      "[I 2024-02-03 18:26:09,463] Trial 39 finished with value: 0.9037475938430232 and parameters: {'eta': 0.15145169908578682, 'max_depth': 24, 'subsample': 0.7777495525720104, 'colsample_bytree': 0.6428236416735115, 'min_child_weight': 2.541172581857059, 'reg_lambda': 3.938680517548219, 'reg_alpha': 0.15934749608096926}. Best is trial 19 with value: 0.9058673444521343.\n",
      "[I 2024-02-03 18:26:12,311] Trial 42 finished with value: 0.9035068040804524 and parameters: {'eta': 0.14129708686561326, 'max_depth': 19, 'subsample': 0.9191534500473959, 'colsample_bytree': 0.6545445734793213, 'min_child_weight': 0.42504279378565646, 'reg_lambda': 4.948349266101682, 'reg_alpha': 0.17621418888107784}. Best is trial 19 with value: 0.9058673444521343.\n",
      "[I 2024-02-03 18:26:31,554] Trial 43 finished with value: 0.9026878519882156 and parameters: {'eta': 0.14907440047573264, 'max_depth': 24, 'subsample': 0.7828454866200348, 'colsample_bytree': 0.6693344470257864, 'min_child_weight': 0.44304160566310524, 'reg_lambda': 17.389090556792336, 'reg_alpha': 0.03335049233595821}. Best is trial 19 with value: 0.9058673444521343.\n",
      "[I 2024-02-03 18:26:48,603] Trial 40 finished with value: 0.9019651809880294 and parameters: {'eta': 0.15765313963606684, 'max_depth': 24, 'subsample': 0.7739731573295834, 'colsample_bytree': 0.6700189102108273, 'min_child_weight': 0.1753127786008264, 'reg_lambda': 0.0611549315196586, 'reg_alpha': 0.13463282042999478}. Best is trial 19 with value: 0.9058673444521343.\n",
      "[I 2024-02-03 18:26:50,690] Trial 45 finished with value: 0.8933421456584272 and parameters: {'eta': 0.13311752940314853, 'max_depth': 19, 'subsample': 0.5032001780519557, 'colsample_bytree': 0.5236105419195365, 'min_child_weight': 0.1754340768736679, 'reg_lambda': 19.586067753998012, 'reg_alpha': 0.20457068560248773}. Best is trial 19 with value: 0.9058673444521343.\n",
      "[I 2024-02-03 18:26:52,658] Trial 46 finished with value: 0.8966661003755624 and parameters: {'eta': 0.15009078783661706, 'max_depth': 18, 'subsample': 0.8013632911058428, 'colsample_bytree': 0.5304409096521202, 'min_child_weight': 0.16558143970065628, 'reg_lambda': 15.134019037185118, 'reg_alpha': 0.030042909372632844}. Best is trial 19 with value: 0.9058673444521343.\n",
      "[I 2024-02-03 18:27:12,882] Trial 47 finished with value: 0.9010499710123938 and parameters: {'eta': 0.13800865834470852, 'max_depth': 18, 'subsample': 0.780143279603378, 'colsample_bytree': 0.5313054478352931, 'min_child_weight': 0.4129920901119094, 'reg_lambda': 0.669875808825873, 'reg_alpha': 0.1865776775601507}. Best is trial 19 with value: 0.9058673444521343.\n",
      "[I 2024-02-03 18:27:19,430] Trial 48 finished with value: 0.899508475567556 and parameters: {'eta': 0.1067074530685779, 'max_depth': 18, 'subsample': 0.9220002692966769, 'colsample_bytree': 0.5219527210509525, 'min_child_weight': 0.4068093746397, 'reg_lambda': 0.7356781210052852, 'reg_alpha': 0.046291468142755136}. Best is trial 19 with value: 0.9058673444521343.\n",
      "[I 2024-02-03 18:27:19,689] Trial 49 finished with value: 0.8993636999975398 and parameters: {'eta': 0.09244514878705627, 'max_depth': 18, 'subsample': 0.7814290315655942, 'colsample_bytree': 0.5277679510406348, 'min_child_weight': 0.34014179381669446, 'reg_lambda': 0.6237915955834566, 'reg_alpha': 0.18343803963525382}. Best is trial 19 with value: 0.9058673444521343.\n",
      "[I 2024-02-03 18:27:24,366] Trial 50 finished with value: 0.8991710565831573 and parameters: {'eta': 0.09690613052607969, 'max_depth': 18, 'subsample': 0.9107967378080883, 'colsample_bytree': 0.5156448684211312, 'min_child_weight': 0.35042138915518967, 'reg_lambda': 0.5556205190651102, 'reg_alpha': 0.18880386576517094}. Best is trial 19 with value: 0.9058673444521343.\n",
      "[I 2024-02-03 18:27:24,764] Trial 51 finished with value: 0.8992675581574001 and parameters: {'eta': 0.08293267318283146, 'max_depth': 18, 'subsample': 0.9271604441074761, 'colsample_bytree': 0.5150904548618307, 'min_child_weight': 0.3452329111521801, 'reg_lambda': 2.5166028503100497, 'reg_alpha': 0.03730047081796771}. Best is trial 19 with value: 0.9058673444521343.\n",
      "[I 2024-02-03 18:27:45,682] Trial 53 finished with value: 0.9013389651447825 and parameters: {'eta': 0.08695927126806907, 'max_depth': 26, 'subsample': 0.8342147607498968, 'colsample_bytree': 0.5292854191778217, 'min_child_weight': 5.11290291225322, 'reg_lambda': 0.7104841109090265, 'reg_alpha': 0.22113207391569842}. Best is trial 19 with value: 0.9058673444521343.\n",
      "[I 2024-02-03 18:27:53,149] Trial 52 finished with value: 0.9008571651374486 and parameters: {'eta': 0.08993068898485106, 'max_depth': 25, 'subsample': 0.9152751586324046, 'colsample_bytree': 0.5381782910350016, 'min_child_weight': 2.2341574328586673, 'reg_lambda': 0.6720554824831344, 'reg_alpha': 0.20798736169087437}. Best is trial 19 with value: 0.9058673444521343.\n",
      "[I 2024-02-03 18:27:56,652] Trial 54 finished with value: 0.9020615317060354 and parameters: {'eta': 0.08681382102294878, 'max_depth': 26, 'subsample': 0.8440843466495048, 'colsample_bytree': 0.5316239358522981, 'min_child_weight': 1.8626892197179115, 'reg_lambda': 0.78762870783631, 'reg_alpha': 0.6752892167010788}. Best is trial 19 with value: 0.9058673444521343.\n",
      "[I 2024-02-03 18:28:14,291] Trial 55 finished with value: 0.9016760476037298 and parameters: {'eta': 0.0943178329994154, 'max_depth': 26, 'subsample': 0.836166401223823, 'colsample_bytree': 0.5145631178909567, 'min_child_weight': 1.9681285841217722, 'reg_lambda': 0.6134909223612317, 'reg_alpha': 0.677808936073065}. Best is trial 19 with value: 0.9058673444521343.\n",
      "[I 2024-02-03 18:28:29,652] Trial 58 finished with value: 0.9027358938974708 and parameters: {'eta': 0.09246069117547313, 'max_depth': 28, 'subsample': 0.8532805442840136, 'colsample_bytree': 0.5680326789793395, 'min_child_weight': 1.9297071668948071, 'reg_lambda': 0.5891835533559462, 'reg_alpha': 0.6630222979484649}. Best is trial 19 with value: 0.9058673444521343.\n",
      "[I 2024-02-03 18:28:30,554] Trial 56 finished with value: 0.9009534694381511 and parameters: {'eta': 0.10004765516993656, 'max_depth': 26, 'subsample': 0.8403683481807285, 'colsample_bytree': 0.5229981565080302, 'min_child_weight': 1.9258325519036692, 'reg_lambda': 0.6324398819244095, 'reg_alpha': 0.6943255429886459}. Best is trial 19 with value: 0.9058673444521343.\n",
      "[I 2024-02-03 18:28:37,240] Trial 57 finished with value: 0.9018206607131833 and parameters: {'eta': 0.08838056689044803, 'max_depth': 27, 'subsample': 0.8394452240617177, 'colsample_bytree': 0.5574485448476765, 'min_child_weight': 1.871615288965358, 'reg_lambda': 0.7449140562548938, 'reg_alpha': 0.683834365724617}. Best is trial 19 with value: 0.9058673444521343.\n",
      "[I 2024-02-03 18:28:46,404] Trial 63 finished with value: 0.9035550896805515 and parameters: {'eta': 0.2038619315406927, 'max_depth': 26, 'subsample': 0.8406341928489671, 'colsample_bytree': 0.5782025795856448, 'min_child_weight': 5.3107739168601205, 'reg_lambda': 8.949485997850948, 'reg_alpha': 0.6583805514517763}. Best is trial 19 with value: 0.9058673444521343.\n",
      "[I 2024-02-03 18:28:47,844] Trial 61 finished with value: 0.8997972956350561 and parameters: {'eta': 0.07173925072775816, 'max_depth': 26, 'subsample': 0.8400526561385969, 'colsample_bytree': 0.5837418338492151, 'min_child_weight': 2.007850288693953, 'reg_lambda': 2.6198538339692483, 'reg_alpha': 1.81256515764208}. Best is trial 19 with value: 0.9058673444521343.\n",
      "[I 2024-02-03 18:28:55,512] Trial 60 finished with value: 0.8972441118489914 and parameters: {'eta': 0.046123742571690204, 'max_depth': 28, 'subsample': 0.8387135557958569, 'colsample_bytree': 0.5845017491033639, 'min_child_weight': 2.0765325396458882, 'reg_lambda': 6.768314363933329, 'reg_alpha': 0.6974228614377359}. Best is trial 19 with value: 0.9058673444521343.\n",
      "[I 2024-02-03 18:28:58,484] Trial 59 finished with value: 0.89661771033653 and parameters: {'eta': 0.08542328702079013, 'max_depth': 26, 'subsample': 0.840119058152858, 'colsample_bytree': 0.4828150694416694, 'min_child_weight': 1.9553866213527995, 'reg_lambda': 2.4116489459213177, 'reg_alpha': 0.06580833266663848}. Best is trial 19 with value: 0.9058673444521343.\n",
      "[I 2024-02-03 18:29:02,221] Trial 62 finished with value: 0.9003753535257888 and parameters: {'eta': 0.06873886143358182, 'max_depth': 26, 'subsample': 0.8442450749485158, 'colsample_bytree': 0.5922781994607252, 'min_child_weight': 1.8958256157328703, 'reg_lambda': 2.462600600771785, 'reg_alpha': 0.6776844911209137}. Best is trial 19 with value: 0.9058673444521343.\n",
      "[I 2024-02-03 18:29:29,080] Trial 64 finished with value: 0.9050965503124117 and parameters: {'eta': 0.20169372883477998, 'max_depth': 28, 'subsample': 0.750584677187038, 'colsample_bytree': 0.734359164086268, 'min_child_weight': 2.134236608869993, 'reg_lambda': 9.942019740423689, 'reg_alpha': 0.06888482328499863}. Best is trial 19 with value: 0.9058673444521343.\n",
      "[I 2024-02-03 18:29:36,445] Trial 66 finished with value: 0.9057227197383548 and parameters: {'eta': 0.20429951693270354, 'max_depth': 29, 'subsample': 0.7570140539896075, 'colsample_bytree': 0.5833080469163338, 'min_child_weight': 4.078953563610213, 'reg_lambda': 10.270748213613386, 'reg_alpha': 0.07412555564146545}. Best is trial 19 with value: 0.9058673444521343.\n",
      "[I 2024-02-03 18:29:49,966] Trial 67 finished with value: 0.9042773893423085 and parameters: {'eta': 0.19998835179600408, 'max_depth': 28, 'subsample': 0.7523326230788357, 'colsample_bytree': 0.7251254813385299, 'min_child_weight': 4.799861984280522, 'reg_lambda': 8.975676273147064, 'reg_alpha': 0.369760983429637}. Best is trial 19 with value: 0.9058673444521343.\n",
      "[I 2024-02-03 18:29:57,070] Trial 68 finished with value: 0.9046147270964259 and parameters: {'eta': 0.2017025310949962, 'max_depth': 28, 'subsample': 0.7495772631407472, 'colsample_bytree': 0.7340790823983635, 'min_child_weight': 4.262381838848027, 'reg_lambda': 10.94608946481456, 'reg_alpha': 0.06856704621138328}. Best is trial 19 with value: 0.9058673444521343.\n",
      "[I 2024-02-03 18:29:58,045] Trial 74 finished with value: 0.9003755856123069 and parameters: {'eta': 0.18139214798054554, 'max_depth': 20, 'subsample': 0.7510729927458065, 'colsample_bytree': 0.7254563921280781, 'min_child_weight': 14.057885230904294, 'reg_lambda': 11.675488983733679, 'reg_alpha': 0.4009562967443279}. Best is trial 19 with value: 0.9058673444521343.\n",
      "[I 2024-02-03 18:30:04,233] Trial 65 finished with value: 0.9063490632291868 and parameters: {'eta': 0.1993654876719497, 'max_depth': 28, 'subsample': 0.8320071784271055, 'colsample_bytree': 0.7343656570690904, 'min_child_weight': 0.25854462399585637, 'reg_lambda': 10.61857248774391, 'reg_alpha': 0.07814135624720152}. Best is trial 65 with value: 0.9063490632291868.\n",
      "[I 2024-02-03 18:30:11,809] Trial 77 finished with value: 0.8985448407399105 and parameters: {'eta': 0.20347001788134086, 'max_depth': 11, 'subsample': 0.7514084604698787, 'colsample_bytree': 0.7500028862078129, 'min_child_weight': 3.8881069953998617, 'reg_lambda': 11.155626516578065, 'reg_alpha': 0.37830331862320793}. Best is trial 65 with value: 0.9063490632291868.\n",
      "[I 2024-02-03 18:30:26,473] Trial 70 finished with value: 0.9054337836275959 and parameters: {'eta': 0.19290223030830236, 'max_depth': 30, 'subsample': 0.7463592423514228, 'colsample_bytree': 0.8060864545226025, 'min_child_weight': 4.126402429031572, 'reg_lambda': 10.29292821396588, 'reg_alpha': 0.07065428198398511}. Best is trial 65 with value: 0.9063490632291868.\n",
      "[I 2024-02-03 18:30:37,271] Trial 69 finished with value: 0.9059154675916707 and parameters: {'eta': 0.1994364719750343, 'max_depth': 28, 'subsample': 0.7549126918835557, 'colsample_bytree': 0.7328960819546989, 'min_child_weight': 0.8622050013452073, 'reg_lambda': 8.410704729793604, 'reg_alpha': 0.06391735581170101}. Best is trial 65 with value: 0.9063490632291868.\n",
      "[I 2024-02-03 18:30:46,060] Trial 73 finished with value: 0.9049518907856546 and parameters: {'eta': 0.19828961619907826, 'max_depth': 30, 'subsample': 0.7422820268954283, 'colsample_bytree': 0.7292150142273033, 'min_child_weight': 3.785406389795761, 'reg_lambda': 12.141972262743312, 'reg_alpha': 0.39061232439919646}. Best is trial 65 with value: 0.9063490632291868.\n",
      "[I 2024-02-03 18:30:57,579] Trial 76 finished with value: 0.903314021414159 and parameters: {'eta': 0.2031720890076354, 'max_depth': 20, 'subsample': 0.7470585487026891, 'colsample_bytree': 0.7262845523158576, 'min_child_weight': 0.7903637144264505, 'reg_lambda': 10.711669999424993, 'reg_alpha': 0.372444074604834}. Best is trial 65 with value: 0.9063490632291868.\n",
      "[I 2024-02-03 18:30:58,696] Trial 71 finished with value: 0.9052890428705573 and parameters: {'eta': 0.19152245891112007, 'max_depth': 30, 'subsample': 0.7383787685547397, 'colsample_bytree': 0.7324492962508058, 'min_child_weight': 0.8794641741232098, 'reg_lambda': 11.747046466818947, 'reg_alpha': 0.06947792485120467}. Best is trial 65 with value: 0.9063490632291868.\n",
      "[I 2024-02-03 18:31:01,659] Trial 72 finished with value: 0.9055781298375534 and parameters: {'eta': 0.20103483524280566, 'max_depth': 30, 'subsample': 0.7454677840643967, 'colsample_bytree': 0.7318831301909848, 'min_child_weight': 0.7861360446832952, 'reg_lambda': 11.405139425104856, 'reg_alpha': 0.06986137347126384}. Best is trial 65 with value: 0.9063490632291868.\n",
      "[I 2024-02-03 18:31:08,969] Trial 75 finished with value: 0.9052409893569765 and parameters: {'eta': 0.19887627708979705, 'max_depth': 29, 'subsample': 0.7514017239539401, 'colsample_bytree': 0.717069796813342, 'min_child_weight': 0.871982577647689, 'reg_lambda': 11.426054047555784, 'reg_alpha': 0.3263394404683353}. Best is trial 65 with value: 0.9063490632291868.\n",
      "[I 2024-02-03 18:31:32,944] Trial 79 finished with value: 0.905578292298116 and parameters: {'eta': 0.23399934834731043, 'max_depth': 30, 'subsample': 0.7303390989796701, 'colsample_bytree': 0.77603920123207, 'min_child_weight': 3.755585462048175, 'reg_lambda': 12.151139226059522, 'reg_alpha': 0.25924690099331793}. Best is trial 65 with value: 0.9063490632291868.\n",
      "[I 2024-02-03 18:31:40,419] Trial 78 finished with value: 0.9044220372647397 and parameters: {'eta': 0.19808428266275652, 'max_depth': 30, 'subsample': 0.750900288710145, 'colsample_bytree': 0.8376581555192186, 'min_child_weight': 3.852344068389062, 'reg_lambda': 11.456121065970708, 'reg_alpha': 0.020227400790314546}. Best is trial 65 with value: 0.9063490632291868.\n",
      "[I 2024-02-03 18:32:03,402] Trial 80 finished with value: 0.9013872159319039 and parameters: {'eta': 0.05092045506396724, 'max_depth': 30, 'subsample': 0.6992161743112355, 'colsample_bytree': 0.8007157422235777, 'min_child_weight': 0.9161789867585403, 'reg_lambda': 5.651150623810864, 'reg_alpha': 0.025455675422769046}. Best is trial 65 with value: 0.9063490632291868.\n",
      "[I 2024-02-03 18:32:28,842] Trial 87 finished with value: 0.906300870463695 and parameters: {'eta': 0.24090738717791252, 'max_depth': 27, 'subsample': 0.7034981418754807, 'colsample_bytree': 0.7958601883018835, 'min_child_weight': 9.054372669685037, 'reg_lambda': 5.696369593012499, 'reg_alpha': 0.020826424195243175}. Best is trial 65 with value: 0.9063490632291868.\n",
      "[I 2024-02-03 18:32:31,714] Trial 81 finished with value: 0.9022060519808817 and parameters: {'eta': 0.05033537753305629, 'max_depth': 30, 'subsample': 0.8894488163958341, 'colsample_bytree': 0.780893128097336, 'min_child_weight': 0.24078440696317985, 'reg_lambda': 5.400783210424877, 'reg_alpha': 0.0236679186570898}. Best is trial 65 with value: 0.9063490632291868.\n",
      "[I 2024-02-03 18:32:44,188] Trial 82 finished with value: 0.905963613939859 and parameters: {'eta': 0.24661982053156678, 'max_depth': 30, 'subsample': 0.7288434476710604, 'colsample_bytree': 0.7945844725873749, 'min_child_weight': 0.24061034368538142, 'reg_lambda': 5.5467192113324195, 'reg_alpha': 0.09705339721591162}. Best is trial 65 with value: 0.9063490632291868.\n",
      "[I 2024-02-03 18:32:57,042] Trial 83 finished with value: 0.9069271443285712 and parameters: {'eta': 0.2377243998901392, 'max_depth': 30, 'subsample': 0.6934145922176526, 'colsample_bytree': 0.7871183095074598, 'min_child_weight': 0.2631986020154868, 'reg_lambda': 5.443297437315757, 'reg_alpha': 0.047334295966659064}. Best is trial 83 with value: 0.9069271443285712.\n",
      "[I 2024-02-03 18:33:08,151] Trial 84 finished with value: 0.905530099532624 and parameters: {'eta': 0.24855350409984425, 'max_depth': 30, 'subsample': 0.6958125864421715, 'colsample_bytree': 0.8040470829385228, 'min_child_weight': 0.2586428660700714, 'reg_lambda': 5.510041492708255, 'reg_alpha': 0.01900533342414212}. Best is trial 83 with value: 0.9069271443285712.\n",
      "[I 2024-02-03 18:33:09,954] Trial 85 finished with value: 0.9067344661012111 and parameters: {'eta': 0.23734994490947417, 'max_depth': 29, 'subsample': 0.6933566363035176, 'colsample_bytree': 0.8491241896836345, 'min_child_weight': 0.24325601264435426, 'reg_lambda': 6.528576511021729, 'reg_alpha': 0.04743721281060996}. Best is trial 83 with value: 0.9069271443285712.\n",
      "[I 2024-02-03 18:33:15,819] Trial 91 finished with value: 0.9027360679623591 and parameters: {'eta': 0.11712230708479188, 'max_depth': 29, 'subsample': 0.6947242729866957, 'colsample_bytree': 0.7908401762733064, 'min_child_weight': 6.624289090177425, 'reg_lambda': 5.698356319639502, 'reg_alpha': 0.09855402008815067}. Best is trial 83 with value: 0.9069271443285712.\n",
      "[I 2024-02-03 18:33:25,505] Trial 88 finished with value: 0.906782531219118 and parameters: {'eta': 0.23645246696524905, 'max_depth': 29, 'subsample': 0.6939762165099489, 'colsample_bytree': 0.7867181620801065, 'min_child_weight': 0.2608369471104059, 'reg_lambda': 5.8482561516421185, 'reg_alpha': 0.021852248410572386}. Best is trial 83 with value: 0.9069271443285712.\n",
      "[I 2024-02-03 18:33:26,269] Trial 86 finished with value: 0.9050965967297152 and parameters: {'eta': 0.24343048401157028, 'max_depth': 29, 'subsample': 0.809354055734016, 'colsample_bytree': 0.8837948627987748, 'min_child_weight': 0.23881339804626273, 'reg_lambda': 5.892309418495582, 'reg_alpha': 0.025858484778563513}. Best is trial 83 with value: 0.9069271443285712.\n",
      "[I 2024-02-03 18:33:26,987] Trial 90 finished with value: 0.9033140562271367 and parameters: {'eta': 0.11539178571835322, 'max_depth': 29, 'subsample': 0.6950056957700038, 'colsample_bytree': 0.7908572892009335, 'min_child_weight': 0.6484316345432627, 'reg_lambda': 5.8270858874336025, 'reg_alpha': 0.022678053933210977}. Best is trial 83 with value: 0.9069271443285712.\n",
      "[I 2024-02-03 18:33:30,843] Trial 89 finished with value: 0.9064454139471929 and parameters: {'eta': 0.2447447195718571, 'max_depth': 29, 'subsample': 0.7004240084661569, 'colsample_bytree': 0.8511914102996636, 'min_child_weight': 0.23278229168553385, 'reg_lambda': 5.865787877235454, 'reg_alpha': 0.10330079209516295}. Best is trial 83 with value: 0.9069271443285712.\n",
      "[I 2024-02-03 18:33:41,657] Trial 93 finished with value: 0.9059636023355331 and parameters: {'eta': 0.24375553002572728, 'max_depth': 29, 'subsample': 0.7035255559809849, 'colsample_bytree': 0.8840200699613245, 'min_child_weight': 9.040814634037137, 'reg_lambda': 7.084266527738215, 'reg_alpha': 0.016185796807323828}. Best is trial 83 with value: 0.9069271443285712.\n",
      "[I 2024-02-03 18:33:45,759] Trial 95 finished with value: 0.9062045429543406 and parameters: {'eta': 0.25102823054031714, 'max_depth': 29, 'subsample': 0.7006556744662592, 'colsample_bytree': 0.8372547647856977, 'min_child_weight': 9.43074084275464, 'reg_lambda': 7.057521825768178, 'reg_alpha': 0.0463997161219393}. Best is trial 83 with value: 0.9069271443285712.\n",
      "[I 2024-02-03 18:33:46,708] Trial 92 finished with value: 0.9058191516866424 and parameters: {'eta': 0.24376302752147766, 'max_depth': 29, 'subsample': 0.8141249934705387, 'colsample_bytree': 0.8812471351329584, 'min_child_weight': 0.2506560163277046, 'reg_lambda': 14.364297890029068, 'reg_alpha': 0.10521205721858898}. Best is trial 83 with value: 0.9069271443285712.\n",
      "[I 2024-02-03 18:33:48,042] Trial 94 finished with value: 0.9037959142561001 and parameters: {'eta': 0.11911844025282416, 'max_depth': 29, 'subsample': 0.7040519513397869, 'colsample_bytree': 0.9079697000004112, 'min_child_weight': 1.1907346635325788, 'reg_lambda': 6.966042031278887, 'reg_alpha': 0.051563747683930634}. Best is trial 83 with value: 0.9069271443285712.\n",
      "[I 2024-02-03 18:33:48,087] Trial 96 finished with value: 0.9058192097082719 and parameters: {'eta': 0.24008597489734457, 'max_depth': 29, 'subsample': 0.7037841223987693, 'colsample_bytree': 0.8778083167893416, 'min_child_weight': 8.811848489256422, 'reg_lambda': 6.6393510978688495, 'reg_alpha': 0.015309247827021219}. Best is trial 83 with value: 0.9069271443285712.\n",
      "[I 2024-02-03 18:33:52,781] Trial 97 finished with value: 0.9058674720997193 and parameters: {'eta': 0.24174393062303326, 'max_depth': 29, 'subsample': 0.7210903122798359, 'colsample_bytree': 0.9165518147839165, 'min_child_weight': 0.2994342751752439, 'reg_lambda': 6.9747653379097345, 'reg_alpha': 0.05175932087554396}. Best is trial 83 with value: 0.9069271443285712.\n",
      "[I 2024-02-03 18:33:52,844] Trial 98 finished with value: 0.9040850244317478 and parameters: {'eta': 0.1141867827926909, 'max_depth': 29, 'subsample': 0.7003611512103896, 'colsample_bytree': 0.8883134684207222, 'min_child_weight': 0.1443600072886516, 'reg_lambda': 6.935545057751409, 'reg_alpha': 0.0485403733664354}. Best is trial 83 with value: 0.9069271443285712.\n",
      "[I 2024-02-03 18:33:52,945] Trial 99 finished with value: 0.9059155836349297 and parameters: {'eta': 0.2476393521455251, 'max_depth': 27, 'subsample': 0.6471350475084717, 'colsample_bytree': 0.8717126732812024, 'min_child_weight': 0.14502487983566, 'reg_lambda': 6.886809706507981, 'reg_alpha': 0.047979365179609545}. Best is trial 83 with value: 0.9069271443285712.\n"
     ]
    }
   ],
   "source": [
    "xgb_study = optuna.create_study(direction = 'maximize')\n",
    "xgb_study.optimize(xgb_objective,100, n_jobs=-1)"
   ]
  },
  {
   "cell_type": "code",
   "execution_count": 16,
   "metadata": {},
   "outputs": [
    {
     "data": {
      "application/vnd.plotly.v1+json": {
       "config": {
        "plotlyServerURL": "https://plot.ly"
       },
       "data": [
        {
         "cliponaxis": false,
         "hovertemplate": [
          "reg_alpha (FloatDistribution): 0.0026557047114832187<extra></extra>",
          "min_child_weight (FloatDistribution): 0.0031400804151199345<extra></extra>",
          "reg_lambda (FloatDistribution): 0.007369110463202258<extra></extra>",
          "eta (FloatDistribution): 0.008453869613906309<extra></extra>",
          "subsample (FloatDistribution): 0.01633133969464893<extra></extra>",
          "colsample_bytree (FloatDistribution): 0.46691653668553385<extra></extra>",
          "max_depth (IntDistribution): 0.4951333584161055<extra></extra>"
         ],
         "name": "Objective Value",
         "orientation": "h",
         "text": [
          "<0.01",
          "<0.01",
          "<0.01",
          "<0.01",
          "0.02",
          "0.47",
          "0.50"
         ],
         "textposition": "outside",
         "type": "bar",
         "x": [
          0.0026557047114832187,
          0.0031400804151199345,
          0.007369110463202258,
          0.008453869613906309,
          0.01633133969464893,
          0.46691653668553385,
          0.4951333584161055
         ],
         "y": [
          "reg_alpha",
          "min_child_weight",
          "reg_lambda",
          "eta",
          "subsample",
          "colsample_bytree",
          "max_depth"
         ]
        }
       ],
       "layout": {
        "template": {
         "data": {
          "bar": [
           {
            "error_x": {
             "color": "#2a3f5f"
            },
            "error_y": {
             "color": "#2a3f5f"
            },
            "marker": {
             "line": {
              "color": "#E5ECF6",
              "width": 0.5
             },
             "pattern": {
              "fillmode": "overlay",
              "size": 10,
              "solidity": 0.2
             }
            },
            "type": "bar"
           }
          ],
          "barpolar": [
           {
            "marker": {
             "line": {
              "color": "#E5ECF6",
              "width": 0.5
             },
             "pattern": {
              "fillmode": "overlay",
              "size": 10,
              "solidity": 0.2
             }
            },
            "type": "barpolar"
           }
          ],
          "carpet": [
           {
            "aaxis": {
             "endlinecolor": "#2a3f5f",
             "gridcolor": "white",
             "linecolor": "white",
             "minorgridcolor": "white",
             "startlinecolor": "#2a3f5f"
            },
            "baxis": {
             "endlinecolor": "#2a3f5f",
             "gridcolor": "white",
             "linecolor": "white",
             "minorgridcolor": "white",
             "startlinecolor": "#2a3f5f"
            },
            "type": "carpet"
           }
          ],
          "choropleth": [
           {
            "colorbar": {
             "outlinewidth": 0,
             "ticks": ""
            },
            "type": "choropleth"
           }
          ],
          "contour": [
           {
            "colorbar": {
             "outlinewidth": 0,
             "ticks": ""
            },
            "colorscale": [
             [
              0,
              "#0d0887"
             ],
             [
              0.1111111111111111,
              "#46039f"
             ],
             [
              0.2222222222222222,
              "#7201a8"
             ],
             [
              0.3333333333333333,
              "#9c179e"
             ],
             [
              0.4444444444444444,
              "#bd3786"
             ],
             [
              0.5555555555555556,
              "#d8576b"
             ],
             [
              0.6666666666666666,
              "#ed7953"
             ],
             [
              0.7777777777777778,
              "#fb9f3a"
             ],
             [
              0.8888888888888888,
              "#fdca26"
             ],
             [
              1,
              "#f0f921"
             ]
            ],
            "type": "contour"
           }
          ],
          "contourcarpet": [
           {
            "colorbar": {
             "outlinewidth": 0,
             "ticks": ""
            },
            "type": "contourcarpet"
           }
          ],
          "heatmap": [
           {
            "colorbar": {
             "outlinewidth": 0,
             "ticks": ""
            },
            "colorscale": [
             [
              0,
              "#0d0887"
             ],
             [
              0.1111111111111111,
              "#46039f"
             ],
             [
              0.2222222222222222,
              "#7201a8"
             ],
             [
              0.3333333333333333,
              "#9c179e"
             ],
             [
              0.4444444444444444,
              "#bd3786"
             ],
             [
              0.5555555555555556,
              "#d8576b"
             ],
             [
              0.6666666666666666,
              "#ed7953"
             ],
             [
              0.7777777777777778,
              "#fb9f3a"
             ],
             [
              0.8888888888888888,
              "#fdca26"
             ],
             [
              1,
              "#f0f921"
             ]
            ],
            "type": "heatmap"
           }
          ],
          "heatmapgl": [
           {
            "colorbar": {
             "outlinewidth": 0,
             "ticks": ""
            },
            "colorscale": [
             [
              0,
              "#0d0887"
             ],
             [
              0.1111111111111111,
              "#46039f"
             ],
             [
              0.2222222222222222,
              "#7201a8"
             ],
             [
              0.3333333333333333,
              "#9c179e"
             ],
             [
              0.4444444444444444,
              "#bd3786"
             ],
             [
              0.5555555555555556,
              "#d8576b"
             ],
             [
              0.6666666666666666,
              "#ed7953"
             ],
             [
              0.7777777777777778,
              "#fb9f3a"
             ],
             [
              0.8888888888888888,
              "#fdca26"
             ],
             [
              1,
              "#f0f921"
             ]
            ],
            "type": "heatmapgl"
           }
          ],
          "histogram": [
           {
            "marker": {
             "pattern": {
              "fillmode": "overlay",
              "size": 10,
              "solidity": 0.2
             }
            },
            "type": "histogram"
           }
          ],
          "histogram2d": [
           {
            "colorbar": {
             "outlinewidth": 0,
             "ticks": ""
            },
            "colorscale": [
             [
              0,
              "#0d0887"
             ],
             [
              0.1111111111111111,
              "#46039f"
             ],
             [
              0.2222222222222222,
              "#7201a8"
             ],
             [
              0.3333333333333333,
              "#9c179e"
             ],
             [
              0.4444444444444444,
              "#bd3786"
             ],
             [
              0.5555555555555556,
              "#d8576b"
             ],
             [
              0.6666666666666666,
              "#ed7953"
             ],
             [
              0.7777777777777778,
              "#fb9f3a"
             ],
             [
              0.8888888888888888,
              "#fdca26"
             ],
             [
              1,
              "#f0f921"
             ]
            ],
            "type": "histogram2d"
           }
          ],
          "histogram2dcontour": [
           {
            "colorbar": {
             "outlinewidth": 0,
             "ticks": ""
            },
            "colorscale": [
             [
              0,
              "#0d0887"
             ],
             [
              0.1111111111111111,
              "#46039f"
             ],
             [
              0.2222222222222222,
              "#7201a8"
             ],
             [
              0.3333333333333333,
              "#9c179e"
             ],
             [
              0.4444444444444444,
              "#bd3786"
             ],
             [
              0.5555555555555556,
              "#d8576b"
             ],
             [
              0.6666666666666666,
              "#ed7953"
             ],
             [
              0.7777777777777778,
              "#fb9f3a"
             ],
             [
              0.8888888888888888,
              "#fdca26"
             ],
             [
              1,
              "#f0f921"
             ]
            ],
            "type": "histogram2dcontour"
           }
          ],
          "mesh3d": [
           {
            "colorbar": {
             "outlinewidth": 0,
             "ticks": ""
            },
            "type": "mesh3d"
           }
          ],
          "parcoords": [
           {
            "line": {
             "colorbar": {
              "outlinewidth": 0,
              "ticks": ""
             }
            },
            "type": "parcoords"
           }
          ],
          "pie": [
           {
            "automargin": true,
            "type": "pie"
           }
          ],
          "scatter": [
           {
            "fillpattern": {
             "fillmode": "overlay",
             "size": 10,
             "solidity": 0.2
            },
            "type": "scatter"
           }
          ],
          "scatter3d": [
           {
            "line": {
             "colorbar": {
              "outlinewidth": 0,
              "ticks": ""
             }
            },
            "marker": {
             "colorbar": {
              "outlinewidth": 0,
              "ticks": ""
             }
            },
            "type": "scatter3d"
           }
          ],
          "scattercarpet": [
           {
            "marker": {
             "colorbar": {
              "outlinewidth": 0,
              "ticks": ""
             }
            },
            "type": "scattercarpet"
           }
          ],
          "scattergeo": [
           {
            "marker": {
             "colorbar": {
              "outlinewidth": 0,
              "ticks": ""
             }
            },
            "type": "scattergeo"
           }
          ],
          "scattergl": [
           {
            "marker": {
             "colorbar": {
              "outlinewidth": 0,
              "ticks": ""
             }
            },
            "type": "scattergl"
           }
          ],
          "scattermapbox": [
           {
            "marker": {
             "colorbar": {
              "outlinewidth": 0,
              "ticks": ""
             }
            },
            "type": "scattermapbox"
           }
          ],
          "scatterpolar": [
           {
            "marker": {
             "colorbar": {
              "outlinewidth": 0,
              "ticks": ""
             }
            },
            "type": "scatterpolar"
           }
          ],
          "scatterpolargl": [
           {
            "marker": {
             "colorbar": {
              "outlinewidth": 0,
              "ticks": ""
             }
            },
            "type": "scatterpolargl"
           }
          ],
          "scatterternary": [
           {
            "marker": {
             "colorbar": {
              "outlinewidth": 0,
              "ticks": ""
             }
            },
            "type": "scatterternary"
           }
          ],
          "surface": [
           {
            "colorbar": {
             "outlinewidth": 0,
             "ticks": ""
            },
            "colorscale": [
             [
              0,
              "#0d0887"
             ],
             [
              0.1111111111111111,
              "#46039f"
             ],
             [
              0.2222222222222222,
              "#7201a8"
             ],
             [
              0.3333333333333333,
              "#9c179e"
             ],
             [
              0.4444444444444444,
              "#bd3786"
             ],
             [
              0.5555555555555556,
              "#d8576b"
             ],
             [
              0.6666666666666666,
              "#ed7953"
             ],
             [
              0.7777777777777778,
              "#fb9f3a"
             ],
             [
              0.8888888888888888,
              "#fdca26"
             ],
             [
              1,
              "#f0f921"
             ]
            ],
            "type": "surface"
           }
          ],
          "table": [
           {
            "cells": {
             "fill": {
              "color": "#EBF0F8"
             },
             "line": {
              "color": "white"
             }
            },
            "header": {
             "fill": {
              "color": "#C8D4E3"
             },
             "line": {
              "color": "white"
             }
            },
            "type": "table"
           }
          ]
         },
         "layout": {
          "annotationdefaults": {
           "arrowcolor": "#2a3f5f",
           "arrowhead": 0,
           "arrowwidth": 1
          },
          "autotypenumbers": "strict",
          "coloraxis": {
           "colorbar": {
            "outlinewidth": 0,
            "ticks": ""
           }
          },
          "colorscale": {
           "diverging": [
            [
             0,
             "#8e0152"
            ],
            [
             0.1,
             "#c51b7d"
            ],
            [
             0.2,
             "#de77ae"
            ],
            [
             0.3,
             "#f1b6da"
            ],
            [
             0.4,
             "#fde0ef"
            ],
            [
             0.5,
             "#f7f7f7"
            ],
            [
             0.6,
             "#e6f5d0"
            ],
            [
             0.7,
             "#b8e186"
            ],
            [
             0.8,
             "#7fbc41"
            ],
            [
             0.9,
             "#4d9221"
            ],
            [
             1,
             "#276419"
            ]
           ],
           "sequential": [
            [
             0,
             "#0d0887"
            ],
            [
             0.1111111111111111,
             "#46039f"
            ],
            [
             0.2222222222222222,
             "#7201a8"
            ],
            [
             0.3333333333333333,
             "#9c179e"
            ],
            [
             0.4444444444444444,
             "#bd3786"
            ],
            [
             0.5555555555555556,
             "#d8576b"
            ],
            [
             0.6666666666666666,
             "#ed7953"
            ],
            [
             0.7777777777777778,
             "#fb9f3a"
            ],
            [
             0.8888888888888888,
             "#fdca26"
            ],
            [
             1,
             "#f0f921"
            ]
           ],
           "sequentialminus": [
            [
             0,
             "#0d0887"
            ],
            [
             0.1111111111111111,
             "#46039f"
            ],
            [
             0.2222222222222222,
             "#7201a8"
            ],
            [
             0.3333333333333333,
             "#9c179e"
            ],
            [
             0.4444444444444444,
             "#bd3786"
            ],
            [
             0.5555555555555556,
             "#d8576b"
            ],
            [
             0.6666666666666666,
             "#ed7953"
            ],
            [
             0.7777777777777778,
             "#fb9f3a"
            ],
            [
             0.8888888888888888,
             "#fdca26"
            ],
            [
             1,
             "#f0f921"
            ]
           ]
          },
          "colorway": [
           "#636efa",
           "#EF553B",
           "#00cc96",
           "#ab63fa",
           "#FFA15A",
           "#19d3f3",
           "#FF6692",
           "#B6E880",
           "#FF97FF",
           "#FECB52"
          ],
          "font": {
           "color": "#2a3f5f"
          },
          "geo": {
           "bgcolor": "white",
           "lakecolor": "white",
           "landcolor": "#E5ECF6",
           "showlakes": true,
           "showland": true,
           "subunitcolor": "white"
          },
          "hoverlabel": {
           "align": "left"
          },
          "hovermode": "closest",
          "mapbox": {
           "style": "light"
          },
          "paper_bgcolor": "white",
          "plot_bgcolor": "#E5ECF6",
          "polar": {
           "angularaxis": {
            "gridcolor": "white",
            "linecolor": "white",
            "ticks": ""
           },
           "bgcolor": "#E5ECF6",
           "radialaxis": {
            "gridcolor": "white",
            "linecolor": "white",
            "ticks": ""
           }
          },
          "scene": {
           "xaxis": {
            "backgroundcolor": "#E5ECF6",
            "gridcolor": "white",
            "gridwidth": 2,
            "linecolor": "white",
            "showbackground": true,
            "ticks": "",
            "zerolinecolor": "white"
           },
           "yaxis": {
            "backgroundcolor": "#E5ECF6",
            "gridcolor": "white",
            "gridwidth": 2,
            "linecolor": "white",
            "showbackground": true,
            "ticks": "",
            "zerolinecolor": "white"
           },
           "zaxis": {
            "backgroundcolor": "#E5ECF6",
            "gridcolor": "white",
            "gridwidth": 2,
            "linecolor": "white",
            "showbackground": true,
            "ticks": "",
            "zerolinecolor": "white"
           }
          },
          "shapedefaults": {
           "line": {
            "color": "#2a3f5f"
           }
          },
          "ternary": {
           "aaxis": {
            "gridcolor": "white",
            "linecolor": "white",
            "ticks": ""
           },
           "baxis": {
            "gridcolor": "white",
            "linecolor": "white",
            "ticks": ""
           },
           "bgcolor": "#E5ECF6",
           "caxis": {
            "gridcolor": "white",
            "linecolor": "white",
            "ticks": ""
           }
          },
          "title": {
           "x": 0.05
          },
          "xaxis": {
           "automargin": true,
           "gridcolor": "white",
           "linecolor": "white",
           "ticks": "",
           "title": {
            "standoff": 15
           },
           "zerolinecolor": "white",
           "zerolinewidth": 2
          },
          "yaxis": {
           "automargin": true,
           "gridcolor": "white",
           "linecolor": "white",
           "ticks": "",
           "title": {
            "standoff": 15
           },
           "zerolinecolor": "white",
           "zerolinewidth": 2
          }
         }
        },
        "title": {
         "text": "Hyperparameter Importances"
        },
        "xaxis": {
         "title": {
          "text": "Hyperparameter Importance"
         }
        },
        "yaxis": {
         "title": {
          "text": "Hyperparameter"
         }
        }
       }
      }
     },
     "metadata": {},
     "output_type": "display_data"
    }
   ],
   "source": [
    "optuna.visualization.plot_param_importances(xgb_study)"
   ]
  },
  {
   "cell_type": "code",
   "execution_count": 17,
   "metadata": {},
   "outputs": [
    {
     "data": {
      "text/plain": [
       "({'eta': 0.2377243998901392,\n",
       "  'max_depth': 30,\n",
       "  'subsample': 0.6934145922176526,\n",
       "  'colsample_bytree': 0.7871183095074598,\n",
       "  'min_child_weight': 0.2631986020154868,\n",
       "  'reg_lambda': 5.443297437315757,\n",
       "  'reg_alpha': 0.047334295966659064},\n",
       " 0.9069271443285712)"
      ]
     },
     "execution_count": 17,
     "metadata": {},
     "output_type": "execute_result"
    }
   ],
   "source": [
    "xgb_study.best_params, xgb_study.best_value"
   ]
  },
  {
   "cell_type": "code",
   "execution_count": 18,
   "metadata": {},
   "outputs": [],
   "source": [
    "with open('xgb.json', 'w') as json_file:\n",
    "    json.dump(xgb_study.best_params, json_file, indent=4)"
   ]
  },
  {
   "cell_type": "code",
   "execution_count": 19,
   "metadata": {},
   "outputs": [
    {
     "name": "stderr",
     "output_type": "stream",
     "text": [
      "[I 2024-02-03 18:33:53,736] A new study created in memory with name: no-name-7bc36c0e-e768-4a03-af7e-e3809dfddf38\n",
      "[I 2024-02-03 18:48:02,261] Trial 1 finished with value: 0.9004237899821247 and parameters: {'learning_rate': 0.013135853194914206, 'num_leaves': 30, 'max_depth': 12, 'min_child_samples': 6, 'subsample': 0.5802292242474745, 'colsample_bytree': 0.7338709150363816, 'reg_alpha': 0.5819397648632936, 'reg_lambda': 0.6247780486949354, 'n_estimators': 97}. Best is trial 1 with value: 0.9004237899821247.\n",
      "[I 2024-02-03 18:50:33,254] Trial 5 finished with value: 0.9042293126200758 and parameters: {'learning_rate': 0.24075926582530852, 'num_leaves': 72, 'max_depth': 7, 'min_child_samples': 20, 'subsample': 0.7101687813199193, 'colsample_bytree': 0.6050859591892961, 'reg_alpha': 0.5577893206013281, 'reg_lambda': 0.8320855415048715, 'n_estimators': 87}. Best is trial 5 with value: 0.9042293126200758.\n",
      "[I 2024-02-03 18:52:04,421] Trial 7 finished with value: 0.9052894142089863 and parameters: {'learning_rate': 0.02530794266760079, 'num_leaves': 55, 'max_depth': 17, 'min_child_samples': 10, 'subsample': 0.9268818373679087, 'colsample_bytree': 0.7306415756144512, 'reg_alpha': 0.41581564502130464, 'reg_lambda': 0.5646695063413514, 'n_estimators': 71}. Best is trial 7 with value: 0.9052894142089863.\n",
      "[I 2024-02-03 18:52:29,634] Trial 10 finished with value: 0.9045666619785191 and parameters: {'learning_rate': 0.2964406632653535, 'num_leaves': 36, 'max_depth': 17, 'min_child_samples': 4, 'subsample': 0.765900079645611, 'colsample_bytree': 0.5618941856419524, 'reg_alpha': 0.14103433196458115, 'reg_lambda': 0.32210726977306825, 'n_estimators': 89}. Best is trial 7 with value: 0.9052894142089863.\n",
      "[I 2024-02-03 18:53:02,098] Trial 2 finished with value: 0.9061081574233569 and parameters: {'learning_rate': 0.04043779180153191, 'num_leaves': 80, 'max_depth': 7, 'min_child_samples': 7, 'subsample': 0.5142238183705005, 'colsample_bytree': 0.506024545062268, 'reg_alpha': 0.9994889872568617, 'reg_lambda': 0.6038585783586905, 'n_estimators': 86}. Best is trial 2 with value: 0.9061081574233569.\n",
      "[I 2024-02-03 18:57:17,777] Trial 11 finished with value: 0.9061082386536384 and parameters: {'learning_rate': 0.1090362590770326, 'num_leaves': 23, 'max_depth': 6, 'min_child_samples': 3, 'subsample': 0.7844871322820347, 'colsample_bytree': 0.6390132389568044, 'reg_alpha': 0.03260821190547181, 'reg_lambda': 0.33616489938573946, 'n_estimators': 225}. Best is trial 11 with value: 0.9061082386536384.\n",
      "[I 2024-02-03 18:59:43,124] Trial 4 finished with value: 0.9018687838527197 and parameters: {'learning_rate': 0.2893151549173713, 'num_leaves': 57, 'max_depth': 19, 'min_child_samples': 15, 'subsample': 0.8729381065452452, 'colsample_bytree': 0.659661176456385, 'reg_alpha': 0.21585851322766347, 'reg_lambda': 0.4596480996663398, 'n_estimators': 99}. Best is trial 11 with value: 0.9061082386536384.\n",
      "[I 2024-02-03 19:01:32,113] Trial 9 finished with value: 0.9051447662865553 and parameters: {'learning_rate': 0.03993794517219587, 'num_leaves': 59, 'max_depth': 9, 'min_child_samples': 8, 'subsample': 0.7994693604472789, 'colsample_bytree': 0.8768964703926345, 'reg_alpha': 0.11342761081081865, 'reg_lambda': 0.005095873494012748, 'n_estimators': 115}. Best is trial 11 with value: 0.9061082386536384.\n",
      "[I 2024-02-03 19:08:01,239] Trial 0 finished with value: 0.9042294054546829 and parameters: {'learning_rate': 0.1301385193100808, 'num_leaves': 82, 'max_depth': 10, 'min_child_samples': 7, 'subsample': 0.7819542594595372, 'colsample_bytree': 0.8166269818297104, 'reg_alpha': 0.4242033445117632, 'reg_lambda': 0.2823840944368572, 'n_estimators': 109}. Best is trial 11 with value: 0.9061082386536384.\n",
      "[I 2024-02-03 19:11:10,987] Trial 13 finished with value: 0.9022060519808817 and parameters: {'learning_rate': 0.2848902896472318, 'num_leaves': 49, 'max_depth': 11, 'min_child_samples': 7, 'subsample': 0.6645715718453734, 'colsample_bytree': 0.9707764575126554, 'reg_alpha': 0.6721694202834281, 'reg_lambda': 0.8008100389953121, 'n_estimators': 120}. Best is trial 11 with value: 0.9061082386536384.\n",
      "[I 2024-02-03 19:11:23,925] Trial 15 finished with value: 0.9023507115076386 and parameters: {'learning_rate': 0.27277231077850134, 'num_leaves': 52, 'max_depth': 7, 'min_child_samples': 4, 'subsample': 0.6507553599540057, 'colsample_bytree': 0.8762212798793227, 'reg_alpha': 0.277700073758009, 'reg_lambda': 0.8790605954223627, 'n_estimators': 109}. Best is trial 11 with value: 0.9061082386536384.\n",
      "[I 2024-02-03 19:12:38,479] Trial 19 finished with value: 0.9086615268786359 and parameters: {'learning_rate': 0.07846048522842194, 'num_leaves': 27, 'max_depth': 13, 'min_child_samples': 18, 'subsample': 0.8689536237800684, 'colsample_bytree': 0.684395156104378, 'reg_alpha': 0.31331094803031734, 'reg_lambda': 0.7812895378400385, 'n_estimators': 92}. Best is trial 19 with value: 0.9086615268786359.\n",
      "[I 2024-02-03 19:17:41,862] Trial 16 finished with value: 0.9027841330802662 and parameters: {'learning_rate': 0.2487035548325453, 'num_leaves': 26, 'max_depth': 17, 'min_child_samples': 3, 'subsample': 0.7996683159407653, 'colsample_bytree': 0.8482968393968875, 'reg_alpha': 0.23608972335208478, 'reg_lambda': 0.09928663499154489, 'n_estimators': 245}. Best is trial 19 with value: 0.9086615268786359.\n",
      "[I 2024-02-03 19:18:15,644] Trial 17 finished with value: 0.9046148083267072 and parameters: {'learning_rate': 0.11067559300650029, 'num_leaves': 65, 'max_depth': 6, 'min_child_samples': 9, 'subsample': 0.6462184068470478, 'colsample_bytree': 0.8586427068072098, 'reg_alpha': 0.031979642854396695, 'reg_lambda': 0.2905792531519613, 'n_estimators': 170}. Best is trial 19 with value: 0.9086615268786359.\n",
      "[I 2024-02-03 19:18:45,925] Trial 8 finished with value: 0.9023024607205172 and parameters: {'learning_rate': 0.2561867668078663, 'num_leaves': 82, 'max_depth': 11, 'min_child_samples': 6, 'subsample': 0.7338850028191709, 'colsample_bytree': 0.5205848362847192, 'reg_alpha': 0.35273043432521434, 'reg_lambda': 0.24482677319672375, 'n_estimators': 249}. Best is trial 19 with value: 0.9086615268786359.\n",
      "[I 2024-02-03 19:20:35,918] Trial 3 finished with value: 0.9030731852342843 and parameters: {'learning_rate': 0.11132280400293297, 'num_leaves': 52, 'max_depth': 13, 'min_child_samples': 4, 'subsample': 0.8365721416106155, 'colsample_bytree': 0.9754525529990077, 'reg_alpha': 0.9897109423341406, 'reg_lambda': 0.7923153781086457, 'n_estimators': 245}. Best is trial 19 with value: 0.9086615268786359.\n",
      "[I 2024-02-03 19:23:12,443] Trial 14 finished with value: 0.9040847691365779 and parameters: {'learning_rate': 0.1375178346131594, 'num_leaves': 64, 'max_depth': 20, 'min_child_samples': 16, 'subsample': 0.6181661105972867, 'colsample_bytree': 0.6118714584383008, 'reg_alpha': 0.6284597748325979, 'reg_lambda': 0.6354597268075292, 'n_estimators': 118}. Best is trial 19 with value: 0.9086615268786359.\n",
      "[I 2024-02-03 19:23:31,107] Trial 12 finished with value: 0.9065417994781766 and parameters: {'learning_rate': 0.09895765979498998, 'num_leaves': 76, 'max_depth': 17, 'min_child_samples': 10, 'subsample': 0.5869658210708193, 'colsample_bytree': 0.6724511382634889, 'reg_alpha': 0.2365305417928435, 'reg_lambda': 0.7933403600222322, 'n_estimators': 107}. Best is trial 19 with value: 0.9086615268786359.\n",
      "[I 2024-02-03 19:30:51,405] Trial 21 finished with value: 0.9033140910401143 and parameters: {'learning_rate': 0.13258409312085487, 'num_leaves': 20, 'max_depth': 5, 'min_child_samples': 1, 'subsample': 0.9914263474526194, 'colsample_bytree': 0.6598560026318772, 'reg_alpha': 0.027393499199725335, 'reg_lambda': 0.005826283878241911, 'n_estimators': 263}. Best is trial 19 with value: 0.9086615268786359.\n",
      "[I 2024-02-03 19:33:57,442] Trial 22 finished with value: 0.9072162196912412 and parameters: {'learning_rate': 0.10138802269796574, 'num_leaves': 94, 'max_depth': 5, 'min_child_samples': 2, 'subsample': 0.5164057570625413, 'colsample_bytree': 0.512127313789926, 'reg_alpha': 0.9662212429061704, 'reg_lambda': 0.2707441069245252, 'n_estimators': 253}. Best is trial 19 with value: 0.9086615268786359.\n",
      "[I 2024-02-03 19:34:39,310] Trial 18 finished with value: 0.9081314412712029 and parameters: {'learning_rate': 0.07547025781081464, 'num_leaves': 88, 'max_depth': 14, 'min_child_samples': 11, 'subsample': 0.5325663314883804, 'colsample_bytree': 0.5303742769179783, 'reg_alpha': 0.17344395363845422, 'reg_lambda': 0.09491894529094469, 'n_estimators': 87}. Best is trial 19 with value: 0.9086615268786359.\n",
      "[I 2024-02-03 19:37:22,260] Trial 20 finished with value: 0.9043740301684624 and parameters: {'learning_rate': 0.15956667285005213, 'num_leaves': 48, 'max_depth': 16, 'min_child_samples': 16, 'subsample': 0.5009575289604246, 'colsample_bytree': 0.7406565584965019, 'reg_alpha': 0.3044244930939384, 'reg_lambda': 0.9386400579262321, 'n_estimators': 150}. Best is trial 19 with value: 0.9086615268786359.\n",
      "[I 2024-02-03 19:38:25,686] Trial 23 finished with value: 0.9060602663703385 and parameters: {'learning_rate': 0.10821016765943894, 'num_leaves': 21, 'max_depth': 14, 'min_child_samples': 1, 'subsample': 0.988395186327808, 'colsample_bytree': 0.66292175294754, 'reg_alpha': 0.021485230861878923, 'reg_lambda': 0.18629865062118744, 'n_estimators': 256}. Best is trial 19 with value: 0.9086615268786359.\n",
      "[I 2024-02-03 19:38:56,667] Trial 24 finished with value: 0.9074087934796685 and parameters: {'learning_rate': 0.12500506901979974, 'num_leaves': 21, 'max_depth': 14, 'min_child_samples': 14, 'subsample': 0.9883135302853119, 'colsample_bytree': 0.662908615329852, 'reg_alpha': 0.008681428028053662, 'reg_lambda': 0.994957487762371, 'n_estimators': 212}. Best is trial 19 with value: 0.9086615268786359.\n",
      "[I 2024-02-03 19:40:34,292] Trial 29 finished with value: 0.9072162545042189 and parameters: {'learning_rate': 0.076229713093055, 'num_leaves': 91, 'max_depth': 15, 'min_child_samples': 13, 'subsample': 0.9959282312621245, 'colsample_bytree': 0.6949424651979936, 'reg_alpha': 0.742930358467601, 'reg_lambda': 0.9850038013493414, 'n_estimators': 52}. Best is trial 19 with value: 0.9086615268786359.\n",
      "[I 2024-02-03 19:47:55,964] Trial 27 finished with value: 0.9041332288015657 and parameters: {'learning_rate': 0.18660419625584201, 'num_leaves': 20, 'max_depth': 14, 'min_child_samples': 13, 'subsample': 0.9588307065030378, 'colsample_bytree': 0.6596152744250101, 'reg_alpha': 0.005239471596267475, 'reg_lambda': 0.44292030818005845, 'n_estimators': 291}. Best is trial 19 with value: 0.9086615268786359.\n",
      "[I 2024-02-03 19:48:14,762] Trial 35 finished with value: 0.9064454719688223 and parameters: {'learning_rate': 0.06377433725347516, 'num_leaves': 39, 'max_depth': 15, 'min_child_samples': 13, 'subsample': 0.9011839591636752, 'colsample_bytree': 0.5647924938290434, 'reg_alpha': 0.1244720644246253, 'reg_lambda': 0.9457521448506226, 'n_estimators': 50}. Best is trial 19 with value: 0.9086615268786359.\n",
      "[I 2024-02-03 19:51:16,217] Trial 6 finished with value: 0.9026878984055193 and parameters: {'learning_rate': 0.12902143120395354, 'num_leaves': 95, 'max_depth': 11, 'min_child_samples': 20, 'subsample': 0.7110564607890144, 'colsample_bytree': 0.5551612980130629, 'reg_alpha': 0.18860482939750867, 'reg_lambda': 0.5288621348208318, 'n_estimators': 260}. Best is trial 19 with value: 0.9086615268786359.\n",
      "[I 2024-02-03 19:52:18,908] Trial 32 finished with value: 0.9075053298668891 and parameters: {'learning_rate': 0.07141730610609055, 'num_leaves': 98, 'max_depth': 14, 'min_child_samples': 14, 'subsample': 0.5619697146714947, 'colsample_bytree': 0.5613801595025424, 'reg_alpha': 0.782126426275886, 'reg_lambda': 0.9878782948376348, 'n_estimators': 52}. Best is trial 19 with value: 0.9086615268786359.\n",
      "[I 2024-02-03 19:56:04,871] Trial 34 finished with value: 0.907264435665385 and parameters: {'learning_rate': 0.07201661458769269, 'num_leaves': 97, 'max_depth': 14, 'min_child_samples': 13, 'subsample': 0.5393457609536094, 'colsample_bytree': 0.5522920726945337, 'reg_alpha': 0.7673126076887831, 'reg_lambda': 0.4305833808759679, 'n_estimators': 54}. Best is trial 19 with value: 0.9086615268786359.\n",
      "[I 2024-02-03 20:11:31,164] Trial 36 finished with value: 0.9035068621020818 and parameters: {'learning_rate': 0.18415064281490262, 'num_leaves': 40, 'max_depth': 14, 'min_child_samples': 19, 'subsample': 0.9209409166156266, 'colsample_bytree': 0.570563507986137, 'reg_alpha': 0.14914784852921048, 'reg_lambda': 0.7159865316377565, 'n_estimators': 202}. Best is trial 19 with value: 0.9086615268786359.\n",
      "[I 2024-02-03 20:12:51,106] Trial 30 finished with value: 0.904855760549841 and parameters: {'learning_rate': 0.07793539792547438, 'num_leaves': 96, 'max_depth': 14, 'min_child_samples': 12, 'subsample': 0.5240661738295093, 'colsample_bytree': 0.7717008993645638, 'reg_alpha': 0.7053356443901745, 'reg_lambda': 0.9624965910672427, 'n_estimators': 146}. Best is trial 19 with value: 0.9086615268786359.\n",
      "[I 2024-02-03 20:13:03,903] Trial 38 finished with value: 0.9014836130672137 and parameters: {'learning_rate': 0.18654197156143296, 'num_leaves': 41, 'max_depth': 13, 'min_child_samples': 19, 'subsample': 0.874007524095095, 'colsample_bytree': 0.7798395744282393, 'reg_alpha': 0.16964217932715286, 'reg_lambda': 0.6717015819150036, 'n_estimators': 192}. Best is trial 19 with value: 0.9086615268786359.\n",
      "[I 2024-02-03 20:15:22,230] Trial 39 finished with value: 0.9046630126965252 and parameters: {'learning_rate': 0.17530400627337195, 'num_leaves': 40, 'max_depth': 13, 'min_child_samples': 18, 'subsample': 0.8485997720604247, 'colsample_bytree': 0.8115229627724996, 'reg_alpha': 0.35876870610832334, 'reg_lambda': 0.7386285023010734, 'n_estimators': 201}. Best is trial 19 with value: 0.9086615268786359.\n",
      "[I 2024-02-03 20:17:06,171] Trial 37 finished with value: 0.9076016109589398 and parameters: {'learning_rate': 0.06847742705440489, 'num_leaves': 37, 'max_depth': 13, 'min_child_samples': 19, 'subsample': 0.8954136519231771, 'colsample_bytree': 0.597666325839296, 'reg_alpha': 0.16445485138469756, 'reg_lambda': 0.7079189081389944, 'n_estimators': 209}. Best is trial 19 with value: 0.9086615268786359.\n",
      "[I 2024-02-03 20:20:21,073] Trial 41 finished with value: 0.9040366692056931 and parameters: {'learning_rate': 0.16412003252231794, 'num_leaves': 89, 'max_depth': 9, 'min_child_samples': 18, 'subsample': 0.5536264145690273, 'colsample_bytree': 0.79418119408228, 'reg_alpha': 0.43297454307183697, 'reg_lambda': 0.6815916985521469, 'n_estimators': 132}. Best is trial 19 with value: 0.9086615268786359.\n",
      "[I 2024-02-03 20:23:44,535] Trial 26 finished with value: 0.9037959142561001 and parameters: {'learning_rate': 0.09295671094577006, 'num_leaves': 99, 'max_depth': 14, 'min_child_samples': 14, 'subsample': 0.9662994286386066, 'colsample_bytree': 0.6585436878843721, 'reg_alpha': 0.023818310988821922, 'reg_lambda': 0.7174122923189494, 'n_estimators': 192}. Best is trial 19 with value: 0.9086615268786359.\n",
      "[I 2024-02-03 20:27:01,475] Trial 40 finished with value: 0.9064454255515189 and parameters: {'learning_rate': 0.07512892796923369, 'num_leaves': 100, 'max_depth': 13, 'min_child_samples': 18, 'subsample': 0.5339957511722313, 'colsample_bytree': 0.7833940889528185, 'reg_alpha': 0.8326905961290496, 'reg_lambda': 0.7180361116750797, 'n_estimators': 141}. Best is trial 19 with value: 0.9086615268786359.\n",
      "[I 2024-02-03 20:28:07,113] Trial 47 finished with value: 0.9075534414020996 and parameters: {'learning_rate': 0.05412547721090831, 'num_leaves': 30, 'max_depth': 12, 'min_child_samples': 17, 'subsample': 0.5783424854188258, 'colsample_bytree': 0.6060355479244353, 'reg_alpha': 0.5008363341526612, 'reg_lambda': 0.8684549568007184, 'n_estimators': 71}. Best is trial 19 with value: 0.9086615268786359.\n",
      "[I 2024-02-03 20:29:11,547] Trial 43 finished with value: 0.9083243051677776 and parameters: {'learning_rate': 0.05423305544629543, 'num_leaves': 89, 'max_depth': 12, 'min_child_samples': 18, 'subsample': 0.5756531137298831, 'colsample_bytree': 0.6110023555671513, 'reg_alpha': 0.8684349702219694, 'reg_lambda': 0.7029890593674648, 'n_estimators': 70}. Best is trial 19 with value: 0.9086615268786359.\n",
      "[I 2024-02-03 20:30:30,909] Trial 45 finished with value: 0.9072642616004967 and parameters: {'learning_rate': 0.05484841594042669, 'num_leaves': 87, 'max_depth': 12, 'min_child_samples': 15, 'subsample': 0.5482060236832298, 'colsample_bytree': 0.607344788148254, 'reg_alpha': 0.4305961142947009, 'reg_lambda': 0.8890784340676557, 'n_estimators': 65}. Best is trial 19 with value: 0.9086615268786359.\n",
      "[I 2024-02-03 20:30:41,760] Trial 48 finished with value: 0.9065418110825026 and parameters: {'learning_rate': 0.05580114437243299, 'num_leaves': 32, 'max_depth': 12, 'min_child_samples': 16, 'subsample': 0.5799387562783573, 'colsample_bytree': 0.6032492034853023, 'reg_alpha': 0.5273500641760659, 'reg_lambda': 0.8729057907934357, 'n_estimators': 69}. Best is trial 19 with value: 0.9086615268786359.\n",
      "[I 2024-02-03 20:30:42,143] Trial 44 finished with value: 0.9081315225014841 and parameters: {'learning_rate': 0.050926176140240295, 'num_leaves': 88, 'max_depth': 12, 'min_child_samples': 15, 'subsample': 0.5734493151970311, 'colsample_bytree': 0.6051998532545274, 'reg_alpha': 0.49829910401962163, 'reg_lambda': 0.8889408994563037, 'n_estimators': 75}. Best is trial 19 with value: 0.9086615268786359.\n",
      "[I 2024-02-03 20:31:30,978] Trial 46 finished with value: 0.9082760195676786 and parameters: {'learning_rate': 0.055237316253176086, 'num_leaves': 86, 'max_depth': 12, 'min_child_samples': 17, 'subsample': 0.5492114370278834, 'colsample_bytree': 0.6007733018161715, 'reg_alpha': 0.4580422711529539, 'reg_lambda': 0.8729325182857854, 'n_estimators': 75}. Best is trial 19 with value: 0.9086615268786359.\n",
      "[I 2024-02-03 20:31:59,400] Trial 31 finished with value: 0.9048074633454156 and parameters: {'learning_rate': 0.07421189901988157, 'num_leaves': 99, 'max_depth': 14, 'min_child_samples': 14, 'subsample': 0.501417358218864, 'colsample_bytree': 0.7844276872218091, 'reg_alpha': 0.7824815833518096, 'reg_lambda': 0.9290894441312697, 'n_estimators': 287}. Best is trial 19 with value: 0.9086615268786359.\n",
      "[I 2024-02-03 20:32:36,769] Trial 33 finished with value: 0.9068789283544276 and parameters: {'learning_rate': 0.07000862846883311, 'num_leaves': 98, 'max_depth': 14, 'min_child_samples': 13, 'subsample': 0.547986048434333, 'colsample_bytree': 0.5631447085584483, 'reg_alpha': 0.7821145585005533, 'reg_lambda': 0.12468303482264101, 'n_estimators': 295}. Best is trial 19 with value: 0.9086615268786359.\n",
      "[I 2024-02-03 20:32:45,474] Trial 25 finished with value: 0.9022061564198147 and parameters: {'learning_rate': 0.09243206258040357, 'num_leaves': 100, 'max_depth': 14, 'min_child_samples': 13, 'subsample': 0.9942092782506826, 'colsample_bytree': 0.6647463375475263, 'reg_alpha': 0.03310557916252832, 'reg_lambda': 0.7489159101158482, 'n_estimators': 266}. Best is trial 19 with value: 0.9086615268786359.\n",
      "[I 2024-02-03 20:32:47,224] Trial 49 finished with value: 0.9088541006670632 and parameters: {'learning_rate': 0.05340658953221508, 'num_leaves': 87, 'max_depth': 10, 'min_child_samples': 16, 'subsample': 0.5716554335282593, 'colsample_bytree': 0.6044802806390872, 'reg_alpha': 0.45290329883942215, 'reg_lambda': 0.8774336985419824, 'n_estimators': 76}. Best is trial 49 with value: 0.9088541006670632.\n",
      "[I 2024-02-03 20:32:50,198] Trial 42 finished with value: 0.9066863429616745 and parameters: {'learning_rate': 0.08422544886600035, 'num_leaves': 87, 'max_depth': 12, 'min_child_samples': 18, 'subsample': 0.8477637765766669, 'colsample_bytree': 0.5984554171853952, 'reg_alpha': 0.43761718928943844, 'reg_lambda': 0.9997243792660744, 'n_estimators': 139}. Best is trial 49 with value: 0.9088541006670632.\n",
      "[I 2024-02-03 20:32:51,147] Trial 28 finished with value: 0.9010018826858351 and parameters: {'learning_rate': 0.1908406298020236, 'num_leaves': 97, 'max_depth': 14, 'min_child_samples': 14, 'subsample': 0.9791369707392565, 'colsample_bytree': 0.6742118190195049, 'reg_alpha': 0.0026750784611069903, 'reg_lambda': 0.40925326560351594, 'n_estimators': 291}. Best is trial 49 with value: 0.9088541006670632.\n"
     ]
    }
   ],
   "source": [
    "lgbm_study = optuna.create_study(direction = 'maximize')\n",
    "lgbm_study.optimize(lgbm_objective,50, n_jobs=-1)"
   ]
  },
  {
   "cell_type": "code",
   "execution_count": 20,
   "metadata": {},
   "outputs": [
    {
     "data": {
      "application/vnd.plotly.v1+json": {
       "config": {
        "plotlyServerURL": "https://plot.ly"
       },
       "data": [
        {
         "cliponaxis": false,
         "hovertemplate": [
          "max_depth (IntDistribution): 0.012562254844911313<extra></extra>",
          "min_child_samples (IntDistribution): 0.012907332202798966<extra></extra>",
          "reg_alpha (FloatDistribution): 0.02823686471440056<extra></extra>",
          "reg_lambda (FloatDistribution): 0.0312612201351609<extra></extra>",
          "num_leaves (IntDistribution): 0.03564863033578796<extra></extra>",
          "subsample (FloatDistribution): 0.046526741667148715<extra></extra>",
          "colsample_bytree (FloatDistribution): 0.08725115697716619<extra></extra>",
          "n_estimators (IntDistribution): 0.10626110117867495<extra></extra>",
          "learning_rate (FloatDistribution): 0.6393446979439507<extra></extra>"
         ],
         "name": "Objective Value",
         "orientation": "h",
         "text": [
          "0.01",
          "0.01",
          "0.03",
          "0.03",
          "0.04",
          "0.05",
          "0.09",
          "0.11",
          "0.64"
         ],
         "textposition": "outside",
         "type": "bar",
         "x": [
          0.012562254844911313,
          0.012907332202798966,
          0.02823686471440056,
          0.0312612201351609,
          0.03564863033578796,
          0.046526741667148715,
          0.08725115697716619,
          0.10626110117867495,
          0.6393446979439507
         ],
         "y": [
          "max_depth",
          "min_child_samples",
          "reg_alpha",
          "reg_lambda",
          "num_leaves",
          "subsample",
          "colsample_bytree",
          "n_estimators",
          "learning_rate"
         ]
        }
       ],
       "layout": {
        "template": {
         "data": {
          "bar": [
           {
            "error_x": {
             "color": "#2a3f5f"
            },
            "error_y": {
             "color": "#2a3f5f"
            },
            "marker": {
             "line": {
              "color": "#E5ECF6",
              "width": 0.5
             },
             "pattern": {
              "fillmode": "overlay",
              "size": 10,
              "solidity": 0.2
             }
            },
            "type": "bar"
           }
          ],
          "barpolar": [
           {
            "marker": {
             "line": {
              "color": "#E5ECF6",
              "width": 0.5
             },
             "pattern": {
              "fillmode": "overlay",
              "size": 10,
              "solidity": 0.2
             }
            },
            "type": "barpolar"
           }
          ],
          "carpet": [
           {
            "aaxis": {
             "endlinecolor": "#2a3f5f",
             "gridcolor": "white",
             "linecolor": "white",
             "minorgridcolor": "white",
             "startlinecolor": "#2a3f5f"
            },
            "baxis": {
             "endlinecolor": "#2a3f5f",
             "gridcolor": "white",
             "linecolor": "white",
             "minorgridcolor": "white",
             "startlinecolor": "#2a3f5f"
            },
            "type": "carpet"
           }
          ],
          "choropleth": [
           {
            "colorbar": {
             "outlinewidth": 0,
             "ticks": ""
            },
            "type": "choropleth"
           }
          ],
          "contour": [
           {
            "colorbar": {
             "outlinewidth": 0,
             "ticks": ""
            },
            "colorscale": [
             [
              0,
              "#0d0887"
             ],
             [
              0.1111111111111111,
              "#46039f"
             ],
             [
              0.2222222222222222,
              "#7201a8"
             ],
             [
              0.3333333333333333,
              "#9c179e"
             ],
             [
              0.4444444444444444,
              "#bd3786"
             ],
             [
              0.5555555555555556,
              "#d8576b"
             ],
             [
              0.6666666666666666,
              "#ed7953"
             ],
             [
              0.7777777777777778,
              "#fb9f3a"
             ],
             [
              0.8888888888888888,
              "#fdca26"
             ],
             [
              1,
              "#f0f921"
             ]
            ],
            "type": "contour"
           }
          ],
          "contourcarpet": [
           {
            "colorbar": {
             "outlinewidth": 0,
             "ticks": ""
            },
            "type": "contourcarpet"
           }
          ],
          "heatmap": [
           {
            "colorbar": {
             "outlinewidth": 0,
             "ticks": ""
            },
            "colorscale": [
             [
              0,
              "#0d0887"
             ],
             [
              0.1111111111111111,
              "#46039f"
             ],
             [
              0.2222222222222222,
              "#7201a8"
             ],
             [
              0.3333333333333333,
              "#9c179e"
             ],
             [
              0.4444444444444444,
              "#bd3786"
             ],
             [
              0.5555555555555556,
              "#d8576b"
             ],
             [
              0.6666666666666666,
              "#ed7953"
             ],
             [
              0.7777777777777778,
              "#fb9f3a"
             ],
             [
              0.8888888888888888,
              "#fdca26"
             ],
             [
              1,
              "#f0f921"
             ]
            ],
            "type": "heatmap"
           }
          ],
          "heatmapgl": [
           {
            "colorbar": {
             "outlinewidth": 0,
             "ticks": ""
            },
            "colorscale": [
             [
              0,
              "#0d0887"
             ],
             [
              0.1111111111111111,
              "#46039f"
             ],
             [
              0.2222222222222222,
              "#7201a8"
             ],
             [
              0.3333333333333333,
              "#9c179e"
             ],
             [
              0.4444444444444444,
              "#bd3786"
             ],
             [
              0.5555555555555556,
              "#d8576b"
             ],
             [
              0.6666666666666666,
              "#ed7953"
             ],
             [
              0.7777777777777778,
              "#fb9f3a"
             ],
             [
              0.8888888888888888,
              "#fdca26"
             ],
             [
              1,
              "#f0f921"
             ]
            ],
            "type": "heatmapgl"
           }
          ],
          "histogram": [
           {
            "marker": {
             "pattern": {
              "fillmode": "overlay",
              "size": 10,
              "solidity": 0.2
             }
            },
            "type": "histogram"
           }
          ],
          "histogram2d": [
           {
            "colorbar": {
             "outlinewidth": 0,
             "ticks": ""
            },
            "colorscale": [
             [
              0,
              "#0d0887"
             ],
             [
              0.1111111111111111,
              "#46039f"
             ],
             [
              0.2222222222222222,
              "#7201a8"
             ],
             [
              0.3333333333333333,
              "#9c179e"
             ],
             [
              0.4444444444444444,
              "#bd3786"
             ],
             [
              0.5555555555555556,
              "#d8576b"
             ],
             [
              0.6666666666666666,
              "#ed7953"
             ],
             [
              0.7777777777777778,
              "#fb9f3a"
             ],
             [
              0.8888888888888888,
              "#fdca26"
             ],
             [
              1,
              "#f0f921"
             ]
            ],
            "type": "histogram2d"
           }
          ],
          "histogram2dcontour": [
           {
            "colorbar": {
             "outlinewidth": 0,
             "ticks": ""
            },
            "colorscale": [
             [
              0,
              "#0d0887"
             ],
             [
              0.1111111111111111,
              "#46039f"
             ],
             [
              0.2222222222222222,
              "#7201a8"
             ],
             [
              0.3333333333333333,
              "#9c179e"
             ],
             [
              0.4444444444444444,
              "#bd3786"
             ],
             [
              0.5555555555555556,
              "#d8576b"
             ],
             [
              0.6666666666666666,
              "#ed7953"
             ],
             [
              0.7777777777777778,
              "#fb9f3a"
             ],
             [
              0.8888888888888888,
              "#fdca26"
             ],
             [
              1,
              "#f0f921"
             ]
            ],
            "type": "histogram2dcontour"
           }
          ],
          "mesh3d": [
           {
            "colorbar": {
             "outlinewidth": 0,
             "ticks": ""
            },
            "type": "mesh3d"
           }
          ],
          "parcoords": [
           {
            "line": {
             "colorbar": {
              "outlinewidth": 0,
              "ticks": ""
             }
            },
            "type": "parcoords"
           }
          ],
          "pie": [
           {
            "automargin": true,
            "type": "pie"
           }
          ],
          "scatter": [
           {
            "fillpattern": {
             "fillmode": "overlay",
             "size": 10,
             "solidity": 0.2
            },
            "type": "scatter"
           }
          ],
          "scatter3d": [
           {
            "line": {
             "colorbar": {
              "outlinewidth": 0,
              "ticks": ""
             }
            },
            "marker": {
             "colorbar": {
              "outlinewidth": 0,
              "ticks": ""
             }
            },
            "type": "scatter3d"
           }
          ],
          "scattercarpet": [
           {
            "marker": {
             "colorbar": {
              "outlinewidth": 0,
              "ticks": ""
             }
            },
            "type": "scattercarpet"
           }
          ],
          "scattergeo": [
           {
            "marker": {
             "colorbar": {
              "outlinewidth": 0,
              "ticks": ""
             }
            },
            "type": "scattergeo"
           }
          ],
          "scattergl": [
           {
            "marker": {
             "colorbar": {
              "outlinewidth": 0,
              "ticks": ""
             }
            },
            "type": "scattergl"
           }
          ],
          "scattermapbox": [
           {
            "marker": {
             "colorbar": {
              "outlinewidth": 0,
              "ticks": ""
             }
            },
            "type": "scattermapbox"
           }
          ],
          "scatterpolar": [
           {
            "marker": {
             "colorbar": {
              "outlinewidth": 0,
              "ticks": ""
             }
            },
            "type": "scatterpolar"
           }
          ],
          "scatterpolargl": [
           {
            "marker": {
             "colorbar": {
              "outlinewidth": 0,
              "ticks": ""
             }
            },
            "type": "scatterpolargl"
           }
          ],
          "scatterternary": [
           {
            "marker": {
             "colorbar": {
              "outlinewidth": 0,
              "ticks": ""
             }
            },
            "type": "scatterternary"
           }
          ],
          "surface": [
           {
            "colorbar": {
             "outlinewidth": 0,
             "ticks": ""
            },
            "colorscale": [
             [
              0,
              "#0d0887"
             ],
             [
              0.1111111111111111,
              "#46039f"
             ],
             [
              0.2222222222222222,
              "#7201a8"
             ],
             [
              0.3333333333333333,
              "#9c179e"
             ],
             [
              0.4444444444444444,
              "#bd3786"
             ],
             [
              0.5555555555555556,
              "#d8576b"
             ],
             [
              0.6666666666666666,
              "#ed7953"
             ],
             [
              0.7777777777777778,
              "#fb9f3a"
             ],
             [
              0.8888888888888888,
              "#fdca26"
             ],
             [
              1,
              "#f0f921"
             ]
            ],
            "type": "surface"
           }
          ],
          "table": [
           {
            "cells": {
             "fill": {
              "color": "#EBF0F8"
             },
             "line": {
              "color": "white"
             }
            },
            "header": {
             "fill": {
              "color": "#C8D4E3"
             },
             "line": {
              "color": "white"
             }
            },
            "type": "table"
           }
          ]
         },
         "layout": {
          "annotationdefaults": {
           "arrowcolor": "#2a3f5f",
           "arrowhead": 0,
           "arrowwidth": 1
          },
          "autotypenumbers": "strict",
          "coloraxis": {
           "colorbar": {
            "outlinewidth": 0,
            "ticks": ""
           }
          },
          "colorscale": {
           "diverging": [
            [
             0,
             "#8e0152"
            ],
            [
             0.1,
             "#c51b7d"
            ],
            [
             0.2,
             "#de77ae"
            ],
            [
             0.3,
             "#f1b6da"
            ],
            [
             0.4,
             "#fde0ef"
            ],
            [
             0.5,
             "#f7f7f7"
            ],
            [
             0.6,
             "#e6f5d0"
            ],
            [
             0.7,
             "#b8e186"
            ],
            [
             0.8,
             "#7fbc41"
            ],
            [
             0.9,
             "#4d9221"
            ],
            [
             1,
             "#276419"
            ]
           ],
           "sequential": [
            [
             0,
             "#0d0887"
            ],
            [
             0.1111111111111111,
             "#46039f"
            ],
            [
             0.2222222222222222,
             "#7201a8"
            ],
            [
             0.3333333333333333,
             "#9c179e"
            ],
            [
             0.4444444444444444,
             "#bd3786"
            ],
            [
             0.5555555555555556,
             "#d8576b"
            ],
            [
             0.6666666666666666,
             "#ed7953"
            ],
            [
             0.7777777777777778,
             "#fb9f3a"
            ],
            [
             0.8888888888888888,
             "#fdca26"
            ],
            [
             1,
             "#f0f921"
            ]
           ],
           "sequentialminus": [
            [
             0,
             "#0d0887"
            ],
            [
             0.1111111111111111,
             "#46039f"
            ],
            [
             0.2222222222222222,
             "#7201a8"
            ],
            [
             0.3333333333333333,
             "#9c179e"
            ],
            [
             0.4444444444444444,
             "#bd3786"
            ],
            [
             0.5555555555555556,
             "#d8576b"
            ],
            [
             0.6666666666666666,
             "#ed7953"
            ],
            [
             0.7777777777777778,
             "#fb9f3a"
            ],
            [
             0.8888888888888888,
             "#fdca26"
            ],
            [
             1,
             "#f0f921"
            ]
           ]
          },
          "colorway": [
           "#636efa",
           "#EF553B",
           "#00cc96",
           "#ab63fa",
           "#FFA15A",
           "#19d3f3",
           "#FF6692",
           "#B6E880",
           "#FF97FF",
           "#FECB52"
          ],
          "font": {
           "color": "#2a3f5f"
          },
          "geo": {
           "bgcolor": "white",
           "lakecolor": "white",
           "landcolor": "#E5ECF6",
           "showlakes": true,
           "showland": true,
           "subunitcolor": "white"
          },
          "hoverlabel": {
           "align": "left"
          },
          "hovermode": "closest",
          "mapbox": {
           "style": "light"
          },
          "paper_bgcolor": "white",
          "plot_bgcolor": "#E5ECF6",
          "polar": {
           "angularaxis": {
            "gridcolor": "white",
            "linecolor": "white",
            "ticks": ""
           },
           "bgcolor": "#E5ECF6",
           "radialaxis": {
            "gridcolor": "white",
            "linecolor": "white",
            "ticks": ""
           }
          },
          "scene": {
           "xaxis": {
            "backgroundcolor": "#E5ECF6",
            "gridcolor": "white",
            "gridwidth": 2,
            "linecolor": "white",
            "showbackground": true,
            "ticks": "",
            "zerolinecolor": "white"
           },
           "yaxis": {
            "backgroundcolor": "#E5ECF6",
            "gridcolor": "white",
            "gridwidth": 2,
            "linecolor": "white",
            "showbackground": true,
            "ticks": "",
            "zerolinecolor": "white"
           },
           "zaxis": {
            "backgroundcolor": "#E5ECF6",
            "gridcolor": "white",
            "gridwidth": 2,
            "linecolor": "white",
            "showbackground": true,
            "ticks": "",
            "zerolinecolor": "white"
           }
          },
          "shapedefaults": {
           "line": {
            "color": "#2a3f5f"
           }
          },
          "ternary": {
           "aaxis": {
            "gridcolor": "white",
            "linecolor": "white",
            "ticks": ""
           },
           "baxis": {
            "gridcolor": "white",
            "linecolor": "white",
            "ticks": ""
           },
           "bgcolor": "#E5ECF6",
           "caxis": {
            "gridcolor": "white",
            "linecolor": "white",
            "ticks": ""
           }
          },
          "title": {
           "x": 0.05
          },
          "xaxis": {
           "automargin": true,
           "gridcolor": "white",
           "linecolor": "white",
           "ticks": "",
           "title": {
            "standoff": 15
           },
           "zerolinecolor": "white",
           "zerolinewidth": 2
          },
          "yaxis": {
           "automargin": true,
           "gridcolor": "white",
           "linecolor": "white",
           "ticks": "",
           "title": {
            "standoff": 15
           },
           "zerolinecolor": "white",
           "zerolinewidth": 2
          }
         }
        },
        "title": {
         "text": "Hyperparameter Importances"
        },
        "xaxis": {
         "title": {
          "text": "Hyperparameter Importance"
         }
        },
        "yaxis": {
         "title": {
          "text": "Hyperparameter"
         }
        }
       }
      }
     },
     "metadata": {},
     "output_type": "display_data"
    }
   ],
   "source": [
    "optuna.visualization.plot_param_importances(lgbm_study)"
   ]
  },
  {
   "cell_type": "code",
   "execution_count": 21,
   "metadata": {},
   "outputs": [
    {
     "data": {
      "text/plain": [
       "({'learning_rate': 0.05340658953221508,\n",
       "  'num_leaves': 87,\n",
       "  'max_depth': 10,\n",
       "  'min_child_samples': 16,\n",
       "  'subsample': 0.5716554335282593,\n",
       "  'colsample_bytree': 0.6044802806390872,\n",
       "  'reg_alpha': 0.45290329883942215,\n",
       "  'reg_lambda': 0.8774336985419824,\n",
       "  'n_estimators': 76},\n",
       " 0.9088541006670632)"
      ]
     },
     "execution_count": 21,
     "metadata": {},
     "output_type": "execute_result"
    }
   ],
   "source": [
    "lgbm_study.best_params, lgbm_study.best_value"
   ]
  },
  {
   "cell_type": "code",
   "execution_count": 22,
   "metadata": {},
   "outputs": [],
   "source": [
    "with open('lgbm.json', 'w') as json_file:\n",
    "    json.dump(lgbm_study.best_params, json_file, indent=4)"
   ]
  },
  {
   "cell_type": "code",
   "execution_count": 23,
   "metadata": {},
   "outputs": [
    {
     "name": "stderr",
     "output_type": "stream",
     "text": [
      "[I 2024-02-03 20:32:51,405] A new study created in memory with name: no-name-f55f8851-4860-497e-9ec2-ac975490c1db\n",
      "[I 2024-02-03 20:33:50,379] Trial 9 finished with value: 0.8782153034136677 and parameters: {'learning_rate': 0.047338069013288395, 'depth': 8, 'l2_leaf_reg': 2.588419949576218, 'iterations': 60, 'border_count': 239}. Best is trial 9 with value: 0.8782153034136677.\n",
      "[I 2024-02-03 20:33:56,317] Trial 1 finished with value: 0.8777817193804776 and parameters: {'learning_rate': 0.05495707066027985, 'depth': 9, 'l2_leaf_reg': 8.771303356718581, 'iterations': 55, 'border_count': 208}. Best is trial 9 with value: 0.8782153034136677.\n",
      "[I 2024-02-03 20:33:58,285] Trial 0 finished with value: 0.8986895582882969 and parameters: {'learning_rate': 0.2193068689013425, 'depth': 4, 'l2_leaf_reg': 3.748285992900594, 'iterations': 124, 'border_count': 198}. Best is trial 0 with value: 0.8986895582882969.\n",
      "[I 2024-02-03 20:34:43,958] Trial 11 finished with value: 0.8990264666823558 and parameters: {'learning_rate': 0.1889053924001998, 'depth': 8, 'l2_leaf_reg': 4.881816619249299, 'iterations': 115, 'border_count': 113}. Best is trial 11 with value: 0.8990264666823558.\n",
      "[I 2024-02-03 20:34:45,398] Trial 8 finished with value: 0.900857107115819 and parameters: {'learning_rate': 0.21400058636489, 'depth': 5, 'l2_leaf_reg': 6.52973006464913, 'iterations': 156, 'border_count': 189}. Best is trial 8 with value: 0.900857107115819.\n",
      "[I 2024-02-03 20:35:08,399] Trial 7 finished with value: 0.8985929638794469 and parameters: {'learning_rate': 0.21620118187762313, 'depth': 8, 'l2_leaf_reg': 8.966564691640505, 'iterations': 122, 'border_count': 57}. Best is trial 8 with value: 0.900857107115819.\n",
      "[I 2024-02-03 20:35:27,852] Trial 15 finished with value: 0.8942091744728966 and parameters: {'learning_rate': 0.2121318841955184, 'depth': 5, 'l2_leaf_reg': 3.017551807120909, 'iterations': 62, 'border_count': 106}. Best is trial 8 with value: 0.900857107115819.\n",
      "[I 2024-02-03 20:35:44,424] Trial 4 finished with value: 0.9011460664352299 and parameters: {'learning_rate': 0.2817580512019369, 'depth': 7, 'l2_leaf_reg': 7.17564909536654, 'iterations': 170, 'border_count': 206}. Best is trial 4 with value: 0.9011460664352299.\n",
      "[I 2024-02-03 20:36:23,233] Trial 6 finished with value: 0.898400227630457 and parameters: {'learning_rate': 0.13286187663748136, 'depth': 10, 'l2_leaf_reg': 2.8196214195115283, 'iterations': 145, 'border_count': 62}. Best is trial 4 with value: 0.9011460664352299.\n",
      "[I 2024-02-03 20:36:27,219] Trial 16 finished with value: 0.8930047962999839 and parameters: {'learning_rate': 0.08125124434160143, 'depth': 7, 'l2_leaf_reg': 4.930455675828916, 'iterations': 110, 'border_count': 92}. Best is trial 4 with value: 0.9011460664352299.\n",
      "[I 2024-02-03 20:36:28,240] Trial 10 finished with value: 0.9010980361303009 and parameters: {'learning_rate': 0.12862679881929892, 'depth': 8, 'l2_leaf_reg': 8.655717968622573, 'iterations': 183, 'border_count': 137}. Best is trial 4 with value: 0.9011460664352299.\n",
      "[I 2024-02-03 20:36:31,140] Trial 17 finished with value: 0.8956544468473135 and parameters: {'learning_rate': 0.12811029076680447, 'depth': 6, 'l2_leaf_reg': 7.1752886339288775, 'iterations': 101, 'border_count': 102}. Best is trial 4 with value: 0.9011460664352299.\n",
      "[I 2024-02-03 20:36:38,040] Trial 14 finished with value: 0.8990746594478475 and parameters: {'learning_rate': 0.2632447416862547, 'depth': 7, 'l2_leaf_reg': 1.6148428062797597, 'iterations': 171, 'border_count': 60}. Best is trial 4 with value: 0.9011460664352299.\n",
      "[I 2024-02-03 20:36:43,768] Trial 3 finished with value: 0.9017244376427621 and parameters: {'learning_rate': 0.16400298049833226, 'depth': 4, 'l2_leaf_reg': 9.558714898008398, 'iterations': 293, 'border_count': 96}. Best is trial 3 with value: 0.9017244376427621.\n",
      "[I 2024-02-03 20:36:47,355] Trial 2 finished with value: 0.9018208811953755 and parameters: {'learning_rate': 0.210697945849995, 'depth': 5, 'l2_leaf_reg': 7.031395320407391, 'iterations': 226, 'border_count': 247}. Best is trial 2 with value: 0.9018208811953755.\n",
      "[I 2024-02-03 20:37:10,301] Trial 20 finished with value: 0.8924268312438585 and parameters: {'learning_rate': 0.229882072066853, 'depth': 4, 'l2_leaf_reg': 9.478870663251637, 'iterations': 70, 'border_count': 81}. Best is trial 2 with value: 0.9018208811953755.\n",
      "[I 2024-02-03 20:37:53,458] Trial 13 finished with value: 0.9028322910327804 and parameters: {'learning_rate': 0.23867375262079113, 'depth': 5, 'l2_leaf_reg': 5.211698634120923, 'iterations': 230, 'border_count': 163}. Best is trial 13 with value: 0.9028322910327804.\n",
      "[I 2024-02-03 20:38:22,998] Trial 12 finished with value: 0.8975810898690056 and parameters: {'learning_rate': 0.0795759814538932, 'depth': 10, 'l2_leaf_reg': 2.5009522901228465, 'iterations': 184, 'border_count': 69}. Best is trial 13 with value: 0.9028322910327804.\n",
      "[I 2024-02-03 20:39:47,056] Trial 19 finished with value: 0.9003756320296106 and parameters: {'learning_rate': 0.2110132145992769, 'depth': 4, 'l2_leaf_reg': 8.403776997593145, 'iterations': 277, 'border_count': 174}. Best is trial 13 with value: 0.9028322910327804.\n",
      "[I 2024-02-03 20:40:28,137] Trial 25 finished with value: 0.900423743564821 and parameters: {'learning_rate': 0.2843263178587644, 'depth': 4, 'l2_leaf_reg': 9.977496753597126, 'iterations': 253, 'border_count': 165}. Best is trial 13 with value: 0.9028322910327804.\n",
      "[I 2024-02-03 20:40:43,345] Trial 18 finished with value: 0.9036512779379947 and parameters: {'learning_rate': 0.10770525362143682, 'depth': 6, 'l2_leaf_reg': 7.797084545239132, 'iterations': 253, 'border_count': 87}. Best is trial 18 with value: 0.9036512779379947.\n",
      "[I 2024-02-03 20:40:59,592] Trial 26 finished with value: 0.9020133853578474 and parameters: {'learning_rate': 0.16672500136509702, 'depth': 4, 'l2_leaf_reg': 9.987448934228299, 'iterations': 279, 'border_count': 155}. Best is trial 18 with value: 0.9036512779379947.\n",
      "[I 2024-02-03 20:41:31,432] Trial 21 finished with value: 0.9030730691910254 and parameters: {'learning_rate': 0.2987713682624925, 'depth': 6, 'l2_leaf_reg': 7.097311926160693, 'iterations': 228, 'border_count': 156}. Best is trial 18 with value: 0.9036512779379947.\n",
      "[I 2024-02-03 20:42:00,039] Trial 22 finished with value: 0.9043257329640373 and parameters: {'learning_rate': 0.27024349994017527, 'depth': 6, 'l2_leaf_reg': 7.162070222037684, 'iterations': 243, 'border_count': 155}. Best is trial 22 with value: 0.9043257329640373.\n",
      "[I 2024-02-03 20:42:05,054] Trial 27 finished with value: 0.8970513175783722 and parameters: {'learning_rate': 0.16905886596376535, 'depth': 5, 'l2_leaf_reg': 9.89866375335938, 'iterations': 274, 'border_count': 32}. Best is trial 22 with value: 0.9043257329640373.\n",
      "[I 2024-02-03 20:42:13,328] Trial 5 finished with value: 0.8970993594876273 and parameters: {'learning_rate': 0.1514968772487803, 'depth': 9, 'l2_leaf_reg': 4.480825876005018, 'iterations': 258, 'border_count': 36}. Best is trial 22 with value: 0.9043257329640373.\n",
      "[I 2024-02-03 20:42:19,691] Trial 28 finished with value: 0.9023022866556285 and parameters: {'learning_rate': 0.2551785774103621, 'depth': 5, 'l2_leaf_reg': 5.759908719153213, 'iterations': 231, 'border_count': 254}. Best is trial 22 with value: 0.9043257329640373.\n",
      "[I 2024-02-03 20:42:43,002] Trial 29 finished with value: 0.9020133389405437 and parameters: {'learning_rate': 0.25803564912241483, 'depth': 5, 'l2_leaf_reg': 6.060637628967976, 'iterations': 231, 'border_count': 253}. Best is trial 22 with value: 0.9043257329640373.\n",
      "[I 2024-02-03 20:43:01,329] Trial 23 finished with value: 0.9029767184730192 and parameters: {'learning_rate': 0.2826210623966545, 'depth': 7, 'l2_leaf_reg': 9.857598904713829, 'iterations': 222, 'border_count': 149}. Best is trial 22 with value: 0.9043257329640373.\n",
      "[I 2024-02-03 20:44:19,843] Trial 30 finished with value: 0.9015317710197278 and parameters: {'learning_rate': 0.2991555716829484, 'depth': 5, 'l2_leaf_reg': 6.080528712821741, 'iterations': 243, 'border_count': 255}. Best is trial 22 with value: 0.9043257329640373.\n",
      "[I 2024-02-03 20:44:48,565] Trial 31 finished with value: 0.9038440373956365 and parameters: {'learning_rate': 0.24572938156957239, 'depth': 5, 'l2_leaf_reg': 5.9910298072753765, 'iterations': 231, 'border_count': 255}. Best is trial 22 with value: 0.9043257329640373.\n",
      "[I 2024-02-03 20:45:32,502] Trial 32 finished with value: 0.8991710101658537 and parameters: {'learning_rate': 0.1706821342369064, 'depth': 6, 'l2_leaf_reg': 6.17528972943809, 'iterations': 225, 'border_count': 32}. Best is trial 22 with value: 0.9043257329640373.\n",
      "[I 2024-02-03 20:45:45,809] Trial 33 finished with value: 0.902495080926248 and parameters: {'learning_rate': 0.17138728770731995, 'depth': 6, 'l2_leaf_reg': 5.737255555226361, 'iterations': 218, 'border_count': 132}. Best is trial 22 with value: 0.9043257329640373.\n",
      "[I 2024-02-03 20:46:19,901] Trial 34 finished with value: 0.9031213896041022 and parameters: {'learning_rate': 0.25511547648650096, 'depth': 6, 'l2_leaf_reg': 6.025635275499193, 'iterations': 218, 'border_count': 139}. Best is trial 22 with value: 0.9043257329640373.\n",
      "[I 2024-02-03 20:46:51,063] Trial 36 finished with value: 0.9022542679550254 and parameters: {'learning_rate': 0.295899668308618, 'depth': 6, 'l2_leaf_reg': 6.1082250472578945, 'iterations': 211, 'border_count': 134}. Best is trial 22 with value: 0.9043257329640373.\n",
      "[I 2024-02-03 20:46:51,580] Trial 35 finished with value: 0.9015315621418616 and parameters: {'learning_rate': 0.2993723469230134, 'depth': 6, 'l2_leaf_reg': 6.1582591564478575, 'iterations': 215, 'border_count': 129}. Best is trial 22 with value: 0.9043257329640373.\n",
      "[I 2024-02-03 20:46:54,485] Trial 38 finished with value: 0.9012906911490093 and parameters: {'learning_rate': 0.2919613921043292, 'depth': 6, 'l2_leaf_reg': 7.967960710867109, 'iterations': 207, 'border_count': 126}. Best is trial 22 with value: 0.9043257329640373.\n",
      "[I 2024-02-03 20:46:59,128] Trial 37 finished with value: 0.9036512199163653 and parameters: {'learning_rate': 0.2544901675969323, 'depth': 6, 'l2_leaf_reg': 6.0873515229894055, 'iterations': 218, 'border_count': 131}. Best is trial 22 with value: 0.9043257329640373.\n",
      "[I 2024-02-03 20:47:21,517] Trial 39 finished with value: 0.9023988926688047 and parameters: {'learning_rate': 0.2974832073652396, 'depth': 6, 'l2_leaf_reg': 7.73500858872248, 'iterations': 209, 'border_count': 121}. Best is trial 22 with value: 0.9043257329640373.\n",
      "[I 2024-02-03 20:47:25,314] Trial 40 finished with value: 0.9014833809806955 and parameters: {'learning_rate': 0.2977187321972136, 'depth': 6, 'l2_leaf_reg': 7.930191205676526, 'iterations': 204, 'border_count': 135}. Best is trial 22 with value: 0.9043257329640373.\n",
      "[I 2024-02-03 20:47:56,798] Trial 24 finished with value: 0.8979184856447526 and parameters: {'learning_rate': 0.29624504029423704, 'depth': 10, 'l2_leaf_reg': 7.775613887651408, 'iterations': 229, 'border_count': 153}. Best is trial 22 with value: 0.9043257329640373.\n",
      "[I 2024-02-03 20:48:28,404] Trial 41 finished with value: 0.9004235578956067 and parameters: {'learning_rate': 0.09823890115651718, 'depth': 6, 'l2_leaf_reg': 7.92385861217291, 'iterations': 205, 'border_count': 129}. Best is trial 22 with value: 0.9043257329640373.\n",
      "[I 2024-02-03 20:48:44,532] Trial 43 finished with value: 0.8588493312891152 and parameters: {'learning_rate': 0.012439167504887383, 'depth': 6, 'l2_leaf_reg': 7.879669553346671, 'iterations': 200, 'border_count': 128}. Best is trial 22 with value: 0.9043257329640373.\n",
      "[I 2024-02-03 20:48:44,919] Trial 42 finished with value: 0.90177238671741 and parameters: {'learning_rate': 0.10274180257199472, 'depth': 6, 'l2_leaf_reg': 7.56298875400336, 'iterations': 204, 'border_count': 128}. Best is trial 22 with value: 0.9043257329640373.\n",
      "[I 2024-02-03 20:49:02,662] Trial 48 finished with value: 0.8698329185947253 and parameters: {'learning_rate': 0.01481516504746283, 'depth': 7, 'l2_leaf_reg': 8.119456423462289, 'iterations': 193, 'border_count': 236}. Best is trial 22 with value: 0.9043257329640373.\n",
      "[I 2024-02-03 20:49:11,767] Trial 44 finished with value: 0.9002310073158313 and parameters: {'learning_rate': 0.09141493923268955, 'depth': 6, 'l2_leaf_reg': 7.954690150447555, 'iterations': 205, 'border_count': 229}. Best is trial 22 with value: 0.9043257329640373.\n",
      "[I 2024-02-03 20:49:24,315] Trial 47 finished with value: 0.9002791768726712 and parameters: {'learning_rate': 0.096921143618041, 'depth': 6, 'l2_leaf_reg': 7.8725802820349, 'iterations': 195, 'border_count': 233}. Best is trial 22 with value: 0.9043257329640373.\n",
      "[I 2024-02-03 20:49:24,561] Trial 45 finished with value: 0.9004718899130093 and parameters: {'learning_rate': 0.1066083996082357, 'depth': 6, 'l2_leaf_reg': 7.8729371754593895, 'iterations': 202, 'border_count': 220}. Best is trial 22 with value: 0.9043257329640373.\n",
      "[I 2024-02-03 20:49:27,059] Trial 46 finished with value: 0.8778781049114613 and parameters: {'learning_rate': 0.024386845661370893, 'depth': 6, 'l2_leaf_reg': 7.865435915727506, 'iterations': 200, 'border_count': 225}. Best is trial 22 with value: 0.9043257329640373.\n",
      "[I 2024-02-03 20:50:07,613] Trial 49 finished with value: 0.88799464019395 and parameters: {'learning_rate': 0.02004042439573836, 'depth': 7, 'l2_leaf_reg': 4.082049474082077, 'iterations': 297, 'border_count': 233}. Best is trial 22 with value: 0.9043257329640373.\n"
     ]
    }
   ],
   "source": [
    "cat_study = optuna.create_study(direction = 'maximize')\n",
    "cat_study.optimize(cat_objective,50, n_jobs=-1)"
   ]
  },
  {
   "cell_type": "code",
   "execution_count": 24,
   "metadata": {},
   "outputs": [
    {
     "data": {
      "application/vnd.plotly.v1+json": {
       "config": {
        "plotlyServerURL": "https://plot.ly"
       },
       "data": [
        {
         "cliponaxis": false,
         "hovertemplate": [
          "depth (IntDistribution): 0.004078297024259531<extra></extra>",
          "l2_leaf_reg (FloatDistribution): 0.004332669558241562<extra></extra>",
          "border_count (IntDistribution): 0.01702437083235032<extra></extra>",
          "iterations (IntDistribution): 0.04437710856107692<extra></extra>",
          "learning_rate (FloatDistribution): 0.9301875540240717<extra></extra>"
         ],
         "name": "Objective Value",
         "orientation": "h",
         "text": [
          "<0.01",
          "<0.01",
          "0.02",
          "0.04",
          "0.93"
         ],
         "textposition": "outside",
         "type": "bar",
         "x": [
          0.004078297024259531,
          0.004332669558241562,
          0.01702437083235032,
          0.04437710856107692,
          0.9301875540240717
         ],
         "y": [
          "depth",
          "l2_leaf_reg",
          "border_count",
          "iterations",
          "learning_rate"
         ]
        }
       ],
       "layout": {
        "template": {
         "data": {
          "bar": [
           {
            "error_x": {
             "color": "#2a3f5f"
            },
            "error_y": {
             "color": "#2a3f5f"
            },
            "marker": {
             "line": {
              "color": "#E5ECF6",
              "width": 0.5
             },
             "pattern": {
              "fillmode": "overlay",
              "size": 10,
              "solidity": 0.2
             }
            },
            "type": "bar"
           }
          ],
          "barpolar": [
           {
            "marker": {
             "line": {
              "color": "#E5ECF6",
              "width": 0.5
             },
             "pattern": {
              "fillmode": "overlay",
              "size": 10,
              "solidity": 0.2
             }
            },
            "type": "barpolar"
           }
          ],
          "carpet": [
           {
            "aaxis": {
             "endlinecolor": "#2a3f5f",
             "gridcolor": "white",
             "linecolor": "white",
             "minorgridcolor": "white",
             "startlinecolor": "#2a3f5f"
            },
            "baxis": {
             "endlinecolor": "#2a3f5f",
             "gridcolor": "white",
             "linecolor": "white",
             "minorgridcolor": "white",
             "startlinecolor": "#2a3f5f"
            },
            "type": "carpet"
           }
          ],
          "choropleth": [
           {
            "colorbar": {
             "outlinewidth": 0,
             "ticks": ""
            },
            "type": "choropleth"
           }
          ],
          "contour": [
           {
            "colorbar": {
             "outlinewidth": 0,
             "ticks": ""
            },
            "colorscale": [
             [
              0,
              "#0d0887"
             ],
             [
              0.1111111111111111,
              "#46039f"
             ],
             [
              0.2222222222222222,
              "#7201a8"
             ],
             [
              0.3333333333333333,
              "#9c179e"
             ],
             [
              0.4444444444444444,
              "#bd3786"
             ],
             [
              0.5555555555555556,
              "#d8576b"
             ],
             [
              0.6666666666666666,
              "#ed7953"
             ],
             [
              0.7777777777777778,
              "#fb9f3a"
             ],
             [
              0.8888888888888888,
              "#fdca26"
             ],
             [
              1,
              "#f0f921"
             ]
            ],
            "type": "contour"
           }
          ],
          "contourcarpet": [
           {
            "colorbar": {
             "outlinewidth": 0,
             "ticks": ""
            },
            "type": "contourcarpet"
           }
          ],
          "heatmap": [
           {
            "colorbar": {
             "outlinewidth": 0,
             "ticks": ""
            },
            "colorscale": [
             [
              0,
              "#0d0887"
             ],
             [
              0.1111111111111111,
              "#46039f"
             ],
             [
              0.2222222222222222,
              "#7201a8"
             ],
             [
              0.3333333333333333,
              "#9c179e"
             ],
             [
              0.4444444444444444,
              "#bd3786"
             ],
             [
              0.5555555555555556,
              "#d8576b"
             ],
             [
              0.6666666666666666,
              "#ed7953"
             ],
             [
              0.7777777777777778,
              "#fb9f3a"
             ],
             [
              0.8888888888888888,
              "#fdca26"
             ],
             [
              1,
              "#f0f921"
             ]
            ],
            "type": "heatmap"
           }
          ],
          "heatmapgl": [
           {
            "colorbar": {
             "outlinewidth": 0,
             "ticks": ""
            },
            "colorscale": [
             [
              0,
              "#0d0887"
             ],
             [
              0.1111111111111111,
              "#46039f"
             ],
             [
              0.2222222222222222,
              "#7201a8"
             ],
             [
              0.3333333333333333,
              "#9c179e"
             ],
             [
              0.4444444444444444,
              "#bd3786"
             ],
             [
              0.5555555555555556,
              "#d8576b"
             ],
             [
              0.6666666666666666,
              "#ed7953"
             ],
             [
              0.7777777777777778,
              "#fb9f3a"
             ],
             [
              0.8888888888888888,
              "#fdca26"
             ],
             [
              1,
              "#f0f921"
             ]
            ],
            "type": "heatmapgl"
           }
          ],
          "histogram": [
           {
            "marker": {
             "pattern": {
              "fillmode": "overlay",
              "size": 10,
              "solidity": 0.2
             }
            },
            "type": "histogram"
           }
          ],
          "histogram2d": [
           {
            "colorbar": {
             "outlinewidth": 0,
             "ticks": ""
            },
            "colorscale": [
             [
              0,
              "#0d0887"
             ],
             [
              0.1111111111111111,
              "#46039f"
             ],
             [
              0.2222222222222222,
              "#7201a8"
             ],
             [
              0.3333333333333333,
              "#9c179e"
             ],
             [
              0.4444444444444444,
              "#bd3786"
             ],
             [
              0.5555555555555556,
              "#d8576b"
             ],
             [
              0.6666666666666666,
              "#ed7953"
             ],
             [
              0.7777777777777778,
              "#fb9f3a"
             ],
             [
              0.8888888888888888,
              "#fdca26"
             ],
             [
              1,
              "#f0f921"
             ]
            ],
            "type": "histogram2d"
           }
          ],
          "histogram2dcontour": [
           {
            "colorbar": {
             "outlinewidth": 0,
             "ticks": ""
            },
            "colorscale": [
             [
              0,
              "#0d0887"
             ],
             [
              0.1111111111111111,
              "#46039f"
             ],
             [
              0.2222222222222222,
              "#7201a8"
             ],
             [
              0.3333333333333333,
              "#9c179e"
             ],
             [
              0.4444444444444444,
              "#bd3786"
             ],
             [
              0.5555555555555556,
              "#d8576b"
             ],
             [
              0.6666666666666666,
              "#ed7953"
             ],
             [
              0.7777777777777778,
              "#fb9f3a"
             ],
             [
              0.8888888888888888,
              "#fdca26"
             ],
             [
              1,
              "#f0f921"
             ]
            ],
            "type": "histogram2dcontour"
           }
          ],
          "mesh3d": [
           {
            "colorbar": {
             "outlinewidth": 0,
             "ticks": ""
            },
            "type": "mesh3d"
           }
          ],
          "parcoords": [
           {
            "line": {
             "colorbar": {
              "outlinewidth": 0,
              "ticks": ""
             }
            },
            "type": "parcoords"
           }
          ],
          "pie": [
           {
            "automargin": true,
            "type": "pie"
           }
          ],
          "scatter": [
           {
            "fillpattern": {
             "fillmode": "overlay",
             "size": 10,
             "solidity": 0.2
            },
            "type": "scatter"
           }
          ],
          "scatter3d": [
           {
            "line": {
             "colorbar": {
              "outlinewidth": 0,
              "ticks": ""
             }
            },
            "marker": {
             "colorbar": {
              "outlinewidth": 0,
              "ticks": ""
             }
            },
            "type": "scatter3d"
           }
          ],
          "scattercarpet": [
           {
            "marker": {
             "colorbar": {
              "outlinewidth": 0,
              "ticks": ""
             }
            },
            "type": "scattercarpet"
           }
          ],
          "scattergeo": [
           {
            "marker": {
             "colorbar": {
              "outlinewidth": 0,
              "ticks": ""
             }
            },
            "type": "scattergeo"
           }
          ],
          "scattergl": [
           {
            "marker": {
             "colorbar": {
              "outlinewidth": 0,
              "ticks": ""
             }
            },
            "type": "scattergl"
           }
          ],
          "scattermapbox": [
           {
            "marker": {
             "colorbar": {
              "outlinewidth": 0,
              "ticks": ""
             }
            },
            "type": "scattermapbox"
           }
          ],
          "scatterpolar": [
           {
            "marker": {
             "colorbar": {
              "outlinewidth": 0,
              "ticks": ""
             }
            },
            "type": "scatterpolar"
           }
          ],
          "scatterpolargl": [
           {
            "marker": {
             "colorbar": {
              "outlinewidth": 0,
              "ticks": ""
             }
            },
            "type": "scatterpolargl"
           }
          ],
          "scatterternary": [
           {
            "marker": {
             "colorbar": {
              "outlinewidth": 0,
              "ticks": ""
             }
            },
            "type": "scatterternary"
           }
          ],
          "surface": [
           {
            "colorbar": {
             "outlinewidth": 0,
             "ticks": ""
            },
            "colorscale": [
             [
              0,
              "#0d0887"
             ],
             [
              0.1111111111111111,
              "#46039f"
             ],
             [
              0.2222222222222222,
              "#7201a8"
             ],
             [
              0.3333333333333333,
              "#9c179e"
             ],
             [
              0.4444444444444444,
              "#bd3786"
             ],
             [
              0.5555555555555556,
              "#d8576b"
             ],
             [
              0.6666666666666666,
              "#ed7953"
             ],
             [
              0.7777777777777778,
              "#fb9f3a"
             ],
             [
              0.8888888888888888,
              "#fdca26"
             ],
             [
              1,
              "#f0f921"
             ]
            ],
            "type": "surface"
           }
          ],
          "table": [
           {
            "cells": {
             "fill": {
              "color": "#EBF0F8"
             },
             "line": {
              "color": "white"
             }
            },
            "header": {
             "fill": {
              "color": "#C8D4E3"
             },
             "line": {
              "color": "white"
             }
            },
            "type": "table"
           }
          ]
         },
         "layout": {
          "annotationdefaults": {
           "arrowcolor": "#2a3f5f",
           "arrowhead": 0,
           "arrowwidth": 1
          },
          "autotypenumbers": "strict",
          "coloraxis": {
           "colorbar": {
            "outlinewidth": 0,
            "ticks": ""
           }
          },
          "colorscale": {
           "diverging": [
            [
             0,
             "#8e0152"
            ],
            [
             0.1,
             "#c51b7d"
            ],
            [
             0.2,
             "#de77ae"
            ],
            [
             0.3,
             "#f1b6da"
            ],
            [
             0.4,
             "#fde0ef"
            ],
            [
             0.5,
             "#f7f7f7"
            ],
            [
             0.6,
             "#e6f5d0"
            ],
            [
             0.7,
             "#b8e186"
            ],
            [
             0.8,
             "#7fbc41"
            ],
            [
             0.9,
             "#4d9221"
            ],
            [
             1,
             "#276419"
            ]
           ],
           "sequential": [
            [
             0,
             "#0d0887"
            ],
            [
             0.1111111111111111,
             "#46039f"
            ],
            [
             0.2222222222222222,
             "#7201a8"
            ],
            [
             0.3333333333333333,
             "#9c179e"
            ],
            [
             0.4444444444444444,
             "#bd3786"
            ],
            [
             0.5555555555555556,
             "#d8576b"
            ],
            [
             0.6666666666666666,
             "#ed7953"
            ],
            [
             0.7777777777777778,
             "#fb9f3a"
            ],
            [
             0.8888888888888888,
             "#fdca26"
            ],
            [
             1,
             "#f0f921"
            ]
           ],
           "sequentialminus": [
            [
             0,
             "#0d0887"
            ],
            [
             0.1111111111111111,
             "#46039f"
            ],
            [
             0.2222222222222222,
             "#7201a8"
            ],
            [
             0.3333333333333333,
             "#9c179e"
            ],
            [
             0.4444444444444444,
             "#bd3786"
            ],
            [
             0.5555555555555556,
             "#d8576b"
            ],
            [
             0.6666666666666666,
             "#ed7953"
            ],
            [
             0.7777777777777778,
             "#fb9f3a"
            ],
            [
             0.8888888888888888,
             "#fdca26"
            ],
            [
             1,
             "#f0f921"
            ]
           ]
          },
          "colorway": [
           "#636efa",
           "#EF553B",
           "#00cc96",
           "#ab63fa",
           "#FFA15A",
           "#19d3f3",
           "#FF6692",
           "#B6E880",
           "#FF97FF",
           "#FECB52"
          ],
          "font": {
           "color": "#2a3f5f"
          },
          "geo": {
           "bgcolor": "white",
           "lakecolor": "white",
           "landcolor": "#E5ECF6",
           "showlakes": true,
           "showland": true,
           "subunitcolor": "white"
          },
          "hoverlabel": {
           "align": "left"
          },
          "hovermode": "closest",
          "mapbox": {
           "style": "light"
          },
          "paper_bgcolor": "white",
          "plot_bgcolor": "#E5ECF6",
          "polar": {
           "angularaxis": {
            "gridcolor": "white",
            "linecolor": "white",
            "ticks": ""
           },
           "bgcolor": "#E5ECF6",
           "radialaxis": {
            "gridcolor": "white",
            "linecolor": "white",
            "ticks": ""
           }
          },
          "scene": {
           "xaxis": {
            "backgroundcolor": "#E5ECF6",
            "gridcolor": "white",
            "gridwidth": 2,
            "linecolor": "white",
            "showbackground": true,
            "ticks": "",
            "zerolinecolor": "white"
           },
           "yaxis": {
            "backgroundcolor": "#E5ECF6",
            "gridcolor": "white",
            "gridwidth": 2,
            "linecolor": "white",
            "showbackground": true,
            "ticks": "",
            "zerolinecolor": "white"
           },
           "zaxis": {
            "backgroundcolor": "#E5ECF6",
            "gridcolor": "white",
            "gridwidth": 2,
            "linecolor": "white",
            "showbackground": true,
            "ticks": "",
            "zerolinecolor": "white"
           }
          },
          "shapedefaults": {
           "line": {
            "color": "#2a3f5f"
           }
          },
          "ternary": {
           "aaxis": {
            "gridcolor": "white",
            "linecolor": "white",
            "ticks": ""
           },
           "baxis": {
            "gridcolor": "white",
            "linecolor": "white",
            "ticks": ""
           },
           "bgcolor": "#E5ECF6",
           "caxis": {
            "gridcolor": "white",
            "linecolor": "white",
            "ticks": ""
           }
          },
          "title": {
           "x": 0.05
          },
          "xaxis": {
           "automargin": true,
           "gridcolor": "white",
           "linecolor": "white",
           "ticks": "",
           "title": {
            "standoff": 15
           },
           "zerolinecolor": "white",
           "zerolinewidth": 2
          },
          "yaxis": {
           "automargin": true,
           "gridcolor": "white",
           "linecolor": "white",
           "ticks": "",
           "title": {
            "standoff": 15
           },
           "zerolinecolor": "white",
           "zerolinewidth": 2
          }
         }
        },
        "title": {
         "text": "Hyperparameter Importances"
        },
        "xaxis": {
         "title": {
          "text": "Hyperparameter Importance"
         }
        },
        "yaxis": {
         "title": {
          "text": "Hyperparameter"
         }
        }
       }
      }
     },
     "metadata": {},
     "output_type": "display_data"
    }
   ],
   "source": [
    "optuna.visualization.plot_param_importances(cat_study)"
   ]
  },
  {
   "cell_type": "code",
   "execution_count": 25,
   "metadata": {},
   "outputs": [
    {
     "data": {
      "text/plain": [
       "({'learning_rate': 0.27024349994017527,\n",
       "  'depth': 6,\n",
       "  'l2_leaf_reg': 7.162070222037684,\n",
       "  'iterations': 243,\n",
       "  'border_count': 155},\n",
       " 0.9043257329640373)"
      ]
     },
     "execution_count": 25,
     "metadata": {},
     "output_type": "execute_result"
    }
   ],
   "source": [
    "cat_study.best_params, cat_study.best_value"
   ]
  },
  {
   "cell_type": "code",
   "execution_count": 26,
   "metadata": {},
   "outputs": [],
   "source": [
    "with open('cat.json', 'w') as json_file:\n",
    "    json.dump(cat_study.best_params, json_file, indent=4)"
   ]
  },
  {
   "cell_type": "code",
   "execution_count": 144,
   "metadata": {},
   "outputs": [
    {
     "name": "stdout",
     "output_type": "stream",
     "text": [
      "Mean score XGBoost : 0.90823 ± 0.00462\n"
     ]
    }
   ],
   "source": [
    "params = {\n",
    "    'eta': 0.2377243998901392,\n",
    "    'max_depth': 30,\n",
    "    'subsample': 0.6934145922176526,\n",
    "    'colsample_bytree': 0.7871183095074598,\n",
    "    'min_child_weight': 0.2631986020154868,\n",
    "    'reg_lambda': 5.443297437315757,\n",
    "    'reg_alpha': 0.047334295966659064,\n",
    "    'random_state' : SEED,\n",
    "    'tree_method' : 'hist'\n",
    "}\n",
    "\n",
    "xgb = make_pipeline(\n",
    "    FeaturesEncoding,\n",
    "    StandardScaler(),\n",
    "    XGBClassifier(**params)\n",
    ")\n",
    "xgb_scores = cross_val_score(xgb, X,y,scoring='accuracy',cv=SKF, n_jobs=-1)\n",
    "print(f'Mean score XGBoost : {np.mean(xgb_scores):.5f} ± {np.std(xgb_scores):.5f}')"
   ]
  },
  {
   "cell_type": "code",
   "execution_count": null,
   "metadata": {},
   "outputs": [],
   "source": [
    "params = {\n",
    "    'boosting_type': 'gbdt',\n",
    "    'learning_rate': ,\n",
    "    'num_leaves': ,\n",
    "    'max_depth': ,\n",
    "    'min_child_samples': ,\n",
    "    'subsample': ,\n",
    "    'colsample_bytree': ,\n",
    "    'reg_alpha': ,\n",
    "    'reg_lambda': ,\n",
    "    'n_estimators': ,\n",
    "    'random_state': SEED\n",
    "}\n",
    "lgbm = make_pipeline(\n",
    "        FeaturesEncoding,\n",
    "        StandardScaler(),\n",
    "        LGBMClassifier(**params)\n",
    ")\n",
    "cat_scores = cross_val_score(lgbm, X,y,scoring='accuracy',cv=SKF, n_jobs=-1)\n",
    "print(f'Mean score CatBoost : {np.mean(cat_scores):.5f} ± {np.mean(cat_scores):.5f}')"
   ]
  },
  {
   "cell_type": "code",
   "execution_count": null,
   "metadata": {},
   "outputs": [],
   "source": [
    "params = {\n",
    "    'learning_rate': ,\n",
    "    'depth': ,\n",
    "    'l2_leaf_reg': ,\n",
    "    'iterations': ,\n",
    "    'border_count': ,\n",
    "    'thread_count': 4,\n",
    "    'eval_metric': 'AUC',\n",
    "    'loss_function': 'MultiClass',\n",
    "    'random_seed': SEED,\n",
    "    'verbose': False,\n",
    "    'cat_features' : [0, 4, 5, 8, 9, 11, 14, 15]\n",
    "}\n",
    "cat = CatBoostClassifier(**params, cat_features=[0, 4, 5, 8, 9, 11, 14, 15], show_importance = False)\n",
    "cat_scores = cross_val_score(cat, X,y,scoring='accuracy',cv=SKF, n_jobs=-1)\n",
    "print(f'Mean score CatBoost : {np.mean(cat_scores):.5f} ± {np.mean(cat_scores):.5f}')"
   ]
  },
  {
   "cell_type": "code",
   "execution_count": null,
   "metadata": {},
   "outputs": [],
   "source": [
    "weights = RidgeClassifier(random_state = seed).fit(oof_list, train.Exited).coef_[0]\n",
    "weights /= weights.sum()\n",
    "pd.DataFrame(weights, index = list(oof_list), columns = ['weight per model'])"
   ]
  }
 ],
 "metadata": {
  "kernelspec": {
   "display_name": "playground",
   "language": "python",
   "name": "python3"
  },
  "language_info": {
   "codemirror_mode": {
    "name": "ipython",
    "version": 3
   },
   "file_extension": ".py",
   "mimetype": "text/x-python",
   "name": "python",
   "nbconvert_exporter": "python",
   "pygments_lexer": "ipython3",
   "version": "3.11.7"
  }
 },
 "nbformat": 4,
 "nbformat_minor": 2
}
