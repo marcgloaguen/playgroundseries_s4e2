{
 "cells": [
  {
   "cell_type": "markdown",
   "metadata": {},
   "source": [
    "# Infos"
   ]
  },
  {
   "cell_type": "markdown",
   "metadata": {},
   "source": [
    "**id** : A unique identifier for each individual in the dataset.\n",
    "\n",
    "**Gender** : The individual's gender, indicating whether they are male or female.\n",
    "\n",
    "**Age** : The age of the individual, representing their age in years.\n",
    "\n",
    "**Height** : The height of the individual, typically measured in meters.\n",
    "\n",
    "**Weight** : The weight of the individual, typically measured in kilograms.\n",
    "\n",
    "**family_history_with_overweight** : Indicates whether there is a family history of overweight for the individual (yes/no).\n",
    "\n",
    "**FAVC** : Stands for \"Frequency of consuming high caloric food,\" representing how often the individual consumes high-calorie foods (yes/no).\n",
    "\n",
    "**FCVC** : Stands for \"Frequency of consuming vegetables,\" representing how often the individual consumes vegetables.\n",
    "\n",
    "**NCP** : Stands for \"Number of main meals,\" indicating the number of main meals the individual consumes daily.\n",
    "\n",
    "**CAEC** : Stands for \"Consumption of food between meals,\" representing the frequency of consuming food between meals.\n",
    "\n",
    "**SMOKE** : Indicates whether the individual smokes or not (yes/no).\n",
    "\n",
    "**CH2O** : Represents the amount of water consumption for the individual.\n",
    "\n",
    "**SCC** : Stands for \"Calories consumption monitoring,\" indicating whether the individual monitors their calorie consumption (yes/no).\n",
    "\n",
    "**FAF** : Stands for \"Physical activity frequency,\" representing the frequency of the individual's physical activities.\n",
    "\n",
    "**TUE** : Stands for \"Time using technology devices,\" indicating the amount of time the individual spends using technology devices.\n",
    "\n",
    "**CALC** : Stands for \"Consumption of alcohol,\" representing the frequency of alcohol consumption.\n",
    "\n",
    "**MTRANS** : Stands for \"Mode of transportation,\" indicating the mode of transportation the individual uses.\n",
    "\n",
    "**NObeyesdad** : The target variable, representing the obesity risk category of the individual. It has multiple classes such as 'Overweight_Level_II', 'Normal_Weight', 'Insufficient_Weight', 'Obesity_Type_III', 'Obesity_Type_II', 'Overweight_Level_I', and 'Obesity_Type_I'."
   ]
  },
  {
   "cell_type": "markdown",
   "metadata": {},
   "source": [
    "# Import"
   ]
  },
  {
   "cell_type": "code",
   "execution_count": 1,
   "metadata": {},
   "outputs": [],
   "source": [
    "from datetime import datetime as dt\n",
    "import pandas as pd\n",
    "import numpy as np\n",
    "import json\n",
    "\n",
    "from sklearn.model_selection import StratifiedKFold\n",
    "\n",
    "from sklearn.preprocessing import StandardScaler, FunctionTransformer, LabelEncoder\n",
    "from sklearn.model_selection import cross_val_score\n",
    "\n",
    "from sklearn.pipeline import make_pipeline\n",
    "from sklearn.compose import ColumnTransformer\n",
    "\n",
    "import optuna\n",
    "from xgboost import XGBClassifier\n",
    "from lightgbm import LGBMClassifier\n",
    "from catboost import CatBoostClassifier\n",
    "from sklearn.ensemble import RandomForestClassifier\n",
    "\n",
    "import warnings\n",
    "warnings.filterwarnings('ignore')\n"
   ]
  },
  {
   "cell_type": "code",
   "execution_count": 2,
   "metadata": {},
   "outputs": [],
   "source": [
    "train = pd.read_csv('data/train.csv', index_col = 'id')"
   ]
  },
  {
   "cell_type": "markdown",
   "metadata": {},
   "source": [
    "# Exploration"
   ]
  },
  {
   "cell_type": "code",
   "execution_count": 3,
   "metadata": {},
   "outputs": [
    {
     "data": {
      "text/html": [
       "<div>\n",
       "<style scoped>\n",
       "    .dataframe tbody tr th:only-of-type {\n",
       "        vertical-align: middle;\n",
       "    }\n",
       "\n",
       "    .dataframe tbody tr th {\n",
       "        vertical-align: top;\n",
       "    }\n",
       "\n",
       "    .dataframe thead th {\n",
       "        text-align: right;\n",
       "    }\n",
       "</style>\n",
       "<table border=\"1\" class=\"dataframe\">\n",
       "  <thead>\n",
       "    <tr style=\"text-align: right;\">\n",
       "      <th></th>\n",
       "      <th>Gender</th>\n",
       "      <th>Age</th>\n",
       "      <th>Height</th>\n",
       "      <th>Weight</th>\n",
       "      <th>family_history_with_overweight</th>\n",
       "      <th>FAVC</th>\n",
       "      <th>FCVC</th>\n",
       "      <th>NCP</th>\n",
       "      <th>CAEC</th>\n",
       "      <th>SMOKE</th>\n",
       "      <th>CH2O</th>\n",
       "      <th>SCC</th>\n",
       "      <th>FAF</th>\n",
       "      <th>TUE</th>\n",
       "      <th>CALC</th>\n",
       "      <th>MTRANS</th>\n",
       "      <th>NObeyesdad</th>\n",
       "    </tr>\n",
       "    <tr>\n",
       "      <th>id</th>\n",
       "      <th></th>\n",
       "      <th></th>\n",
       "      <th></th>\n",
       "      <th></th>\n",
       "      <th></th>\n",
       "      <th></th>\n",
       "      <th></th>\n",
       "      <th></th>\n",
       "      <th></th>\n",
       "      <th></th>\n",
       "      <th></th>\n",
       "      <th></th>\n",
       "      <th></th>\n",
       "      <th></th>\n",
       "      <th></th>\n",
       "      <th></th>\n",
       "      <th></th>\n",
       "    </tr>\n",
       "  </thead>\n",
       "  <tbody>\n",
       "    <tr>\n",
       "      <th>0</th>\n",
       "      <td>Male</td>\n",
       "      <td>24.443011</td>\n",
       "      <td>1.699998</td>\n",
       "      <td>81.669950</td>\n",
       "      <td>yes</td>\n",
       "      <td>yes</td>\n",
       "      <td>2.000000</td>\n",
       "      <td>2.983297</td>\n",
       "      <td>Sometimes</td>\n",
       "      <td>no</td>\n",
       "      <td>2.763573</td>\n",
       "      <td>no</td>\n",
       "      <td>0.000000</td>\n",
       "      <td>0.976473</td>\n",
       "      <td>Sometimes</td>\n",
       "      <td>Public_Transportation</td>\n",
       "      <td>Overweight_Level_II</td>\n",
       "    </tr>\n",
       "    <tr>\n",
       "      <th>1</th>\n",
       "      <td>Female</td>\n",
       "      <td>18.000000</td>\n",
       "      <td>1.560000</td>\n",
       "      <td>57.000000</td>\n",
       "      <td>yes</td>\n",
       "      <td>yes</td>\n",
       "      <td>2.000000</td>\n",
       "      <td>3.000000</td>\n",
       "      <td>Frequently</td>\n",
       "      <td>no</td>\n",
       "      <td>2.000000</td>\n",
       "      <td>no</td>\n",
       "      <td>1.000000</td>\n",
       "      <td>1.000000</td>\n",
       "      <td>no</td>\n",
       "      <td>Automobile</td>\n",
       "      <td>Normal_Weight</td>\n",
       "    </tr>\n",
       "    <tr>\n",
       "      <th>2</th>\n",
       "      <td>Female</td>\n",
       "      <td>18.000000</td>\n",
       "      <td>1.711460</td>\n",
       "      <td>50.165754</td>\n",
       "      <td>yes</td>\n",
       "      <td>yes</td>\n",
       "      <td>1.880534</td>\n",
       "      <td>1.411685</td>\n",
       "      <td>Sometimes</td>\n",
       "      <td>no</td>\n",
       "      <td>1.910378</td>\n",
       "      <td>no</td>\n",
       "      <td>0.866045</td>\n",
       "      <td>1.673584</td>\n",
       "      <td>no</td>\n",
       "      <td>Public_Transportation</td>\n",
       "      <td>Insufficient_Weight</td>\n",
       "    </tr>\n",
       "    <tr>\n",
       "      <th>3</th>\n",
       "      <td>Female</td>\n",
       "      <td>20.952737</td>\n",
       "      <td>1.710730</td>\n",
       "      <td>131.274851</td>\n",
       "      <td>yes</td>\n",
       "      <td>yes</td>\n",
       "      <td>3.000000</td>\n",
       "      <td>3.000000</td>\n",
       "      <td>Sometimes</td>\n",
       "      <td>no</td>\n",
       "      <td>1.674061</td>\n",
       "      <td>no</td>\n",
       "      <td>1.467863</td>\n",
       "      <td>0.780199</td>\n",
       "      <td>Sometimes</td>\n",
       "      <td>Public_Transportation</td>\n",
       "      <td>Obesity_Type_III</td>\n",
       "    </tr>\n",
       "    <tr>\n",
       "      <th>4</th>\n",
       "      <td>Male</td>\n",
       "      <td>31.641081</td>\n",
       "      <td>1.914186</td>\n",
       "      <td>93.798055</td>\n",
       "      <td>yes</td>\n",
       "      <td>yes</td>\n",
       "      <td>2.679664</td>\n",
       "      <td>1.971472</td>\n",
       "      <td>Sometimes</td>\n",
       "      <td>no</td>\n",
       "      <td>1.979848</td>\n",
       "      <td>no</td>\n",
       "      <td>1.967973</td>\n",
       "      <td>0.931721</td>\n",
       "      <td>Sometimes</td>\n",
       "      <td>Public_Transportation</td>\n",
       "      <td>Overweight_Level_II</td>\n",
       "    </tr>\n",
       "  </tbody>\n",
       "</table>\n",
       "</div>"
      ],
      "text/plain": [
       "    Gender        Age    Height      Weight family_history_with_overweight  \\\n",
       "id                                                                           \n",
       "0     Male  24.443011  1.699998   81.669950                            yes   \n",
       "1   Female  18.000000  1.560000   57.000000                            yes   \n",
       "2   Female  18.000000  1.711460   50.165754                            yes   \n",
       "3   Female  20.952737  1.710730  131.274851                            yes   \n",
       "4     Male  31.641081  1.914186   93.798055                            yes   \n",
       "\n",
       "   FAVC      FCVC       NCP        CAEC SMOKE      CH2O SCC       FAF  \\\n",
       "id                                                                      \n",
       "0   yes  2.000000  2.983297   Sometimes    no  2.763573  no  0.000000   \n",
       "1   yes  2.000000  3.000000  Frequently    no  2.000000  no  1.000000   \n",
       "2   yes  1.880534  1.411685   Sometimes    no  1.910378  no  0.866045   \n",
       "3   yes  3.000000  3.000000   Sometimes    no  1.674061  no  1.467863   \n",
       "4   yes  2.679664  1.971472   Sometimes    no  1.979848  no  1.967973   \n",
       "\n",
       "         TUE       CALC                 MTRANS           NObeyesdad  \n",
       "id                                                                   \n",
       "0   0.976473  Sometimes  Public_Transportation  Overweight_Level_II  \n",
       "1   1.000000         no             Automobile        Normal_Weight  \n",
       "2   1.673584         no  Public_Transportation  Insufficient_Weight  \n",
       "3   0.780199  Sometimes  Public_Transportation     Obesity_Type_III  \n",
       "4   0.931721  Sometimes  Public_Transportation  Overweight_Level_II  "
      ]
     },
     "execution_count": 3,
     "metadata": {},
     "output_type": "execute_result"
    }
   ],
   "source": [
    "train.head()"
   ]
  },
  {
   "cell_type": "code",
   "execution_count": 4,
   "metadata": {},
   "outputs": [
    {
     "name": "stdout",
     "output_type": "stream",
     "text": [
      "<class 'pandas.core.frame.DataFrame'>\n",
      "Index: 20758 entries, 0 to 20757\n",
      "Data columns (total 17 columns):\n",
      " #   Column                          Non-Null Count  Dtype  \n",
      "---  ------                          --------------  -----  \n",
      " 0   Gender                          20758 non-null  object \n",
      " 1   Age                             20758 non-null  float64\n",
      " 2   Height                          20758 non-null  float64\n",
      " 3   Weight                          20758 non-null  float64\n",
      " 4   family_history_with_overweight  20758 non-null  object \n",
      " 5   FAVC                            20758 non-null  object \n",
      " 6   FCVC                            20758 non-null  float64\n",
      " 7   NCP                             20758 non-null  float64\n",
      " 8   CAEC                            20758 non-null  object \n",
      " 9   SMOKE                           20758 non-null  object \n",
      " 10  CH2O                            20758 non-null  float64\n",
      " 11  SCC                             20758 non-null  object \n",
      " 12  FAF                             20758 non-null  float64\n",
      " 13  TUE                             20758 non-null  float64\n",
      " 14  CALC                            20758 non-null  object \n",
      " 15  MTRANS                          20758 non-null  object \n",
      " 16  NObeyesdad                      20758 non-null  object \n",
      "dtypes: float64(8), object(9)\n",
      "memory usage: 2.9+ MB\n"
     ]
    }
   ],
   "source": [
    "train.info()"
   ]
  },
  {
   "cell_type": "code",
   "execution_count": 5,
   "metadata": {},
   "outputs": [
    {
     "data": {
      "text/html": [
       "<div>\n",
       "<style scoped>\n",
       "    .dataframe tbody tr th:only-of-type {\n",
       "        vertical-align: middle;\n",
       "    }\n",
       "\n",
       "    .dataframe tbody tr th {\n",
       "        vertical-align: top;\n",
       "    }\n",
       "\n",
       "    .dataframe thead th {\n",
       "        text-align: right;\n",
       "    }\n",
       "</style>\n",
       "<table border=\"1\" class=\"dataframe\">\n",
       "  <thead>\n",
       "    <tr style=\"text-align: right;\">\n",
       "      <th></th>\n",
       "      <th>type</th>\n",
       "      <th>count</th>\n",
       "      <th>nunique</th>\n",
       "      <th>%unique</th>\n",
       "      <th>null</th>\n",
       "      <th>%null</th>\n",
       "      <th>min</th>\n",
       "      <th>max</th>\n",
       "    </tr>\n",
       "  </thead>\n",
       "  <tbody>\n",
       "    <tr>\n",
       "      <th>Gender</th>\n",
       "      <td>object</td>\n",
       "      <td>20758</td>\n",
       "      <td>2</td>\n",
       "      <td>0.009635</td>\n",
       "      <td>0</td>\n",
       "      <td>0.0</td>\n",
       "      <td>Female</td>\n",
       "      <td>Male</td>\n",
       "    </tr>\n",
       "    <tr>\n",
       "      <th>Age</th>\n",
       "      <td>float64</td>\n",
       "      <td>20758</td>\n",
       "      <td>1703</td>\n",
       "      <td>8.204066</td>\n",
       "      <td>0</td>\n",
       "      <td>0.0</td>\n",
       "      <td>14.0</td>\n",
       "      <td>61.0</td>\n",
       "    </tr>\n",
       "    <tr>\n",
       "      <th>Height</th>\n",
       "      <td>float64</td>\n",
       "      <td>20758</td>\n",
       "      <td>1833</td>\n",
       "      <td>8.830330</td>\n",
       "      <td>0</td>\n",
       "      <td>0.0</td>\n",
       "      <td>1.45</td>\n",
       "      <td>1.975663</td>\n",
       "    </tr>\n",
       "    <tr>\n",
       "      <th>Weight</th>\n",
       "      <td>float64</td>\n",
       "      <td>20758</td>\n",
       "      <td>1979</td>\n",
       "      <td>9.533674</td>\n",
       "      <td>0</td>\n",
       "      <td>0.0</td>\n",
       "      <td>39.0</td>\n",
       "      <td>165.057269</td>\n",
       "    </tr>\n",
       "    <tr>\n",
       "      <th>family_history_with_overweight</th>\n",
       "      <td>object</td>\n",
       "      <td>20758</td>\n",
       "      <td>2</td>\n",
       "      <td>0.009635</td>\n",
       "      <td>0</td>\n",
       "      <td>0.0</td>\n",
       "      <td>no</td>\n",
       "      <td>yes</td>\n",
       "    </tr>\n",
       "    <tr>\n",
       "      <th>FAVC</th>\n",
       "      <td>object</td>\n",
       "      <td>20758</td>\n",
       "      <td>2</td>\n",
       "      <td>0.009635</td>\n",
       "      <td>0</td>\n",
       "      <td>0.0</td>\n",
       "      <td>no</td>\n",
       "      <td>yes</td>\n",
       "    </tr>\n",
       "    <tr>\n",
       "      <th>FCVC</th>\n",
       "      <td>float64</td>\n",
       "      <td>20758</td>\n",
       "      <td>934</td>\n",
       "      <td>4.499470</td>\n",
       "      <td>0</td>\n",
       "      <td>0.0</td>\n",
       "      <td>1.0</td>\n",
       "      <td>3.0</td>\n",
       "    </tr>\n",
       "    <tr>\n",
       "      <th>NCP</th>\n",
       "      <td>float64</td>\n",
       "      <td>20758</td>\n",
       "      <td>689</td>\n",
       "      <td>3.319202</td>\n",
       "      <td>0</td>\n",
       "      <td>0.0</td>\n",
       "      <td>1.0</td>\n",
       "      <td>4.0</td>\n",
       "    </tr>\n",
       "    <tr>\n",
       "      <th>CAEC</th>\n",
       "      <td>object</td>\n",
       "      <td>20758</td>\n",
       "      <td>4</td>\n",
       "      <td>0.019270</td>\n",
       "      <td>0</td>\n",
       "      <td>0.0</td>\n",
       "      <td>Always</td>\n",
       "      <td>no</td>\n",
       "    </tr>\n",
       "    <tr>\n",
       "      <th>SMOKE</th>\n",
       "      <td>object</td>\n",
       "      <td>20758</td>\n",
       "      <td>2</td>\n",
       "      <td>0.009635</td>\n",
       "      <td>0</td>\n",
       "      <td>0.0</td>\n",
       "      <td>no</td>\n",
       "      <td>yes</td>\n",
       "    </tr>\n",
       "    <tr>\n",
       "      <th>CH2O</th>\n",
       "      <td>float64</td>\n",
       "      <td>20758</td>\n",
       "      <td>1506</td>\n",
       "      <td>7.255034</td>\n",
       "      <td>0</td>\n",
       "      <td>0.0</td>\n",
       "      <td>1.0</td>\n",
       "      <td>3.0</td>\n",
       "    </tr>\n",
       "    <tr>\n",
       "      <th>SCC</th>\n",
       "      <td>object</td>\n",
       "      <td>20758</td>\n",
       "      <td>2</td>\n",
       "      <td>0.009635</td>\n",
       "      <td>0</td>\n",
       "      <td>0.0</td>\n",
       "      <td>no</td>\n",
       "      <td>yes</td>\n",
       "    </tr>\n",
       "    <tr>\n",
       "      <th>FAF</th>\n",
       "      <td>float64</td>\n",
       "      <td>20758</td>\n",
       "      <td>1360</td>\n",
       "      <td>6.551691</td>\n",
       "      <td>0</td>\n",
       "      <td>0.0</td>\n",
       "      <td>0.0</td>\n",
       "      <td>3.0</td>\n",
       "    </tr>\n",
       "    <tr>\n",
       "      <th>TUE</th>\n",
       "      <td>float64</td>\n",
       "      <td>20758</td>\n",
       "      <td>1297</td>\n",
       "      <td>6.248193</td>\n",
       "      <td>0</td>\n",
       "      <td>0.0</td>\n",
       "      <td>0.0</td>\n",
       "      <td>2.0</td>\n",
       "    </tr>\n",
       "    <tr>\n",
       "      <th>CALC</th>\n",
       "      <td>object</td>\n",
       "      <td>20758</td>\n",
       "      <td>3</td>\n",
       "      <td>0.014452</td>\n",
       "      <td>0</td>\n",
       "      <td>0.0</td>\n",
       "      <td>Frequently</td>\n",
       "      <td>no</td>\n",
       "    </tr>\n",
       "    <tr>\n",
       "      <th>MTRANS</th>\n",
       "      <td>object</td>\n",
       "      <td>20758</td>\n",
       "      <td>5</td>\n",
       "      <td>0.024087</td>\n",
       "      <td>0</td>\n",
       "      <td>0.0</td>\n",
       "      <td>Automobile</td>\n",
       "      <td>Walking</td>\n",
       "    </tr>\n",
       "    <tr>\n",
       "      <th>NObeyesdad</th>\n",
       "      <td>object</td>\n",
       "      <td>20758</td>\n",
       "      <td>7</td>\n",
       "      <td>0.033722</td>\n",
       "      <td>0</td>\n",
       "      <td>0.0</td>\n",
       "      <td>Insufficient_Weight</td>\n",
       "      <td>Overweight_Level_II</td>\n",
       "    </tr>\n",
       "  </tbody>\n",
       "</table>\n",
       "</div>"
      ],
      "text/plain": [
       "                                   type  count  nunique   %unique  null  \\\n",
       "Gender                           object  20758        2  0.009635     0   \n",
       "Age                             float64  20758     1703  8.204066     0   \n",
       "Height                          float64  20758     1833  8.830330     0   \n",
       "Weight                          float64  20758     1979  9.533674     0   \n",
       "family_history_with_overweight   object  20758        2  0.009635     0   \n",
       "FAVC                             object  20758        2  0.009635     0   \n",
       "FCVC                            float64  20758      934  4.499470     0   \n",
       "NCP                             float64  20758      689  3.319202     0   \n",
       "CAEC                             object  20758        4  0.019270     0   \n",
       "SMOKE                            object  20758        2  0.009635     0   \n",
       "CH2O                            float64  20758     1506  7.255034     0   \n",
       "SCC                              object  20758        2  0.009635     0   \n",
       "FAF                             float64  20758     1360  6.551691     0   \n",
       "TUE                             float64  20758     1297  6.248193     0   \n",
       "CALC                             object  20758        3  0.014452     0   \n",
       "MTRANS                           object  20758        5  0.024087     0   \n",
       "NObeyesdad                       object  20758        7  0.033722     0   \n",
       "\n",
       "                                %null                  min  \\\n",
       "Gender                            0.0               Female   \n",
       "Age                               0.0                 14.0   \n",
       "Height                            0.0                 1.45   \n",
       "Weight                            0.0                 39.0   \n",
       "family_history_with_overweight    0.0                   no   \n",
       "FAVC                              0.0                   no   \n",
       "FCVC                              0.0                  1.0   \n",
       "NCP                               0.0                  1.0   \n",
       "CAEC                              0.0               Always   \n",
       "SMOKE                             0.0                   no   \n",
       "CH2O                              0.0                  1.0   \n",
       "SCC                               0.0                   no   \n",
       "FAF                               0.0                  0.0   \n",
       "TUE                               0.0                  0.0   \n",
       "CALC                              0.0           Frequently   \n",
       "MTRANS                            0.0           Automobile   \n",
       "NObeyesdad                        0.0  Insufficient_Weight   \n",
       "\n",
       "                                                max  \n",
       "Gender                                         Male  \n",
       "Age                                            61.0  \n",
       "Height                                     1.975663  \n",
       "Weight                                   165.057269  \n",
       "family_history_with_overweight                  yes  \n",
       "FAVC                                            yes  \n",
       "FCVC                                            3.0  \n",
       "NCP                                             4.0  \n",
       "CAEC                                             no  \n",
       "SMOKE                                           yes  \n",
       "CH2O                                            3.0  \n",
       "SCC                                             yes  \n",
       "FAF                                             3.0  \n",
       "TUE                                             2.0  \n",
       "CALC                                             no  \n",
       "MTRANS                                      Walking  \n",
       "NObeyesdad                      Overweight_Level_II  "
      ]
     },
     "execution_count": 5,
     "metadata": {},
     "output_type": "execute_result"
    }
   ],
   "source": [
    "def report(data) : \n",
    "    report = pd.DataFrame(index = data.columns)\n",
    "    report['type'] = data.dtypes\n",
    "    report['count'] = data.count()\n",
    "    report['nunique'] = data.nunique()\n",
    "    report['%unique'] = report['nunique'] / len(data) * 100\n",
    "    report['null'] = data.isnull().sum()\n",
    "    report['%null'] = report['null'] / len(data) * 100\n",
    "    report['min'] = data.min()\n",
    "    report['max'] = data.max()\n",
    "    return report\n",
    "report(train)"
   ]
  },
  {
   "cell_type": "code",
   "execution_count": 6,
   "metadata": {},
   "outputs": [
    {
     "data": {
      "text/html": [
       "<div>\n",
       "<style scoped>\n",
       "    .dataframe tbody tr th:only-of-type {\n",
       "        vertical-align: middle;\n",
       "    }\n",
       "\n",
       "    .dataframe tbody tr th {\n",
       "        vertical-align: top;\n",
       "    }\n",
       "\n",
       "    .dataframe thead th {\n",
       "        text-align: right;\n",
       "    }\n",
       "</style>\n",
       "<table border=\"1\" class=\"dataframe\">\n",
       "  <thead>\n",
       "    <tr style=\"text-align: right;\">\n",
       "      <th></th>\n",
       "      <th>count</th>\n",
       "      <th>mean</th>\n",
       "      <th>std</th>\n",
       "      <th>min</th>\n",
       "      <th>25%</th>\n",
       "      <th>50%</th>\n",
       "      <th>75%</th>\n",
       "      <th>max</th>\n",
       "    </tr>\n",
       "  </thead>\n",
       "  <tbody>\n",
       "    <tr>\n",
       "      <th>Age</th>\n",
       "      <td>20758.0</td>\n",
       "      <td>23.841804</td>\n",
       "      <td>5.688072</td>\n",
       "      <td>14.00</td>\n",
       "      <td>20.000000</td>\n",
       "      <td>22.815416</td>\n",
       "      <td>26.000000</td>\n",
       "      <td>61.000000</td>\n",
       "    </tr>\n",
       "    <tr>\n",
       "      <th>Height</th>\n",
       "      <td>20758.0</td>\n",
       "      <td>1.700245</td>\n",
       "      <td>0.087312</td>\n",
       "      <td>1.45</td>\n",
       "      <td>1.631856</td>\n",
       "      <td>1.700000</td>\n",
       "      <td>1.762887</td>\n",
       "      <td>1.975663</td>\n",
       "    </tr>\n",
       "    <tr>\n",
       "      <th>Weight</th>\n",
       "      <td>20758.0</td>\n",
       "      <td>87.887768</td>\n",
       "      <td>26.379443</td>\n",
       "      <td>39.00</td>\n",
       "      <td>66.000000</td>\n",
       "      <td>84.064875</td>\n",
       "      <td>111.600553</td>\n",
       "      <td>165.057269</td>\n",
       "    </tr>\n",
       "    <tr>\n",
       "      <th>FCVC</th>\n",
       "      <td>20758.0</td>\n",
       "      <td>2.445908</td>\n",
       "      <td>0.533218</td>\n",
       "      <td>1.00</td>\n",
       "      <td>2.000000</td>\n",
       "      <td>2.393837</td>\n",
       "      <td>3.000000</td>\n",
       "      <td>3.000000</td>\n",
       "    </tr>\n",
       "    <tr>\n",
       "      <th>NCP</th>\n",
       "      <td>20758.0</td>\n",
       "      <td>2.761332</td>\n",
       "      <td>0.705375</td>\n",
       "      <td>1.00</td>\n",
       "      <td>3.000000</td>\n",
       "      <td>3.000000</td>\n",
       "      <td>3.000000</td>\n",
       "      <td>4.000000</td>\n",
       "    </tr>\n",
       "    <tr>\n",
       "      <th>CH2O</th>\n",
       "      <td>20758.0</td>\n",
       "      <td>2.029418</td>\n",
       "      <td>0.608467</td>\n",
       "      <td>1.00</td>\n",
       "      <td>1.792022</td>\n",
       "      <td>2.000000</td>\n",
       "      <td>2.549617</td>\n",
       "      <td>3.000000</td>\n",
       "    </tr>\n",
       "    <tr>\n",
       "      <th>FAF</th>\n",
       "      <td>20758.0</td>\n",
       "      <td>0.981747</td>\n",
       "      <td>0.838302</td>\n",
       "      <td>0.00</td>\n",
       "      <td>0.008013</td>\n",
       "      <td>1.000000</td>\n",
       "      <td>1.587406</td>\n",
       "      <td>3.000000</td>\n",
       "    </tr>\n",
       "    <tr>\n",
       "      <th>TUE</th>\n",
       "      <td>20758.0</td>\n",
       "      <td>0.616756</td>\n",
       "      <td>0.602113</td>\n",
       "      <td>0.00</td>\n",
       "      <td>0.000000</td>\n",
       "      <td>0.573887</td>\n",
       "      <td>1.000000</td>\n",
       "      <td>2.000000</td>\n",
       "    </tr>\n",
       "  </tbody>\n",
       "</table>\n",
       "</div>"
      ],
      "text/plain": [
       "          count       mean        std    min        25%        50%  \\\n",
       "Age     20758.0  23.841804   5.688072  14.00  20.000000  22.815416   \n",
       "Height  20758.0   1.700245   0.087312   1.45   1.631856   1.700000   \n",
       "Weight  20758.0  87.887768  26.379443  39.00  66.000000  84.064875   \n",
       "FCVC    20758.0   2.445908   0.533218   1.00   2.000000   2.393837   \n",
       "NCP     20758.0   2.761332   0.705375   1.00   3.000000   3.000000   \n",
       "CH2O    20758.0   2.029418   0.608467   1.00   1.792022   2.000000   \n",
       "FAF     20758.0   0.981747   0.838302   0.00   0.008013   1.000000   \n",
       "TUE     20758.0   0.616756   0.602113   0.00   0.000000   0.573887   \n",
       "\n",
       "               75%         max  \n",
       "Age      26.000000   61.000000  \n",
       "Height    1.762887    1.975663  \n",
       "Weight  111.600553  165.057269  \n",
       "FCVC      3.000000    3.000000  \n",
       "NCP       3.000000    4.000000  \n",
       "CH2O      2.549617    3.000000  \n",
       "FAF       1.587406    3.000000  \n",
       "TUE       1.000000    2.000000  "
      ]
     },
     "execution_count": 6,
     "metadata": {},
     "output_type": "execute_result"
    }
   ],
   "source": [
    "train.describe().T"
   ]
  },
  {
   "cell_type": "markdown",
   "metadata": {},
   "source": [
    "# Transformers"
   ]
  },
  {
   "cell_type": "code",
   "execution_count": 7,
   "metadata": {},
   "outputs": [],
   "source": [
    "def features_encoding(data:pd.DataFrame) -> pd.DataFrame: \n",
    "    data['Gender'] = data['Gender'].replace({'Male':0,'Female':1})\n",
    "    data[['family_history_with_overweight','FAVC','SMOKE','SCC']] = data[['family_history_with_overweight','FAVC','SMOKE','SCC']].replace({'no':0,'yes':1})\n",
    "    data[['CAEC','CALC']] = data[['CAEC','CALC']].replace({'no':0,'Sometimes':1,'Frequently':2,'Always':3})\n",
    "    data = pd.get_dummies(data, columns=['MTRANS'], dtype='int8')\n",
    "    return data\n",
    "FeaturesEncoding = FunctionTransformer(features_encoding)"
   ]
  },
  {
   "cell_type": "code",
   "execution_count": 8,
   "metadata": {},
   "outputs": [],
   "source": [
    "numeric_features = ['Age', 'Height', 'Weight', 'FCVC', 'NCP', 'CH2O', 'FAF', 'TUE']\n",
    "FeatureScaler = ColumnTransformer(\n",
    "    transformers=[\n",
    "        ('scaler', StandardScaler(), numeric_features)\n",
    "    ],\n",
    "    remainder='passthrough' \n",
    ")"
   ]
  },
  {
   "cell_type": "markdown",
   "metadata": {},
   "source": [
    "# Optuna"
   ]
  },
  {
   "cell_type": "code",
   "execution_count": 9,
   "metadata": {},
   "outputs": [],
   "source": [
    "X = train.copy()\n",
    "\n",
    "lb = LabelEncoder()\n",
    "y = lb.fit_transform(X.pop('NObeyesdad'))\n",
    "\n",
    "SEED = 42\n",
    "SPLITS = 5\n",
    "TRIALS = 10\n",
    "SKF = StratifiedKFold(n_splits = SPLITS, random_state = SEED, shuffle = True)"
   ]
  },
  {
   "cell_type": "markdown",
   "metadata": {},
   "source": [
    "## XGB"
   ]
  },
  {
   "cell_type": "code",
   "execution_count": 10,
   "metadata": {},
   "outputs": [],
   "source": [
    "params_xgb = {\n",
    "        'random_state' : SEED,\n",
    "        'tree_method' : 'hist',\n",
    "}\n",
    "def xgb_objective(trial):\n",
    "\n",
    "    params = {\n",
    "        'eta' : trial.suggest_float('eta', .001, .3, log = True),\n",
    "        'max_depth' : trial.suggest_int('max_depth', 2, 30),\n",
    "        'subsample' : trial.suggest_float('subsample', .5, 1),\n",
    "        'colsample_bytree' : trial.suggest_float('colsample_bytree', .1, 1),\n",
    "        'min_child_weight' : trial.suggest_float('min_child_weight', .1, 20, log = True),\n",
    "        'reg_lambda' : trial.suggest_float('reg_lambda', .01, 20, log = True),\n",
    "        'reg_alpha' : trial.suggest_float('reg_alpha', .01, 10, log = True),\n",
    "        'n_estimators' : trial.suggest_int('n_estimators', 10, 500),\n",
    "        **params_xgb\n",
    "\n",
    "    }\n",
    "    \n",
    "    optuna_model = make_pipeline(\n",
    "        FeaturesEncoding,\n",
    "        FeatureScaler,\n",
    "        XGBClassifier(**params)\n",
    "    )\n",
    "    \n",
    "    optuna_score = cross_val_score(optuna_model, X, y, scoring='accuracy', cv=SKF)\n",
    "    \n",
    "    return np.mean(optuna_score)"
   ]
  },
  {
   "cell_type": "code",
   "execution_count": 11,
   "metadata": {},
   "outputs": [
    {
     "name": "stderr",
     "output_type": "stream",
     "text": [
      "[I 2024-02-09 10:57:38,835] A new study created in memory with name: no-name-8ce7bbbe-84f9-47d2-a687-b8bbbfb6c472\n"
     ]
    },
    {
     "data": {
      "application/vnd.jupyter.widget-view+json": {
       "model_id": "1001f2985c1946ecbde6a6adaef99f32",
       "version_major": 2,
       "version_minor": 0
      },
      "text/plain": [
       "  0%|          | 0/10 [00:00<?, ?it/s]"
      ]
     },
     "metadata": {},
     "output_type": "display_data"
    },
    {
     "name": "stdout",
     "output_type": "stream",
     "text": [
      "[I 2024-02-09 10:59:01,629] Trial 0 finished with value: 0.7980536760415695 and parameters: {'eta': 0.0166252469293527, 'max_depth': 27, 'subsample': 0.6637949252308538, 'colsample_bytree': 0.19247141324724862, 'min_child_weight': 0.9050589632125656, 'reg_lambda': 0.014066770131543687, 'reg_alpha': 8.529658760236119, 'n_estimators': 39}. Best is trial 0 with value: 0.7980536760415695.\n",
      "[I 2024-02-09 11:00:19,947] Trial 1 finished with value: 0.9023024259075395 and parameters: {'eta': 0.057593882985365115, 'max_depth': 19, 'subsample': 0.91568965786003, 'colsample_bytree': 0.709023132963346, 'min_child_weight': 6.456549983189325, 'reg_lambda': 0.0679497225272761, 'reg_alpha': 4.5095299498853025, 'n_estimators': 67}. Best is trial 1 with value: 0.9023024259075395.\n",
      "[I 2024-02-09 11:01:07,948] Trial 4 finished with value: 0.9063491676681201 and parameters: {'eta': 0.19614799859016221, 'max_depth': 24, 'subsample': 0.7269637749553112, 'colsample_bytree': 0.6717599858646986, 'min_child_weight': 1.7661577684118352, 'reg_lambda': 0.02206945818182817, 'reg_alpha': 2.232686380584633, 'n_estimators': 89}. Best is trial 4 with value: 0.9063491676681201.\n",
      "[I 2024-02-09 11:02:22,373] Trial 3 finished with value: 0.8821656132259609 and parameters: {'eta': 0.003279722060038118, 'max_depth': 13, 'subsample': 0.7229144383245002, 'colsample_bytree': 0.5199360114415117, 'min_child_weight': 14.513209757067491, 'reg_lambda': 2.088408361143302, 'reg_alpha': 7.8418890523412585, 'n_estimators': 218}. Best is trial 4 with value: 0.9063491676681201.\n",
      "[I 2024-02-09 11:02:59,156] Trial 5 finished with value: 0.905385451610193 and parameters: {'eta': 0.07981154247619514, 'max_depth': 28, 'subsample': 0.6283509758357007, 'colsample_bytree': 0.3227492369512388, 'min_child_weight': 3.771577316750881, 'reg_lambda': 13.26411128134344, 'reg_alpha': 9.949410001646001, 'n_estimators': 385}. Best is trial 4 with value: 0.9063491676681201.\n",
      "[I 2024-02-09 11:03:10,841] Trial 8 finished with value: 0.9082761588195893 and parameters: {'eta': 0.08785257603645283, 'max_depth': 15, 'subsample': 0.7037212173943919, 'colsample_bytree': 0.8142229038610529, 'min_child_weight': 1.5840780140989492, 'reg_lambda': 0.05226648866885813, 'reg_alpha': 5.097730173771181, 'n_estimators': 252}. Best is trial 8 with value: 0.9082761588195893.\n",
      "[I 2024-02-09 11:03:45,062] Trial 7 finished with value: 0.8884762081147658 and parameters: {'eta': 0.0017449071374168214, 'max_depth': 9, 'subsample': 0.6149335846677185, 'colsample_bytree': 0.41196224793595476, 'min_child_weight': 0.4886010126564994, 'reg_lambda': 0.04209511133115826, 'reg_alpha': 3.150660278951606, 'n_estimators': 370}. Best is trial 8 with value: 0.9082761588195893.\n",
      "[I 2024-02-09 11:04:07,224] Trial 2 finished with value: 0.908227908032468 and parameters: {'eta': 0.10370877422469969, 'max_depth': 22, 'subsample': 0.9595977356919592, 'colsample_bytree': 0.5929706113387427, 'min_child_weight': 0.31586527179717944, 'reg_lambda': 0.4584491647363184, 'reg_alpha': 1.5141847884155484, 'n_estimators': 308}. Best is trial 8 with value: 0.9082761588195893.\n",
      "[I 2024-02-09 11:04:14,293] Trial 9 finished with value: 0.8892474548231988 and parameters: {'eta': 0.0012058524789354257, 'max_depth': 23, 'subsample': 0.9633594034357406, 'colsample_bytree': 0.9052555468276164, 'min_child_weight': 19.222586113828307, 'reg_lambda': 0.06049215312927555, 'reg_alpha': 1.0212948402249578, 'n_estimators': 449}. Best is trial 8 with value: 0.9082761588195893.\n",
      "[I 2024-02-09 11:04:16,696] Trial 6 finished with value: 0.9064454371558448 and parameters: {'eta': 0.00445436222300457, 'max_depth': 16, 'subsample': 0.5103478817483689, 'colsample_bytree': 0.7264318452511377, 'min_child_weight': 0.1684052869655143, 'reg_lambda': 0.44385332252317156, 'reg_alpha': 0.03991856620234021, 'n_estimators': 316}. Best is trial 8 with value: 0.9082761588195893.\n",
      "\n",
      "scores : 0.9082761588195893, params : {'eta': 0.08785257603645283, 'max_depth': 15, 'subsample': 0.7037212173943919, 'colsample_bytree': 0.8142229038610529, 'min_child_weight': 1.5840780140989492, 'reg_lambda': 0.05226648866885813, 'reg_alpha': 5.097730173771181, 'n_estimators': 252} \n"
     ]
    }
   ],
   "source": [
    "xgb_study = optuna.create_study(direction = 'maximize')\n",
    "xgb_study.optimize(xgb_objective,n_trials=TRIALS, n_jobs=-1, show_progress_bar=True)\n",
    "print(\"\")\n",
    "print(f'scores : {xgb_study.best_value}, params : {xgb_study.best_params} ')\n",
    "with open('json/xgb.json', 'w') as json_file:\n",
    "    json.dump(xgb_study.best_params, json_file, indent=4)"
   ]
  },
  {
   "cell_type": "markdown",
   "metadata": {},
   "source": [
    "## LGBM"
   ]
  },
  {
   "cell_type": "code",
   "execution_count": 12,
   "metadata": {},
   "outputs": [],
   "source": [
    "params_lgbm = {\n",
    "    'boosting_type': 'gbdt',\n",
    "    'random_state': SEED\n",
    "}\n",
    "def lgbm_objective(trial):\n",
    "    params = {\n",
    "        'learning_rate': trial.suggest_float('learning_rate', 0.01, 0.3),\n",
    "        'num_leaves': trial.suggest_int('num_leaves', 20, 100),\n",
    "        'max_depth': trial.suggest_int('max_depth', 5, 20),\n",
    "        'min_child_samples': trial.suggest_int('min_child_samples', 1, 20),\n",
    "        'subsample': trial.suggest_float('subsample', 0.5, 1.0),\n",
    "        'colsample_bytree': trial.suggest_float('colsample_bytree', 0.5, 1.0),\n",
    "        'reg_alpha': trial.suggest_float('reg_alpha', 0.0, 1.0),\n",
    "        'reg_lambda': trial.suggest_float('reg_lambda', 0.0, 1.0),\n",
    "        'n_estimators': trial.suggest_int('n_estimators', 50, 300),\n",
    "        **params_lgbm\n",
    "        \n",
    "    }\n",
    "    \n",
    "    optuna_model = make_pipeline(\n",
    "        FeaturesEncoding,\n",
    "        FeatureScaler,\n",
    "        LGBMClassifier(**params)\n",
    "    )\n",
    "    \n",
    "    optuna_score = cross_val_score(optuna_model, X, y, scoring='accuracy', cv=SKF)\n",
    "    \n",
    "    return np.mean(optuna_score)"
   ]
  },
  {
   "cell_type": "code",
   "execution_count": 13,
   "metadata": {},
   "outputs": [
    {
     "name": "stderr",
     "output_type": "stream",
     "text": [
      "[I 2024-02-09 11:04:16,745] A new study created in memory with name: no-name-dfd6887a-07a7-414a-bbb7-50cc9a44c689\n"
     ]
    },
    {
     "data": {
      "application/vnd.jupyter.widget-view+json": {
       "model_id": "d2c6f2c2177648bcaf4cdeea597d60de",
       "version_major": 2,
       "version_minor": 0
      },
      "text/plain": [
       "  0%|          | 0/10 [00:00<?, ?it/s]"
      ]
     },
     "metadata": {},
     "output_type": "display_data"
    },
    {
     "name": "stdout",
     "output_type": "stream",
     "text": [
      "[I 2024-02-09 11:18:43,188] Trial 8 finished with value: 0.9079389022957534 and parameters: {'learning_rate': 0.08086692373154633, 'num_leaves': 58, 'max_depth': 9, 'min_child_samples': 8, 'subsample': 0.567185163401682, 'colsample_bytree': 0.6506311292082836, 'reg_alpha': 0.969248560953182, 'reg_lambda': 0.12081167025895878, 'n_estimators': 71}. Best is trial 8 with value: 0.9079389022957534.\n",
      "[I 2024-02-09 11:25:15,028] Trial 3 finished with value: 0.9026397288486792 and parameters: {'learning_rate': 0.27916775588822246, 'num_leaves': 36, 'max_depth': 14, 'min_child_samples': 10, 'subsample': 0.5730402752935939, 'colsample_bytree': 0.5511867665726562, 'reg_alpha': 0.358705055254705, 'reg_lambda': 0.7873129896329416, 'n_estimators': 165}. Best is trial 8 with value: 0.9079389022957534.\n",
      "[I 2024-02-09 11:27:44,238] Trial 5 finished with value: 0.9041811662718875 and parameters: {'learning_rate': 0.2210491756783165, 'num_leaves': 46, 'max_depth': 12, 'min_child_samples': 14, 'subsample': 0.6106334644255625, 'colsample_bytree': 0.5436008079842112, 'reg_alpha': 0.9567567199173792, 'reg_lambda': 0.9191068702923488, 'n_estimators': 236}. Best is trial 8 with value: 0.9079389022957534.\n",
      "[I 2024-02-09 11:27:47,287] Trial 4 finished with value: 0.9063492256897495 and parameters: {'learning_rate': 0.17948118680294686, 'num_leaves': 85, 'max_depth': 19, 'min_child_samples': 6, 'subsample': 0.8617461520780885, 'colsample_bytree': 0.613001458212763, 'reg_alpha': 0.9654828086114698, 'reg_lambda': 0.47179768202514627, 'n_estimators': 116}. Best is trial 8 with value: 0.9079389022957534.\n",
      "[I 2024-02-09 11:28:28,772] Trial 6 finished with value: 0.9049519488072842 and parameters: {'learning_rate': 0.19576641902672529, 'num_leaves': 57, 'max_depth': 12, 'min_child_samples': 14, 'subsample': 0.7556183295173529, 'colsample_bytree': 0.5075135239534975, 'reg_alpha': 0.058697647932002495, 'reg_lambda': 0.824424669345913, 'n_estimators': 132}. Best is trial 8 with value: 0.9079389022957534.\n",
      "[I 2024-02-09 11:28:35,217] Trial 0 finished with value: 0.9042776794504561 and parameters: {'learning_rate': 0.23490097649705416, 'num_leaves': 65, 'max_depth': 11, 'min_child_samples': 3, 'subsample': 0.7872409926835917, 'colsample_bytree': 0.5480824092559478, 'reg_alpha': 0.7409272030532023, 'reg_lambda': 0.5445730116409868, 'n_estimators': 241}. Best is trial 8 with value: 0.9079389022957534.\n",
      "[I 2024-02-09 11:28:36,218] Trial 1 finished with value: 0.9084688834642535 and parameters: {'learning_rate': 0.02890749764579598, 'num_leaves': 30, 'max_depth': 10, 'min_child_samples': 20, 'subsample': 0.6551380752101006, 'colsample_bytree': 0.7354530115458973, 'reg_alpha': 0.967771032261964, 'reg_lambda': 0.2565861612717495, 'n_estimators': 289}. Best is trial 1 with value: 0.9084688834642535.\n",
      "[I 2024-02-09 11:29:52,948] Trial 7 finished with value: 0.9028806114458572 and parameters: {'learning_rate': 0.11759387891008839, 'num_leaves': 66, 'max_depth': 9, 'min_child_samples': 14, 'subsample': 0.7470855057016723, 'colsample_bytree': 0.8448770155083125, 'reg_alpha': 0.49957766034944506, 'reg_lambda': 0.35263089900963673, 'n_estimators': 244}. Best is trial 1 with value: 0.9084688834642535.\n",
      "[I 2024-02-09 11:30:26,831] Trial 2 finished with value: 0.9041812939194724 and parameters: {'learning_rate': 0.10062797261110974, 'num_leaves': 62, 'max_depth': 15, 'min_child_samples': 10, 'subsample': 0.9505670887788917, 'colsample_bytree': 0.674776327891626, 'reg_alpha': 0.9686744657632107, 'reg_lambda': 0.9219772722182439, 'n_estimators': 284}. Best is trial 1 with value: 0.9084688834642535.\n",
      "[I 2024-02-09 11:30:43,702] Trial 9 finished with value: 0.9029287810026974 and parameters: {'learning_rate': 0.0881813388164488, 'num_leaves': 99, 'max_depth': 12, 'min_child_samples': 3, 'subsample': 0.747481254471718, 'colsample_bytree': 0.7829105670794325, 'reg_alpha': 0.5164792654069202, 'reg_lambda': 0.9315960174316243, 'n_estimators': 295}. Best is trial 1 with value: 0.9084688834642535.\n",
      "\n",
      "scores : 0.9084688834642535, params : {'learning_rate': 0.02890749764579598, 'num_leaves': 30, 'max_depth': 10, 'min_child_samples': 20, 'subsample': 0.6551380752101006, 'colsample_bytree': 0.7354530115458973, 'reg_alpha': 0.967771032261964, 'reg_lambda': 0.2565861612717495, 'n_estimators': 289} \n"
     ]
    },
    {
     "data": {
      "application/vnd.plotly.v1+json": {
       "config": {
        "plotlyServerURL": "https://plot.ly"
       },
       "data": [
        {
         "cliponaxis": false,
         "hovertemplate": [
          "min_child_samples (IntDistribution): 0.014726697121555521<extra></extra>",
          "colsample_bytree (FloatDistribution): 0.029551711104623957<extra></extra>",
          "max_depth (IntDistribution): 0.03556445633264704<extra></extra>",
          "subsample (FloatDistribution): 0.06089134414645544<extra></extra>",
          "num_leaves (IntDistribution): 0.06648935959619402<extra></extra>",
          "learning_rate (FloatDistribution): 0.14663870997959505<extra></extra>",
          "reg_alpha (FloatDistribution): 0.18096253349812827<extra></extra>",
          "n_estimators (IntDistribution): 0.2211299679499021<extra></extra>",
          "reg_lambda (FloatDistribution): 0.24404522027089856<extra></extra>"
         ],
         "name": "Objective Value",
         "orientation": "h",
         "text": [
          "0.01",
          "0.03",
          "0.04",
          "0.06",
          "0.07",
          "0.15",
          "0.18",
          "0.22",
          "0.24"
         ],
         "textposition": "outside",
         "type": "bar",
         "x": [
          0.014726697121555521,
          0.029551711104623957,
          0.03556445633264704,
          0.06089134414645544,
          0.06648935959619402,
          0.14663870997959505,
          0.18096253349812827,
          0.2211299679499021,
          0.24404522027089856
         ],
         "y": [
          "min_child_samples",
          "colsample_bytree",
          "max_depth",
          "subsample",
          "num_leaves",
          "learning_rate",
          "reg_alpha",
          "n_estimators",
          "reg_lambda"
         ]
        }
       ],
       "layout": {
        "template": {
         "data": {
          "bar": [
           {
            "error_x": {
             "color": "#2a3f5f"
            },
            "error_y": {
             "color": "#2a3f5f"
            },
            "marker": {
             "line": {
              "color": "#E5ECF6",
              "width": 0.5
             },
             "pattern": {
              "fillmode": "overlay",
              "size": 10,
              "solidity": 0.2
             }
            },
            "type": "bar"
           }
          ],
          "barpolar": [
           {
            "marker": {
             "line": {
              "color": "#E5ECF6",
              "width": 0.5
             },
             "pattern": {
              "fillmode": "overlay",
              "size": 10,
              "solidity": 0.2
             }
            },
            "type": "barpolar"
           }
          ],
          "carpet": [
           {
            "aaxis": {
             "endlinecolor": "#2a3f5f",
             "gridcolor": "white",
             "linecolor": "white",
             "minorgridcolor": "white",
             "startlinecolor": "#2a3f5f"
            },
            "baxis": {
             "endlinecolor": "#2a3f5f",
             "gridcolor": "white",
             "linecolor": "white",
             "minorgridcolor": "white",
             "startlinecolor": "#2a3f5f"
            },
            "type": "carpet"
           }
          ],
          "choropleth": [
           {
            "colorbar": {
             "outlinewidth": 0,
             "ticks": ""
            },
            "type": "choropleth"
           }
          ],
          "contour": [
           {
            "colorbar": {
             "outlinewidth": 0,
             "ticks": ""
            },
            "colorscale": [
             [
              0,
              "#0d0887"
             ],
             [
              0.1111111111111111,
              "#46039f"
             ],
             [
              0.2222222222222222,
              "#7201a8"
             ],
             [
              0.3333333333333333,
              "#9c179e"
             ],
             [
              0.4444444444444444,
              "#bd3786"
             ],
             [
              0.5555555555555556,
              "#d8576b"
             ],
             [
              0.6666666666666666,
              "#ed7953"
             ],
             [
              0.7777777777777778,
              "#fb9f3a"
             ],
             [
              0.8888888888888888,
              "#fdca26"
             ],
             [
              1,
              "#f0f921"
             ]
            ],
            "type": "contour"
           }
          ],
          "contourcarpet": [
           {
            "colorbar": {
             "outlinewidth": 0,
             "ticks": ""
            },
            "type": "contourcarpet"
           }
          ],
          "heatmap": [
           {
            "colorbar": {
             "outlinewidth": 0,
             "ticks": ""
            },
            "colorscale": [
             [
              0,
              "#0d0887"
             ],
             [
              0.1111111111111111,
              "#46039f"
             ],
             [
              0.2222222222222222,
              "#7201a8"
             ],
             [
              0.3333333333333333,
              "#9c179e"
             ],
             [
              0.4444444444444444,
              "#bd3786"
             ],
             [
              0.5555555555555556,
              "#d8576b"
             ],
             [
              0.6666666666666666,
              "#ed7953"
             ],
             [
              0.7777777777777778,
              "#fb9f3a"
             ],
             [
              0.8888888888888888,
              "#fdca26"
             ],
             [
              1,
              "#f0f921"
             ]
            ],
            "type": "heatmap"
           }
          ],
          "heatmapgl": [
           {
            "colorbar": {
             "outlinewidth": 0,
             "ticks": ""
            },
            "colorscale": [
             [
              0,
              "#0d0887"
             ],
             [
              0.1111111111111111,
              "#46039f"
             ],
             [
              0.2222222222222222,
              "#7201a8"
             ],
             [
              0.3333333333333333,
              "#9c179e"
             ],
             [
              0.4444444444444444,
              "#bd3786"
             ],
             [
              0.5555555555555556,
              "#d8576b"
             ],
             [
              0.6666666666666666,
              "#ed7953"
             ],
             [
              0.7777777777777778,
              "#fb9f3a"
             ],
             [
              0.8888888888888888,
              "#fdca26"
             ],
             [
              1,
              "#f0f921"
             ]
            ],
            "type": "heatmapgl"
           }
          ],
          "histogram": [
           {
            "marker": {
             "pattern": {
              "fillmode": "overlay",
              "size": 10,
              "solidity": 0.2
             }
            },
            "type": "histogram"
           }
          ],
          "histogram2d": [
           {
            "colorbar": {
             "outlinewidth": 0,
             "ticks": ""
            },
            "colorscale": [
             [
              0,
              "#0d0887"
             ],
             [
              0.1111111111111111,
              "#46039f"
             ],
             [
              0.2222222222222222,
              "#7201a8"
             ],
             [
              0.3333333333333333,
              "#9c179e"
             ],
             [
              0.4444444444444444,
              "#bd3786"
             ],
             [
              0.5555555555555556,
              "#d8576b"
             ],
             [
              0.6666666666666666,
              "#ed7953"
             ],
             [
              0.7777777777777778,
              "#fb9f3a"
             ],
             [
              0.8888888888888888,
              "#fdca26"
             ],
             [
              1,
              "#f0f921"
             ]
            ],
            "type": "histogram2d"
           }
          ],
          "histogram2dcontour": [
           {
            "colorbar": {
             "outlinewidth": 0,
             "ticks": ""
            },
            "colorscale": [
             [
              0,
              "#0d0887"
             ],
             [
              0.1111111111111111,
              "#46039f"
             ],
             [
              0.2222222222222222,
              "#7201a8"
             ],
             [
              0.3333333333333333,
              "#9c179e"
             ],
             [
              0.4444444444444444,
              "#bd3786"
             ],
             [
              0.5555555555555556,
              "#d8576b"
             ],
             [
              0.6666666666666666,
              "#ed7953"
             ],
             [
              0.7777777777777778,
              "#fb9f3a"
             ],
             [
              0.8888888888888888,
              "#fdca26"
             ],
             [
              1,
              "#f0f921"
             ]
            ],
            "type": "histogram2dcontour"
           }
          ],
          "mesh3d": [
           {
            "colorbar": {
             "outlinewidth": 0,
             "ticks": ""
            },
            "type": "mesh3d"
           }
          ],
          "parcoords": [
           {
            "line": {
             "colorbar": {
              "outlinewidth": 0,
              "ticks": ""
             }
            },
            "type": "parcoords"
           }
          ],
          "pie": [
           {
            "automargin": true,
            "type": "pie"
           }
          ],
          "scatter": [
           {
            "fillpattern": {
             "fillmode": "overlay",
             "size": 10,
             "solidity": 0.2
            },
            "type": "scatter"
           }
          ],
          "scatter3d": [
           {
            "line": {
             "colorbar": {
              "outlinewidth": 0,
              "ticks": ""
             }
            },
            "marker": {
             "colorbar": {
              "outlinewidth": 0,
              "ticks": ""
             }
            },
            "type": "scatter3d"
           }
          ],
          "scattercarpet": [
           {
            "marker": {
             "colorbar": {
              "outlinewidth": 0,
              "ticks": ""
             }
            },
            "type": "scattercarpet"
           }
          ],
          "scattergeo": [
           {
            "marker": {
             "colorbar": {
              "outlinewidth": 0,
              "ticks": ""
             }
            },
            "type": "scattergeo"
           }
          ],
          "scattergl": [
           {
            "marker": {
             "colorbar": {
              "outlinewidth": 0,
              "ticks": ""
             }
            },
            "type": "scattergl"
           }
          ],
          "scattermapbox": [
           {
            "marker": {
             "colorbar": {
              "outlinewidth": 0,
              "ticks": ""
             }
            },
            "type": "scattermapbox"
           }
          ],
          "scatterpolar": [
           {
            "marker": {
             "colorbar": {
              "outlinewidth": 0,
              "ticks": ""
             }
            },
            "type": "scatterpolar"
           }
          ],
          "scatterpolargl": [
           {
            "marker": {
             "colorbar": {
              "outlinewidth": 0,
              "ticks": ""
             }
            },
            "type": "scatterpolargl"
           }
          ],
          "scatterternary": [
           {
            "marker": {
             "colorbar": {
              "outlinewidth": 0,
              "ticks": ""
             }
            },
            "type": "scatterternary"
           }
          ],
          "surface": [
           {
            "colorbar": {
             "outlinewidth": 0,
             "ticks": ""
            },
            "colorscale": [
             [
              0,
              "#0d0887"
             ],
             [
              0.1111111111111111,
              "#46039f"
             ],
             [
              0.2222222222222222,
              "#7201a8"
             ],
             [
              0.3333333333333333,
              "#9c179e"
             ],
             [
              0.4444444444444444,
              "#bd3786"
             ],
             [
              0.5555555555555556,
              "#d8576b"
             ],
             [
              0.6666666666666666,
              "#ed7953"
             ],
             [
              0.7777777777777778,
              "#fb9f3a"
             ],
             [
              0.8888888888888888,
              "#fdca26"
             ],
             [
              1,
              "#f0f921"
             ]
            ],
            "type": "surface"
           }
          ],
          "table": [
           {
            "cells": {
             "fill": {
              "color": "#EBF0F8"
             },
             "line": {
              "color": "white"
             }
            },
            "header": {
             "fill": {
              "color": "#C8D4E3"
             },
             "line": {
              "color": "white"
             }
            },
            "type": "table"
           }
          ]
         },
         "layout": {
          "annotationdefaults": {
           "arrowcolor": "#2a3f5f",
           "arrowhead": 0,
           "arrowwidth": 1
          },
          "autotypenumbers": "strict",
          "coloraxis": {
           "colorbar": {
            "outlinewidth": 0,
            "ticks": ""
           }
          },
          "colorscale": {
           "diverging": [
            [
             0,
             "#8e0152"
            ],
            [
             0.1,
             "#c51b7d"
            ],
            [
             0.2,
             "#de77ae"
            ],
            [
             0.3,
             "#f1b6da"
            ],
            [
             0.4,
             "#fde0ef"
            ],
            [
             0.5,
             "#f7f7f7"
            ],
            [
             0.6,
             "#e6f5d0"
            ],
            [
             0.7,
             "#b8e186"
            ],
            [
             0.8,
             "#7fbc41"
            ],
            [
             0.9,
             "#4d9221"
            ],
            [
             1,
             "#276419"
            ]
           ],
           "sequential": [
            [
             0,
             "#0d0887"
            ],
            [
             0.1111111111111111,
             "#46039f"
            ],
            [
             0.2222222222222222,
             "#7201a8"
            ],
            [
             0.3333333333333333,
             "#9c179e"
            ],
            [
             0.4444444444444444,
             "#bd3786"
            ],
            [
             0.5555555555555556,
             "#d8576b"
            ],
            [
             0.6666666666666666,
             "#ed7953"
            ],
            [
             0.7777777777777778,
             "#fb9f3a"
            ],
            [
             0.8888888888888888,
             "#fdca26"
            ],
            [
             1,
             "#f0f921"
            ]
           ],
           "sequentialminus": [
            [
             0,
             "#0d0887"
            ],
            [
             0.1111111111111111,
             "#46039f"
            ],
            [
             0.2222222222222222,
             "#7201a8"
            ],
            [
             0.3333333333333333,
             "#9c179e"
            ],
            [
             0.4444444444444444,
             "#bd3786"
            ],
            [
             0.5555555555555556,
             "#d8576b"
            ],
            [
             0.6666666666666666,
             "#ed7953"
            ],
            [
             0.7777777777777778,
             "#fb9f3a"
            ],
            [
             0.8888888888888888,
             "#fdca26"
            ],
            [
             1,
             "#f0f921"
            ]
           ]
          },
          "colorway": [
           "#636efa",
           "#EF553B",
           "#00cc96",
           "#ab63fa",
           "#FFA15A",
           "#19d3f3",
           "#FF6692",
           "#B6E880",
           "#FF97FF",
           "#FECB52"
          ],
          "font": {
           "color": "#2a3f5f"
          },
          "geo": {
           "bgcolor": "white",
           "lakecolor": "white",
           "landcolor": "#E5ECF6",
           "showlakes": true,
           "showland": true,
           "subunitcolor": "white"
          },
          "hoverlabel": {
           "align": "left"
          },
          "hovermode": "closest",
          "mapbox": {
           "style": "light"
          },
          "paper_bgcolor": "white",
          "plot_bgcolor": "#E5ECF6",
          "polar": {
           "angularaxis": {
            "gridcolor": "white",
            "linecolor": "white",
            "ticks": ""
           },
           "bgcolor": "#E5ECF6",
           "radialaxis": {
            "gridcolor": "white",
            "linecolor": "white",
            "ticks": ""
           }
          },
          "scene": {
           "xaxis": {
            "backgroundcolor": "#E5ECF6",
            "gridcolor": "white",
            "gridwidth": 2,
            "linecolor": "white",
            "showbackground": true,
            "ticks": "",
            "zerolinecolor": "white"
           },
           "yaxis": {
            "backgroundcolor": "#E5ECF6",
            "gridcolor": "white",
            "gridwidth": 2,
            "linecolor": "white",
            "showbackground": true,
            "ticks": "",
            "zerolinecolor": "white"
           },
           "zaxis": {
            "backgroundcolor": "#E5ECF6",
            "gridcolor": "white",
            "gridwidth": 2,
            "linecolor": "white",
            "showbackground": true,
            "ticks": "",
            "zerolinecolor": "white"
           }
          },
          "shapedefaults": {
           "line": {
            "color": "#2a3f5f"
           }
          },
          "ternary": {
           "aaxis": {
            "gridcolor": "white",
            "linecolor": "white",
            "ticks": ""
           },
           "baxis": {
            "gridcolor": "white",
            "linecolor": "white",
            "ticks": ""
           },
           "bgcolor": "#E5ECF6",
           "caxis": {
            "gridcolor": "white",
            "linecolor": "white",
            "ticks": ""
           }
          },
          "title": {
           "x": 0.05
          },
          "xaxis": {
           "automargin": true,
           "gridcolor": "white",
           "linecolor": "white",
           "ticks": "",
           "title": {
            "standoff": 15
           },
           "zerolinecolor": "white",
           "zerolinewidth": 2
          },
          "yaxis": {
           "automargin": true,
           "gridcolor": "white",
           "linecolor": "white",
           "ticks": "",
           "title": {
            "standoff": 15
           },
           "zerolinecolor": "white",
           "zerolinewidth": 2
          }
         }
        },
        "title": {
         "text": "Hyperparameter Importances"
        },
        "xaxis": {
         "title": {
          "text": "Hyperparameter Importance"
         }
        },
        "yaxis": {
         "title": {
          "text": "Hyperparameter"
         }
        }
       }
      }
     },
     "metadata": {},
     "output_type": "display_data"
    }
   ],
   "source": [
    "lgbm_study = optuna.create_study(direction = 'maximize')\n",
    "lgbm_study.optimize(lgbm_objective,n_trials=TRIALS, n_jobs=-1, show_progress_bar=True)\n",
    "print(\"\")\n",
    "print(f'scores : {lgbm_study.best_value}, params : {lgbm_study.best_params} ')\n",
    "with open('json/lgbm.json', 'w') as json_file:\n",
    "    json.dump(lgbm_study.best_params, json_file, indent=4)\n",
    "optuna.visualization.plot_param_importances(lgbm_study)"
   ]
  },
  {
   "cell_type": "markdown",
   "metadata": {},
   "source": [
    "## CatBoost"
   ]
  },
  {
   "cell_type": "code",
   "execution_count": 14,
   "metadata": {},
   "outputs": [],
   "source": [
    "params_cat ={    \n",
    "    'thread_count': 4,\n",
    "    'eval_metric': 'AUC',\n",
    "    'loss_function': 'MultiClass',\n",
    "    'random_seed': SEED,\n",
    "    'verbose': False,\n",
    "    'cat_features' : [8,9,10,11,12,13,14,15]\n",
    "    \n",
    "}\n",
    "def cat_objective(trial):\n",
    "    params = {\n",
    "        'learning_rate': trial.suggest_float('learning_rate', 0.01, 0.3),\n",
    "        'depth': trial.suggest_int('depth', 4, 10),\n",
    "        'l2_leaf_reg': trial.suggest_float('l2_leaf_reg', 1, 10),\n",
    "        'iterations': trial.suggest_int('iterations', 50, 300),\n",
    "        'border_count': trial.suggest_int('border_count', 32, 255),\n",
    "        **params_cat\n",
    "    }\n",
    "    \n",
    "    optuna_model = make_pipeline(\n",
    "        FeatureScaler,\n",
    "        CatBoostClassifier(**params)\n",
    "    )\n",
    "    \n",
    "    optuna_score = cross_val_score(optuna_model, X, y, scoring='accuracy', cv=SKF)\n",
    "    \n",
    "    return np.mean(optuna_score)"
   ]
  },
  {
   "cell_type": "code",
   "execution_count": 15,
   "metadata": {},
   "outputs": [
    {
     "name": "stderr",
     "output_type": "stream",
     "text": [
      "[I 2024-02-09 11:30:44,280] A new study created in memory with name: no-name-97487ddc-debf-4dc9-9d11-ab5f5364abc3\n"
     ]
    },
    {
     "data": {
      "application/vnd.jupyter.widget-view+json": {
       "model_id": "0246f81ca32148378df411d50a3542aa",
       "version_major": 2,
       "version_minor": 0
      },
      "text/plain": [
       "  0%|          | 0/10 [00:00<?, ?it/s]"
      ]
     },
     "metadata": {},
     "output_type": "display_data"
    },
    {
     "name": "stdout",
     "output_type": "stream",
     "text": [
      "[I 2024-02-09 11:31:33,433] Trial 9 finished with value: 0.8901144836376684 and parameters: {'learning_rate': 0.1676974145987619, 'depth': 4, 'l2_leaf_reg': 7.198229968437077, 'iterations': 84, 'border_count': 129}. Best is trial 9 with value: 0.8901144836376684.\n",
      "[I 2024-02-09 11:31:58,547] Trial 5 finished with value: 0.8985449915961473 and parameters: {'learning_rate': 0.2758732106974106, 'depth': 7, 'l2_leaf_reg': 7.274446984251125, 'iterations': 81, 'border_count': 219}. Best is trial 5 with value: 0.8985449915961473.\n",
      "[I 2024-02-09 11:32:39,615] Trial 1 finished with value: 0.8736385804845874 and parameters: {'learning_rate': 0.017103685610558802, 'depth': 8, 'l2_leaf_reg': 2.5516690455898936, 'iterations': 146, 'border_count': 243}. Best is trial 5 with value: 0.8985449915961473.\n",
      "[I 2024-02-09 11:33:35,088] Trial 2 finished with value: 0.9012426724484058 and parameters: {'learning_rate': 0.11454090785032153, 'depth': 4, 'l2_leaf_reg': 2.275680379044207, 'iterations': 271, 'border_count': 112}. Best is trial 2 with value: 0.9012426724484058.\n",
      "[I 2024-02-09 11:34:09,393] Trial 6 finished with value: 0.9003755740079811 and parameters: {'learning_rate': 0.09542098399018838, 'depth': 5, 'l2_leaf_reg': 6.860261883061172, 'iterations': 253, 'border_count': 158}. Best is trial 2 with value: 0.9012426724484058.\n",
      "[I 2024-02-09 11:34:19,824] Trial 3 finished with value: 0.9028805650285536 and parameters: {'learning_rate': 0.18079494410857483, 'depth': 6, 'l2_leaf_reg': 1.0972487940368543, 'iterations': 222, 'border_count': 102}. Best is trial 3 with value: 0.9028805650285536.\n",
      "[I 2024-02-09 11:34:53,148] Trial 4 finished with value: 0.9043258374029705 and parameters: {'learning_rate': 0.21998526108223615, 'depth': 7, 'l2_leaf_reg': 3.773987462927183, 'iterations': 260, 'border_count': 189}. Best is trial 4 with value: 0.9043258374029705.\n",
      "[I 2024-02-09 11:35:17,623] Trial 0 finished with value: 0.900519989843894 and parameters: {'learning_rate': 0.19132354197289816, 'depth': 8, 'l2_leaf_reg': 1.867673092651188, 'iterations': 242, 'border_count': 169}. Best is trial 4 with value: 0.9043258374029705.\n",
      "[I 2024-02-09 11:35:31,270] Trial 7 finished with value: 0.9007126564669283 and parameters: {'learning_rate': 0.18878411348921134, 'depth': 9, 'l2_leaf_reg': 9.916107085456913, 'iterations': 225, 'border_count': 162}. Best is trial 4 with value: 0.9043258374029705.\n",
      "[I 2024-02-09 11:35:59,796] Trial 8 finished with value: 0.8978700723970684 and parameters: {'learning_rate': 0.17368111579235465, 'depth': 10, 'l2_leaf_reg': 9.62655756324301, 'iterations': 225, 'border_count': 167}. Best is trial 4 with value: 0.9043258374029705.\n",
      "\n",
      "scores : 0.9043258374029705, params : {'learning_rate': 0.21998526108223615, 'depth': 7, 'l2_leaf_reg': 3.773987462927183, 'iterations': 260, 'border_count': 189}\n"
     ]
    },
    {
     "data": {
      "application/vnd.plotly.v1+json": {
       "config": {
        "plotlyServerURL": "https://plot.ly"
       },
       "data": [
        {
         "cliponaxis": false,
         "hovertemplate": [
          "l2_leaf_reg (FloatDistribution): 0.058136391568435516<extra></extra>",
          "depth (IntDistribution): 0.08620475468838873<extra></extra>",
          "iterations (IntDistribution): 0.2418933667720214<extra></extra>",
          "learning_rate (FloatDistribution): 0.24942503162055132<extra></extra>",
          "border_count (IntDistribution): 0.364340455350603<extra></extra>"
         ],
         "name": "Objective Value",
         "orientation": "h",
         "text": [
          "0.06",
          "0.09",
          "0.24",
          "0.25",
          "0.36"
         ],
         "textposition": "outside",
         "type": "bar",
         "x": [
          0.058136391568435516,
          0.08620475468838873,
          0.2418933667720214,
          0.24942503162055132,
          0.364340455350603
         ],
         "y": [
          "l2_leaf_reg",
          "depth",
          "iterations",
          "learning_rate",
          "border_count"
         ]
        }
       ],
       "layout": {
        "template": {
         "data": {
          "bar": [
           {
            "error_x": {
             "color": "#2a3f5f"
            },
            "error_y": {
             "color": "#2a3f5f"
            },
            "marker": {
             "line": {
              "color": "#E5ECF6",
              "width": 0.5
             },
             "pattern": {
              "fillmode": "overlay",
              "size": 10,
              "solidity": 0.2
             }
            },
            "type": "bar"
           }
          ],
          "barpolar": [
           {
            "marker": {
             "line": {
              "color": "#E5ECF6",
              "width": 0.5
             },
             "pattern": {
              "fillmode": "overlay",
              "size": 10,
              "solidity": 0.2
             }
            },
            "type": "barpolar"
           }
          ],
          "carpet": [
           {
            "aaxis": {
             "endlinecolor": "#2a3f5f",
             "gridcolor": "white",
             "linecolor": "white",
             "minorgridcolor": "white",
             "startlinecolor": "#2a3f5f"
            },
            "baxis": {
             "endlinecolor": "#2a3f5f",
             "gridcolor": "white",
             "linecolor": "white",
             "minorgridcolor": "white",
             "startlinecolor": "#2a3f5f"
            },
            "type": "carpet"
           }
          ],
          "choropleth": [
           {
            "colorbar": {
             "outlinewidth": 0,
             "ticks": ""
            },
            "type": "choropleth"
           }
          ],
          "contour": [
           {
            "colorbar": {
             "outlinewidth": 0,
             "ticks": ""
            },
            "colorscale": [
             [
              0,
              "#0d0887"
             ],
             [
              0.1111111111111111,
              "#46039f"
             ],
             [
              0.2222222222222222,
              "#7201a8"
             ],
             [
              0.3333333333333333,
              "#9c179e"
             ],
             [
              0.4444444444444444,
              "#bd3786"
             ],
             [
              0.5555555555555556,
              "#d8576b"
             ],
             [
              0.6666666666666666,
              "#ed7953"
             ],
             [
              0.7777777777777778,
              "#fb9f3a"
             ],
             [
              0.8888888888888888,
              "#fdca26"
             ],
             [
              1,
              "#f0f921"
             ]
            ],
            "type": "contour"
           }
          ],
          "contourcarpet": [
           {
            "colorbar": {
             "outlinewidth": 0,
             "ticks": ""
            },
            "type": "contourcarpet"
           }
          ],
          "heatmap": [
           {
            "colorbar": {
             "outlinewidth": 0,
             "ticks": ""
            },
            "colorscale": [
             [
              0,
              "#0d0887"
             ],
             [
              0.1111111111111111,
              "#46039f"
             ],
             [
              0.2222222222222222,
              "#7201a8"
             ],
             [
              0.3333333333333333,
              "#9c179e"
             ],
             [
              0.4444444444444444,
              "#bd3786"
             ],
             [
              0.5555555555555556,
              "#d8576b"
             ],
             [
              0.6666666666666666,
              "#ed7953"
             ],
             [
              0.7777777777777778,
              "#fb9f3a"
             ],
             [
              0.8888888888888888,
              "#fdca26"
             ],
             [
              1,
              "#f0f921"
             ]
            ],
            "type": "heatmap"
           }
          ],
          "heatmapgl": [
           {
            "colorbar": {
             "outlinewidth": 0,
             "ticks": ""
            },
            "colorscale": [
             [
              0,
              "#0d0887"
             ],
             [
              0.1111111111111111,
              "#46039f"
             ],
             [
              0.2222222222222222,
              "#7201a8"
             ],
             [
              0.3333333333333333,
              "#9c179e"
             ],
             [
              0.4444444444444444,
              "#bd3786"
             ],
             [
              0.5555555555555556,
              "#d8576b"
             ],
             [
              0.6666666666666666,
              "#ed7953"
             ],
             [
              0.7777777777777778,
              "#fb9f3a"
             ],
             [
              0.8888888888888888,
              "#fdca26"
             ],
             [
              1,
              "#f0f921"
             ]
            ],
            "type": "heatmapgl"
           }
          ],
          "histogram": [
           {
            "marker": {
             "pattern": {
              "fillmode": "overlay",
              "size": 10,
              "solidity": 0.2
             }
            },
            "type": "histogram"
           }
          ],
          "histogram2d": [
           {
            "colorbar": {
             "outlinewidth": 0,
             "ticks": ""
            },
            "colorscale": [
             [
              0,
              "#0d0887"
             ],
             [
              0.1111111111111111,
              "#46039f"
             ],
             [
              0.2222222222222222,
              "#7201a8"
             ],
             [
              0.3333333333333333,
              "#9c179e"
             ],
             [
              0.4444444444444444,
              "#bd3786"
             ],
             [
              0.5555555555555556,
              "#d8576b"
             ],
             [
              0.6666666666666666,
              "#ed7953"
             ],
             [
              0.7777777777777778,
              "#fb9f3a"
             ],
             [
              0.8888888888888888,
              "#fdca26"
             ],
             [
              1,
              "#f0f921"
             ]
            ],
            "type": "histogram2d"
           }
          ],
          "histogram2dcontour": [
           {
            "colorbar": {
             "outlinewidth": 0,
             "ticks": ""
            },
            "colorscale": [
             [
              0,
              "#0d0887"
             ],
             [
              0.1111111111111111,
              "#46039f"
             ],
             [
              0.2222222222222222,
              "#7201a8"
             ],
             [
              0.3333333333333333,
              "#9c179e"
             ],
             [
              0.4444444444444444,
              "#bd3786"
             ],
             [
              0.5555555555555556,
              "#d8576b"
             ],
             [
              0.6666666666666666,
              "#ed7953"
             ],
             [
              0.7777777777777778,
              "#fb9f3a"
             ],
             [
              0.8888888888888888,
              "#fdca26"
             ],
             [
              1,
              "#f0f921"
             ]
            ],
            "type": "histogram2dcontour"
           }
          ],
          "mesh3d": [
           {
            "colorbar": {
             "outlinewidth": 0,
             "ticks": ""
            },
            "type": "mesh3d"
           }
          ],
          "parcoords": [
           {
            "line": {
             "colorbar": {
              "outlinewidth": 0,
              "ticks": ""
             }
            },
            "type": "parcoords"
           }
          ],
          "pie": [
           {
            "automargin": true,
            "type": "pie"
           }
          ],
          "scatter": [
           {
            "fillpattern": {
             "fillmode": "overlay",
             "size": 10,
             "solidity": 0.2
            },
            "type": "scatter"
           }
          ],
          "scatter3d": [
           {
            "line": {
             "colorbar": {
              "outlinewidth": 0,
              "ticks": ""
             }
            },
            "marker": {
             "colorbar": {
              "outlinewidth": 0,
              "ticks": ""
             }
            },
            "type": "scatter3d"
           }
          ],
          "scattercarpet": [
           {
            "marker": {
             "colorbar": {
              "outlinewidth": 0,
              "ticks": ""
             }
            },
            "type": "scattercarpet"
           }
          ],
          "scattergeo": [
           {
            "marker": {
             "colorbar": {
              "outlinewidth": 0,
              "ticks": ""
             }
            },
            "type": "scattergeo"
           }
          ],
          "scattergl": [
           {
            "marker": {
             "colorbar": {
              "outlinewidth": 0,
              "ticks": ""
             }
            },
            "type": "scattergl"
           }
          ],
          "scattermapbox": [
           {
            "marker": {
             "colorbar": {
              "outlinewidth": 0,
              "ticks": ""
             }
            },
            "type": "scattermapbox"
           }
          ],
          "scatterpolar": [
           {
            "marker": {
             "colorbar": {
              "outlinewidth": 0,
              "ticks": ""
             }
            },
            "type": "scatterpolar"
           }
          ],
          "scatterpolargl": [
           {
            "marker": {
             "colorbar": {
              "outlinewidth": 0,
              "ticks": ""
             }
            },
            "type": "scatterpolargl"
           }
          ],
          "scatterternary": [
           {
            "marker": {
             "colorbar": {
              "outlinewidth": 0,
              "ticks": ""
             }
            },
            "type": "scatterternary"
           }
          ],
          "surface": [
           {
            "colorbar": {
             "outlinewidth": 0,
             "ticks": ""
            },
            "colorscale": [
             [
              0,
              "#0d0887"
             ],
             [
              0.1111111111111111,
              "#46039f"
             ],
             [
              0.2222222222222222,
              "#7201a8"
             ],
             [
              0.3333333333333333,
              "#9c179e"
             ],
             [
              0.4444444444444444,
              "#bd3786"
             ],
             [
              0.5555555555555556,
              "#d8576b"
             ],
             [
              0.6666666666666666,
              "#ed7953"
             ],
             [
              0.7777777777777778,
              "#fb9f3a"
             ],
             [
              0.8888888888888888,
              "#fdca26"
             ],
             [
              1,
              "#f0f921"
             ]
            ],
            "type": "surface"
           }
          ],
          "table": [
           {
            "cells": {
             "fill": {
              "color": "#EBF0F8"
             },
             "line": {
              "color": "white"
             }
            },
            "header": {
             "fill": {
              "color": "#C8D4E3"
             },
             "line": {
              "color": "white"
             }
            },
            "type": "table"
           }
          ]
         },
         "layout": {
          "annotationdefaults": {
           "arrowcolor": "#2a3f5f",
           "arrowhead": 0,
           "arrowwidth": 1
          },
          "autotypenumbers": "strict",
          "coloraxis": {
           "colorbar": {
            "outlinewidth": 0,
            "ticks": ""
           }
          },
          "colorscale": {
           "diverging": [
            [
             0,
             "#8e0152"
            ],
            [
             0.1,
             "#c51b7d"
            ],
            [
             0.2,
             "#de77ae"
            ],
            [
             0.3,
             "#f1b6da"
            ],
            [
             0.4,
             "#fde0ef"
            ],
            [
             0.5,
             "#f7f7f7"
            ],
            [
             0.6,
             "#e6f5d0"
            ],
            [
             0.7,
             "#b8e186"
            ],
            [
             0.8,
             "#7fbc41"
            ],
            [
             0.9,
             "#4d9221"
            ],
            [
             1,
             "#276419"
            ]
           ],
           "sequential": [
            [
             0,
             "#0d0887"
            ],
            [
             0.1111111111111111,
             "#46039f"
            ],
            [
             0.2222222222222222,
             "#7201a8"
            ],
            [
             0.3333333333333333,
             "#9c179e"
            ],
            [
             0.4444444444444444,
             "#bd3786"
            ],
            [
             0.5555555555555556,
             "#d8576b"
            ],
            [
             0.6666666666666666,
             "#ed7953"
            ],
            [
             0.7777777777777778,
             "#fb9f3a"
            ],
            [
             0.8888888888888888,
             "#fdca26"
            ],
            [
             1,
             "#f0f921"
            ]
           ],
           "sequentialminus": [
            [
             0,
             "#0d0887"
            ],
            [
             0.1111111111111111,
             "#46039f"
            ],
            [
             0.2222222222222222,
             "#7201a8"
            ],
            [
             0.3333333333333333,
             "#9c179e"
            ],
            [
             0.4444444444444444,
             "#bd3786"
            ],
            [
             0.5555555555555556,
             "#d8576b"
            ],
            [
             0.6666666666666666,
             "#ed7953"
            ],
            [
             0.7777777777777778,
             "#fb9f3a"
            ],
            [
             0.8888888888888888,
             "#fdca26"
            ],
            [
             1,
             "#f0f921"
            ]
           ]
          },
          "colorway": [
           "#636efa",
           "#EF553B",
           "#00cc96",
           "#ab63fa",
           "#FFA15A",
           "#19d3f3",
           "#FF6692",
           "#B6E880",
           "#FF97FF",
           "#FECB52"
          ],
          "font": {
           "color": "#2a3f5f"
          },
          "geo": {
           "bgcolor": "white",
           "lakecolor": "white",
           "landcolor": "#E5ECF6",
           "showlakes": true,
           "showland": true,
           "subunitcolor": "white"
          },
          "hoverlabel": {
           "align": "left"
          },
          "hovermode": "closest",
          "mapbox": {
           "style": "light"
          },
          "paper_bgcolor": "white",
          "plot_bgcolor": "#E5ECF6",
          "polar": {
           "angularaxis": {
            "gridcolor": "white",
            "linecolor": "white",
            "ticks": ""
           },
           "bgcolor": "#E5ECF6",
           "radialaxis": {
            "gridcolor": "white",
            "linecolor": "white",
            "ticks": ""
           }
          },
          "scene": {
           "xaxis": {
            "backgroundcolor": "#E5ECF6",
            "gridcolor": "white",
            "gridwidth": 2,
            "linecolor": "white",
            "showbackground": true,
            "ticks": "",
            "zerolinecolor": "white"
           },
           "yaxis": {
            "backgroundcolor": "#E5ECF6",
            "gridcolor": "white",
            "gridwidth": 2,
            "linecolor": "white",
            "showbackground": true,
            "ticks": "",
            "zerolinecolor": "white"
           },
           "zaxis": {
            "backgroundcolor": "#E5ECF6",
            "gridcolor": "white",
            "gridwidth": 2,
            "linecolor": "white",
            "showbackground": true,
            "ticks": "",
            "zerolinecolor": "white"
           }
          },
          "shapedefaults": {
           "line": {
            "color": "#2a3f5f"
           }
          },
          "ternary": {
           "aaxis": {
            "gridcolor": "white",
            "linecolor": "white",
            "ticks": ""
           },
           "baxis": {
            "gridcolor": "white",
            "linecolor": "white",
            "ticks": ""
           },
           "bgcolor": "#E5ECF6",
           "caxis": {
            "gridcolor": "white",
            "linecolor": "white",
            "ticks": ""
           }
          },
          "title": {
           "x": 0.05
          },
          "xaxis": {
           "automargin": true,
           "gridcolor": "white",
           "linecolor": "white",
           "ticks": "",
           "title": {
            "standoff": 15
           },
           "zerolinecolor": "white",
           "zerolinewidth": 2
          },
          "yaxis": {
           "automargin": true,
           "gridcolor": "white",
           "linecolor": "white",
           "ticks": "",
           "title": {
            "standoff": 15
           },
           "zerolinecolor": "white",
           "zerolinewidth": 2
          }
         }
        },
        "title": {
         "text": "Hyperparameter Importances"
        },
        "xaxis": {
         "title": {
          "text": "Hyperparameter Importance"
         }
        },
        "yaxis": {
         "title": {
          "text": "Hyperparameter"
         }
        }
       }
      }
     },
     "metadata": {},
     "output_type": "display_data"
    }
   ],
   "source": [
    "cat_study = optuna.create_study(direction = 'maximize')\n",
    "cat_study.optimize(cat_objective,n_trials=TRIALS, n_jobs=-1, show_progress_bar=True)\n",
    "print(\"\")\n",
    "print(f'scores : {cat_study.best_value}, params : {cat_study.best_params}')\n",
    "with open('json/cat.json', 'w') as json_file:\n",
    "    json.dump(cat_study.best_params, json_file, indent=4)\n",
    "optuna.visualization.plot_param_importances(cat_study)"
   ]
  },
  {
   "cell_type": "markdown",
   "metadata": {},
   "source": [
    "## RF"
   ]
  },
  {
   "cell_type": "code",
   "execution_count": 16,
   "metadata": {},
   "outputs": [],
   "source": [
    "params_rf = {\n",
    "        'random_state' : SEED,\n",
    "}\n",
    "def rf_objective(trial):\n",
    "    liste = [None] + list(range(2, 50))\n",
    "    params = {\n",
    "        'n_estimators' : trial.suggest_int('n_estimators', 10, 500),\n",
    "        'criterion' : trial.suggest_categorical(\"criterion\", [\"gini\", \"entropy\", \"log_loss\"]),\n",
    "        'max_depth' : trial.suggest_categorical('max_leaf_nodes',liste ),\n",
    "        'min_samples_split' : trial.suggest_int('min_samples_split', 2, 30),\n",
    "        'min_samples_leaf' : trial.suggest_int('min_samples_leaf', 2, 30),\n",
    "        'min_weight_fraction_leaf' : trial.suggest_float('min_weight_fraction_leaf', 0, .5),\n",
    "        'max_features' : trial.suggest_categorical(\"max_features\", [\"sqrt\", \"log2\", None]),\n",
    "        'max_leaf_nodes' : trial.suggest_categorical('max_leaf_nodes', liste),\n",
    "        'min_impurity_decrease' : trial.suggest_float('min_impurity_decrease', 1e-9, 1e-2, log = True),\n",
    "        'bootstrap' : trial.suggest_categorical(\"bootstrap\", [True, False]),\n",
    "        'class_weight' : trial.suggest_categorical(\"class_weight\", [\"balanced\", \"balanced_subsample\", None]),\n",
    "        \n",
    "        **params_rf\n",
    "\n",
    "    }\n",
    "    \n",
    "    optuna_model = make_pipeline(\n",
    "        FeaturesEncoding,\n",
    "        FeatureScaler,\n",
    "        RandomForestClassifier(**params)\n",
    "    )\n",
    "    \n",
    "    optuna_score = cross_val_score(optuna_model, X, y, scoring='accuracy', cv=SKF)\n",
    "    \n",
    "    return np.mean(optuna_score)"
   ]
  },
  {
   "cell_type": "code",
   "execution_count": 1,
   "metadata": {},
   "outputs": [
    {
     "ename": "NameError",
     "evalue": "name 'optuna' is not defined",
     "output_type": "error",
     "traceback": [
      "\u001b[0;31m---------------------------------------------------------------------------\u001b[0m",
      "\u001b[0;31mNameError\u001b[0m                                 Traceback (most recent call last)",
      "Cell \u001b[0;32mIn[1], line 1\u001b[0m\n\u001b[0;32m----> 1\u001b[0m rf_study \u001b[38;5;241m=\u001b[39m \u001b[43moptuna\u001b[49m\u001b[38;5;241m.\u001b[39mcreate_study(direction \u001b[38;5;241m=\u001b[39m \u001b[38;5;124m'\u001b[39m\u001b[38;5;124mmaximize\u001b[39m\u001b[38;5;124m'\u001b[39m)\n\u001b[1;32m      2\u001b[0m rf_study\u001b[38;5;241m.\u001b[39moptimize(rf_objective,n_trials\u001b[38;5;241m=\u001b[39mTRIALS, n_jobs\u001b[38;5;241m=\u001b[39m\u001b[38;5;241m-\u001b[39m\u001b[38;5;241m1\u001b[39m, show_progress_bar\u001b[38;5;241m=\u001b[39m\u001b[38;5;28;01mTrue\u001b[39;00m)\n\u001b[1;32m      3\u001b[0m \u001b[38;5;28mprint\u001b[39m(\u001b[38;5;124m\"\u001b[39m\u001b[38;5;124m\"\u001b[39m)\n",
      "\u001b[0;31mNameError\u001b[0m: name 'optuna' is not defined"
     ]
    }
   ],
   "source": [
    "rf_study = optuna.create_study(direction = 'maximize')\n",
    "rf_study.optimize(rf_objective,n_trials=TRIALS, n_jobs=-1, show_progress_bar=True)\n",
    "print(\"\")\n",
    "print(f'scores : {rf_study.best_value}, params : {rf_study.best_params} ')\n",
    "with open('json/rf.json', 'w') as json_file:\n",
    "    json.dump(rf_study.best_params, json_file, indent=4)"
   ]
  },
  {
   "cell_type": "markdown",
   "metadata": {},
   "source": [
    "## Summary"
   ]
  },
  {
   "cell_type": "code",
   "execution_count": null,
   "metadata": {},
   "outputs": [],
   "source": [
    "params = {\n",
    "    **xgb_study.best_params,\n",
    "    **params_xgb\n",
    "}\n",
    "\n",
    "xgb = make_pipeline(\n",
    "    FeaturesEncoding,\n",
    "    FeatureScaler,\n",
    "    XGBClassifier(**params)\n",
    ")\n",
    "xgb_scores = cross_val_score(xgb, X,y,scoring='accuracy',cv=SKF, n_jobs=-1)\n",
    "print(f'Mean score XGBoost : {np.mean(xgb_scores):.5f} ± {np.std(xgb_scores):.5f}')"
   ]
  },
  {
   "cell_type": "code",
   "execution_count": null,
   "metadata": {},
   "outputs": [],
   "source": [
    "params = {\n",
    "    **lgbm_study.best_params,\n",
    "    **params_lgbm\n",
    "}\n",
    "lgbm = make_pipeline(\n",
    "        FeaturesEncoding,\n",
    "        FeatureScaler,\n",
    "        LGBMClassifier(**params)\n",
    ")\n",
    "cat_scores = cross_val_score(lgbm, X,y,scoring='accuracy',cv=SKF, n_jobs=-1)\n",
    "print(f'Mean score CatBoost : {np.mean(cat_scores):.5f} ± {np.mean(cat_scores):.5f}')"
   ]
  },
  {
   "cell_type": "code",
   "execution_count": null,
   "metadata": {},
   "outputs": [],
   "source": [
    "params = {\n",
    "    **cat_study.best_params,\n",
    "    **params_cat\n",
    "}\n",
    "cat = make_pipeline(\n",
    "    FeatureScaler,\n",
    "    CatBoostClassifier(**params)\n",
    ")\n",
    "cat_scores = cross_val_score(cat, X,y,scoring='accuracy',cv=SKF, n_jobs=-1)\n",
    "\n",
    "print(f'Mean score CatBoost : {np.mean(cat_scores):.5f} ± {np.mean(cat_scores):.5f}')"
   ]
  },
  {
   "cell_type": "code",
   "execution_count": null,
   "metadata": {},
   "outputs": [],
   "source": [
    "params = {\n",
    "    **lgbm_study.best_params,\n",
    "    **params_rf\n",
    "}\n",
    "rf = make_pipeline(\n",
    "        FeaturesEncoding,\n",
    "        FeatureScaler,\n",
    "        RandomForestClassifier(**params)\n",
    ")\n",
    "rf_scores = cross_val_score(rf, X,y,scoring='accuracy',cv=SKF, n_jobs=-1)\n",
    "print(f'Mean score RandomForest : {np.mean(rf_scores):.5f} ± {np.mean(rf_scores):.5f}')"
   ]
  },
  {
   "cell_type": "code",
   "execution_count": null,
   "metadata": {},
   "outputs": [],
   "source": []
  }
 ],
 "metadata": {
  "kernelspec": {
   "display_name": "playground",
   "language": "python",
   "name": "python3"
  },
  "language_info": {
   "codemirror_mode": {
    "name": "ipython",
    "version": 3
   },
   "file_extension": ".py",
   "mimetype": "text/x-python",
   "name": "python",
   "nbconvert_exporter": "python",
   "pygments_lexer": "ipython3",
   "version": "3.11.7"
  }
 },
 "nbformat": 4,
 "nbformat_minor": 2
}
